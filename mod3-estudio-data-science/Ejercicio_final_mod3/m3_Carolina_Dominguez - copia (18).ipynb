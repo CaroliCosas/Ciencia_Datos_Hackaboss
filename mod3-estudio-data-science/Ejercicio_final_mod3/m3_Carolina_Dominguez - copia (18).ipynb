{
 "cells": [
  {
   "cell_type": "markdown",
   "metadata": {},
   "source": [
    "# EJERCICIO MÓDULO 3:\n",
    "\n",
    "Uso de Pandas y Seaborn + algún gráfico de Plotly.\n",
    "\n",
    "Dataset: diamonds.\n",
    "\n",
    "IMPORTANTE: cargar el dataset desde CSV desde la carpeta Data porque tendrá nulos introducidos manualmente.\n",
    "\n",
    "* PARTE 1: 25 % carga y limpieza\n",
    "    * Carga con Pandas: pd.read_csv\n",
    "\n",
    "    * Limpieza de valores error: \n",
    "        * hay columnas que tienen un valor '?', por tanto se deben reemplazar por un valor nan.\n",
    "\n",
    "    * Cambio de tipo de dato: .astype() a numéricos y textos, por ejemplo a categorical y carat a float32 o float16\n",
    "\n",
    "    * Limpieza de nulos (limpiar valores NaN):\n",
    "        * Nulos en columnas continuas: mediana, media\n",
    "        * Nulos en columnas categóricas: moda, un valor fijo\n",
    "\n",
    "    * Encoding: texto a numérico\n",
    "        * Uso de la función get_dummies() para encoding one_hot\n",
    "        * Uso de map para encoding ordinal para la columna cut como una nueva columna cut_int: 1, 2, 3, 4\n",
    "\n",
    "* PARTE 2: 25 % transformaciones:\n",
    "    * Crear una columna price_iva a partir de la columna price que muestre el precio + IVA (21%). \n",
    "        * Ejemplo df['price'] * 1.21 \n",
    "\n",
    "    * Crear una columna price_discount usando apply a partir de la columna price(con lambda o def):\n",
    "        * price < 1000 and cut == 'Ideal' entonces 10 % descuento\n",
    "        * 1000 <= price <= 5000 and cut == 'Premium' entonces 15 % descuento\n",
    "        * si no entra en las condiciones sin descuento, devolver el precio original\n",
    "\n",
    "    * Crear una nueva columna volumen combinando: x * y * z\n",
    "\n",
    "    * Ordenar por dos columnas con sort_values():\n",
    "        * tipo de corte (cut) y precio (price)\n",
    "\n",
    "    * Agrupaciones con groupby y visualizarla\n",
    "        * Agrupar por las 3 que hay de tipo categórico calculando la media, max, min por ejemplo de alguna de las numéricas: price, carat, depth\n",
    "\n",
    "* PARTE 3: 20 % distribuciones: \n",
    "\n",
    "* Outliers: Visualización Q1 y Q3 y calcular límites tukey y filtrar. Sobre la columna precio.\n",
    "\n",
    "* asimetría, curtosis y transformar datos con logaritmo o raíz cuadrada, aplicar sobre precio, visualizar el histograma y/o boxplot por tipo de corte. Opcional ajustar la escala.\n",
    "\n",
    "* Discretizar la columna precio por barato, medio, caro usando la función pd.cut\n",
    "\n",
    "\n",
    "* PARTE 4: 30 % visualizaciones:\n",
    "\n",
    "* Seaborn EDAS:\n",
    "    * univariantes:\n",
    "        * histogramas y curvas de densidad\n",
    "        * boxplot\n",
    "        * countplot\n",
    "    * bivariantes y multivariantes\n",
    "        * scatterplot con hue, con size, con style\n",
    "        * Calcular correlación con Pandas y mostrarla con seaborn\n",
    "        * Hacer la correlación en un gráfico de barras para la columna 'price'\n",
    "        * Crear una pivot table usando como index y columns algunas variables categóricas y como values usar el price y visualizarla con heatmap de seaborn\n",
    "    * Combinarlas con:\n",
    "        * hue, style, size, row, col usando un relplot\n",
    "        * filtro\n"
   ]
  },
  {
   "cell_type": "markdown",
   "metadata": {},
   "source": [
    "# EJERCICIO MÓDULO 3:"
   ]
  },
  {
   "cell_type": "markdown",
   "metadata": {},
   "source": [
    "Uso de Pandas y Seaborn + algún gráfico de Plotly.\n",
    "\n",
    "Dataset: diamonds.\n",
    "\n",
    "IMPORTANTE: cargar el dataset desde CSV desde la carpeta Data porque tendrá nulos introducidos manualmente."
   ]
  },
  {
   "cell_type": "markdown",
   "metadata": {},
   "source": [
    "# Columnas Numéricas del Dataset\n",
    "\n",
    "## **carat:\n",
    "Representa el peso del diamante en quilates.\n",
    "Unidades: Quilates (1 quilate = 0.2 gramos).\n",
    "Impacto: El peso tiene un impacto significativo en el precio del diamante. Diamantes más grandes (mayor quilate) son más valiosos, pero el precio no crece linealmente.\n",
    "\n",
    "## **depth:\n",
    "Descripción: Proporción de profundidad del diamante.\n",
    "Se calcula como:\n",
    "depth = (z / (x + y)/2) × 100\n",
    "\n",
    "Es un porcentaje que describe cuán profundo es el diamante en relación con su ancho promedio.\n",
    "\n",
    "## **table:\n",
    "Representa el ancho de la parte superior del diamante (la \"tabla\") como porcentaje del ancho promedio del diamante. Unidades: Porcentaje.\n",
    "Impacto: Una tabla ideal se encuentra entre 53%-57% para maximizar la reflexión de la luz.\n",
    "\n",
    "## **price:\n",
    "Precio del diamante en dólares estadounidenses (USD). Impacto: Determinado por una combinación de peso (carat), calidad del corte (cut), color y claridad (clarity).\n",
    "\n",
    "## **x, y, z:\n",
    "Dimensiones físicas del diamante en milímetros:\n",
    "x: Longitud.\n",
    "y: Ancho.\n",
    "z: Profundidad.\n",
    "\n",
    "# Columnas Categóricas\n",
    "## cut:\n",
    "La calidad del corte del diamante:\n",
    "Categorías:\n",
    "-Fair (Pobre),\n",
    "-Good (Bueno),\n",
    "-Very Good (Muy Bueno),\n",
    "-Premium (Premium),\n",
    "-Ideal (Ideal).\n",
    "\n",
    "Impacto: La calidad del corte determina qué tan bien el diamante refleja la luz. Ideal es el mejor corte, maximizando el brillo, mientras que Fair refleja menos luz.\n",
    "\n",
    "## color:\n",
    "El color del diamante, clasificado desde D (mejor, incoloro) hasta J (peor, amarillo tenue).\n",
    "Categorías:\n",
    "D (Mejor, incoloro),\n",
    "E, F, G, H, I, J (Peor, más amarillo tenue).\n",
    "Impacto: Los diamantes más incoloros (D-F) son más valiosos. Los colores más bajos (H-J) tienen tonos amarillentos.\n",
    "\n",
    "\n",
    "## clarity:\n",
    "La claridad del diamante, con valores que describen la cantidad de inclusiones o defectos:\n",
    "Desde IF (Internamente impecable) hasta I3 (Inclusions 3).\n",
    "Categorías:\n",
    "IF (Internamente Impecable),\n",
    "VVS1, VVS2 (Muy, muy pequeñas inclusiones),\n",
    "VS1, VS2 (Muy pequeñas inclusiones),\n",
    "SI1, SI2 (Pequeñas inclusiones),\n",
    "I1 (Inclusions visibles).\n",
    "Impacto: La claridad mide las imperfecciones internas y externas. Los grados más altos (IF) son más valiosos.\n"
   ]
  },
  {
   "cell_type": "markdown",
   "metadata": {},
   "source": [
    "## Precio por Quilate:\n",
    "\n",
    "Puedes calcular el precio por quilate como:\n",
    "python\n",
    "Copiar código\n",
    "df['price_per_carat'] = df['price'] / df['carat']\n",
    "\n",
    "## Profundidad Ideal:\n",
    "La profundidad ideal para un diamante ronda el 60%-62%.\n"
   ]
  },
  {
   "cell_type": "markdown",
   "metadata": {},
   "source": [
    "# Relaciones Clave\n",
    "## Relación entre Peso y Precio:\n",
    "\n",
    "El precio aumenta exponencialmente con el peso (carat), especialmente para pesos superiores a 1 quilate.\n",
    "\n",
    "## Influencia del Corte, Color y Claridad:\n",
    "\n",
    "Un corte de alta calidad puede aumentar significativamente el brillo, lo que lo hace más atractivo incluso con colores más bajos (H, I).\n",
    "Un diamante con buen color (D-F) y claridad (IF, VVS) tiene mayor valor.\n",
    "\n",
    "## Dimensiones (x, y, z) y Proporciones:\n",
    "\n",
    "Las proporciones ideales de un diamante maximizan su apariencia visual y reflejan más luz."
   ]
  },
  {
   "cell_type": "markdown",
   "metadata": {},
   "source": [
    "# Análisis Clave que Puedes Realizar\n",
    "## Distribución de Precios:\n",
    "\n",
    "Identificar los rangos más comunes de precios y analizar los factores que los afectan.\n",
    "\n",
    "## Comparar Claridad y Color:\n",
    "\n",
    "¿Cómo se distribuyen los precios para diferentes combinaciones de claridad y color?\n",
    "\n",
    "## Volumen del Diamante:\n",
    "\n",
    "Crear una nueva columna para el volumen (x * y * z) y analizar su relación con el precio.\n",
    "\n",
    "## Correlaciones:\n",
    "\n",
    "Calcular las correlaciones entre variables numéricas, como carat, price, y depth.\n",
    "\n",
    "## Análisis de Valores Atípicos:\n",
    "\n",
    "Identificar diamantes cuyo precio o dimensiones se desvían significativamente."
   ]
  },
  {
   "cell_type": "markdown",
   "metadata": {},
   "source": [
    "## PARTE 1: \n",
    "25 % carga y limpieza\n"
   ]
  },
  {
   "cell_type": "code",
   "execution_count": 1,
   "metadata": {},
   "outputs": [],
   "source": [
    "import numpy as np\n",
    "import pandas as pd\n",
    "import seaborn as sns\n",
    "# todos los necesarios para el ejercicio mientras usemos np y sns\n",
    "import matplotlib.pyplot as plt\n",
    "from scipy import stats\n",
    "import pickle as pkl"
   ]
  },
  {
   "cell_type": "markdown",
   "metadata": {},
   "source": [
    "### 1.1. Carga con Pandas: pd.read_csv\n"
   ]
  },
  {
   "cell_type": "code",
   "execution_count": 2,
   "metadata": {},
   "outputs": [],
   "source": [
    "df = pd.read_csv('../Data/diamonds.csv')"
   ]
  },
  {
   "cell_type": "code",
   "execution_count": 3,
   "metadata": {},
   "outputs": [
    {
     "name": "stdout",
     "output_type": "stream",
     "text": [
      "Primeras 10 filas del dataset:\n"
     ]
    },
    {
     "data": {
      "text/html": [
       "<div>\n",
       "<style scoped>\n",
       "    .dataframe tbody tr th:only-of-type {\n",
       "        vertical-align: middle;\n",
       "    }\n",
       "\n",
       "    .dataframe tbody tr th {\n",
       "        vertical-align: top;\n",
       "    }\n",
       "\n",
       "    .dataframe thead th {\n",
       "        text-align: right;\n",
       "    }\n",
       "</style>\n",
       "<table border=\"1\" class=\"dataframe\">\n",
       "  <thead>\n",
       "    <tr style=\"text-align: right;\">\n",
       "      <th></th>\n",
       "      <th>carat</th>\n",
       "      <th>cut</th>\n",
       "      <th>color</th>\n",
       "      <th>clarity</th>\n",
       "      <th>depth</th>\n",
       "      <th>table</th>\n",
       "      <th>price</th>\n",
       "      <th>x</th>\n",
       "      <th>y</th>\n",
       "      <th>z</th>\n",
       "    </tr>\n",
       "  </thead>\n",
       "  <tbody>\n",
       "    <tr>\n",
       "      <th>0</th>\n",
       "      <td>0.23</td>\n",
       "      <td>Ideal</td>\n",
       "      <td>E</td>\n",
       "      <td>SI2</td>\n",
       "      <td>61.5</td>\n",
       "      <td>55.0</td>\n",
       "      <td>326</td>\n",
       "      <td>3.95</td>\n",
       "      <td>3.98</td>\n",
       "      <td>2.43</td>\n",
       "    </tr>\n",
       "    <tr>\n",
       "      <th>1</th>\n",
       "      <td>0.21</td>\n",
       "      <td>Premium</td>\n",
       "      <td>E</td>\n",
       "      <td>SI1</td>\n",
       "      <td>59.8</td>\n",
       "      <td>61.0</td>\n",
       "      <td>326</td>\n",
       "      <td>3.89</td>\n",
       "      <td>3.84</td>\n",
       "      <td>2.31</td>\n",
       "    </tr>\n",
       "    <tr>\n",
       "      <th>2</th>\n",
       "      <td>0.23</td>\n",
       "      <td>Good</td>\n",
       "      <td>E</td>\n",
       "      <td>VS1</td>\n",
       "      <td>56.9</td>\n",
       "      <td>65.0</td>\n",
       "      <td>327</td>\n",
       "      <td>4.05</td>\n",
       "      <td>4.07</td>\n",
       "      <td>2.31</td>\n",
       "    </tr>\n",
       "    <tr>\n",
       "      <th>3</th>\n",
       "      <td>0.29</td>\n",
       "      <td>Premium</td>\n",
       "      <td>I</td>\n",
       "      <td>VS2</td>\n",
       "      <td>62.4</td>\n",
       "      <td>58.0</td>\n",
       "      <td>334</td>\n",
       "      <td>4.2</td>\n",
       "      <td>4.23</td>\n",
       "      <td>2.63</td>\n",
       "    </tr>\n",
       "    <tr>\n",
       "      <th>4</th>\n",
       "      <td>0.31</td>\n",
       "      <td>Good</td>\n",
       "      <td>J</td>\n",
       "      <td>SI2</td>\n",
       "      <td>63.3</td>\n",
       "      <td>58.0</td>\n",
       "      <td>335</td>\n",
       "      <td>4.34</td>\n",
       "      <td>4.35</td>\n",
       "      <td>2.75</td>\n",
       "    </tr>\n",
       "    <tr>\n",
       "      <th>5</th>\n",
       "      <td>0.24</td>\n",
       "      <td>Very Good</td>\n",
       "      <td>J</td>\n",
       "      <td>VVS2</td>\n",
       "      <td>62.8</td>\n",
       "      <td>57.0</td>\n",
       "      <td>336</td>\n",
       "      <td>3.94</td>\n",
       "      <td>3.96</td>\n",
       "      <td>2.48</td>\n",
       "    </tr>\n",
       "    <tr>\n",
       "      <th>6</th>\n",
       "      <td>0.24</td>\n",
       "      <td>Very Good</td>\n",
       "      <td>I</td>\n",
       "      <td>VVS1</td>\n",
       "      <td>62.3</td>\n",
       "      <td>57.0</td>\n",
       "      <td>336</td>\n",
       "      <td>3.95</td>\n",
       "      <td>3.98</td>\n",
       "      <td>2.47</td>\n",
       "    </tr>\n",
       "    <tr>\n",
       "      <th>7</th>\n",
       "      <td>0.26</td>\n",
       "      <td>Very Good</td>\n",
       "      <td>H</td>\n",
       "      <td>SI1</td>\n",
       "      <td>61.9</td>\n",
       "      <td>55.0</td>\n",
       "      <td>337</td>\n",
       "      <td>4.07</td>\n",
       "      <td>4.11</td>\n",
       "      <td>2.53</td>\n",
       "    </tr>\n",
       "    <tr>\n",
       "      <th>8</th>\n",
       "      <td>0.22</td>\n",
       "      <td>Fair</td>\n",
       "      <td>E</td>\n",
       "      <td>VS2</td>\n",
       "      <td>65.1</td>\n",
       "      <td>61.0</td>\n",
       "      <td>337</td>\n",
       "      <td>3.87</td>\n",
       "      <td>3.78</td>\n",
       "      <td>2.49</td>\n",
       "    </tr>\n",
       "    <tr>\n",
       "      <th>9</th>\n",
       "      <td>0.23</td>\n",
       "      <td>Very Good</td>\n",
       "      <td>H</td>\n",
       "      <td>VS1</td>\n",
       "      <td>59.4</td>\n",
       "      <td>61.0</td>\n",
       "      <td>338</td>\n",
       "      <td>4</td>\n",
       "      <td>4.05</td>\n",
       "      <td>2.39</td>\n",
       "    </tr>\n",
       "  </tbody>\n",
       "</table>\n",
       "</div>"
      ],
      "text/plain": [
       "   carat        cut color clarity  depth  table price     x     y     z\n",
       "0   0.23      Ideal     E     SI2   61.5   55.0   326  3.95  3.98  2.43\n",
       "1   0.21    Premium     E     SI1   59.8   61.0   326  3.89  3.84  2.31\n",
       "2   0.23       Good     E     VS1   56.9   65.0   327  4.05  4.07  2.31\n",
       "3   0.29    Premium     I     VS2   62.4   58.0   334   4.2  4.23  2.63\n",
       "4   0.31       Good     J     SI2   63.3   58.0   335  4.34  4.35  2.75\n",
       "5   0.24  Very Good     J    VVS2   62.8   57.0   336  3.94  3.96  2.48\n",
       "6   0.24  Very Good     I    VVS1   62.3   57.0   336  3.95  3.98  2.47\n",
       "7   0.26  Very Good     H     SI1   61.9   55.0   337  4.07  4.11  2.53\n",
       "8   0.22       Fair     E     VS2   65.1   61.0   337  3.87  3.78  2.49\n",
       "9   0.23  Very Good     H     VS1   59.4   61.0   338     4  4.05  2.39"
      ]
     },
     "execution_count": 3,
     "metadata": {},
     "output_type": "execute_result"
    }
   ],
   "source": [
    "print(\"Primeras 10 filas del dataset:\")\n",
    "df.head(10)"
   ]
  },
  {
   "cell_type": "code",
   "execution_count": 4,
   "metadata": {},
   "outputs": [
    {
     "name": "stdout",
     "output_type": "stream",
     "text": [
      "Información inicial del dataset:\n",
      "<class 'pandas.core.frame.DataFrame'>\n",
      "RangeIndex: 53940 entries, 0 to 53939\n",
      "Data columns (total 10 columns):\n",
      " #   Column   Non-Null Count  Dtype  \n",
      "---  ------   --------------  -----  \n",
      " 0   carat    53939 non-null  float64\n",
      " 1   cut      53937 non-null  object \n",
      " 2   color    53938 non-null  object \n",
      " 3   clarity  53938 non-null  object \n",
      " 4   depth    53940 non-null  float64\n",
      " 5   table    53938 non-null  float64\n",
      " 6   price    53938 non-null  object \n",
      " 7   x        53938 non-null  object \n",
      " 8   y        53939 non-null  float64\n",
      " 9   z        53939 non-null  float64\n",
      "dtypes: float64(5), object(5)\n",
      "memory usage: 4.1+ MB\n"
     ]
    }
   ],
   "source": [
    "print(\"Información inicial del dataset:\")\n",
    "df.info()"
   ]
  },
  {
   "cell_type": "code",
   "execution_count": 5,
   "metadata": {},
   "outputs": [
    {
     "data": {
      "text/html": [
       "<div>\n",
       "<style scoped>\n",
       "    .dataframe tbody tr th:only-of-type {\n",
       "        vertical-align: middle;\n",
       "    }\n",
       "\n",
       "    .dataframe tbody tr th {\n",
       "        vertical-align: top;\n",
       "    }\n",
       "\n",
       "    .dataframe thead th {\n",
       "        text-align: right;\n",
       "    }\n",
       "</style>\n",
       "<table border=\"1\" class=\"dataframe\">\n",
       "  <thead>\n",
       "    <tr style=\"text-align: right;\">\n",
       "      <th></th>\n",
       "      <th>carat</th>\n",
       "      <th>depth</th>\n",
       "      <th>table</th>\n",
       "      <th>y</th>\n",
       "      <th>z</th>\n",
       "    </tr>\n",
       "  </thead>\n",
       "  <tbody>\n",
       "    <tr>\n",
       "      <th>count</th>\n",
       "      <td>53939.000000</td>\n",
       "      <td>53940.000000</td>\n",
       "      <td>53938.000000</td>\n",
       "      <td>53939.000000</td>\n",
       "      <td>53939.000000</td>\n",
       "    </tr>\n",
       "    <tr>\n",
       "      <th>mean</th>\n",
       "      <td>0.797946</td>\n",
       "      <td>61.749405</td>\n",
       "      <td>57.457145</td>\n",
       "      <td>5.734479</td>\n",
       "      <td>3.538722</td>\n",
       "    </tr>\n",
       "    <tr>\n",
       "      <th>std</th>\n",
       "      <td>0.474013</td>\n",
       "      <td>1.432621</td>\n",
       "      <td>2.234521</td>\n",
       "      <td>1.142092</td>\n",
       "      <td>0.705700</td>\n",
       "    </tr>\n",
       "    <tr>\n",
       "      <th>min</th>\n",
       "      <td>0.200000</td>\n",
       "      <td>43.000000</td>\n",
       "      <td>43.000000</td>\n",
       "      <td>0.000000</td>\n",
       "      <td>0.000000</td>\n",
       "    </tr>\n",
       "    <tr>\n",
       "      <th>25%</th>\n",
       "      <td>0.400000</td>\n",
       "      <td>61.000000</td>\n",
       "      <td>56.000000</td>\n",
       "      <td>4.720000</td>\n",
       "      <td>2.910000</td>\n",
       "    </tr>\n",
       "    <tr>\n",
       "      <th>50%</th>\n",
       "      <td>0.700000</td>\n",
       "      <td>61.800000</td>\n",
       "      <td>57.000000</td>\n",
       "      <td>5.710000</td>\n",
       "      <td>3.530000</td>\n",
       "    </tr>\n",
       "    <tr>\n",
       "      <th>75%</th>\n",
       "      <td>1.040000</td>\n",
       "      <td>62.500000</td>\n",
       "      <td>59.000000</td>\n",
       "      <td>6.540000</td>\n",
       "      <td>4.040000</td>\n",
       "    </tr>\n",
       "    <tr>\n",
       "      <th>max</th>\n",
       "      <td>5.010000</td>\n",
       "      <td>79.000000</td>\n",
       "      <td>95.000000</td>\n",
       "      <td>58.900000</td>\n",
       "      <td>31.800000</td>\n",
       "    </tr>\n",
       "  </tbody>\n",
       "</table>\n",
       "</div>"
      ],
      "text/plain": [
       "              carat         depth         table             y             z\n",
       "count  53939.000000  53940.000000  53938.000000  53939.000000  53939.000000\n",
       "mean       0.797946     61.749405     57.457145      5.734479      3.538722\n",
       "std        0.474013      1.432621      2.234521      1.142092      0.705700\n",
       "min        0.200000     43.000000     43.000000      0.000000      0.000000\n",
       "25%        0.400000     61.000000     56.000000      4.720000      2.910000\n",
       "50%        0.700000     61.800000     57.000000      5.710000      3.530000\n",
       "75%        1.040000     62.500000     59.000000      6.540000      4.040000\n",
       "max        5.010000     79.000000     95.000000     58.900000     31.800000"
      ]
     },
     "execution_count": 5,
     "metadata": {},
     "output_type": "execute_result"
    }
   ],
   "source": [
    "df.describe()"
   ]
  },
  {
   "cell_type": "code",
   "execution_count": 6,
   "metadata": {},
   "outputs": [
    {
     "data": {
      "text/plain": [
       "(53940, 10)"
      ]
     },
     "execution_count": 6,
     "metadata": {},
     "output_type": "execute_result"
    }
   ],
   "source": [
    "df.shape # 53940 filas y 10 columnas\n"
   ]
  },
  {
   "cell_type": "code",
   "execution_count": 7,
   "metadata": {},
   "outputs": [
    {
     "data": {
      "text/plain": [
       "Index(['carat', 'cut', 'color', 'clarity', 'depth', 'table', 'price', 'x', 'y',\n",
       "       'z'],\n",
       "      dtype='object')"
      ]
     },
     "execution_count": 7,
     "metadata": {},
     "output_type": "execute_result"
    }
   ],
   "source": [
    "df.keys() # obtenemos los nombres de las columnas"
   ]
  },
  {
   "cell_type": "code",
   "execution_count": 8,
   "metadata": {},
   "outputs": [
    {
     "data": {
      "text/plain": [
       "False"
      ]
     },
     "execution_count": 8,
     "metadata": {},
     "output_type": "execute_result"
    }
   ],
   "source": [
    "df.empty # nos dice si el dataframe está vacío"
   ]
  },
  {
   "cell_type": "code",
   "execution_count": 9,
   "metadata": {},
   "outputs": [
    {
     "data": {
      "text/plain": [
       "<bound method DataFrame.query of        carat        cut color clarity  depth  table price     x     y     z\n",
       "0       0.23      Ideal     E     SI2   61.5   55.0   326  3.95  3.98  2.43\n",
       "1       0.21    Premium     E     SI1   59.8   61.0   326  3.89  3.84  2.31\n",
       "2       0.23       Good     E     VS1   56.9   65.0   327  4.05  4.07  2.31\n",
       "3       0.29    Premium     I     VS2   62.4   58.0   334   4.2  4.23  2.63\n",
       "4       0.31       Good     J     SI2   63.3   58.0   335  4.34  4.35  2.75\n",
       "...      ...        ...   ...     ...    ...    ...   ...   ...   ...   ...\n",
       "53935   0.72      Ideal     D     SI1   60.8   57.0  2757  5.75  5.76  3.50\n",
       "53936   0.72       Good     D     SI1   63.1   55.0  2757  5.69  5.75  3.61\n",
       "53937   0.70  Very Good     D     SI1   62.8   60.0  2757  5.66  5.68  3.56\n",
       "53938   0.86    Premium     H     SI2   61.0   58.0  2757  6.15  6.12  3.74\n",
       "53939   0.75      Ideal     D     SI2   62.2   55.0  2757  5.83  5.87  3.64\n",
       "\n",
       "[53940 rows x 10 columns]>"
      ]
     },
     "execution_count": 9,
     "metadata": {},
     "output_type": "execute_result"
    }
   ],
   "source": [
    "df.query # nos permite hacer consultas al dataframe"
   ]
  },
  {
   "cell_type": "code",
   "execution_count": 10,
   "metadata": {},
   "outputs": [
    {
     "data": {
      "text/plain": [
       "array([[0.23, 'Ideal', 'E', ..., '3.95', 3.98, 2.43],\n",
       "       [0.21, 'Premium', 'E', ..., '3.89', 3.84, 2.31],\n",
       "       [0.23, 'Good', 'E', ..., '4.05', 4.07, 2.31],\n",
       "       ...,\n",
       "       [0.7, 'Very Good', 'D', ..., '5.66', 5.68, 3.56],\n",
       "       [0.86, 'Premium', 'H', ..., '6.15', 6.12, 3.74],\n",
       "       [0.75, 'Ideal', 'D', ..., '5.83', 5.87, 3.64]],\n",
       "      shape=(53940, 10), dtype=object)"
      ]
     },
     "execution_count": 10,
     "metadata": {},
     "output_type": "execute_result"
    }
   ],
   "source": [
    "df.values # nos devuelve los valores del dataframe en forma de array de filas"
   ]
  },
  {
   "cell_type": "code",
   "execution_count": null,
   "metadata": {},
   "outputs": [],
   "source": []
  },
  {
   "cell_type": "markdown",
   "metadata": {},
   "source": [
    "### 1.2. Limpieza de valores error: \n"
   ]
  },
  {
   "cell_type": "markdown",
   "metadata": {},
   "source": [
    "Para trabajar más correctamente con un dataframe, es necesario limpia los datos, es decir, eliminar los valores nulos, duplicados y valores atípicos. Para ello, se pueden utilizar los siguientes métodos:"
   ]
  },
  {
   "cell_type": "code",
   "execution_count": 11,
   "metadata": {},
   "outputs": [
    {
     "name": "stdout",
     "output_type": "stream",
     "text": [
      "Número de valores nulos por columna:\n",
      "carat      1\n",
      "cut        3\n",
      "color      2\n",
      "clarity    2\n",
      "depth      0\n",
      "table      2\n",
      "price      2\n",
      "x          2\n",
      "y          1\n",
      "z          1\n",
      "dtype: int64\n"
     ]
    }
   ],
   "source": [
    "# Comprobar si hay valores nulos en cada columna (sean '?', 'nan, o no)\n",
    "print(\"Número de valores nulos por columna:\") \n",
    "print(df.isnull().sum()) "
   ]
  },
  {
   "cell_type": "markdown",
   "metadata": {},
   "source": [
    "#### 1.2.1. sabemos que hay columnas que tienen un valor '?', por tanto se deben reemplazar por un valor nan.\n"
   ]
  },
  {
   "cell_type": "code",
   "execution_count": 12,
   "metadata": {},
   "outputs": [
    {
     "name": "stdout",
     "output_type": "stream",
     "text": [
      "True\n"
     ]
    }
   ],
   "source": [
    "# Verificar si hay valores exactamente iguales a '?'\n",
    "print((df == '?').any().any())\n"
   ]
  },
  {
   "cell_type": "code",
   "execution_count": 13,
   "metadata": {},
   "outputs": [
    {
     "name": "stdout",
     "output_type": "stream",
     "text": [
      "Filas con valores '?':\n",
      "       carat    cut color clarity  depth  table price     x     y     z\n",
      "49222   0.56  Ideal     ?    VVS2   61.6   56.0  2081     ?  5.29  3.27\n",
      "49227   0.50      ?     E    VVS2   61.7   61.0  2083  5.09  5.12  3.15\n",
      "49229   0.70   Good     H     VS2   63.8   60.0     ?  5.59  5.51  3.54\n"
     ]
    }
   ],
   "source": [
    "# Buscar las filas donde hay valores '?'\n",
    "rows_with_question_mark = df.isin(['?']).any(axis=1) # Devuelve una Serie con True en las filas que contienen '?'\n",
    "\n",
    "# Mostrar las filas que contienen '?'\n",
    "rows_with_question_mark_df = df[rows_with_question_mark] # Filtrar las filas que contienen '?'\n",
    "print(\"Filas con valores '?':\")\n",
    "print(rows_with_question_mark_df) # imprime las filas que contienen '?'"
   ]
  },
  {
   "cell_type": "code",
   "execution_count": 14,
   "metadata": {},
   "outputs": [
    {
     "name": "stdout",
     "output_type": "stream",
     "text": [
      "Filas con valores ?: \n",
      "       carat    cut color clarity  depth  table price     x     y     z\n",
      "49222   0.56  Ideal     ?    VVS2   61.6   56.0  2081     ?  5.29  3.27\n",
      "49227   0.50      ?     E    VVS2   61.7   61.0  2083  5.09  5.12  3.15\n",
      "49229   0.70   Good     H     VS2   63.8   60.0     ?  5.59  5.51  3.54\n",
      "------------------------------------\n",
      "Índices de las filas con valores '?':\n",
      "[49222, 49227, 49229]\n"
     ]
    }
   ],
   "source": [
    "# Buscar las filas donde hay valores texto\n",
    "def busca_filas_con_texto(df, texto):\n",
    "    # Identificar las filas que contienen el texto\n",
    "    rows_with_texto_mark = df.isin([texto]).any(axis=1) # Devuelve una Serie con True en las filas que contienen 'texto'\n",
    "    rows_with_texto_mark_df = df[rows_with_texto_mark] # Filtrar las filas que contienen 'texto'\n",
    "    # Obtener los índices de las filas\n",
    "    indices = rows_with_texto_mark_df.index.tolist()\n",
    "    \n",
    "    return rows_with_texto_mark_df, indices\n",
    "\n",
    "texto = '?' # texto a buscar\n",
    "filas_con_texto, indices = busca_filas_con_texto(df, texto)\n",
    "\n",
    "busca_filas_con_texto(df, texto)\n",
    "print(f\"Filas con valores {texto}: \")\n",
    "print(filas_con_texto) # imprime las filas que contienen 'texto'\n",
    "print('------------------------------------')\n",
    "print(f\"Índices de las filas con valores '{texto}':\")\n",
    "print(indices)"
   ]
  },
  {
   "cell_type": "code",
   "execution_count": 15,
   "metadata": {},
   "outputs": [],
   "source": [
    "# Reemplazar valores '?' por NaN\n",
    "df = df.replace('?', np.nan) \n"
   ]
  },
  {
   "cell_type": "code",
   "execution_count": 16,
   "metadata": {},
   "outputs": [
    {
     "name": "stdout",
     "output_type": "stream",
     "text": [
      "Número de valores nulos por columna:\n",
      "carat      1\n",
      "cut        4\n",
      "color      3\n",
      "clarity    2\n",
      "depth      0\n",
      "table      2\n",
      "price      3\n",
      "x          3\n",
      "y          1\n",
      "z          1\n",
      "dtype: int64\n"
     ]
    }
   ],
   "source": [
    "# Comprobar si hay valores nulos en cada columna\n",
    "print(\"Número de valores nulos por columna:\")\n",
    "print(df.isnull().sum()) # Devuelve el número de valores nulos por columna"
   ]
  },
  {
   "cell_type": "markdown",
   "metadata": {},
   "source": [
    "Hemos comprobado que aparecen 3 valores nulos en las columnas donde antes había interrogación"
   ]
  },
  {
   "cell_type": "code",
   "execution_count": 17,
   "metadata": {},
   "outputs": [
    {
     "name": "stdout",
     "output_type": "stream",
     "text": [
      "False\n"
     ]
    }
   ],
   "source": [
    "# Verificar si hay valores exactamente iguales a '?'\n",
    "print((df == '?').any().any()) # Devuelve True si hay algún valor igual a '?'\n"
   ]
  },
  {
   "cell_type": "markdown",
   "metadata": {},
   "source": [
    "con esto ya hemos quitado los interrogantes y los hemos sustituido por nan"
   ]
  },
  {
   "cell_type": "markdown",
   "metadata": {},
   "source": [
    "### 1.3. Cambio de tipo de dato: .astype() a numéricos y textos, por ejemplo a categorical y carat a float32 o float16\n"
   ]
  },
  {
   "cell_type": "code",
   "execution_count": 18,
   "metadata": {},
   "outputs": [
    {
     "name": "stdout",
     "output_type": "stream",
     "text": [
      "<class 'pandas.core.frame.DataFrame'>\n",
      "RangeIndex: 53940 entries, 0 to 53939\n",
      "Data columns (total 10 columns):\n",
      " #   Column   Non-Null Count  Dtype  \n",
      "---  ------   --------------  -----  \n",
      " 0   carat    53939 non-null  float64\n",
      " 1   cut      53936 non-null  object \n",
      " 2   color    53937 non-null  object \n",
      " 3   clarity  53938 non-null  object \n",
      " 4   depth    53940 non-null  float64\n",
      " 5   table    53938 non-null  float64\n",
      " 6   price    53937 non-null  object \n",
      " 7   x        53937 non-null  object \n",
      " 8   y        53939 non-null  float64\n",
      " 9   z        53939 non-null  float64\n",
      "dtypes: float64(5), object(5)\n",
      "memory usage: 4.1+ MB\n"
     ]
    }
   ],
   "source": [
    "df.info() # información del dataset"
   ]
  },
  {
   "cell_type": "code",
   "execution_count": 19,
   "metadata": {},
   "outputs": [
    {
     "name": "stdout",
     "output_type": "stream",
     "text": [
      "<class 'pandas.core.frame.DataFrame'>\n",
      "RangeIndex: 53940 entries, 0 to 53939\n",
      "Data columns (total 10 columns):\n",
      " #   Column   Non-Null Count  Dtype   \n",
      "---  ------   --------------  -----   \n",
      " 0   carat    53939 non-null  float64 \n",
      " 1   cut      53936 non-null  category\n",
      " 2   color    53937 non-null  category\n",
      " 3   clarity  53938 non-null  category\n",
      " 4   depth    53940 non-null  float64 \n",
      " 5   table    53938 non-null  float64 \n",
      " 6   price    53937 non-null  object  \n",
      " 7   x        53937 non-null  float64 \n",
      " 8   y        53939 non-null  float64 \n",
      " 9   z        53939 non-null  float64 \n",
      "dtypes: category(3), float64(6), object(1)\n",
      "memory usage: 3.0+ MB\n"
     ]
    }
   ],
   "source": [
    "# Cambiar el tipo de las columnas object (que no sean el precio) a categorical\n",
    "df[\"cut\"] = df[\"cut\"].astype(\"category\")\n",
    "df[\"color\"] = df[\"color\"].astype(\"category\")\n",
    "df[\"clarity\"] = df[\"clarity\"].astype(\"category\")\n",
    "\n",
    "# Cambiar a float64 para poder usarlo para calcular el volumen\n",
    "df[\"x\"] = df[\"x\"].astype(\"float64\") \n",
    "\n",
    "\n",
    "df.info()"
   ]
  },
  {
   "cell_type": "markdown",
   "metadata": {},
   "source": [
    "ya está cambiado el tipo de la columna cut"
   ]
  },
  {
   "cell_type": "markdown",
   "metadata": {},
   "source": [
    "##### 1.3.1. cambio de tipo de dato de carat , a float16"
   ]
  },
  {
   "cell_type": "code",
   "execution_count": 20,
   "metadata": {},
   "outputs": [
    {
     "name": "stdout",
     "output_type": "stream",
     "text": [
      "<class 'pandas.core.frame.DataFrame'>\n",
      "RangeIndex: 53940 entries, 0 to 53939\n",
      "Data columns (total 10 columns):\n",
      " #   Column   Non-Null Count  Dtype   \n",
      "---  ------   --------------  -----   \n",
      " 0   carat    53939 non-null  float16 \n",
      " 1   cut      53936 non-null  category\n",
      " 2   color    53937 non-null  category\n",
      " 3   clarity  53938 non-null  category\n",
      " 4   depth    53940 non-null  float64 \n",
      " 5   table    53938 non-null  float64 \n",
      " 6   price    53937 non-null  object  \n",
      " 7   x        53937 non-null  float64 \n",
      " 8   y        53939 non-null  float64 \n",
      " 9   z        53939 non-null  float64 \n",
      "dtypes: category(3), float16(1), float64(5), object(1)\n",
      "memory usage: 2.7+ MB\n"
     ]
    }
   ],
   "source": [
    "df[\"carat\"] = df[\"carat\"].astype(\"float16\") # Cambiar a float16 para reducir el uso de memoria\n",
    "df.info()"
   ]
  },
  {
   "cell_type": "markdown",
   "metadata": {},
   "source": [
    "Ya hemos pasado el tipo de la columna carat de float64 a float 16 para ahorrar memoria"
   ]
  },
  {
   "cell_type": "markdown",
   "metadata": {},
   "source": [
    "### 1.4. Limpieza de nulos (limpiar valores NaN):\n"
   ]
  },
  {
   "cell_type": "code",
   "execution_count": 21,
   "metadata": {},
   "outputs": [],
   "source": [
    "# df['cut'].fillna(df['cut'].mode()[0], inplace=True)"
   ]
  },
  {
   "cell_type": "code",
   "execution_count": 22,
   "metadata": {},
   "outputs": [
    {
     "name": "stdout",
     "output_type": "stream",
     "text": [
      "Número de valores nulos por columna:\n",
      "carat      1\n",
      "cut        4\n",
      "color      3\n",
      "clarity    2\n",
      "depth      0\n",
      "table      2\n",
      "price      3\n",
      "x          3\n",
      "y          1\n",
      "z          1\n",
      "dtype: int64\n"
     ]
    }
   ],
   "source": [
    "# Comprobar si hay valores nulos en cada columna\n",
    "print(\"Número de valores nulos por columna:\")\n",
    "print(df.isnull().sum()) # Devuelve el número de valores nulos por columna"
   ]
  },
  {
   "cell_type": "markdown",
   "metadata": {},
   "source": [
    "Vemos que hay nulos en casi todas las columnas, salvo en depth"
   ]
  },
  {
   "cell_type": "code",
   "execution_count": 23,
   "metadata": {},
   "outputs": [
    {
     "name": "stdout",
     "output_type": "stream",
     "text": [
      "<class 'pandas.core.frame.DataFrame'>\n",
      "RangeIndex: 53940 entries, 0 to 53939\n",
      "Data columns (total 10 columns):\n",
      " #   Column   Non-Null Count  Dtype   \n",
      "---  ------   --------------  -----   \n",
      " 0   carat    53939 non-null  float16 \n",
      " 1   cut      53936 non-null  category\n",
      " 2   color    53937 non-null  category\n",
      " 3   clarity  53938 non-null  category\n",
      " 4   depth    53940 non-null  float64 \n",
      " 5   table    53938 non-null  float64 \n",
      " 6   price    53937 non-null  float32 \n",
      " 7   x        53937 non-null  float64 \n",
      " 8   y        53939 non-null  float64 \n",
      " 9   z        53939 non-null  float64 \n",
      "dtypes: category(3), float16(1), float32(1), float64(5)\n",
      "memory usage: 2.5 MB\n"
     ]
    }
   ],
   "source": [
    "# la columna price viene como object, hay que pasarla a número antes de quitar los nulos, porque si no tendríamos que poner la moda\n",
    "df[\"price\"] = pd.to_numeric(df[\"price\"], errors=\"coerce\")\n",
    "# Cambiar a int32 para poder hacer gráficas\n",
    "df[\"price\"] = df[\"price\"].astype(\"float32\") \n",
    "\n",
    "df.info()\n"
   ]
  },
  {
   "cell_type": "code",
   "execution_count": 24,
   "metadata": {},
   "outputs": [
    {
     "data": {
      "text/plain": [
       "'def quita_nan(df):\\n    for i in df.keys():\\n        print(i)\\n        df[i].fillna(df[i].mode()[0], inplace=True)'"
      ]
     },
     "execution_count": 24,
     "metadata": {},
     "output_type": "execute_result"
    }
   ],
   "source": [
    "'''def quita_nan(df):\n",
    "    for i in df.keys():\n",
    "        print(i)\n",
    "        df[i].fillna(df[i].mode()[0], inplace=True)'''\n",
    "        \n",
    "        "
   ]
  },
  {
   "cell_type": "code",
   "execution_count": 25,
   "metadata": {},
   "outputs": [
    {
     "data": {
      "text/plain": [
       "'def quita_nan(df): # Función para reemplazar los NaN por la moda de cada columna\\n    # Iterar sobre las columnas del DataFrame\\n    for i in df.keys(): # Iterar sobre las columnas del dataframe\\n        # Calcular la asimetría (skewness) de la columna\\n        skewness = stats.skew(df[i].dropna()) # Calcular la asimetría de la columna sin NaN\\n        print(f\\'Asimetría de: {i} : {skewness}\\') # Imprimir la asimetría de la columna i\\n\\n        # Reemplazar NaN según la asimetría\\n        if skewness > 1: # Si la asimetría es mayor a 1, reemplazar NaN por la mediana\\n            df[i].fillna(df[i].median(), inplace=True) # Reemplazar NaN por la mediana\\n            print(f\"Rellenando nulos en {i} con la mediana {df[i].median()}\") \\n\\n        else: # Si la asimetría es menor o igual a 1, reemplazar NaN por la media\\n            df[i].fillna(df[i].mean(), inplace=True) # Reemplazar NaN por la media\\n            print(f\"Rellenando nulos en {i} con la media {df[i].mean()}\") '"
      ]
     },
     "execution_count": 25,
     "metadata": {},
     "output_type": "execute_result"
    }
   ],
   "source": [
    "'''def quita_nan(df): # Función para reemplazar los NaN por la moda de cada columna\n",
    "    # Iterar sobre las columnas del DataFrame\n",
    "    for i in df.keys(): # Iterar sobre las columnas del dataframe\n",
    "        # Calcular la asimetría (skewness) de la columna\n",
    "        skewness = stats.skew(df[i].dropna()) # Calcular la asimetría de la columna sin NaN\n",
    "        print(f'Asimetría de: {i} : {skewness}') # Imprimir la asimetría de la columna i\n",
    "\n",
    "        # Reemplazar NaN según la asimetría\n",
    "        if skewness > 1: # Si la asimetría es mayor a 1, reemplazar NaN por la mediana\n",
    "            df[i].fillna(df[i].median(), inplace=True) # Reemplazar NaN por la mediana\n",
    "            print(f\"Rellenando nulos en {i} con la mediana {df[i].median()}\") \n",
    "\n",
    "        else: # Si la asimetría es menor o igual a 1, reemplazar NaN por la media\n",
    "            df[i].fillna(df[i].mean(), inplace=True) # Reemplazar NaN por la media\n",
    "            print(f\"Rellenando nulos en {i} con la media {df[i].mean()}\") '''\n"
   ]
  },
  {
   "cell_type": "code",
   "execution_count": 26,
   "metadata": {},
   "outputs": [
    {
     "name": "stdout",
     "output_type": "stream",
     "text": [
      "------------------------------------\n",
      "Antes de procesar:\n",
      "          carat        cut color clarity  depth  table   price     x     y  \\\n",
      "0      0.229980      Ideal     E     SI2   61.5   55.0   326.0  3.95  3.98   \n",
      "1      0.209961    Premium     E     SI1   59.8   61.0   326.0  3.89  3.84   \n",
      "2      0.229980       Good     E     VS1   56.9   65.0   327.0  4.05  4.07   \n",
      "3      0.290039    Premium     I     VS2   62.4   58.0   334.0  4.20  4.23   \n",
      "4      0.310059       Good     J     SI2   63.3   58.0   335.0  4.34  4.35   \n",
      "...         ...        ...   ...     ...    ...    ...     ...   ...   ...   \n",
      "53935  0.720215      Ideal     D     SI1   60.8   57.0  2757.0  5.75  5.76   \n",
      "53936  0.720215       Good     D     SI1   63.1   55.0  2757.0  5.69  5.75   \n",
      "53937  0.700195  Very Good     D     SI1   62.8   60.0  2757.0  5.66  5.68   \n",
      "53938  0.859863    Premium     H     SI2   61.0   58.0  2757.0  6.15  6.12   \n",
      "53939  0.750000      Ideal     D     SI2   62.2   55.0  2757.0  5.83  5.87   \n",
      "\n",
      "          z  \n",
      "0      2.43  \n",
      "1      2.31  \n",
      "2      2.31  \n",
      "3      2.63  \n",
      "4      2.75  \n",
      "...     ...  \n",
      "53935  3.50  \n",
      "53936  3.61  \n",
      "53937  3.56  \n",
      "53938  3.74  \n",
      "53939  3.64  \n",
      "\n",
      "[53940 rows x 10 columns]\n",
      "<class 'pandas.core.frame.DataFrame'>\n",
      "RangeIndex: 53940 entries, 0 to 53939\n",
      "Data columns (total 10 columns):\n",
      " #   Column   Non-Null Count  Dtype   \n",
      "---  ------   --------------  -----   \n",
      " 0   carat    53939 non-null  float16 \n",
      " 1   cut      53936 non-null  category\n",
      " 2   color    53937 non-null  category\n",
      " 3   clarity  53938 non-null  category\n",
      " 4   depth    53940 non-null  float64 \n",
      " 5   table    53938 non-null  float64 \n",
      " 6   price    53937 non-null  float32 \n",
      " 7   x        53937 non-null  float64 \n",
      " 8   y        53939 non-null  float64 \n",
      " 9   z        53939 non-null  float64 \n",
      "dtypes: category(3), float16(1), float32(1), float64(5)\n",
      "memory usage: 2.5 MB\n",
      "------------------------------------\n",
      "\n",
      "************************************\n",
      "Procesando columna: carat\n",
      "1....................................\n",
      "La columna carat es numérica\n",
      "Asimetría de carat: 1.1171875\n",
      "4....................................\n",
      "Rellenando nulos en carat con la mediana: 0.7001953125\n",
      "\n",
      "************************************\n",
      "Procesando columna: cut\n",
      "1....................................\n",
      "La columna cut es de texto\n",
      "5....................................\n",
      "Rellenando nulos en cut con la moda: Ideal\n",
      "\n",
      "************************************\n",
      "Procesando columna: color\n",
      "1....................................\n",
      "La columna color es de texto\n",
      "5....................................\n",
      "Rellenando nulos en color con la moda: G\n",
      "\n",
      "************************************\n",
      "Procesando columna: clarity\n",
      "1....................................\n",
      "La columna clarity es de texto\n",
      "5....................................\n",
      "Rellenando nulos en clarity con la moda: SI1\n",
      "\n",
      "************************************\n",
      "Procesando columna: depth\n",
      "1....................................\n",
      "La columna depth es numérica\n",
      "Asimetría de depth: -0.08229173779627727\n",
      "4....................................\n",
      "Rellenando nulos en depth con la media: 61.749404894327036\n",
      "\n",
      "************************************\n",
      "Procesando columna: table\n",
      "1....................................\n",
      "La columna table es numérica\n",
      "Asimetría de table: 0.7969163326008666\n",
      "4....................................\n",
      "Rellenando nulos en table con la media: 57.45714524083207\n",
      "\n",
      "************************************\n",
      "Procesando columna: price\n",
      "1....................................\n",
      "La columna price es numérica\n",
      "Asimetría de price: 1.618294358253479\n",
      "4....................................\n",
      "Rellenando nulos en price con la mediana: 2401.0\n",
      "\n",
      "************************************\n",
      "Procesando columna: x\n",
      "1....................................\n",
      "La columna x es numérica\n",
      "Asimetría de x: 0.3786955087690976\n",
      "4....................................\n",
      "Rellenando nulos en x con la media: 5.7311431855683495\n",
      "\n",
      "************************************\n",
      "Procesando columna: y\n",
      "1....................................\n",
      "La columna y es numérica\n",
      "Asimetría de y: 2.43433213298009\n",
      "4....................................\n",
      "Rellenando nulos en y con la mediana: 5.71\n",
      "\n",
      "************************************\n",
      "Procesando columna: z\n",
      "1....................................\n",
      "La columna z es numérica\n",
      "Asimetría de z: 1.522438924979246\n",
      "4....................................\n",
      "Rellenando nulos en z con la mediana: 3.53\n",
      "------------------------------------\n",
      "------------------------------------\n",
      "Después de procesar:\n",
      "          carat        cut color clarity  depth  table   price     x     y  \\\n",
      "0      0.229980      Ideal     E     SI2   61.5   55.0   326.0  3.95  3.98   \n",
      "1      0.209961    Premium     E     SI1   59.8   61.0   326.0  3.89  3.84   \n",
      "2      0.229980       Good     E     VS1   56.9   65.0   327.0  4.05  4.07   \n",
      "3      0.290039    Premium     I     VS2   62.4   58.0   334.0  4.20  4.23   \n",
      "4      0.310059       Good     J     SI2   63.3   58.0   335.0  4.34  4.35   \n",
      "...         ...        ...   ...     ...    ...    ...     ...   ...   ...   \n",
      "53935  0.720215      Ideal     D     SI1   60.8   57.0  2757.0  5.75  5.76   \n",
      "53936  0.720215       Good     D     SI1   63.1   55.0  2757.0  5.69  5.75   \n",
      "53937  0.700195  Very Good     D     SI1   62.8   60.0  2757.0  5.66  5.68   \n",
      "53938  0.859863    Premium     H     SI2   61.0   58.0  2757.0  6.15  6.12   \n",
      "53939  0.750000      Ideal     D     SI2   62.2   55.0  2757.0  5.83  5.87   \n",
      "\n",
      "          z  \n",
      "0      2.43  \n",
      "1      2.31  \n",
      "2      2.31  \n",
      "3      2.63  \n",
      "4      2.75  \n",
      "...     ...  \n",
      "53935  3.50  \n",
      "53936  3.61  \n",
      "53937  3.56  \n",
      "53938  3.74  \n",
      "53939  3.64  \n",
      "\n",
      "[53940 rows x 10 columns]\n",
      "<class 'pandas.core.frame.DataFrame'>\n",
      "RangeIndex: 53940 entries, 0 to 53939\n",
      "Data columns (total 10 columns):\n",
      " #   Column   Non-Null Count  Dtype   \n",
      "---  ------   --------------  -----   \n",
      " 0   carat    53940 non-null  float16 \n",
      " 1   cut      53940 non-null  category\n",
      " 2   color    53940 non-null  category\n",
      " 3   clarity  53940 non-null  category\n",
      " 4   depth    53940 non-null  float64 \n",
      " 5   table    53940 non-null  float64 \n",
      " 6   price    53940 non-null  float32 \n",
      " 7   x        53940 non-null  float64 \n",
      " 8   y        53940 non-null  float64 \n",
      " 9   z        53940 non-null  float64 \n",
      "dtypes: category(3), float16(1), float32(1), float64(5)\n",
      "memory usage: 2.5 MB\n",
      "------------------------------------\n",
      "Número de valores nulos por columna:\n",
      "carat      0\n",
      "cut        0\n",
      "color      0\n",
      "clarity    0\n",
      "depth      0\n",
      "table      0\n",
      "price      0\n",
      "x          0\n",
      "y          0\n",
      "z          0\n",
      "dtype: int64\n",
      "------------------------------------\n"
     ]
    },
    {
     "name": "stderr",
     "output_type": "stream",
     "text": [
      "c:\\Users\\carol\\AppData\\Local\\Programs\\Python\\Python313\\Lib\\site-packages\\pandas\\io\\formats\\format.py:1458: RuntimeWarning: overflow encountered in cast\n",
      "  has_large_values = (abs_vals > 1e6).any()\n",
      "C:\\Users\\carol\\AppData\\Local\\Temp\\ipykernel_19364\\3924715242.py:30: FutureWarning: A value is trying to be set on a copy of a DataFrame or Series through chained assignment using an inplace method.\n",
      "The behavior will change in pandas 3.0. This inplace method will never work because the intermediate object on which we are setting values always behaves as a copy.\n",
      "\n",
      "For example, when doing 'df[col].method(value, inplace=True)', try using 'df.method({col: value}, inplace=True)' or df[col] = df[col].method(value) instead, to perform the operation inplace on the original object.\n",
      "\n",
      "\n",
      "  df[i].fillna(mediana, inplace=True)\n",
      "C:\\Users\\carol\\AppData\\Local\\Temp\\ipykernel_19364\\3924715242.py:48: FutureWarning: A value is trying to be set on a copy of a DataFrame or Series through chained assignment using an inplace method.\n",
      "The behavior will change in pandas 3.0. This inplace method will never work because the intermediate object on which we are setting values always behaves as a copy.\n",
      "\n",
      "For example, when doing 'df[col].method(value, inplace=True)', try using 'df.method({col: value}, inplace=True)' or df[col] = df[col].method(value) instead, to perform the operation inplace on the original object.\n",
      "\n",
      "\n",
      "  df[i].fillna(moda, inplace=True)\n",
      "C:\\Users\\carol\\AppData\\Local\\Temp\\ipykernel_19364\\3924715242.py:34: FutureWarning: A value is trying to be set on a copy of a DataFrame or Series through chained assignment using an inplace method.\n",
      "The behavior will change in pandas 3.0. This inplace method will never work because the intermediate object on which we are setting values always behaves as a copy.\n",
      "\n",
      "For example, when doing 'df[col].method(value, inplace=True)', try using 'df.method({col: value}, inplace=True)' or df[col] = df[col].method(value) instead, to perform the operation inplace on the original object.\n",
      "\n",
      "\n",
      "  df[i].fillna(media, inplace=True)\n",
      "C:\\Users\\carol\\AppData\\Local\\Temp\\ipykernel_19364\\3924715242.py:30: FutureWarning: A value is trying to be set on a copy of a DataFrame or Series through chained assignment using an inplace method.\n",
      "The behavior will change in pandas 3.0. This inplace method will never work because the intermediate object on which we are setting values always behaves as a copy.\n",
      "\n",
      "For example, when doing 'df[col].method(value, inplace=True)', try using 'df.method({col: value}, inplace=True)' or df[col] = df[col].method(value) instead, to perform the operation inplace on the original object.\n",
      "\n",
      "\n",
      "  df[i].fillna(mediana, inplace=True)\n",
      "C:\\Users\\carol\\AppData\\Local\\Temp\\ipykernel_19364\\3924715242.py:34: FutureWarning: A value is trying to be set on a copy of a DataFrame or Series through chained assignment using an inplace method.\n",
      "The behavior will change in pandas 3.0. This inplace method will never work because the intermediate object on which we are setting values always behaves as a copy.\n",
      "\n",
      "For example, when doing 'df[col].method(value, inplace=True)', try using 'df.method({col: value}, inplace=True)' or df[col] = df[col].method(value) instead, to perform the operation inplace on the original object.\n",
      "\n",
      "\n",
      "  df[i].fillna(media, inplace=True)\n",
      "C:\\Users\\carol\\AppData\\Local\\Temp\\ipykernel_19364\\3924715242.py:30: FutureWarning: A value is trying to be set on a copy of a DataFrame or Series through chained assignment using an inplace method.\n",
      "The behavior will change in pandas 3.0. This inplace method will never work because the intermediate object on which we are setting values always behaves as a copy.\n",
      "\n",
      "For example, when doing 'df[col].method(value, inplace=True)', try using 'df.method({col: value}, inplace=True)' or df[col] = df[col].method(value) instead, to perform the operation inplace on the original object.\n",
      "\n",
      "\n",
      "  df[i].fillna(mediana, inplace=True)\n",
      "C:\\Users\\carol\\AppData\\Local\\Temp\\ipykernel_19364\\3924715242.py:30: FutureWarning: A value is trying to be set on a copy of a DataFrame or Series through chained assignment using an inplace method.\n",
      "The behavior will change in pandas 3.0. This inplace method will never work because the intermediate object on which we are setting values always behaves as a copy.\n",
      "\n",
      "For example, when doing 'df[col].method(value, inplace=True)', try using 'df.method({col: value}, inplace=True)' or df[col] = df[col].method(value) instead, to perform the operation inplace on the original object.\n",
      "\n",
      "\n",
      "  df[i].fillna(mediana, inplace=True)\n",
      "c:\\Users\\carol\\AppData\\Local\\Programs\\Python\\Python313\\Lib\\site-packages\\pandas\\io\\formats\\format.py:1458: RuntimeWarning: overflow encountered in cast\n",
      "  has_large_values = (abs_vals > 1e6).any()\n"
     ]
    }
   ],
   "source": [
    "def quita_nan(df):\n",
    "    columnas_no_procesadas = []  # Lista Para registrar columnas que no se pudieron procesar\n",
    "    print('------------------------------------')\n",
    "    # Iterar sobre las columnas del DataFrame\n",
    "    for i in df.columns:        \n",
    "        print('\\n************************************')\n",
    "        print(f\"Procesando columna: {i}\")\n",
    "        print('1....................................')\n",
    "        # Validar si la columna contiene al menos un valor no nulo\n",
    "        if df[i].dropna().empty:\n",
    "            print(f\"La columna {i} está completamente vacía. No se puede calcular la asimetría.\")\n",
    "            print('2....................................')\n",
    "            columnas_no_procesadas.append((i, \"Columna completamente vacía\"))\n",
    "\n",
    "        # Si la columna es numérica\n",
    "        if df[i].dtype in [np.float64, np.float32, np.float16, np.int64, np.int32, np.int16]:\n",
    "            # Validar si la columna contiene al menos un valor no nulo\n",
    " \n",
    "            print(f\"La columna {i} es numérica\")\n",
    "\n",
    "            # Calcular la asimetría (skewness) de la columna sin NaN\n",
    "            skewness = stats.skew(df[i].dropna())\n",
    "            print(f\"Asimetría de {i}: {skewness}\")\n",
    "            print('4....................................')\n",
    "\n",
    "            # Reemplazar NaN según la asimetría\n",
    "            try:\n",
    "                if skewness > 1:\n",
    "                    mediana = df[i].median()\n",
    "                    df[i].fillna(mediana, inplace=True)\n",
    "                    print(f\"Rellenando nulos en {i} con la mediana: {mediana}\")\n",
    "                else:\n",
    "                    media = df[i].mean()\n",
    "                    df[i].fillna(media, inplace=True)\n",
    "                    print(f\"Rellenando nulos en {i} con la media: {media}\")\n",
    "            except Exception as e:\n",
    "                print(f\"Error al procesar la columna {i}: {e}\")\n",
    "                columnas_no_procesadas.append((i, f\"Error: {e}\"))\n",
    "\n",
    "        # Si la columna no es numérica\n",
    "        else:\n",
    "            # Intentar rellenar con la moda\n",
    "            print(f\"La columna {i} es de texto\")\n",
    "            print('5....................................')\n",
    "\n",
    "            try:\n",
    "                moda = df[i].mode()[0]\n",
    "                df[i].fillna(moda, inplace=True)\n",
    "                print(f\"Rellenando nulos en {i} con la moda: {moda}\")\n",
    "            except Exception as e:\n",
    "                print(f\"Error al procesar la columna {i}: {e}\")\n",
    "                columnas_no_procesadas.append((i, f\"Error: {e}\"))\n",
    "                \n",
    "        # Si la columna no es numérica ni de texto sino que contiene ambos                \n",
    "                df[i].apply(lambda x: isinstance(x, (int, float)) or pd.isnull(x))\n",
    "\n",
    "    print('------------------------------------')\n",
    "    return columnas_no_procesadas\n",
    "            \n",
    "print('------------------------------------')\n",
    "print(\"Antes de procesar:\")\n",
    "print(df)\n",
    "df.info()\n",
    "\n",
    "quita_nan(df)\n",
    "\n",
    "# Verificar si quedan valores nulos\n",
    "print('------------------------------------')\n",
    "print(\"Después de procesar:\")\n",
    "print(df)\n",
    "df.info()\n",
    "print('------------------------------------')\n",
    "print(\"Número de valores nulos por columna:\")\n",
    "print(df.isnull().sum())\n",
    "print('------------------------------------')\n",
    "\n",
    "# Mostrar las columnas que no pudieron procesarse\n",
    "#print(\"Columnas no procesadas:\")\n",
    "#for i in columnas_no_procesadas:\n",
    "#    print(f\"Columna: {i}\")\n"
   ]
  },
  {
   "cell_type": "code",
   "execution_count": null,
   "metadata": {},
   "outputs": [
    {
     "name": "stdout",
     "output_type": "stream",
     "text": [
      "------------------------------------\n",
      "\n",
      "************************************\n",
      "Procesando columna: carat\n",
      "1....................................\n",
      "La columna carat es numérica\n",
      "Asimetría de carat: 1.1171875\n",
      "4....................................\n",
      "Rellenando nulos en carat con la mediana: 0.7001953125\n",
      "\n",
      "************************************\n",
      "Procesando columna: cut\n",
      "1....................................\n",
      "La columna cut es de texto\n",
      "5....................................\n",
      "Rellenando nulos en cut con la moda: Ideal\n",
      "\n",
      "************************************\n",
      "Procesando columna: color\n",
      "1....................................\n",
      "La columna color es de texto\n",
      "5....................................\n",
      "Rellenando nulos en color con la moda: G\n",
      "\n",
      "************************************\n",
      "Procesando columna: clarity\n",
      "1....................................\n",
      "La columna clarity es de texto\n",
      "5....................................\n",
      "Rellenando nulos en clarity con la moda: SI1\n",
      "\n",
      "************************************\n",
      "Procesando columna: depth\n",
      "1....................................\n",
      "La columna depth es numérica\n",
      "Asimetría de depth: -0.08229173779627727\n",
      "4....................................\n",
      "Rellenando nulos en depth con la media: 61.749404894327036\n",
      "\n",
      "************************************\n",
      "Procesando columna: table\n",
      "1....................................\n",
      "La columna table es numérica\n",
      "Asimetría de table: 0.7969311071372762\n",
      "4....................................\n",
      "Rellenando nulos en table con la media: 57.45714524083208\n",
      "\n",
      "************************************\n",
      "Procesando columna: price\n",
      "1....................................\n",
      "La columna price es numérica\n",
      "Asimetría de price: 1.6183805465698242\n",
      "4....................................\n",
      "Rellenando nulos en price con la mediana: 2401.0\n",
      "\n",
      "************************************\n",
      "Procesando columna: x\n",
      "1....................................\n",
      "La columna x es numérica\n",
      "Asimetría de x: 0.37870604022922566\n",
      "4....................................\n",
      "Rellenando nulos en x con la media: 5.731143185568348\n",
      "\n",
      "************************************\n",
      "Procesando columna: y\n",
      "1....................................\n",
      "La columna y es numérica\n",
      "Asimetría de y: 2.434355859271755\n",
      "4....................................\n",
      "Rellenando nulos en y con la mediana: 5.71\n",
      "\n",
      "************************************\n",
      "Procesando columna: z\n",
      "1....................................\n",
      "La columna z es numérica\n",
      "Asimetría de z: 1.5224537183951334\n",
      "4....................................\n",
      "Rellenando nulos en z con la mediana: 3.53\n",
      "------------------------------------\n",
      "Número de valores nulos por columna:\n",
      "carat      0\n",
      "cut        0\n",
      "color      0\n",
      "clarity    0\n",
      "depth      0\n",
      "table      0\n",
      "price      0\n",
      "x          0\n",
      "y          0\n",
      "z          0\n",
      "dtype: int64\n"
     ]
    },
    {
     "name": "stderr",
     "output_type": "stream",
     "text": [
      "C:\\Users\\carol\\AppData\\Local\\Temp\\ipykernel_19364\\3924715242.py:30: FutureWarning: A value is trying to be set on a copy of a DataFrame or Series through chained assignment using an inplace method.\n",
      "The behavior will change in pandas 3.0. This inplace method will never work because the intermediate object on which we are setting values always behaves as a copy.\n",
      "\n",
      "For example, when doing 'df[col].method(value, inplace=True)', try using 'df.method({col: value}, inplace=True)' or df[col] = df[col].method(value) instead, to perform the operation inplace on the original object.\n",
      "\n",
      "\n",
      "  df[i].fillna(mediana, inplace=True)\n",
      "C:\\Users\\carol\\AppData\\Local\\Temp\\ipykernel_19364\\3924715242.py:48: FutureWarning: A value is trying to be set on a copy of a DataFrame or Series through chained assignment using an inplace method.\n",
      "The behavior will change in pandas 3.0. This inplace method will never work because the intermediate object on which we are setting values always behaves as a copy.\n",
      "\n",
      "For example, when doing 'df[col].method(value, inplace=True)', try using 'df.method({col: value}, inplace=True)' or df[col] = df[col].method(value) instead, to perform the operation inplace on the original object.\n",
      "\n",
      "\n",
      "  df[i].fillna(moda, inplace=True)\n",
      "C:\\Users\\carol\\AppData\\Local\\Temp\\ipykernel_19364\\3924715242.py:34: FutureWarning: A value is trying to be set on a copy of a DataFrame or Series through chained assignment using an inplace method.\n",
      "The behavior will change in pandas 3.0. This inplace method will never work because the intermediate object on which we are setting values always behaves as a copy.\n",
      "\n",
      "For example, when doing 'df[col].method(value, inplace=True)', try using 'df.method({col: value}, inplace=True)' or df[col] = df[col].method(value) instead, to perform the operation inplace on the original object.\n",
      "\n",
      "\n",
      "  df[i].fillna(media, inplace=True)\n",
      "C:\\Users\\carol\\AppData\\Local\\Temp\\ipykernel_19364\\3924715242.py:30: FutureWarning: A value is trying to be set on a copy of a DataFrame or Series through chained assignment using an inplace method.\n",
      "The behavior will change in pandas 3.0. This inplace method will never work because the intermediate object on which we are setting values always behaves as a copy.\n",
      "\n",
      "For example, when doing 'df[col].method(value, inplace=True)', try using 'df.method({col: value}, inplace=True)' or df[col] = df[col].method(value) instead, to perform the operation inplace on the original object.\n",
      "\n",
      "\n",
      "  df[i].fillna(mediana, inplace=True)\n",
      "C:\\Users\\carol\\AppData\\Local\\Temp\\ipykernel_19364\\3924715242.py:34: FutureWarning: A value is trying to be set on a copy of a DataFrame or Series through chained assignment using an inplace method.\n",
      "The behavior will change in pandas 3.0. This inplace method will never work because the intermediate object on which we are setting values always behaves as a copy.\n",
      "\n",
      "For example, when doing 'df[col].method(value, inplace=True)', try using 'df.method({col: value}, inplace=True)' or df[col] = df[col].method(value) instead, to perform the operation inplace on the original object.\n",
      "\n",
      "\n",
      "  df[i].fillna(media, inplace=True)\n",
      "C:\\Users\\carol\\AppData\\Local\\Temp\\ipykernel_19364\\3924715242.py:30: FutureWarning: A value is trying to be set on a copy of a DataFrame or Series through chained assignment using an inplace method.\n",
      "The behavior will change in pandas 3.0. This inplace method will never work because the intermediate object on which we are setting values always behaves as a copy.\n",
      "\n",
      "For example, when doing 'df[col].method(value, inplace=True)', try using 'df.method({col: value}, inplace=True)' or df[col] = df[col].method(value) instead, to perform the operation inplace on the original object.\n",
      "\n",
      "\n",
      "  df[i].fillna(mediana, inplace=True)\n",
      "C:\\Users\\carol\\AppData\\Local\\Temp\\ipykernel_19364\\3924715242.py:30: FutureWarning: A value is trying to be set on a copy of a DataFrame or Series through chained assignment using an inplace method.\n",
      "The behavior will change in pandas 3.0. This inplace method will never work because the intermediate object on which we are setting values always behaves as a copy.\n",
      "\n",
      "For example, when doing 'df[col].method(value, inplace=True)', try using 'df.method({col: value}, inplace=True)' or df[col] = df[col].method(value) instead, to perform the operation inplace on the original object.\n",
      "\n",
      "\n",
      "  df[i].fillna(mediana, inplace=True)\n"
     ]
    }
   ],
   "source": [
    "quita_nan(df)\n",
    "print(\"Número de valores nulos por columna:\")\n",
    "print(df.isnull().sum())\n"
   ]
  },
  {
   "cell_type": "code",
   "execution_count": 28,
   "metadata": {},
   "outputs": [
    {
     "name": "stdout",
     "output_type": "stream",
     "text": [
      "<class 'pandas.core.frame.DataFrame'>\n",
      "RangeIndex: 53940 entries, 0 to 53939\n",
      "Data columns (total 10 columns):\n",
      " #   Column   Non-Null Count  Dtype   \n",
      "---  ------   --------------  -----   \n",
      " 0   carat    53940 non-null  float16 \n",
      " 1   cut      53940 non-null  category\n",
      " 2   color    53940 non-null  category\n",
      " 3   clarity  53940 non-null  category\n",
      " 4   depth    53940 non-null  float64 \n",
      " 5   table    53940 non-null  float64 \n",
      " 6   price    53940 non-null  float32 \n",
      " 7   x        53940 non-null  float64 \n",
      " 8   y        53940 non-null  float64 \n",
      " 9   z        53940 non-null  float64 \n",
      "dtypes: category(3), float16(1), float32(1), float64(5)\n",
      "memory usage: 2.5 MB\n"
     ]
    }
   ],
   "source": [
    "df.info()"
   ]
  },
  {
   "cell_type": "code",
   "execution_count": 29,
   "metadata": {},
   "outputs": [
    {
     "name": "stderr",
     "output_type": "stream",
     "text": [
      "c:\\Users\\carol\\AppData\\Local\\Programs\\Python\\Python313\\Lib\\site-packages\\pandas\\io\\formats\\format.py:1458: RuntimeWarning: overflow encountered in cast\n",
      "  has_large_values = (abs_vals > 1e6).any()\n"
     ]
    },
    {
     "data": {
      "text/html": [
       "<div>\n",
       "<style scoped>\n",
       "    .dataframe tbody tr th:only-of-type {\n",
       "        vertical-align: middle;\n",
       "    }\n",
       "\n",
       "    .dataframe tbody tr th {\n",
       "        vertical-align: top;\n",
       "    }\n",
       "\n",
       "    .dataframe thead th {\n",
       "        text-align: right;\n",
       "    }\n",
       "</style>\n",
       "<table border=\"1\" class=\"dataframe\">\n",
       "  <thead>\n",
       "    <tr style=\"text-align: right;\">\n",
       "      <th></th>\n",
       "      <th>carat</th>\n",
       "      <th>cut</th>\n",
       "      <th>color</th>\n",
       "      <th>clarity</th>\n",
       "      <th>depth</th>\n",
       "      <th>table</th>\n",
       "      <th>price</th>\n",
       "      <th>x</th>\n",
       "      <th>y</th>\n",
       "      <th>z</th>\n",
       "    </tr>\n",
       "  </thead>\n",
       "  <tbody>\n",
       "    <tr>\n",
       "      <th>0</th>\n",
       "      <td>0.229980</td>\n",
       "      <td>Ideal</td>\n",
       "      <td>E</td>\n",
       "      <td>SI2</td>\n",
       "      <td>61.5</td>\n",
       "      <td>55.0</td>\n",
       "      <td>326.0</td>\n",
       "      <td>3.95</td>\n",
       "      <td>3.98</td>\n",
       "      <td>2.43</td>\n",
       "    </tr>\n",
       "    <tr>\n",
       "      <th>1</th>\n",
       "      <td>0.209961</td>\n",
       "      <td>Premium</td>\n",
       "      <td>E</td>\n",
       "      <td>SI1</td>\n",
       "      <td>59.8</td>\n",
       "      <td>61.0</td>\n",
       "      <td>326.0</td>\n",
       "      <td>3.89</td>\n",
       "      <td>3.84</td>\n",
       "      <td>2.31</td>\n",
       "    </tr>\n",
       "    <tr>\n",
       "      <th>2</th>\n",
       "      <td>0.229980</td>\n",
       "      <td>Good</td>\n",
       "      <td>E</td>\n",
       "      <td>VS1</td>\n",
       "      <td>56.9</td>\n",
       "      <td>65.0</td>\n",
       "      <td>327.0</td>\n",
       "      <td>4.05</td>\n",
       "      <td>4.07</td>\n",
       "      <td>2.31</td>\n",
       "    </tr>\n",
       "    <tr>\n",
       "      <th>3</th>\n",
       "      <td>0.290039</td>\n",
       "      <td>Premium</td>\n",
       "      <td>I</td>\n",
       "      <td>VS2</td>\n",
       "      <td>62.4</td>\n",
       "      <td>58.0</td>\n",
       "      <td>334.0</td>\n",
       "      <td>4.20</td>\n",
       "      <td>4.23</td>\n",
       "      <td>2.63</td>\n",
       "    </tr>\n",
       "    <tr>\n",
       "      <th>4</th>\n",
       "      <td>0.310059</td>\n",
       "      <td>Good</td>\n",
       "      <td>J</td>\n",
       "      <td>SI2</td>\n",
       "      <td>63.3</td>\n",
       "      <td>58.0</td>\n",
       "      <td>335.0</td>\n",
       "      <td>4.34</td>\n",
       "      <td>4.35</td>\n",
       "      <td>2.75</td>\n",
       "    </tr>\n",
       "    <tr>\n",
       "      <th>5</th>\n",
       "      <td>0.239990</td>\n",
       "      <td>Very Good</td>\n",
       "      <td>J</td>\n",
       "      <td>VVS2</td>\n",
       "      <td>62.8</td>\n",
       "      <td>57.0</td>\n",
       "      <td>336.0</td>\n",
       "      <td>3.94</td>\n",
       "      <td>3.96</td>\n",
       "      <td>2.48</td>\n",
       "    </tr>\n",
       "    <tr>\n",
       "      <th>6</th>\n",
       "      <td>0.239990</td>\n",
       "      <td>Very Good</td>\n",
       "      <td>I</td>\n",
       "      <td>VVS1</td>\n",
       "      <td>62.3</td>\n",
       "      <td>57.0</td>\n",
       "      <td>336.0</td>\n",
       "      <td>3.95</td>\n",
       "      <td>3.98</td>\n",
       "      <td>2.47</td>\n",
       "    </tr>\n",
       "    <tr>\n",
       "      <th>7</th>\n",
       "      <td>0.260010</td>\n",
       "      <td>Very Good</td>\n",
       "      <td>H</td>\n",
       "      <td>SI1</td>\n",
       "      <td>61.9</td>\n",
       "      <td>55.0</td>\n",
       "      <td>337.0</td>\n",
       "      <td>4.07</td>\n",
       "      <td>4.11</td>\n",
       "      <td>2.53</td>\n",
       "    </tr>\n",
       "    <tr>\n",
       "      <th>8</th>\n",
       "      <td>0.219971</td>\n",
       "      <td>Fair</td>\n",
       "      <td>E</td>\n",
       "      <td>VS2</td>\n",
       "      <td>65.1</td>\n",
       "      <td>61.0</td>\n",
       "      <td>337.0</td>\n",
       "      <td>3.87</td>\n",
       "      <td>3.78</td>\n",
       "      <td>2.49</td>\n",
       "    </tr>\n",
       "    <tr>\n",
       "      <th>9</th>\n",
       "      <td>0.229980</td>\n",
       "      <td>Very Good</td>\n",
       "      <td>H</td>\n",
       "      <td>VS1</td>\n",
       "      <td>59.4</td>\n",
       "      <td>61.0</td>\n",
       "      <td>338.0</td>\n",
       "      <td>4.00</td>\n",
       "      <td>4.05</td>\n",
       "      <td>2.39</td>\n",
       "    </tr>\n",
       "    <tr>\n",
       "      <th>10</th>\n",
       "      <td>0.300049</td>\n",
       "      <td>Good</td>\n",
       "      <td>J</td>\n",
       "      <td>SI1</td>\n",
       "      <td>64.0</td>\n",
       "      <td>55.0</td>\n",
       "      <td>339.0</td>\n",
       "      <td>4.25</td>\n",
       "      <td>4.28</td>\n",
       "      <td>2.73</td>\n",
       "    </tr>\n",
       "    <tr>\n",
       "      <th>11</th>\n",
       "      <td>0.229980</td>\n",
       "      <td>Ideal</td>\n",
       "      <td>J</td>\n",
       "      <td>VS1</td>\n",
       "      <td>62.8</td>\n",
       "      <td>56.0</td>\n",
       "      <td>340.0</td>\n",
       "      <td>3.93</td>\n",
       "      <td>3.90</td>\n",
       "      <td>2.46</td>\n",
       "    </tr>\n",
       "    <tr>\n",
       "      <th>12</th>\n",
       "      <td>0.219971</td>\n",
       "      <td>Premium</td>\n",
       "      <td>F</td>\n",
       "      <td>SI1</td>\n",
       "      <td>60.4</td>\n",
       "      <td>61.0</td>\n",
       "      <td>342.0</td>\n",
       "      <td>3.88</td>\n",
       "      <td>3.84</td>\n",
       "      <td>2.33</td>\n",
       "    </tr>\n",
       "    <tr>\n",
       "      <th>13</th>\n",
       "      <td>0.310059</td>\n",
       "      <td>Ideal</td>\n",
       "      <td>J</td>\n",
       "      <td>SI2</td>\n",
       "      <td>62.2</td>\n",
       "      <td>54.0</td>\n",
       "      <td>344.0</td>\n",
       "      <td>4.35</td>\n",
       "      <td>4.37</td>\n",
       "      <td>2.71</td>\n",
       "    </tr>\n",
       "    <tr>\n",
       "      <th>14</th>\n",
       "      <td>0.199951</td>\n",
       "      <td>Premium</td>\n",
       "      <td>E</td>\n",
       "      <td>SI2</td>\n",
       "      <td>60.2</td>\n",
       "      <td>62.0</td>\n",
       "      <td>345.0</td>\n",
       "      <td>3.79</td>\n",
       "      <td>3.75</td>\n",
       "      <td>2.27</td>\n",
       "    </tr>\n",
       "    <tr>\n",
       "      <th>15</th>\n",
       "      <td>0.320068</td>\n",
       "      <td>Premium</td>\n",
       "      <td>E</td>\n",
       "      <td>I1</td>\n",
       "      <td>60.9</td>\n",
       "      <td>58.0</td>\n",
       "      <td>345.0</td>\n",
       "      <td>4.38</td>\n",
       "      <td>4.42</td>\n",
       "      <td>2.68</td>\n",
       "    </tr>\n",
       "    <tr>\n",
       "      <th>16</th>\n",
       "      <td>0.300049</td>\n",
       "      <td>Ideal</td>\n",
       "      <td>I</td>\n",
       "      <td>SI2</td>\n",
       "      <td>62.0</td>\n",
       "      <td>54.0</td>\n",
       "      <td>348.0</td>\n",
       "      <td>4.31</td>\n",
       "      <td>4.34</td>\n",
       "      <td>2.68</td>\n",
       "    </tr>\n",
       "    <tr>\n",
       "      <th>17</th>\n",
       "      <td>0.300049</td>\n",
       "      <td>Good</td>\n",
       "      <td>J</td>\n",
       "      <td>SI1</td>\n",
       "      <td>63.4</td>\n",
       "      <td>54.0</td>\n",
       "      <td>351.0</td>\n",
       "      <td>4.23</td>\n",
       "      <td>4.29</td>\n",
       "      <td>2.70</td>\n",
       "    </tr>\n",
       "    <tr>\n",
       "      <th>18</th>\n",
       "      <td>0.300049</td>\n",
       "      <td>Good</td>\n",
       "      <td>J</td>\n",
       "      <td>SI1</td>\n",
       "      <td>63.8</td>\n",
       "      <td>56.0</td>\n",
       "      <td>351.0</td>\n",
       "      <td>4.23</td>\n",
       "      <td>4.26</td>\n",
       "      <td>2.71</td>\n",
       "    </tr>\n",
       "    <tr>\n",
       "      <th>19</th>\n",
       "      <td>0.300049</td>\n",
       "      <td>Very Good</td>\n",
       "      <td>J</td>\n",
       "      <td>SI1</td>\n",
       "      <td>62.7</td>\n",
       "      <td>59.0</td>\n",
       "      <td>351.0</td>\n",
       "      <td>4.21</td>\n",
       "      <td>4.27</td>\n",
       "      <td>2.66</td>\n",
       "    </tr>\n",
       "    <tr>\n",
       "      <th>20</th>\n",
       "      <td>0.300049</td>\n",
       "      <td>Good</td>\n",
       "      <td>I</td>\n",
       "      <td>SI2</td>\n",
       "      <td>63.3</td>\n",
       "      <td>56.0</td>\n",
       "      <td>351.0</td>\n",
       "      <td>4.26</td>\n",
       "      <td>4.30</td>\n",
       "      <td>2.71</td>\n",
       "    </tr>\n",
       "    <tr>\n",
       "      <th>21</th>\n",
       "      <td>0.229980</td>\n",
       "      <td>Very Good</td>\n",
       "      <td>E</td>\n",
       "      <td>VS2</td>\n",
       "      <td>63.8</td>\n",
       "      <td>55.0</td>\n",
       "      <td>352.0</td>\n",
       "      <td>3.85</td>\n",
       "      <td>3.92</td>\n",
       "      <td>2.48</td>\n",
       "    </tr>\n",
       "    <tr>\n",
       "      <th>22</th>\n",
       "      <td>0.229980</td>\n",
       "      <td>Very Good</td>\n",
       "      <td>H</td>\n",
       "      <td>VS1</td>\n",
       "      <td>61.0</td>\n",
       "      <td>57.0</td>\n",
       "      <td>353.0</td>\n",
       "      <td>3.94</td>\n",
       "      <td>3.96</td>\n",
       "      <td>2.41</td>\n",
       "    </tr>\n",
       "    <tr>\n",
       "      <th>23</th>\n",
       "      <td>0.310059</td>\n",
       "      <td>Very Good</td>\n",
       "      <td>J</td>\n",
       "      <td>SI1</td>\n",
       "      <td>59.4</td>\n",
       "      <td>62.0</td>\n",
       "      <td>353.0</td>\n",
       "      <td>4.39</td>\n",
       "      <td>4.43</td>\n",
       "      <td>2.62</td>\n",
       "    </tr>\n",
       "    <tr>\n",
       "      <th>24</th>\n",
       "      <td>0.310059</td>\n",
       "      <td>Very Good</td>\n",
       "      <td>J</td>\n",
       "      <td>SI1</td>\n",
       "      <td>58.1</td>\n",
       "      <td>62.0</td>\n",
       "      <td>353.0</td>\n",
       "      <td>4.44</td>\n",
       "      <td>4.47</td>\n",
       "      <td>2.59</td>\n",
       "    </tr>\n",
       "    <tr>\n",
       "      <th>25</th>\n",
       "      <td>0.229980</td>\n",
       "      <td>Very Good</td>\n",
       "      <td>G</td>\n",
       "      <td>VVS2</td>\n",
       "      <td>60.4</td>\n",
       "      <td>58.0</td>\n",
       "      <td>354.0</td>\n",
       "      <td>3.97</td>\n",
       "      <td>4.01</td>\n",
       "      <td>2.41</td>\n",
       "    </tr>\n",
       "    <tr>\n",
       "      <th>26</th>\n",
       "      <td>0.239990</td>\n",
       "      <td>Premium</td>\n",
       "      <td>I</td>\n",
       "      <td>VS1</td>\n",
       "      <td>62.5</td>\n",
       "      <td>57.0</td>\n",
       "      <td>355.0</td>\n",
       "      <td>3.97</td>\n",
       "      <td>3.94</td>\n",
       "      <td>2.47</td>\n",
       "    </tr>\n",
       "    <tr>\n",
       "      <th>27</th>\n",
       "      <td>0.300049</td>\n",
       "      <td>Very Good</td>\n",
       "      <td>J</td>\n",
       "      <td>VS2</td>\n",
       "      <td>62.2</td>\n",
       "      <td>57.0</td>\n",
       "      <td>357.0</td>\n",
       "      <td>4.28</td>\n",
       "      <td>4.30</td>\n",
       "      <td>2.67</td>\n",
       "    </tr>\n",
       "    <tr>\n",
       "      <th>28</th>\n",
       "      <td>0.229980</td>\n",
       "      <td>Very Good</td>\n",
       "      <td>D</td>\n",
       "      <td>VS2</td>\n",
       "      <td>60.5</td>\n",
       "      <td>61.0</td>\n",
       "      <td>357.0</td>\n",
       "      <td>3.96</td>\n",
       "      <td>3.97</td>\n",
       "      <td>2.40</td>\n",
       "    </tr>\n",
       "    <tr>\n",
       "      <th>29</th>\n",
       "      <td>0.229980</td>\n",
       "      <td>Very Good</td>\n",
       "      <td>F</td>\n",
       "      <td>VS1</td>\n",
       "      <td>60.9</td>\n",
       "      <td>57.0</td>\n",
       "      <td>357.0</td>\n",
       "      <td>3.96</td>\n",
       "      <td>3.99</td>\n",
       "      <td>2.42</td>\n",
       "    </tr>\n",
       "  </tbody>\n",
       "</table>\n",
       "</div>"
      ],
      "text/plain": [
       "       carat        cut color clarity  depth  table  price     x     y     z\n",
       "0   0.229980      Ideal     E     SI2   61.5   55.0  326.0  3.95  3.98  2.43\n",
       "1   0.209961    Premium     E     SI1   59.8   61.0  326.0  3.89  3.84  2.31\n",
       "2   0.229980       Good     E     VS1   56.9   65.0  327.0  4.05  4.07  2.31\n",
       "3   0.290039    Premium     I     VS2   62.4   58.0  334.0  4.20  4.23  2.63\n",
       "4   0.310059       Good     J     SI2   63.3   58.0  335.0  4.34  4.35  2.75\n",
       "5   0.239990  Very Good     J    VVS2   62.8   57.0  336.0  3.94  3.96  2.48\n",
       "6   0.239990  Very Good     I    VVS1   62.3   57.0  336.0  3.95  3.98  2.47\n",
       "7   0.260010  Very Good     H     SI1   61.9   55.0  337.0  4.07  4.11  2.53\n",
       "8   0.219971       Fair     E     VS2   65.1   61.0  337.0  3.87  3.78  2.49\n",
       "9   0.229980  Very Good     H     VS1   59.4   61.0  338.0  4.00  4.05  2.39\n",
       "10  0.300049       Good     J     SI1   64.0   55.0  339.0  4.25  4.28  2.73\n",
       "11  0.229980      Ideal     J     VS1   62.8   56.0  340.0  3.93  3.90  2.46\n",
       "12  0.219971    Premium     F     SI1   60.4   61.0  342.0  3.88  3.84  2.33\n",
       "13  0.310059      Ideal     J     SI2   62.2   54.0  344.0  4.35  4.37  2.71\n",
       "14  0.199951    Premium     E     SI2   60.2   62.0  345.0  3.79  3.75  2.27\n",
       "15  0.320068    Premium     E      I1   60.9   58.0  345.0  4.38  4.42  2.68\n",
       "16  0.300049      Ideal     I     SI2   62.0   54.0  348.0  4.31  4.34  2.68\n",
       "17  0.300049       Good     J     SI1   63.4   54.0  351.0  4.23  4.29  2.70\n",
       "18  0.300049       Good     J     SI1   63.8   56.0  351.0  4.23  4.26  2.71\n",
       "19  0.300049  Very Good     J     SI1   62.7   59.0  351.0  4.21  4.27  2.66\n",
       "20  0.300049       Good     I     SI2   63.3   56.0  351.0  4.26  4.30  2.71\n",
       "21  0.229980  Very Good     E     VS2   63.8   55.0  352.0  3.85  3.92  2.48\n",
       "22  0.229980  Very Good     H     VS1   61.0   57.0  353.0  3.94  3.96  2.41\n",
       "23  0.310059  Very Good     J     SI1   59.4   62.0  353.0  4.39  4.43  2.62\n",
       "24  0.310059  Very Good     J     SI1   58.1   62.0  353.0  4.44  4.47  2.59\n",
       "25  0.229980  Very Good     G    VVS2   60.4   58.0  354.0  3.97  4.01  2.41\n",
       "26  0.239990    Premium     I     VS1   62.5   57.0  355.0  3.97  3.94  2.47\n",
       "27  0.300049  Very Good     J     VS2   62.2   57.0  357.0  4.28  4.30  2.67\n",
       "28  0.229980  Very Good     D     VS2   60.5   61.0  357.0  3.96  3.97  2.40\n",
       "29  0.229980  Very Good     F     VS1   60.9   57.0  357.0  3.96  3.99  2.42"
      ]
     },
     "execution_count": 29,
     "metadata": {},
     "output_type": "execute_result"
    }
   ],
   "source": [
    "df.head(30)"
   ]
  },
  {
   "cell_type": "markdown",
   "metadata": {},
   "source": [
    "#### 1.4.1. Nulos en columnas continuas: mediana, media\n"
   ]
  },
  {
   "cell_type": "markdown",
   "metadata": {},
   "source": [
    "Hecho con la función anterior"
   ]
  },
  {
   "cell_type": "code",
   "execution_count": null,
   "metadata": {},
   "outputs": [],
   "source": []
  },
  {
   "cell_type": "markdown",
   "metadata": {},
   "source": [
    "#### 1.4.2. Nulos en columnas categóricas: moda, un valor fijo\n"
   ]
  },
  {
   "cell_type": "markdown",
   "metadata": {},
   "source": [
    "Hecho con la función anterior"
   ]
  },
  {
   "cell_type": "code",
   "execution_count": null,
   "metadata": {},
   "outputs": [],
   "source": []
  },
  {
   "cell_type": "markdown",
   "metadata": {},
   "source": [
    "### 1.5. Encoding: texto a numérico\n"
   ]
  },
  {
   "cell_type": "markdown",
   "metadata": {},
   "source": [
    "El encoding de texto a numérico es el proceso de transformar datos categóricos (textuales) en representaciones numéricas que puedan ser procesadas por modelos de machine learning o análisis de datos."
   ]
  },
  {
   "cell_type": "markdown",
   "metadata": {},
   "source": [
    "\n",
    "One-Hot Encoding (Codificación Binaria)\n",
    "One-Hot Encoding es un método para convertir datos categóricos (texto o etiquetas) en una representación numérica que pueda ser procesada por modelos de machine learning o análisis de datos.\n",
    "\n",
    "En este enfoque, cada categoría única en una columna se convierte en una columna binaria (0 o 1) que indica si una fila pertenece a esa categoría o no.\n",
    "\n",
    "¿Cómo Funciona?\n",
    "Supongamos que tienes una columna categórica llamada color con los siguientes valores:\n",
    "\n",
    "plaintext\n",
    "Copiar código\n",
    "color\n",
    "-----\n",
    "red\n",
    "blue\n",
    "green\n",
    "red\n",
    "green\n",
    "One-Hot Encoding transformará esta columna en varias columnas binarias, una para cada categoría única:\n",
    "\n",
    "plaintext\n",
    "Copiar código\n",
    "color_red  color_blue  color_green\n",
    "   1           0           0\n",
    "   0           1           0\n",
    "   0           0           1\n",
    "   1           0           0\n",
    "   0           0           1\n",
    "Cada fila tiene un 1 en la columna que corresponde a su categoría y 0 en las demás.\n",
    "\n",
    "Ventajas de One-Hot Encoding\n",
    "Sin orden implícito:\n",
    "\n",
    "No introduce un orden jerárquico entre categorías (a diferencia de un mapeo a números como 1, 2, 3).\n",
    "Ampliamente compatible:\n",
    "\n",
    "Los modelos de machine learning que no funcionan con texto pueden trabajar con estas representaciones numéricas.\n",
    "Desventajas de One-Hot Encoding\n",
    "Alta dimensionalidad:\n",
    "\n",
    "Si hay muchas categorías únicas, el número de columnas resultantes puede ser muy grande, lo que lleva a problemas de memoria y procesamiento.\n",
    "Pérdida de información relativa:\n",
    "\n",
    "No representa similitudes entre categorías (por ejemplo, si red y pink son más similares que red y blue)."
   ]
  },
  {
   "cell_type": "markdown",
   "metadata": {},
   "source": [
    "####  1.5.1. Uso de la función get_dummies() para encoding one_hot\n"
   ]
  },
  {
   "cell_type": "markdown",
   "metadata": {},
   "source": [
    "One-Hot Encoding (Codificación Binaria)\n",
    "Este método crea columnas adicionales (dummies) para cada categoría única en la columna original. Cada fila tiene un 1 en la columna correspondiente a su categoría y 0 en las demás."
   ]
  },
  {
   "cell_type": "code",
   "execution_count": 30,
   "metadata": {},
   "outputs": [
    {
     "name": "stdout",
     "output_type": "stream",
     "text": [
      "Valores únicos en la columna 'carat':\n",
      "[0.23 0.21 0.29 0.31 0.24 0.26 0.22 0.3  0.2  0.32 0.33 0.25 0.35 0.42\n",
      " 0.28 0.38 0.7  0.86 0.71 0.78 0.96 0.73 0.8  0.75 0.74 0.81 0.59 0.9\n",
      " 0.91 0.61 0.77 0.63 0.76 0.64 0.72 0.79 0.58 1.17 0.6  0.83 0.54 0.98\n",
      " 0.52 1.01 0.53 0.84 0.51 1.05 0.55 0.87 1.   0.57 0.82 1.04 0.93 1.2\n",
      " 0.99 0.34 0.43 0.36 0.95 0.89 1.02 0.97 0.56 0.85 0.92 1.27 0.66 1.12\n",
      " 0.68 1.03 0.62 1.22 1.08 0.88 0.5  1.19 0.39 0.65 1.24 1.5  0.27 0.41\n",
      " 1.13 1.06 0.69 0.4  1.14 0.94 1.29 1.52 1.16 1.21 1.23 1.09 0.67 1.11\n",
      " 1.1  1.18 1.15 1.25 1.07 1.28 1.51 0.37 1.31 1.26 1.39 1.44 1.35 1.3\n",
      " 1.32 1.41 1.36 1.45 1.34 1.58 1.54 1.38 1.33 1.74 1.64 1.47 1.4  1.55\n",
      " 1.95 2.   1.37 1.83 1.62 1.57 1.69 2.06 1.72 1.66 2.14 1.49 1.46 2.15\n",
      " 1.96 2.22 1.7  1.53 1.85 2.01 2.27 1.68 1.56 1.81 1.65 1.82 2.03 1.73\n",
      " 1.59 1.42 1.43 2.08 1.48 1.6  2.49 1.71 2.02 2.07 3.   2.21 2.1  1.91\n",
      " 2.25 2.17 2.32 2.72 1.61 2.23 2.11 2.05 1.63 2.3  2.31 1.75 2.04 2.12\n",
      " 1.77 2.5  1.8  1.67 1.84 2.2  3.01 1.88 2.33 2.68 2.34 1.9  2.16 2.74\n",
      " 1.78 1.76 2.28 1.79 1.94 2.43 1.86 3.11 1.87 2.09 1.89 2.52 2.19 2.18\n",
      " 2.77 2.63 3.05 2.46 3.02 2.38 2.24 2.26 2.36 1.99 2.29 3.65 2.45 2.4\n",
      " 2.54 3.24 2.13 2.58 3.22 3.5  2.48 1.98 2.44 2.75 1.93 2.41 2.61 2.35\n",
      " 2.51 2.7  2.55 1.97 2.53 2.37 2.47 2.8  4.01 2.56 3.04 1.92 2.39 3.4\n",
      " 4.   3.67 2.42 2.66 2.65 2.59 2.6  2.57 2.71 4.13 2.64 5.01 4.5  2.67\n",
      " 3.51 0.44 0.45 0.47 0.46 0.48 0.49]\n",
      "\n",
      "Valores únicos en la columna 'cut':\n",
      "['Ideal', 'Premium', 'Good', 'Very Good', 'Fair']\n",
      "Categories (5, object): ['Fair', 'Good', 'Ideal', 'Premium', 'Very Good']\n",
      "\n",
      "Valores únicos en la columna 'color':\n",
      "['E', 'I', 'J', 'H', 'F', 'G', 'D']\n",
      "Categories (7, object): ['D', 'E', 'F', 'G', 'H', 'I', 'J']\n",
      "\n",
      "Valores únicos en la columna 'clarity':\n",
      "['SI2', 'SI1', 'VS1', 'VS2', 'VVS2', 'VVS1', 'I1', 'IF']\n",
      "Categories (8, object): ['I1', 'IF', 'SI1', 'SI2', 'VS1', 'VS2', 'VVS1', 'VVS2']\n",
      "\n",
      "Valores únicos en la columna 'depth':\n",
      "[61.5 59.8 56.9 62.4 63.3 62.8 62.3 61.9 65.1 59.4 64.  60.4 62.2 60.2\n",
      " 60.9 62.  63.4 63.8 62.7 61.  58.1 62.5 60.5 60.  60.7 59.5 58.2 64.1\n",
      " 60.8 61.8 61.2 61.1 65.2 58.4 63.1 61.6 59.3 62.6 63.  63.2 62.1 61.4\n",
      " 62.9 63.7 59.2 59.9 57.9 55.1 57.5 66.3 61.7 58.8 64.5 65.3 59.6 64.4\n",
      " 65.7 63.6 61.3 60.1 60.3 58.  64.6 59.7 57.8 67.9 60.6 57.2 64.2 65.8\n",
      " 67.4 59.  63.5 67.3 58.7 66.4 68.1 63.9 55.  58.6 64.3 58.5 65.  56.\n",
      " 58.3 53.1 64.9 59.1 58.9 66.7 57.7 65.4 53.3 53.  67.8 66.1 55.8 67.6\n",
      " 68.2 65.5 67.7 69.5 56.6 56.3 66.9 66.  67.  57.6 67.1 65.6 64.8 69.3\n",
      " 66.2 55.4 66.8 64.7 66.6 55.9 57.3 57.4 68.3 68.5 56.2 65.9 56.5 56.1\n",
      " 66.5 68.4 69.7 57.1 68.7 56.7 68.6 71.6 43.  68.8 67.5 69.  55.2 68.9\n",
      " 69.6 57.  56.4 56.8 44.  67.2 70.1 71.3 70.6 69.8 71.8 53.8 53.2 70.\n",
      " 69.4 68.  70.2 50.8 55.6 70.5 71.  69.1 55.3 54.2 51.  70.8 54.6 54.\n",
      " 54.4 52.3 55.5 78.2 71.2 52.7 54.3 69.2 73.6 52.2 69.9 53.4 72.2 79.\n",
      " 72.9 54.7]\n",
      "\n",
      "Valores únicos en la columna 'table':\n",
      "[55.         61.         65.         58.         57.         56.\n",
      " 54.         62.         59.         63.         60.         55.3\n",
      " 69.         53.         64.         56.4        60.5        67.\n",
      " 52.         55.8        66.         70.         68.         54.4\n",
      " 57.1        53.6        54.8        54.2        54.9        56.7\n",
      " 53.9        57.8        54.1        55.1        51.         58.1\n",
      " 56.9        56.5        53.7        60.7        56.2        56.6\n",
      " 56.1        56.3        57.2        57.5        60.9        59.8\n",
      " 62.3        60.1        55.9        50.1        62.2        54.5\n",
      " 55.7        53.4        54.7        58.8        59.4        62.5\n",
      " 54.3        60.6        55.2        58.6        49.         50.\n",
      " 54.6        62.6        57.7        56.8        57.9        60.3\n",
      " 55.6        59.5        57.4        62.4        60.4        53.3\n",
      " 60.2        60.8        58.5        57.6        43.         59.9\n",
      " 63.5        57.3        61.4        58.3        55.4        58.2\n",
      " 53.5        59.7        57.45714524 55.5        58.7        53.8\n",
      " 59.1        53.2        59.3        61.1        51.6        95.\n",
      " 61.2        59.2        58.4        53.1        52.8        44.\n",
      " 61.3        61.9        61.8        59.6        61.5        58.9\n",
      " 64.3        62.8        71.         52.4        63.3        61.7\n",
      " 64.2        73.         65.4        63.4        62.1        79.\n",
      " 76.         61.6       ]\n",
      "\n",
      "Valores únicos en la columna 'price':\n",
      "[ 326.  327.  334. ... 2753. 2755. 2756.]\n",
      "\n",
      "Valores únicos en la columna 'x':\n",
      "[ 3.95        3.89        4.05        4.2         4.34        3.94\n",
      "  4.07        3.87        4.          4.25        3.93        3.88\n",
      "  4.35        3.79        4.38        4.31        4.23        4.21\n",
      "  4.26        3.85        4.39        4.44        3.97        4.28\n",
      "  3.96        4.04        4.01        3.92        4.06        3.83\n",
      "  4.29        4.13        4.49        3.99        4.19        4.24\n",
      "  4.36        4.33        4.02        4.45        3.91        4.3\n",
      "  4.43        4.54        4.78        4.15        4.08        4.03\n",
      "  4.65        4.22        5.7         6.45        5.68        5.81\n",
      "  5.85        5.71        6.27        5.77        5.97        5.8\n",
      "  6.          5.94        5.87        5.9         6.14        5.38\n",
      "  5.96        6.16        5.73        5.98        5.72        6.01\n",
      "  5.64        5.57        5.63        5.65        6.09        5.56\n",
      "  6.11        6.03        5.89        5.69        5.62        5.88\n",
      "  5.52        5.74        5.53        5.78        5.83        5.66\n",
      "  5.82        5.79        5.92        5.39        5.33        6.83\n",
      "  5.41        5.25        5.24        5.67        5.61        5.76\n",
      "  6.05        5.6         5.19        5.84        6.39        5.34\n",
      "  5.14        5.11        5.54        6.07        6.29        6.31\n",
      "  6.49        5.28        5.48        5.55        6.41        6.02\n",
      "  5.91        6.17        6.61        5.12        6.19        5.43\n",
      "  5.99        5.95        6.37        5.93        6.46        5.22\n",
      "  5.75        6.21        6.15        6.73        5.49        4.37\n",
      "  4.47        4.41        4.27        4.85        4.32        4.48\n",
      "  4.5         4.56        4.94        4.09        6.72        5.15\n",
      "  6.3         5.86        5.23        6.08        6.62        6.26\n",
      "  6.55        6.04        6.2         6.43        6.36        6.34\n",
      "  5.2         5.37        6.06        5.51        6.9         6.24\n",
      "  5.36        5.16        5.45        5.47        6.12        6.6\n",
      "  6.35        7.12        6.25        6.1         6.75        6.22\n",
      "  6.78        6.38        6.82        6.84        5.44        4.57\n",
      "  4.6         4.52        4.42        4.46        6.93        6.4\n",
      "  5.27        5.21        6.47        6.13        5.59        6.44\n",
      "  6.53        6.5         6.32        5.08        5.09        5.18\n",
      "  5.3         6.68        6.51        6.23        5.42        4.66\n",
      "  4.4         6.18        5.58        5.03        6.85        6.67\n",
      "  6.28        6.57        7.26        4.18        4.77        6.52\n",
      "  6.42        5.5         6.54        6.92        5.46        6.77\n",
      "  6.63        5.35        5.17        4.64        6.81        6.33\n",
      "  5.4         7.53        6.48        6.58        7.01        6.79\n",
      "  6.59        6.66        6.64        6.99        4.67        7.56\n",
      "  6.65        6.69        5.13        6.8         4.58        4.55\n",
      "  4.16        4.12        4.51        6.71        6.95        4.14\n",
      "  4.53        6.89        6.86        6.91        6.76        6.96\n",
      "  4.99        4.61        4.69        4.71        6.56        4.1\n",
      "  4.7         7.4         5.29        5.26        5.31        5.32\n",
      "  7.29        7.18        6.87        6.74        7.43        6.7\n",
      "  7.37        7.          4.11        4.63        6.94        7.22\n",
      "  7.06        7.05        7.09        7.17        7.07        4.73\n",
      "  4.75        4.74        7.02        7.16        7.11        6.88\n",
      "  7.1         4.98        7.15        6.98        7.31        7.38\n",
      "  7.39        7.33        4.17        4.59        7.28        7.08\n",
      "  6.97        4.62        4.83        4.68        7.34        7.21\n",
      "  4.89        7.03        7.55        4.79        7.25        7.45\n",
      "  7.19        7.04        7.62        7.14        3.98        4.8\n",
      "  7.44        0.          7.13        7.32        7.2         7.48\n",
      "  8.1         8.11        7.23        7.27        7.42        7.7\n",
      "  4.76        4.72        7.3         7.24        7.79        7.54\n",
      "  7.63        7.46        7.74        4.84        8.01        7.59\n",
      "  7.36        4.87        8.04        7.78        7.8         7.71\n",
      "  8.48        7.61        8.05        5.73114319  7.6         7.5\n",
      "  7.52        7.91        7.81        8.03        8.23        7.41\n",
      "  7.49        7.68        7.57        7.35        8.26        7.84\n",
      "  7.58        8.          8.19        7.77        7.87        7.47\n",
      "  8.25        7.76        9.23        7.97        8.31        8.3\n",
      "  7.82        4.88        7.93        7.73        7.89        7.66\n",
      "  7.75        8.75        7.88        7.99        8.46        7.51\n",
      "  7.69        7.64        8.24        8.15        8.71        7.83\n",
      "  8.39        7.72        8.13        4.82        7.65        9.1\n",
      "  8.93        8.16        7.94        7.85        8.64        7.67\n",
      "  4.91        4.81        8.14        7.86        9.11        8.45\n",
      "  7.9         8.47        8.07        8.55        8.76        7.96\n",
      "  8.28        8.4         8.37        8.52        8.43        8.09\n",
      "  7.98        8.81        8.54        8.02        8.08        8.18\n",
      "  4.92        8.12        9.15        8.17        9.24        8.33\n",
      "  8.34        7.92        8.57        7.95        8.06        9.26\n",
      "  8.82        8.27        8.66        8.22        9.54        9.38\n",
      "  8.36        8.41        8.53        8.42        8.44        8.21\n",
      "  8.51        8.68        8.49        8.29        8.2         9.08\n",
      "  9.17        8.6         9.53        8.7         8.32        8.65\n",
      "  9.44        8.38        8.61        8.58        9.49        9.65\n",
      "  8.83        8.5         8.79        8.63        8.74        9.04\n",
      "  9.42        8.35        8.56        8.8         8.87        8.84\n",
      "  8.88        8.59        8.69        9.32        9.03        8.72\n",
      " 10.14       10.02        8.62        8.85        9.14        8.67\n",
      "  8.99       10.01        8.78        9.25        9.86        8.77\n",
      "  8.73        9.3         9.13        9.05       10.          8.9\n",
      "  8.97       10.74        9.36        9.06        8.89       10.23\n",
      "  9.51        9.66        9.35        9.41        4.86        4.9\n",
      "  3.9         3.86        4.93        4.96        5.04        5.\n",
      "  4.95        5.01        5.05        3.81        3.84        3.73\n",
      "  3.74        3.76        3.77        4.97        5.06        5.02\n",
      "  5.1         5.07        3.82      ]\n",
      "\n",
      "Valores únicos en la columna 'y':\n",
      "[ 3.98  3.84  4.07  4.23  4.35  3.96  4.11  3.78  4.05  4.28  3.9   4.37\n",
      "  3.75  4.42  4.34  4.29  4.26  4.27  4.3   3.92  4.43  4.47  4.01  3.94\n",
      "  3.97  3.99  4.03  4.06  4.08  3.85  4.31  4.16  4.51  4.5   4.55  4.02\n",
      "  4.24  4.38  3.95  4.48  3.89  3.88  4.33  4.32  4.59  4.84  4.22  4.\n",
      "  4.25  4.13  4.09  4.04  4.12  4.67  5.72  6.33  5.67  5.73  5.85  5.9\n",
      "  5.76  5.95  5.78  5.93  5.75  5.96  5.79  5.87  5.8   5.81  6.11  5.43\n",
      "  6.    5.84  6.12  5.82  5.74  5.94  6.07  5.69  5.83  5.61  5.53  5.58\n",
      "  5.59  5.97  6.09  5.99  5.86  5.68  5.65  5.55  5.77  5.91  5.56  5.89\n",
      "  5.92  6.03  5.44  5.37  5.88  6.9   5.62  5.27  5.26  5.7   5.64  5.63\n",
      "  5.71  5.51  5.22  6.36  5.54  5.66  6.2   5.18  5.15  6.1   6.21  6.22\n",
      "  6.45  6.01  5.3   5.41  5.52  6.27  6.05  6.06  6.13  6.55  5.35  5.16\n",
      "  6.25  6.02  5.46  6.23  6.08  5.45  6.41  6.34  5.25  6.15  6.19  6.66\n",
      "  4.36  4.2   4.79  4.57  4.52  4.53  4.58  5.    6.67  5.11  6.29  6.04\n",
      "  6.53  6.65  6.5   6.16  5.6   6.39  5.21  5.4   5.98  6.83  6.37  6.31\n",
      "  5.38  6.43  5.29  5.19  6.18  5.34  5.48  5.23  6.14  5.49  5.57  6.46\n",
      "  7.05  6.26  6.75  6.74  6.77  4.66  4.46  4.56  4.41  4.4   4.39  5.2\n",
      "  6.88  5.31  6.3   6.48  5.47  5.13  6.49  6.47  6.32  5.12  5.24  6.35\n",
      "  6.61  4.7   6.24  6.28  5.08  6.44  6.79  6.57  6.92  6.6   5.28  5.42\n",
      "  5.5   7.09  4.45  4.62  4.8   6.42  6.85  6.54  6.7   6.51  6.59  6.38\n",
      "  6.69  5.06  4.69  4.44  4.49  6.71  6.4   6.17  5.39  7.42  6.52  6.95\n",
      "  6.56  6.62  6.87  6.81  7.39  6.58  6.73  5.17  4.65  4.19  4.61  6.64\n",
      "  6.91  6.8   4.15  4.71  4.21  4.68  6.84  6.86  4.96  5.04  5.09  4.64\n",
      "  4.74  4.73  4.6   4.75  7.28  5.32  6.82  6.63  7.17  7.13  4.1   4.63\n",
      "  7.35  6.68  7.26  6.78  4.17  4.9   6.89  7.01  7.1   6.72  7.    5.36\n",
      "  4.76  4.78  6.96  7.15  7.19  6.93  4.54  7.34  6.76  7.18  4.14  7.12\n",
      "  7.04  7.22  7.2   6.94  7.16  7.21  4.18  7.32  7.06  6.99  4.72  7.03\n",
      "  7.14  6.97  7.29  7.51  4.81  6.98  7.33  7.23  7.25  7.02  7.59  7.11\n",
      "  4.82  7.07  7.36  7.08  7.4   7.41  8.05  8.06  0.    4.83  7.44  7.79\n",
      "  8.07  7.24  7.7   7.45  7.56  4.88  7.27  7.95  4.87  7.31  4.77  4.89\n",
      "  8.02  7.37  7.49  7.38  7.74  7.75  7.64  8.39  7.55  8.    7.48  7.5\n",
      "  7.54  7.47  7.52  7.53  7.43  7.85  7.6   7.3   7.99  7.57  8.18  7.8\n",
      "  7.92  7.72  8.2   7.65  7.63  7.58  7.73  9.1   8.27  8.19  7.76  8.01\n",
      "  7.66  7.46  7.97  4.94  7.91  7.86  7.61  8.69  7.82  7.9   8.43  7.62\n",
      "  7.71  7.83  8.3   8.12  7.94  7.98  8.56  7.78  8.22  8.28  7.67  4.85\n",
      "  8.44  7.87  8.97  8.84  8.11  4.98  7.81  8.09  7.68  8.25  9.07  8.38\n",
      "  8.67  7.84  4.86  8.26  8.66  7.69  8.32  8.46  8.35  7.89  8.04  8.21\n",
      "  7.96  8.03  8.77  8.49  8.17  8.13  8.33  7.77  9.02  8.08  9.13  7.88\n",
      "  8.31  8.53  8.5   8.14  8.83  8.81  9.25  8.15  8.76  8.23  7.93  8.16\n",
      "  8.63  9.38  9.31  8.34  8.24  8.51  8.47  8.1   8.57  8.45  3.86  8.96\n",
      "  9.48  8.36  8.58  8.41  8.61  8.64  4.97 58.9   8.68  9.4   8.37  8.48\n",
      "  8.29  8.4   9.42  9.59  8.78  8.54  8.7   8.98  9.26  8.65  8.52  8.6\n",
      "  8.42  9.37  8.74  8.59  8.55  9.01  9.19 10.1   9.94  8.71  9.34  9.2\n",
      "  9.81  8.73  8.82  8.87  8.75  8.79  8.93  8.88  9.14  9.03  8.9   8.94\n",
      "  9.85  8.62 10.54  8.89 10.16  9.46  9.63  9.22  9.32  8.85  4.91  4.93\n",
      "  4.92  3.93  4.95  5.01  4.99  5.05  3.77  3.8   3.71  3.73  3.68  3.72\n",
      "  3.91  5.07  5.02  5.03  3.87  5.14  5.1   5.33  3.83  3.81  3.82 31.8 ]\n",
      "\n",
      "Valores únicos en la columna 'z':\n",
      "[ 2.43  2.31  2.63  2.75  2.48  2.47  2.53  2.49  2.39  2.73  2.46  2.33\n",
      "  2.71  2.27  2.68  2.7   2.66  2.41  2.62  2.59  2.67  2.4   2.42  2.44\n",
      "  2.37  2.52  2.78  2.76  2.61  2.65  2.79  2.54  2.64  2.45  2.72  2.69\n",
      "  2.96  2.58  2.51  2.56  2.55  2.87  3.57  3.52  3.5   3.56  3.72  3.38\n",
      "  3.4   4.07  3.66  3.65  3.58  3.59  3.63  3.69  3.61  3.6   3.35  3.67\n",
      "  3.62  3.87  3.68  3.49  3.47  3.46  3.7   3.32  3.93  3.95  3.64  3.53\n",
      "  3.37  3.43  3.51  3.54  3.48  3.55  3.33  3.3   4.13  3.79  3.24  3.23\n",
      "  4.08  3.19  3.94  3.08  3.31  3.21  3.75  3.18  3.41  4.03  4.09  3.22\n",
      "  4.18  3.76  3.83  3.17  3.44  3.74  3.8   3.39  3.88  4.    3.98  3.85\n",
      "  3.96  3.16  3.78  3.84  4.33  4.01  3.45  2.74  2.95  2.8   2.77  2.9\n",
      "  2.82  3.77  3.9   3.73  3.34  3.86  3.89  3.81  3.42  3.71  3.91  3.2\n",
      "  3.1   4.06  3.97  4.02  4.2   4.11  3.99  4.23  3.27  3.92  4.15  2.83\n",
      "  2.81  4.04  3.82  4.21  4.1   4.26  4.29  3.26  2.88  2.5   4.16  4.14\n",
      "  4.12  3.25  4.7   4.19  3.13  4.05  4.27  4.34  3.14  2.97  4.17  3.36\n",
      "  4.42  4.28  4.38  3.29  0.    4.25  4.78  2.99  2.57  2.84  4.22  2.6\n",
      "  3.15  4.32  4.3   2.85  3.01  3.28  4.63  4.65  3.12  4.52  4.47  2.89\n",
      "  4.24  4.49  4.57  4.36  4.8   4.76  2.94  4.66  4.54  4.56  4.62  4.37\n",
      "  4.46  4.31  2.91  4.5   4.39  4.4   4.55  2.86  2.35  2.93  4.41  4.51\n",
      "  4.45  4.72  4.48  2.98  4.75  4.64  4.84  2.92  4.87  4.35  4.53  4.44\n",
      "  4.6   4.81  4.68  4.82  3.    4.58  4.97  5.12  4.59  4.61  4.95  4.98\n",
      "  4.79  4.43  5.36  2.36  5.23  5.04  4.74  5.1   4.92  5.17  4.71  5.43\n",
      "  1.07  5.29  4.67  5.07  5.19  4.93  5.15  4.73  5.08  5.06  5.45  4.85\n",
      "  5.27  4.69  5.18  5.16  4.94  4.77  5.25  5.77  5.02  5.14  5.44  5.24\n",
      "  4.99  5.41  5.58  5.76  5.22  5.31  5.09  5.28  5.47  5.01  5.    4.91\n",
      "  4.88  5.32  4.89  5.67  5.97  5.33  5.2   4.83  5.53  5.37  5.65  1.53\n",
      "  4.9   5.21  5.05  5.11  5.35  1.41  4.96  5.98  5.03  5.73  4.86  5.6\n",
      "  5.56  5.66  5.26  5.91  3.04  5.3   5.79  5.13  6.38  5.49  5.34  8.06\n",
      "  5.85  5.57  5.92  6.03  3.02  5.48  5.62  5.46  3.03  5.55  5.39  5.5\n",
      "  6.17  6.24  5.75  6.16  5.51  6.27  6.31  5.69  6.13  5.54  5.86  5.38\n",
      "  5.72  5.4   5.61  6.43  5.52  5.42  6.98  5.9   6.72  5.64  5.59  3.06\n",
      "  3.05  3.07  3.09  3.11  2.26  2.24  2.32  2.28  2.3   2.38  2.34  2.29\n",
      "  2.06  2.25 31.8 ]\n",
      "\n"
     ]
    }
   ],
   "source": [
    "# Obtener valores únicos para cada columna y ver con lo que estamos trabajando, para ver los tamaños de las categorías\n",
    "for col in df.columns:\n",
    "    print(f\"Valores únicos en la columna '{col}':\")\n",
    "    print(df[col].unique())\n",
    "    print()\n"
   ]
  },
  {
   "cell_type": "code",
   "execution_count": 31,
   "metadata": {},
   "outputs": [
    {
     "name": "stdout",
     "output_type": "stream",
     "text": [
      "________________________________________________________\n",
      "Valores únicos en la columna 'cut':\n",
      "cantidad de valores únicos: 5\n",
      "Los valores únicode de la columna {col} son: ['Ideal', 'Premium', 'Good', 'Very Good', 'Fair']\n",
      "Categories (5, object): ['Fair', 'Good', 'Ideal', 'Premium', 'Very Good']\n",
      "['Ideal', 'Premium', 'Good', 'Very Good', 'Fair']\n",
      "Categories (5, object): ['Fair', 'Good', 'Ideal', 'Premium', 'Very Good']\n",
      "usando value_counts: cut\n",
      "Ideal        21553\n",
      "Premium      13791\n",
      "Very Good    12080\n",
      "Good          4906\n",
      "Fair          1610\n",
      "Name: count, dtype: int64\n",
      "\n",
      "________________________________________________________\n",
      "Valores únicos en la columna 'color':\n",
      "cantidad de valores únicos: 7\n",
      "Los valores únicode de la columna {col} son: ['E', 'I', 'J', 'H', 'F', 'G', 'D']\n",
      "Categories (7, object): ['D', 'E', 'F', 'G', 'H', 'I', 'J']\n",
      "['E', 'I', 'J', 'H', 'F', 'G', 'D']\n",
      "Categories (7, object): ['D', 'E', 'F', 'G', 'H', 'I', 'J']\n",
      "usando value_counts: color\n",
      "G    11294\n",
      "E     9797\n",
      "F     9542\n",
      "H     8304\n",
      "D     6774\n",
      "I     5421\n",
      "J     2808\n",
      "Name: count, dtype: int64\n",
      "\n",
      "________________________________________________________\n",
      "Valores únicos en la columna 'clarity':\n",
      "cantidad de valores únicos: 8\n",
      "Los valores únicode de la columna {col} son: ['SI2', 'SI1', 'VS1', 'VS2', 'VVS2', 'VVS1', 'I1', 'IF']\n",
      "Categories (8, object): ['I1', 'IF', 'SI1', 'SI2', 'VS1', 'VS2', 'VVS1', 'VVS2']\n",
      "['SI2', 'SI1', 'VS1', 'VS2', 'VVS2', 'VVS1', 'I1', 'IF']\n",
      "Categories (8, object): ['I1', 'IF', 'SI1', 'SI2', 'VS1', 'VS2', 'VVS1', 'VVS2']\n",
      "usando value_counts: clarity\n",
      "SI1     13067\n",
      "VS2     12257\n",
      "SI2      9194\n",
      "VS1      8170\n",
      "VVS2     5066\n",
      "VVS1     3655\n",
      "IF       1790\n",
      "I1        741\n",
      "Name: count, dtype: int64\n",
      "\n"
     ]
    },
    {
     "name": "stderr",
     "output_type": "stream",
     "text": [
      "c:\\Users\\carol\\AppData\\Local\\Programs\\Python\\Python313\\Lib\\site-packages\\pandas\\io\\formats\\format.py:1458: RuntimeWarning: overflow encountered in cast\n",
      "  has_large_values = (abs_vals > 1e6).any()\n",
      "c:\\Users\\carol\\AppData\\Local\\Programs\\Python\\Python313\\Lib\\site-packages\\pandas\\io\\formats\\format.py:1458: RuntimeWarning: overflow encountered in cast\n",
      "  has_large_values = (abs_vals > 1e6).any()\n"
     ]
    },
    {
     "data": {
      "text/html": [
       "<div>\n",
       "<style scoped>\n",
       "    .dataframe tbody tr th:only-of-type {\n",
       "        vertical-align: middle;\n",
       "    }\n",
       "\n",
       "    .dataframe tbody tr th {\n",
       "        vertical-align: top;\n",
       "    }\n",
       "\n",
       "    .dataframe thead th {\n",
       "        text-align: right;\n",
       "    }\n",
       "</style>\n",
       "<table border=\"1\" class=\"dataframe\">\n",
       "  <thead>\n",
       "    <tr style=\"text-align: right;\">\n",
       "      <th></th>\n",
       "      <th>carat</th>\n",
       "      <th>depth</th>\n",
       "      <th>table</th>\n",
       "      <th>price</th>\n",
       "      <th>x</th>\n",
       "      <th>y</th>\n",
       "      <th>z</th>\n",
       "      <th>cut_Good</th>\n",
       "      <th>cut_Ideal</th>\n",
       "      <th>cut_Premium</th>\n",
       "      <th>...</th>\n",
       "      <th>color_H</th>\n",
       "      <th>color_I</th>\n",
       "      <th>color_J</th>\n",
       "      <th>clarity_IF</th>\n",
       "      <th>clarity_SI1</th>\n",
       "      <th>clarity_SI2</th>\n",
       "      <th>clarity_VS1</th>\n",
       "      <th>clarity_VS2</th>\n",
       "      <th>clarity_VVS1</th>\n",
       "      <th>clarity_VVS2</th>\n",
       "    </tr>\n",
       "  </thead>\n",
       "  <tbody>\n",
       "    <tr>\n",
       "      <th>0</th>\n",
       "      <td>0.229980</td>\n",
       "      <td>61.5</td>\n",
       "      <td>55.0</td>\n",
       "      <td>326.0</td>\n",
       "      <td>3.95</td>\n",
       "      <td>3.98</td>\n",
       "      <td>2.43</td>\n",
       "      <td>False</td>\n",
       "      <td>True</td>\n",
       "      <td>False</td>\n",
       "      <td>...</td>\n",
       "      <td>False</td>\n",
       "      <td>False</td>\n",
       "      <td>False</td>\n",
       "      <td>False</td>\n",
       "      <td>False</td>\n",
       "      <td>True</td>\n",
       "      <td>False</td>\n",
       "      <td>False</td>\n",
       "      <td>False</td>\n",
       "      <td>False</td>\n",
       "    </tr>\n",
       "    <tr>\n",
       "      <th>1</th>\n",
       "      <td>0.209961</td>\n",
       "      <td>59.8</td>\n",
       "      <td>61.0</td>\n",
       "      <td>326.0</td>\n",
       "      <td>3.89</td>\n",
       "      <td>3.84</td>\n",
       "      <td>2.31</td>\n",
       "      <td>False</td>\n",
       "      <td>False</td>\n",
       "      <td>True</td>\n",
       "      <td>...</td>\n",
       "      <td>False</td>\n",
       "      <td>False</td>\n",
       "      <td>False</td>\n",
       "      <td>False</td>\n",
       "      <td>True</td>\n",
       "      <td>False</td>\n",
       "      <td>False</td>\n",
       "      <td>False</td>\n",
       "      <td>False</td>\n",
       "      <td>False</td>\n",
       "    </tr>\n",
       "    <tr>\n",
       "      <th>2</th>\n",
       "      <td>0.229980</td>\n",
       "      <td>56.9</td>\n",
       "      <td>65.0</td>\n",
       "      <td>327.0</td>\n",
       "      <td>4.05</td>\n",
       "      <td>4.07</td>\n",
       "      <td>2.31</td>\n",
       "      <td>True</td>\n",
       "      <td>False</td>\n",
       "      <td>False</td>\n",
       "      <td>...</td>\n",
       "      <td>False</td>\n",
       "      <td>False</td>\n",
       "      <td>False</td>\n",
       "      <td>False</td>\n",
       "      <td>False</td>\n",
       "      <td>False</td>\n",
       "      <td>True</td>\n",
       "      <td>False</td>\n",
       "      <td>False</td>\n",
       "      <td>False</td>\n",
       "    </tr>\n",
       "    <tr>\n",
       "      <th>3</th>\n",
       "      <td>0.290039</td>\n",
       "      <td>62.4</td>\n",
       "      <td>58.0</td>\n",
       "      <td>334.0</td>\n",
       "      <td>4.20</td>\n",
       "      <td>4.23</td>\n",
       "      <td>2.63</td>\n",
       "      <td>False</td>\n",
       "      <td>False</td>\n",
       "      <td>True</td>\n",
       "      <td>...</td>\n",
       "      <td>False</td>\n",
       "      <td>True</td>\n",
       "      <td>False</td>\n",
       "      <td>False</td>\n",
       "      <td>False</td>\n",
       "      <td>False</td>\n",
       "      <td>False</td>\n",
       "      <td>True</td>\n",
       "      <td>False</td>\n",
       "      <td>False</td>\n",
       "    </tr>\n",
       "    <tr>\n",
       "      <th>4</th>\n",
       "      <td>0.310059</td>\n",
       "      <td>63.3</td>\n",
       "      <td>58.0</td>\n",
       "      <td>335.0</td>\n",
       "      <td>4.34</td>\n",
       "      <td>4.35</td>\n",
       "      <td>2.75</td>\n",
       "      <td>True</td>\n",
       "      <td>False</td>\n",
       "      <td>False</td>\n",
       "      <td>...</td>\n",
       "      <td>False</td>\n",
       "      <td>False</td>\n",
       "      <td>True</td>\n",
       "      <td>False</td>\n",
       "      <td>False</td>\n",
       "      <td>True</td>\n",
       "      <td>False</td>\n",
       "      <td>False</td>\n",
       "      <td>False</td>\n",
       "      <td>False</td>\n",
       "    </tr>\n",
       "    <tr>\n",
       "      <th>5</th>\n",
       "      <td>0.239990</td>\n",
       "      <td>62.8</td>\n",
       "      <td>57.0</td>\n",
       "      <td>336.0</td>\n",
       "      <td>3.94</td>\n",
       "      <td>3.96</td>\n",
       "      <td>2.48</td>\n",
       "      <td>False</td>\n",
       "      <td>False</td>\n",
       "      <td>False</td>\n",
       "      <td>...</td>\n",
       "      <td>False</td>\n",
       "      <td>False</td>\n",
       "      <td>True</td>\n",
       "      <td>False</td>\n",
       "      <td>False</td>\n",
       "      <td>False</td>\n",
       "      <td>False</td>\n",
       "      <td>False</td>\n",
       "      <td>False</td>\n",
       "      <td>True</td>\n",
       "    </tr>\n",
       "    <tr>\n",
       "      <th>6</th>\n",
       "      <td>0.239990</td>\n",
       "      <td>62.3</td>\n",
       "      <td>57.0</td>\n",
       "      <td>336.0</td>\n",
       "      <td>3.95</td>\n",
       "      <td>3.98</td>\n",
       "      <td>2.47</td>\n",
       "      <td>False</td>\n",
       "      <td>False</td>\n",
       "      <td>False</td>\n",
       "      <td>...</td>\n",
       "      <td>False</td>\n",
       "      <td>True</td>\n",
       "      <td>False</td>\n",
       "      <td>False</td>\n",
       "      <td>False</td>\n",
       "      <td>False</td>\n",
       "      <td>False</td>\n",
       "      <td>False</td>\n",
       "      <td>True</td>\n",
       "      <td>False</td>\n",
       "    </tr>\n",
       "    <tr>\n",
       "      <th>7</th>\n",
       "      <td>0.260010</td>\n",
       "      <td>61.9</td>\n",
       "      <td>55.0</td>\n",
       "      <td>337.0</td>\n",
       "      <td>4.07</td>\n",
       "      <td>4.11</td>\n",
       "      <td>2.53</td>\n",
       "      <td>False</td>\n",
       "      <td>False</td>\n",
       "      <td>False</td>\n",
       "      <td>...</td>\n",
       "      <td>True</td>\n",
       "      <td>False</td>\n",
       "      <td>False</td>\n",
       "      <td>False</td>\n",
       "      <td>True</td>\n",
       "      <td>False</td>\n",
       "      <td>False</td>\n",
       "      <td>False</td>\n",
       "      <td>False</td>\n",
       "      <td>False</td>\n",
       "    </tr>\n",
       "    <tr>\n",
       "      <th>8</th>\n",
       "      <td>0.219971</td>\n",
       "      <td>65.1</td>\n",
       "      <td>61.0</td>\n",
       "      <td>337.0</td>\n",
       "      <td>3.87</td>\n",
       "      <td>3.78</td>\n",
       "      <td>2.49</td>\n",
       "      <td>False</td>\n",
       "      <td>False</td>\n",
       "      <td>False</td>\n",
       "      <td>...</td>\n",
       "      <td>False</td>\n",
       "      <td>False</td>\n",
       "      <td>False</td>\n",
       "      <td>False</td>\n",
       "      <td>False</td>\n",
       "      <td>False</td>\n",
       "      <td>False</td>\n",
       "      <td>True</td>\n",
       "      <td>False</td>\n",
       "      <td>False</td>\n",
       "    </tr>\n",
       "    <tr>\n",
       "      <th>9</th>\n",
       "      <td>0.229980</td>\n",
       "      <td>59.4</td>\n",
       "      <td>61.0</td>\n",
       "      <td>338.0</td>\n",
       "      <td>4.00</td>\n",
       "      <td>4.05</td>\n",
       "      <td>2.39</td>\n",
       "      <td>False</td>\n",
       "      <td>False</td>\n",
       "      <td>False</td>\n",
       "      <td>...</td>\n",
       "      <td>True</td>\n",
       "      <td>False</td>\n",
       "      <td>False</td>\n",
       "      <td>False</td>\n",
       "      <td>False</td>\n",
       "      <td>False</td>\n",
       "      <td>True</td>\n",
       "      <td>False</td>\n",
       "      <td>False</td>\n",
       "      <td>False</td>\n",
       "    </tr>\n",
       "  </tbody>\n",
       "</table>\n",
       "<p>10 rows × 24 columns</p>\n",
       "</div>"
      ],
      "text/plain": [
       "      carat  depth  table  price     x     y     z  cut_Good  cut_Ideal  \\\n",
       "0  0.229980   61.5   55.0  326.0  3.95  3.98  2.43     False       True   \n",
       "1  0.209961   59.8   61.0  326.0  3.89  3.84  2.31     False      False   \n",
       "2  0.229980   56.9   65.0  327.0  4.05  4.07  2.31      True      False   \n",
       "3  0.290039   62.4   58.0  334.0  4.20  4.23  2.63     False      False   \n",
       "4  0.310059   63.3   58.0  335.0  4.34  4.35  2.75      True      False   \n",
       "5  0.239990   62.8   57.0  336.0  3.94  3.96  2.48     False      False   \n",
       "6  0.239990   62.3   57.0  336.0  3.95  3.98  2.47     False      False   \n",
       "7  0.260010   61.9   55.0  337.0  4.07  4.11  2.53     False      False   \n",
       "8  0.219971   65.1   61.0  337.0  3.87  3.78  2.49     False      False   \n",
       "9  0.229980   59.4   61.0  338.0  4.00  4.05  2.39     False      False   \n",
       "\n",
       "   cut_Premium  ...  color_H  color_I  color_J  clarity_IF  clarity_SI1  \\\n",
       "0        False  ...    False    False    False       False        False   \n",
       "1         True  ...    False    False    False       False         True   \n",
       "2        False  ...    False    False    False       False        False   \n",
       "3         True  ...    False     True    False       False        False   \n",
       "4        False  ...    False    False     True       False        False   \n",
       "5        False  ...    False    False     True       False        False   \n",
       "6        False  ...    False     True    False       False        False   \n",
       "7        False  ...     True    False    False       False         True   \n",
       "8        False  ...    False    False    False       False        False   \n",
       "9        False  ...     True    False    False       False        False   \n",
       "\n",
       "   clarity_SI2  clarity_VS1  clarity_VS2  clarity_VVS1  clarity_VVS2  \n",
       "0         True        False        False         False         False  \n",
       "1        False        False        False         False         False  \n",
       "2        False         True        False         False         False  \n",
       "3        False        False         True         False         False  \n",
       "4         True        False        False         False         False  \n",
       "5        False        False        False         False          True  \n",
       "6        False        False        False          True         False  \n",
       "7        False        False        False         False         False  \n",
       "8        False        False         True         False         False  \n",
       "9        False         True        False         False         False  \n",
       "\n",
       "[10 rows x 24 columns]"
      ]
     },
     "execution_count": 31,
     "metadata": {},
     "output_type": "execute_result"
    }
   ],
   "source": [
    "# Codificar las columnas categóricas\n",
    "# ver solo columnas categóricas para saber cuantas clases hay en cada columna (por consiguiente cuántas columnas nuevas se crearán)\n",
    "categorical_columns = df.select_dtypes(include=['object', 'category'])\n",
    "\n",
    "for col in categorical_columns.columns:\n",
    "    print('________________________________________________________')\n",
    "    print(f\"Valores únicos en la columna '{col}':\")\n",
    "    print('cantidad de valores únicos:', len(df[col].unique()))\n",
    "    print('Los valores únicode de la columna {col} son:', df[col].unique())\n",
    "    print(df[col].unique())\n",
    "    print(f'usando value_counts: {df[col].value_counts()}')\n",
    "    print()\n",
    "\n",
    "# ahora si, hacemos el encoding de las 3 columnas categóricas\n",
    "df_encoded = pd.get_dummies(df, columns=[\"cut\", \"color\", \"clarity\"], drop_first=True)\n",
    "df_encoded.head(10)"
   ]
  },
  {
   "cell_type": "code",
   "execution_count": 32,
   "metadata": {},
   "outputs": [
    {
     "data": {
      "text/plain": [
       "cut\n",
       "Ideal        21553\n",
       "Premium      13791\n",
       "Very Good    12080\n",
       "Good          4906\n",
       "Fair          1610\n",
       "Name: count, dtype: int64"
      ]
     },
     "execution_count": 32,
     "metadata": {},
     "output_type": "execute_result"
    }
   ],
   "source": [
    "df['cut'].value_counts()"
   ]
  },
  {
   "cell_type": "markdown",
   "metadata": {},
   "source": [
    "#### 1.5.2. Uso de map para encoding ordinal para la columna cut como una nueva columna cut_int: 1, 2, 3, 4\n"
   ]
  },
  {
   "cell_type": "markdown",
   "metadata": {},
   "source": [
    "Ordinal Encoding (Codificación Ordinal)\n",
    "Se asigna un número entero a cada categoría según un orden predefinido. Este método es útil cuando las categorías tienen un orden lógico."
   ]
  },
  {
   "cell_type": "code",
   "execution_count": 33,
   "metadata": {},
   "outputs": [
    {
     "data": {
      "text/plain": [
       "0            ideal\n",
       "1          premium\n",
       "2             good\n",
       "3          premium\n",
       "4             good\n",
       "           ...    \n",
       "53935        ideal\n",
       "53936         good\n",
       "53937    very good\n",
       "53938      premium\n",
       "53939        ideal\n",
       "Name: cut, Length: 53940, dtype: category\n",
       "Categories (5, object): ['fair', 'good', 'ideal', 'premium', 'very good']"
      ]
     },
     "execution_count": 33,
     "metadata": {},
     "output_type": "execute_result"
    }
   ],
   "source": [
    "df[\"cut\"].map(lambda x : x.lower())"
   ]
  },
  {
   "cell_type": "code",
   "execution_count": 34,
   "metadata": {},
   "outputs": [
    {
     "ename": "NameError",
     "evalue": "name 'missing_categories' is not defined",
     "output_type": "error",
     "traceback": [
      "\u001b[1;31m---------------------------------------------------------------------------\u001b[0m",
      "\u001b[1;31mNameError\u001b[0m                                 Traceback (most recent call last)",
      "Cell \u001b[1;32mIn[34], line 13\u001b[0m\n\u001b[0;32m      5\u001b[0m cut_mapping \u001b[38;5;241m=\u001b[39m {\n\u001b[0;32m      6\u001b[0m     \u001b[38;5;124m'\u001b[39m\u001b[38;5;124mFair\u001b[39m\u001b[38;5;124m'\u001b[39m: \u001b[38;5;241m1\u001b[39m,  \u001b[38;5;66;03m# añadimos valores enteros\u001b[39;00m\n\u001b[0;32m      7\u001b[0m     \u001b[38;5;124m'\u001b[39m\u001b[38;5;124mGood\u001b[39m\u001b[38;5;124m'\u001b[39m: \u001b[38;5;241m2\u001b[39m,\n\u001b[1;32m   (...)\u001b[0m\n\u001b[0;32m     10\u001b[0m     \u001b[38;5;124m'\u001b[39m\u001b[38;5;124mVery Good\u001b[39m\u001b[38;5;124m'\u001b[39m: \u001b[38;5;241m5\u001b[39m\n\u001b[0;32m     11\u001b[0m }\n\u001b[0;32m     12\u001b[0m df[\u001b[38;5;124m'\u001b[39m\u001b[38;5;124mcut_int\u001b[39m\u001b[38;5;124m'\u001b[39m] \u001b[38;5;241m=\u001b[39m df[\u001b[38;5;124m'\u001b[39m\u001b[38;5;124mcut\u001b[39m\u001b[38;5;124m'\u001b[39m]\u001b[38;5;241m.\u001b[39mmap(cut_mapping)\n\u001b[1;32m---> 13\u001b[0m \u001b[38;5;28mprint\u001b[39m(\u001b[38;5;124mf\u001b[39m\u001b[38;5;124m\"\u001b[39m\u001b[38;5;124mCategorías no encontradas: \u001b[39m\u001b[38;5;132;01m{\u001b[39;00m\u001b[43mmissing_categories\u001b[49m\u001b[38;5;132;01m}\u001b[39;00m\u001b[38;5;124m\"\u001b[39m)\n\u001b[0;32m     16\u001b[0m \u001b[38;5;28mprint\u001b[39m(\u001b[38;5;124m\"\u001b[39m\u001b[38;5;124mDataFrame con Encoding Ordinal:\u001b[39m\u001b[38;5;124m\"\u001b[39m)\n\u001b[0;32m     17\u001b[0m \u001b[38;5;28mprint\u001b[39m(df)\n",
      "\u001b[1;31mNameError\u001b[0m: name 'missing_categories' is not defined"
     ]
    }
   ],
   "source": [
    "# encoding usando .map() de texto a número 1, 2, 3, ....\n",
    "# Ideal para situaciones donde la variable es ordinal, es decir, tiene un orden lógico\n",
    "# como por ejemplo baja, media, alta o malo, regular, bueno, excelente...\n",
    "# Definir el mapeo de categorías a valores ordinales con el diccionario siguiente:\n",
    "cut_mapping = {\n",
    "    'Fair': 1,  # añadimos valores enteros\n",
    "    'Good': 2,\n",
    "    'Ideal': 3,\n",
    "    'Premium': 4,\n",
    "    'Very Good': 5\n",
    "}\n",
    "df['cut_int'] = df['cut'].map(cut_mapping)\n",
    "print(f\"Categorías no encontradas: {missing_categories}\")\n",
    "\n",
    "\n",
    "print(\"DataFrame con Encoding Ordinal:\")\n",
    "print(df)\n",
    "df.head()\n",
    "df.info()"
   ]
  },
  {
   "cell_type": "code",
   "execution_count": null,
   "metadata": {},
   "outputs": [],
   "source": []
  },
  {
   "cell_type": "markdown",
   "metadata": {},
   "source": [
    "Target Encoding (Codificación Basada en la Media del Target)\n",
    "Se reemplazan las categorías con el promedio de los valores de la variable objetivo (target) correspondiente a cada categoría."
   ]
  },
  {
   "cell_type": "markdown",
   "metadata": {},
   "source": [
    "Label Encoding\n",
    "Asigna un número entero a cada categoría única, pero sin considerar un orden lógico."
   ]
  },
  {
   "cell_type": "markdown",
   "metadata": {},
   "source": [
    "Cuándo Usar Cada Método\n",
    "\n",
    "*One-Hot Encoding: Útil para datos categóricos nominales (sin orden) y cuando el número de categorías es pequeño.\n",
    "\n",
    "*Ordinal Encoding: Útil para datos categóricos ordinales (con orden lógico).\n",
    "\n",
    "*Target Encoding: Se usa en problemas de machine learning supervisado, pero con cuidado para evitar fugas de datos.\n",
    "\n",
    "*Label Encoding: Rápido y sencillo, pero introduce un orden que puede ser problemático para modelos que interpretan los números como magnitudes."
   ]
  },
  {
   "cell_type": "markdown",
   "metadata": {},
   "source": [
    "## PARTE 2: 25 % transformaciones:\n"
   ]
  },
  {
   "cell_type": "code",
   "execution_count": null,
   "metadata": {},
   "outputs": [],
   "source": []
  },
  {
   "cell_type": "code",
   "execution_count": null,
   "metadata": {},
   "outputs": [],
   "source": []
  },
  {
   "cell_type": "code",
   "execution_count": null,
   "metadata": {},
   "outputs": [],
   "source": []
  },
  {
   "cell_type": "markdown",
   "metadata": {},
   "source": [
    "### 2.1. Crear una columna price_iva a partir de la columna price que muestre el precio + IVA (21%). \n",
    "        * Ejemplo df['price'] * 1.21 \n"
   ]
  },
  {
   "cell_type": "markdown",
   "metadata": {},
   "source": [
    "1. Usando una Operación Vectorizada con Pandas.\n",
    "Esta es la forma estándar y eficiente. Es ideal para grandes conjuntos de datos"
   ]
  },
  {
   "cell_type": "code",
   "execution_count": 35,
   "metadata": {},
   "outputs": [
    {
     "name": "stderr",
     "output_type": "stream",
     "text": [
      "c:\\Users\\carol\\AppData\\Local\\Programs\\Python\\Python313\\Lib\\site-packages\\pandas\\io\\formats\\format.py:1458: RuntimeWarning: overflow encountered in cast\n",
      "  has_large_values = (abs_vals > 1e6).any()\n"
     ]
    },
    {
     "data": {
      "text/html": [
       "<div>\n",
       "<style scoped>\n",
       "    .dataframe tbody tr th:only-of-type {\n",
       "        vertical-align: middle;\n",
       "    }\n",
       "\n",
       "    .dataframe tbody tr th {\n",
       "        vertical-align: top;\n",
       "    }\n",
       "\n",
       "    .dataframe thead th {\n",
       "        text-align: right;\n",
       "    }\n",
       "</style>\n",
       "<table border=\"1\" class=\"dataframe\">\n",
       "  <thead>\n",
       "    <tr style=\"text-align: right;\">\n",
       "      <th></th>\n",
       "      <th>carat</th>\n",
       "      <th>cut</th>\n",
       "      <th>color</th>\n",
       "      <th>clarity</th>\n",
       "      <th>depth</th>\n",
       "      <th>table</th>\n",
       "      <th>price</th>\n",
       "      <th>x</th>\n",
       "      <th>y</th>\n",
       "      <th>z</th>\n",
       "      <th>cut_int</th>\n",
       "      <th>price_IVA</th>\n",
       "    </tr>\n",
       "  </thead>\n",
       "  <tbody>\n",
       "    <tr>\n",
       "      <th>0</th>\n",
       "      <td>0.229980</td>\n",
       "      <td>Ideal</td>\n",
       "      <td>E</td>\n",
       "      <td>SI2</td>\n",
       "      <td>61.5</td>\n",
       "      <td>55.0</td>\n",
       "      <td>326.0</td>\n",
       "      <td>3.95</td>\n",
       "      <td>3.98</td>\n",
       "      <td>2.43</td>\n",
       "      <td>3</td>\n",
       "      <td>394.460022</td>\n",
       "    </tr>\n",
       "    <tr>\n",
       "      <th>1</th>\n",
       "      <td>0.209961</td>\n",
       "      <td>Premium</td>\n",
       "      <td>E</td>\n",
       "      <td>SI1</td>\n",
       "      <td>59.8</td>\n",
       "      <td>61.0</td>\n",
       "      <td>326.0</td>\n",
       "      <td>3.89</td>\n",
       "      <td>3.84</td>\n",
       "      <td>2.31</td>\n",
       "      <td>4</td>\n",
       "      <td>394.460022</td>\n",
       "    </tr>\n",
       "    <tr>\n",
       "      <th>2</th>\n",
       "      <td>0.229980</td>\n",
       "      <td>Good</td>\n",
       "      <td>E</td>\n",
       "      <td>VS1</td>\n",
       "      <td>56.9</td>\n",
       "      <td>65.0</td>\n",
       "      <td>327.0</td>\n",
       "      <td>4.05</td>\n",
       "      <td>4.07</td>\n",
       "      <td>2.31</td>\n",
       "      <td>2</td>\n",
       "      <td>395.670013</td>\n",
       "    </tr>\n",
       "    <tr>\n",
       "      <th>3</th>\n",
       "      <td>0.290039</td>\n",
       "      <td>Premium</td>\n",
       "      <td>I</td>\n",
       "      <td>VS2</td>\n",
       "      <td>62.4</td>\n",
       "      <td>58.0</td>\n",
       "      <td>334.0</td>\n",
       "      <td>4.20</td>\n",
       "      <td>4.23</td>\n",
       "      <td>2.63</td>\n",
       "      <td>4</td>\n",
       "      <td>404.140015</td>\n",
       "    </tr>\n",
       "    <tr>\n",
       "      <th>4</th>\n",
       "      <td>0.310059</td>\n",
       "      <td>Good</td>\n",
       "      <td>J</td>\n",
       "      <td>SI2</td>\n",
       "      <td>63.3</td>\n",
       "      <td>58.0</td>\n",
       "      <td>335.0</td>\n",
       "      <td>4.34</td>\n",
       "      <td>4.35</td>\n",
       "      <td>2.75</td>\n",
       "      <td>2</td>\n",
       "      <td>405.350006</td>\n",
       "    </tr>\n",
       "  </tbody>\n",
       "</table>\n",
       "</div>"
      ],
      "text/plain": [
       "      carat      cut color clarity  depth  table  price     x     y     z  \\\n",
       "0  0.229980    Ideal     E     SI2   61.5   55.0  326.0  3.95  3.98  2.43   \n",
       "1  0.209961  Premium     E     SI1   59.8   61.0  326.0  3.89  3.84  2.31   \n",
       "2  0.229980     Good     E     VS1   56.9   65.0  327.0  4.05  4.07  2.31   \n",
       "3  0.290039  Premium     I     VS2   62.4   58.0  334.0  4.20  4.23  2.63   \n",
       "4  0.310059     Good     J     SI2   63.3   58.0  335.0  4.34  4.35  2.75   \n",
       "\n",
       "  cut_int   price_IVA  \n",
       "0       3  394.460022  \n",
       "1       4  394.460022  \n",
       "2       2  395.670013  \n",
       "3       4  404.140015  \n",
       "4       2  405.350006  "
      ]
     },
     "execution_count": 35,
     "metadata": {},
     "output_type": "execute_result"
    }
   ],
   "source": [
    "df['price_IVA'] = df['price'] * 1.21\n",
    "df.head()"
   ]
  },
  {
   "cell_type": "markdown",
   "metadata": {},
   "source": [
    "2. Usando el Método .apply() .\n",
    "Útil si necesitas aplicar lógica personalizada fila por fila."
   ]
  },
  {
   "cell_type": "code",
   "execution_count": 36,
   "metadata": {},
   "outputs": [
    {
     "name": "stderr",
     "output_type": "stream",
     "text": [
      "c:\\Users\\carol\\AppData\\Local\\Programs\\Python\\Python313\\Lib\\site-packages\\pandas\\io\\formats\\format.py:1458: RuntimeWarning: overflow encountered in cast\n",
      "  has_large_values = (abs_vals > 1e6).any()\n"
     ]
    },
    {
     "data": {
      "text/html": [
       "<div>\n",
       "<style scoped>\n",
       "    .dataframe tbody tr th:only-of-type {\n",
       "        vertical-align: middle;\n",
       "    }\n",
       "\n",
       "    .dataframe tbody tr th {\n",
       "        vertical-align: top;\n",
       "    }\n",
       "\n",
       "    .dataframe thead th {\n",
       "        text-align: right;\n",
       "    }\n",
       "</style>\n",
       "<table border=\"1\" class=\"dataframe\">\n",
       "  <thead>\n",
       "    <tr style=\"text-align: right;\">\n",
       "      <th></th>\n",
       "      <th>carat</th>\n",
       "      <th>cut</th>\n",
       "      <th>color</th>\n",
       "      <th>clarity</th>\n",
       "      <th>depth</th>\n",
       "      <th>table</th>\n",
       "      <th>price</th>\n",
       "      <th>x</th>\n",
       "      <th>y</th>\n",
       "      <th>z</th>\n",
       "      <th>cut_int</th>\n",
       "      <th>price_IVA</th>\n",
       "    </tr>\n",
       "  </thead>\n",
       "  <tbody>\n",
       "    <tr>\n",
       "      <th>0</th>\n",
       "      <td>0.229980</td>\n",
       "      <td>Ideal</td>\n",
       "      <td>E</td>\n",
       "      <td>SI2</td>\n",
       "      <td>61.5</td>\n",
       "      <td>55.0</td>\n",
       "      <td>326.0</td>\n",
       "      <td>3.95</td>\n",
       "      <td>3.98</td>\n",
       "      <td>2.43</td>\n",
       "      <td>3</td>\n",
       "      <td>394.46</td>\n",
       "    </tr>\n",
       "    <tr>\n",
       "      <th>1</th>\n",
       "      <td>0.209961</td>\n",
       "      <td>Premium</td>\n",
       "      <td>E</td>\n",
       "      <td>SI1</td>\n",
       "      <td>59.8</td>\n",
       "      <td>61.0</td>\n",
       "      <td>326.0</td>\n",
       "      <td>3.89</td>\n",
       "      <td>3.84</td>\n",
       "      <td>2.31</td>\n",
       "      <td>4</td>\n",
       "      <td>394.46</td>\n",
       "    </tr>\n",
       "    <tr>\n",
       "      <th>2</th>\n",
       "      <td>0.229980</td>\n",
       "      <td>Good</td>\n",
       "      <td>E</td>\n",
       "      <td>VS1</td>\n",
       "      <td>56.9</td>\n",
       "      <td>65.0</td>\n",
       "      <td>327.0</td>\n",
       "      <td>4.05</td>\n",
       "      <td>4.07</td>\n",
       "      <td>2.31</td>\n",
       "      <td>2</td>\n",
       "      <td>395.67</td>\n",
       "    </tr>\n",
       "    <tr>\n",
       "      <th>3</th>\n",
       "      <td>0.290039</td>\n",
       "      <td>Premium</td>\n",
       "      <td>I</td>\n",
       "      <td>VS2</td>\n",
       "      <td>62.4</td>\n",
       "      <td>58.0</td>\n",
       "      <td>334.0</td>\n",
       "      <td>4.20</td>\n",
       "      <td>4.23</td>\n",
       "      <td>2.63</td>\n",
       "      <td>4</td>\n",
       "      <td>404.14</td>\n",
       "    </tr>\n",
       "    <tr>\n",
       "      <th>4</th>\n",
       "      <td>0.310059</td>\n",
       "      <td>Good</td>\n",
       "      <td>J</td>\n",
       "      <td>SI2</td>\n",
       "      <td>63.3</td>\n",
       "      <td>58.0</td>\n",
       "      <td>335.0</td>\n",
       "      <td>4.34</td>\n",
       "      <td>4.35</td>\n",
       "      <td>2.75</td>\n",
       "      <td>2</td>\n",
       "      <td>405.35</td>\n",
       "    </tr>\n",
       "  </tbody>\n",
       "</table>\n",
       "</div>"
      ],
      "text/plain": [
       "      carat      cut color clarity  depth  table  price     x     y     z  \\\n",
       "0  0.229980    Ideal     E     SI2   61.5   55.0  326.0  3.95  3.98  2.43   \n",
       "1  0.209961  Premium     E     SI1   59.8   61.0  326.0  3.89  3.84  2.31   \n",
       "2  0.229980     Good     E     VS1   56.9   65.0  327.0  4.05  4.07  2.31   \n",
       "3  0.290039  Premium     I     VS2   62.4   58.0  334.0  4.20  4.23  2.63   \n",
       "4  0.310059     Good     J     SI2   63.3   58.0  335.0  4.34  4.35  2.75   \n",
       "\n",
       "  cut_int  price_IVA  \n",
       "0       3     394.46  \n",
       "1       4     394.46  \n",
       "2       2     395.67  \n",
       "3       4     404.14  \n",
       "4       2     405.35  "
      ]
     },
     "execution_count": 36,
     "metadata": {},
     "output_type": "execute_result"
    }
   ],
   "source": [
    "df['price_IVA'] = df['price'].apply(lambda x: x * 1.21)\n",
    "df.head()"
   ]
  },
  {
   "cell_type": "markdown",
   "metadata": {},
   "source": [
    "3. Usando una Expresión de Lista (List Comprehension)\n",
    "Convierte los valores en una lista y luego agrégala como una columna."
   ]
  },
  {
   "cell_type": "code",
   "execution_count": 37,
   "metadata": {},
   "outputs": [
    {
     "name": "stderr",
     "output_type": "stream",
     "text": [
      "c:\\Users\\carol\\AppData\\Local\\Programs\\Python\\Python313\\Lib\\site-packages\\pandas\\io\\formats\\format.py:1458: RuntimeWarning: overflow encountered in cast\n",
      "  has_large_values = (abs_vals > 1e6).any()\n"
     ]
    },
    {
     "data": {
      "text/html": [
       "<div>\n",
       "<style scoped>\n",
       "    .dataframe tbody tr th:only-of-type {\n",
       "        vertical-align: middle;\n",
       "    }\n",
       "\n",
       "    .dataframe tbody tr th {\n",
       "        vertical-align: top;\n",
       "    }\n",
       "\n",
       "    .dataframe thead th {\n",
       "        text-align: right;\n",
       "    }\n",
       "</style>\n",
       "<table border=\"1\" class=\"dataframe\">\n",
       "  <thead>\n",
       "    <tr style=\"text-align: right;\">\n",
       "      <th></th>\n",
       "      <th>carat</th>\n",
       "      <th>cut</th>\n",
       "      <th>color</th>\n",
       "      <th>clarity</th>\n",
       "      <th>depth</th>\n",
       "      <th>table</th>\n",
       "      <th>price</th>\n",
       "      <th>x</th>\n",
       "      <th>y</th>\n",
       "      <th>z</th>\n",
       "      <th>cut_int</th>\n",
       "      <th>price_IVA</th>\n",
       "    </tr>\n",
       "  </thead>\n",
       "  <tbody>\n",
       "    <tr>\n",
       "      <th>0</th>\n",
       "      <td>0.229980</td>\n",
       "      <td>Ideal</td>\n",
       "      <td>E</td>\n",
       "      <td>SI2</td>\n",
       "      <td>61.5</td>\n",
       "      <td>55.0</td>\n",
       "      <td>326.0</td>\n",
       "      <td>3.95</td>\n",
       "      <td>3.98</td>\n",
       "      <td>2.43</td>\n",
       "      <td>3</td>\n",
       "      <td>394.46</td>\n",
       "    </tr>\n",
       "    <tr>\n",
       "      <th>1</th>\n",
       "      <td>0.209961</td>\n",
       "      <td>Premium</td>\n",
       "      <td>E</td>\n",
       "      <td>SI1</td>\n",
       "      <td>59.8</td>\n",
       "      <td>61.0</td>\n",
       "      <td>326.0</td>\n",
       "      <td>3.89</td>\n",
       "      <td>3.84</td>\n",
       "      <td>2.31</td>\n",
       "      <td>4</td>\n",
       "      <td>394.46</td>\n",
       "    </tr>\n",
       "    <tr>\n",
       "      <th>2</th>\n",
       "      <td>0.229980</td>\n",
       "      <td>Good</td>\n",
       "      <td>E</td>\n",
       "      <td>VS1</td>\n",
       "      <td>56.9</td>\n",
       "      <td>65.0</td>\n",
       "      <td>327.0</td>\n",
       "      <td>4.05</td>\n",
       "      <td>4.07</td>\n",
       "      <td>2.31</td>\n",
       "      <td>2</td>\n",
       "      <td>395.67</td>\n",
       "    </tr>\n",
       "    <tr>\n",
       "      <th>3</th>\n",
       "      <td>0.290039</td>\n",
       "      <td>Premium</td>\n",
       "      <td>I</td>\n",
       "      <td>VS2</td>\n",
       "      <td>62.4</td>\n",
       "      <td>58.0</td>\n",
       "      <td>334.0</td>\n",
       "      <td>4.20</td>\n",
       "      <td>4.23</td>\n",
       "      <td>2.63</td>\n",
       "      <td>4</td>\n",
       "      <td>404.14</td>\n",
       "    </tr>\n",
       "    <tr>\n",
       "      <th>4</th>\n",
       "      <td>0.310059</td>\n",
       "      <td>Good</td>\n",
       "      <td>J</td>\n",
       "      <td>SI2</td>\n",
       "      <td>63.3</td>\n",
       "      <td>58.0</td>\n",
       "      <td>335.0</td>\n",
       "      <td>4.34</td>\n",
       "      <td>4.35</td>\n",
       "      <td>2.75</td>\n",
       "      <td>2</td>\n",
       "      <td>405.35</td>\n",
       "    </tr>\n",
       "  </tbody>\n",
       "</table>\n",
       "</div>"
      ],
      "text/plain": [
       "      carat      cut color clarity  depth  table  price     x     y     z  \\\n",
       "0  0.229980    Ideal     E     SI2   61.5   55.0  326.0  3.95  3.98  2.43   \n",
       "1  0.209961  Premium     E     SI1   59.8   61.0  326.0  3.89  3.84  2.31   \n",
       "2  0.229980     Good     E     VS1   56.9   65.0  327.0  4.05  4.07  2.31   \n",
       "3  0.290039  Premium     I     VS2   62.4   58.0  334.0  4.20  4.23  2.63   \n",
       "4  0.310059     Good     J     SI2   63.3   58.0  335.0  4.34  4.35  2.75   \n",
       "\n",
       "  cut_int  price_IVA  \n",
       "0       3     394.46  \n",
       "1       4     394.46  \n",
       "2       2     395.67  \n",
       "3       4     404.14  \n",
       "4       2     405.35  "
      ]
     },
     "execution_count": 37,
     "metadata": {},
     "output_type": "execute_result"
    }
   ],
   "source": [
    "df['price_IVA'] = [price * 1.21 for price in df['price']]\n",
    "df.head()"
   ]
  },
  {
   "cell_type": "markdown",
   "metadata": {},
   "source": [
    "4. Usando Numpy para realizar operaciones vectorizadas rápidas en arrays grandes."
   ]
  },
  {
   "cell_type": "code",
   "execution_count": 38,
   "metadata": {},
   "outputs": [
    {
     "name": "stderr",
     "output_type": "stream",
     "text": [
      "c:\\Users\\carol\\AppData\\Local\\Programs\\Python\\Python313\\Lib\\site-packages\\pandas\\io\\formats\\format.py:1458: RuntimeWarning: overflow encountered in cast\n",
      "  has_large_values = (abs_vals > 1e6).any()\n"
     ]
    },
    {
     "data": {
      "text/html": [
       "<div>\n",
       "<style scoped>\n",
       "    .dataframe tbody tr th:only-of-type {\n",
       "        vertical-align: middle;\n",
       "    }\n",
       "\n",
       "    .dataframe tbody tr th {\n",
       "        vertical-align: top;\n",
       "    }\n",
       "\n",
       "    .dataframe thead th {\n",
       "        text-align: right;\n",
       "    }\n",
       "</style>\n",
       "<table border=\"1\" class=\"dataframe\">\n",
       "  <thead>\n",
       "    <tr style=\"text-align: right;\">\n",
       "      <th></th>\n",
       "      <th>carat</th>\n",
       "      <th>cut</th>\n",
       "      <th>color</th>\n",
       "      <th>clarity</th>\n",
       "      <th>depth</th>\n",
       "      <th>table</th>\n",
       "      <th>price</th>\n",
       "      <th>x</th>\n",
       "      <th>y</th>\n",
       "      <th>z</th>\n",
       "      <th>cut_int</th>\n",
       "      <th>price_IVA</th>\n",
       "    </tr>\n",
       "  </thead>\n",
       "  <tbody>\n",
       "    <tr>\n",
       "      <th>0</th>\n",
       "      <td>0.229980</td>\n",
       "      <td>Ideal</td>\n",
       "      <td>E</td>\n",
       "      <td>SI2</td>\n",
       "      <td>61.5</td>\n",
       "      <td>55.0</td>\n",
       "      <td>326.0</td>\n",
       "      <td>3.95</td>\n",
       "      <td>3.98</td>\n",
       "      <td>2.43</td>\n",
       "      <td>3</td>\n",
       "      <td>394.460022</td>\n",
       "    </tr>\n",
       "    <tr>\n",
       "      <th>1</th>\n",
       "      <td>0.209961</td>\n",
       "      <td>Premium</td>\n",
       "      <td>E</td>\n",
       "      <td>SI1</td>\n",
       "      <td>59.8</td>\n",
       "      <td>61.0</td>\n",
       "      <td>326.0</td>\n",
       "      <td>3.89</td>\n",
       "      <td>3.84</td>\n",
       "      <td>2.31</td>\n",
       "      <td>4</td>\n",
       "      <td>394.460022</td>\n",
       "    </tr>\n",
       "    <tr>\n",
       "      <th>2</th>\n",
       "      <td>0.229980</td>\n",
       "      <td>Good</td>\n",
       "      <td>E</td>\n",
       "      <td>VS1</td>\n",
       "      <td>56.9</td>\n",
       "      <td>65.0</td>\n",
       "      <td>327.0</td>\n",
       "      <td>4.05</td>\n",
       "      <td>4.07</td>\n",
       "      <td>2.31</td>\n",
       "      <td>2</td>\n",
       "      <td>395.670013</td>\n",
       "    </tr>\n",
       "    <tr>\n",
       "      <th>3</th>\n",
       "      <td>0.290039</td>\n",
       "      <td>Premium</td>\n",
       "      <td>I</td>\n",
       "      <td>VS2</td>\n",
       "      <td>62.4</td>\n",
       "      <td>58.0</td>\n",
       "      <td>334.0</td>\n",
       "      <td>4.20</td>\n",
       "      <td>4.23</td>\n",
       "      <td>2.63</td>\n",
       "      <td>4</td>\n",
       "      <td>404.140015</td>\n",
       "    </tr>\n",
       "    <tr>\n",
       "      <th>4</th>\n",
       "      <td>0.310059</td>\n",
       "      <td>Good</td>\n",
       "      <td>J</td>\n",
       "      <td>SI2</td>\n",
       "      <td>63.3</td>\n",
       "      <td>58.0</td>\n",
       "      <td>335.0</td>\n",
       "      <td>4.34</td>\n",
       "      <td>4.35</td>\n",
       "      <td>2.75</td>\n",
       "      <td>2</td>\n",
       "      <td>405.350006</td>\n",
       "    </tr>\n",
       "  </tbody>\n",
       "</table>\n",
       "</div>"
      ],
      "text/plain": [
       "      carat      cut color clarity  depth  table  price     x     y     z  \\\n",
       "0  0.229980    Ideal     E     SI2   61.5   55.0  326.0  3.95  3.98  2.43   \n",
       "1  0.209961  Premium     E     SI1   59.8   61.0  326.0  3.89  3.84  2.31   \n",
       "2  0.229980     Good     E     VS1   56.9   65.0  327.0  4.05  4.07  2.31   \n",
       "3  0.290039  Premium     I     VS2   62.4   58.0  334.0  4.20  4.23  2.63   \n",
       "4  0.310059     Good     J     SI2   63.3   58.0  335.0  4.34  4.35  2.75   \n",
       "\n",
       "  cut_int   price_IVA  \n",
       "0       3  394.460022  \n",
       "1       4  394.460022  \n",
       "2       2  395.670013  \n",
       "3       4  404.140015  \n",
       "4       2  405.350006  "
      ]
     },
     "execution_count": 38,
     "metadata": {},
     "output_type": "execute_result"
    }
   ],
   "source": [
    "df['price_IVA'] = np.multiply(df['price'], 1.21)\n",
    "df.head()"
   ]
  },
  {
   "cell_type": "markdown",
   "metadata": {},
   "source": [
    "6. Usando una Función Anónima con map(). También para lógica personalizada\n"
   ]
  },
  {
   "cell_type": "code",
   "execution_count": 39,
   "metadata": {},
   "outputs": [
    {
     "name": "stderr",
     "output_type": "stream",
     "text": [
      "c:\\Users\\carol\\AppData\\Local\\Programs\\Python\\Python313\\Lib\\site-packages\\pandas\\io\\formats\\format.py:1458: RuntimeWarning: overflow encountered in cast\n",
      "  has_large_values = (abs_vals > 1e6).any()\n"
     ]
    },
    {
     "data": {
      "text/html": [
       "<div>\n",
       "<style scoped>\n",
       "    .dataframe tbody tr th:only-of-type {\n",
       "        vertical-align: middle;\n",
       "    }\n",
       "\n",
       "    .dataframe tbody tr th {\n",
       "        vertical-align: top;\n",
       "    }\n",
       "\n",
       "    .dataframe thead th {\n",
       "        text-align: right;\n",
       "    }\n",
       "</style>\n",
       "<table border=\"1\" class=\"dataframe\">\n",
       "  <thead>\n",
       "    <tr style=\"text-align: right;\">\n",
       "      <th></th>\n",
       "      <th>carat</th>\n",
       "      <th>cut</th>\n",
       "      <th>color</th>\n",
       "      <th>clarity</th>\n",
       "      <th>depth</th>\n",
       "      <th>table</th>\n",
       "      <th>price</th>\n",
       "      <th>x</th>\n",
       "      <th>y</th>\n",
       "      <th>z</th>\n",
       "      <th>cut_int</th>\n",
       "      <th>price_IVA</th>\n",
       "    </tr>\n",
       "  </thead>\n",
       "  <tbody>\n",
       "    <tr>\n",
       "      <th>0</th>\n",
       "      <td>0.229980</td>\n",
       "      <td>Ideal</td>\n",
       "      <td>E</td>\n",
       "      <td>SI2</td>\n",
       "      <td>61.5</td>\n",
       "      <td>55.0</td>\n",
       "      <td>326.0</td>\n",
       "      <td>3.95</td>\n",
       "      <td>3.98</td>\n",
       "      <td>2.43</td>\n",
       "      <td>3</td>\n",
       "      <td>394.46</td>\n",
       "    </tr>\n",
       "    <tr>\n",
       "      <th>1</th>\n",
       "      <td>0.209961</td>\n",
       "      <td>Premium</td>\n",
       "      <td>E</td>\n",
       "      <td>SI1</td>\n",
       "      <td>59.8</td>\n",
       "      <td>61.0</td>\n",
       "      <td>326.0</td>\n",
       "      <td>3.89</td>\n",
       "      <td>3.84</td>\n",
       "      <td>2.31</td>\n",
       "      <td>4</td>\n",
       "      <td>394.46</td>\n",
       "    </tr>\n",
       "    <tr>\n",
       "      <th>2</th>\n",
       "      <td>0.229980</td>\n",
       "      <td>Good</td>\n",
       "      <td>E</td>\n",
       "      <td>VS1</td>\n",
       "      <td>56.9</td>\n",
       "      <td>65.0</td>\n",
       "      <td>327.0</td>\n",
       "      <td>4.05</td>\n",
       "      <td>4.07</td>\n",
       "      <td>2.31</td>\n",
       "      <td>2</td>\n",
       "      <td>395.67</td>\n",
       "    </tr>\n",
       "    <tr>\n",
       "      <th>3</th>\n",
       "      <td>0.290039</td>\n",
       "      <td>Premium</td>\n",
       "      <td>I</td>\n",
       "      <td>VS2</td>\n",
       "      <td>62.4</td>\n",
       "      <td>58.0</td>\n",
       "      <td>334.0</td>\n",
       "      <td>4.20</td>\n",
       "      <td>4.23</td>\n",
       "      <td>2.63</td>\n",
       "      <td>4</td>\n",
       "      <td>404.14</td>\n",
       "    </tr>\n",
       "    <tr>\n",
       "      <th>4</th>\n",
       "      <td>0.310059</td>\n",
       "      <td>Good</td>\n",
       "      <td>J</td>\n",
       "      <td>SI2</td>\n",
       "      <td>63.3</td>\n",
       "      <td>58.0</td>\n",
       "      <td>335.0</td>\n",
       "      <td>4.34</td>\n",
       "      <td>4.35</td>\n",
       "      <td>2.75</td>\n",
       "      <td>2</td>\n",
       "      <td>405.35</td>\n",
       "    </tr>\n",
       "  </tbody>\n",
       "</table>\n",
       "</div>"
      ],
      "text/plain": [
       "      carat      cut color clarity  depth  table  price     x     y     z  \\\n",
       "0  0.229980    Ideal     E     SI2   61.5   55.0  326.0  3.95  3.98  2.43   \n",
       "1  0.209961  Premium     E     SI1   59.8   61.0  326.0  3.89  3.84  2.31   \n",
       "2  0.229980     Good     E     VS1   56.9   65.0  327.0  4.05  4.07  2.31   \n",
       "3  0.290039  Premium     I     VS2   62.4   58.0  334.0  4.20  4.23  2.63   \n",
       "4  0.310059     Good     J     SI2   63.3   58.0  335.0  4.34  4.35  2.75   \n",
       "\n",
       "  cut_int  price_IVA  \n",
       "0       3     394.46  \n",
       "1       4     394.46  \n",
       "2       2     395.67  \n",
       "3       4     404.14  \n",
       "4       2     405.35  "
      ]
     },
     "execution_count": 39,
     "metadata": {},
     "output_type": "execute_result"
    }
   ],
   "source": [
    "df['price_IVA'] = df['price'].map(lambda x: x * 1.21)\n",
    "df.head()"
   ]
  },
  {
   "cell_type": "markdown",
   "metadata": {},
   "source": [
    "7. Usando una Columna Constante\n",
    "Si deseas evitar escribir 1.21 repetidamente, puedes usar una columna constante:"
   ]
  },
  {
   "cell_type": "code",
   "execution_count": 40,
   "metadata": {},
   "outputs": [
    {
     "name": "stderr",
     "output_type": "stream",
     "text": [
      "c:\\Users\\carol\\AppData\\Local\\Programs\\Python\\Python313\\Lib\\site-packages\\pandas\\io\\formats\\format.py:1458: RuntimeWarning: overflow encountered in cast\n",
      "  has_large_values = (abs_vals > 1e6).any()\n"
     ]
    },
    {
     "data": {
      "text/html": [
       "<div>\n",
       "<style scoped>\n",
       "    .dataframe tbody tr th:only-of-type {\n",
       "        vertical-align: middle;\n",
       "    }\n",
       "\n",
       "    .dataframe tbody tr th {\n",
       "        vertical-align: top;\n",
       "    }\n",
       "\n",
       "    .dataframe thead th {\n",
       "        text-align: right;\n",
       "    }\n",
       "</style>\n",
       "<table border=\"1\" class=\"dataframe\">\n",
       "  <thead>\n",
       "    <tr style=\"text-align: right;\">\n",
       "      <th></th>\n",
       "      <th>carat</th>\n",
       "      <th>cut</th>\n",
       "      <th>color</th>\n",
       "      <th>clarity</th>\n",
       "      <th>depth</th>\n",
       "      <th>table</th>\n",
       "      <th>price</th>\n",
       "      <th>x</th>\n",
       "      <th>y</th>\n",
       "      <th>z</th>\n",
       "      <th>cut_int</th>\n",
       "      <th>price_IVA</th>\n",
       "      <th>iva</th>\n",
       "    </tr>\n",
       "  </thead>\n",
       "  <tbody>\n",
       "    <tr>\n",
       "      <th>0</th>\n",
       "      <td>0.229980</td>\n",
       "      <td>Ideal</td>\n",
       "      <td>E</td>\n",
       "      <td>SI2</td>\n",
       "      <td>61.5</td>\n",
       "      <td>55.0</td>\n",
       "      <td>326.0</td>\n",
       "      <td>3.95</td>\n",
       "      <td>3.98</td>\n",
       "      <td>2.43</td>\n",
       "      <td>3</td>\n",
       "      <td>394.46</td>\n",
       "      <td>1.21</td>\n",
       "    </tr>\n",
       "    <tr>\n",
       "      <th>1</th>\n",
       "      <td>0.209961</td>\n",
       "      <td>Premium</td>\n",
       "      <td>E</td>\n",
       "      <td>SI1</td>\n",
       "      <td>59.8</td>\n",
       "      <td>61.0</td>\n",
       "      <td>326.0</td>\n",
       "      <td>3.89</td>\n",
       "      <td>3.84</td>\n",
       "      <td>2.31</td>\n",
       "      <td>4</td>\n",
       "      <td>394.46</td>\n",
       "      <td>1.21</td>\n",
       "    </tr>\n",
       "    <tr>\n",
       "      <th>2</th>\n",
       "      <td>0.229980</td>\n",
       "      <td>Good</td>\n",
       "      <td>E</td>\n",
       "      <td>VS1</td>\n",
       "      <td>56.9</td>\n",
       "      <td>65.0</td>\n",
       "      <td>327.0</td>\n",
       "      <td>4.05</td>\n",
       "      <td>4.07</td>\n",
       "      <td>2.31</td>\n",
       "      <td>2</td>\n",
       "      <td>395.67</td>\n",
       "      <td>1.21</td>\n",
       "    </tr>\n",
       "    <tr>\n",
       "      <th>3</th>\n",
       "      <td>0.290039</td>\n",
       "      <td>Premium</td>\n",
       "      <td>I</td>\n",
       "      <td>VS2</td>\n",
       "      <td>62.4</td>\n",
       "      <td>58.0</td>\n",
       "      <td>334.0</td>\n",
       "      <td>4.20</td>\n",
       "      <td>4.23</td>\n",
       "      <td>2.63</td>\n",
       "      <td>4</td>\n",
       "      <td>404.14</td>\n",
       "      <td>1.21</td>\n",
       "    </tr>\n",
       "    <tr>\n",
       "      <th>4</th>\n",
       "      <td>0.310059</td>\n",
       "      <td>Good</td>\n",
       "      <td>J</td>\n",
       "      <td>SI2</td>\n",
       "      <td>63.3</td>\n",
       "      <td>58.0</td>\n",
       "      <td>335.0</td>\n",
       "      <td>4.34</td>\n",
       "      <td>4.35</td>\n",
       "      <td>2.75</td>\n",
       "      <td>2</td>\n",
       "      <td>405.35</td>\n",
       "      <td>1.21</td>\n",
       "    </tr>\n",
       "  </tbody>\n",
       "</table>\n",
       "</div>"
      ],
      "text/plain": [
       "      carat      cut color clarity  depth  table  price     x     y     z  \\\n",
       "0  0.229980    Ideal     E     SI2   61.5   55.0  326.0  3.95  3.98  2.43   \n",
       "1  0.209961  Premium     E     SI1   59.8   61.0  326.0  3.89  3.84  2.31   \n",
       "2  0.229980     Good     E     VS1   56.9   65.0  327.0  4.05  4.07  2.31   \n",
       "3  0.290039  Premium     I     VS2   62.4   58.0  334.0  4.20  4.23  2.63   \n",
       "4  0.310059     Good     J     SI2   63.3   58.0  335.0  4.34  4.35  2.75   \n",
       "\n",
       "  cut_int  price_IVA   iva  \n",
       "0       3     394.46  1.21  \n",
       "1       4     394.46  1.21  \n",
       "2       2     395.67  1.21  \n",
       "3       4     404.14  1.21  \n",
       "4       2     405.35  1.21  "
      ]
     },
     "execution_count": 40,
     "metadata": {},
     "output_type": "execute_result"
    }
   ],
   "source": [
    "df['iva'] = 1.21  # Agregar una columna con la tasa de IVA\n",
    "df['price_IVA'] = df['price'] * df['iva']\n",
    "df.head()"
   ]
  },
  {
   "cell_type": "markdown",
   "metadata": {},
   "source": [
    "8. Usando .assign() para Crear Columnas en Cadena. \n",
    "Este método es útil si necesitas crear varias columnas de forma encadenada."
   ]
  },
  {
   "cell_type": "code",
   "execution_count": 42,
   "metadata": {},
   "outputs": [
    {
     "name": "stderr",
     "output_type": "stream",
     "text": [
      "c:\\Users\\carol\\AppData\\Local\\Programs\\Python\\Python313\\Lib\\site-packages\\pandas\\io\\formats\\format.py:1458: RuntimeWarning: overflow encountered in cast\n",
      "  has_large_values = (abs_vals > 1e6).any()\n"
     ]
    },
    {
     "data": {
      "text/html": [
       "<div>\n",
       "<style scoped>\n",
       "    .dataframe tbody tr th:only-of-type {\n",
       "        vertical-align: middle;\n",
       "    }\n",
       "\n",
       "    .dataframe tbody tr th {\n",
       "        vertical-align: top;\n",
       "    }\n",
       "\n",
       "    .dataframe thead th {\n",
       "        text-align: right;\n",
       "    }\n",
       "</style>\n",
       "<table border=\"1\" class=\"dataframe\">\n",
       "  <thead>\n",
       "    <tr style=\"text-align: right;\">\n",
       "      <th></th>\n",
       "      <th>carat</th>\n",
       "      <th>cut</th>\n",
       "      <th>color</th>\n",
       "      <th>clarity</th>\n",
       "      <th>depth</th>\n",
       "      <th>table</th>\n",
       "      <th>price</th>\n",
       "      <th>x</th>\n",
       "      <th>y</th>\n",
       "      <th>z</th>\n",
       "      <th>cut_int</th>\n",
       "      <th>price_IVA</th>\n",
       "      <th>iva</th>\n",
       "    </tr>\n",
       "  </thead>\n",
       "  <tbody>\n",
       "    <tr>\n",
       "      <th>0</th>\n",
       "      <td>0.229980</td>\n",
       "      <td>Ideal</td>\n",
       "      <td>E</td>\n",
       "      <td>SI2</td>\n",
       "      <td>61.5</td>\n",
       "      <td>55.0</td>\n",
       "      <td>326.0</td>\n",
       "      <td>3.95</td>\n",
       "      <td>3.98</td>\n",
       "      <td>2.43</td>\n",
       "      <td>3</td>\n",
       "      <td>394.460022</td>\n",
       "      <td>1.21</td>\n",
       "    </tr>\n",
       "    <tr>\n",
       "      <th>1</th>\n",
       "      <td>0.209961</td>\n",
       "      <td>Premium</td>\n",
       "      <td>E</td>\n",
       "      <td>SI1</td>\n",
       "      <td>59.8</td>\n",
       "      <td>61.0</td>\n",
       "      <td>326.0</td>\n",
       "      <td>3.89</td>\n",
       "      <td>3.84</td>\n",
       "      <td>2.31</td>\n",
       "      <td>4</td>\n",
       "      <td>394.460022</td>\n",
       "      <td>1.21</td>\n",
       "    </tr>\n",
       "    <tr>\n",
       "      <th>2</th>\n",
       "      <td>0.229980</td>\n",
       "      <td>Good</td>\n",
       "      <td>E</td>\n",
       "      <td>VS1</td>\n",
       "      <td>56.9</td>\n",
       "      <td>65.0</td>\n",
       "      <td>327.0</td>\n",
       "      <td>4.05</td>\n",
       "      <td>4.07</td>\n",
       "      <td>2.31</td>\n",
       "      <td>2</td>\n",
       "      <td>395.670013</td>\n",
       "      <td>1.21</td>\n",
       "    </tr>\n",
       "    <tr>\n",
       "      <th>3</th>\n",
       "      <td>0.290039</td>\n",
       "      <td>Premium</td>\n",
       "      <td>I</td>\n",
       "      <td>VS2</td>\n",
       "      <td>62.4</td>\n",
       "      <td>58.0</td>\n",
       "      <td>334.0</td>\n",
       "      <td>4.20</td>\n",
       "      <td>4.23</td>\n",
       "      <td>2.63</td>\n",
       "      <td>4</td>\n",
       "      <td>404.140015</td>\n",
       "      <td>1.21</td>\n",
       "    </tr>\n",
       "    <tr>\n",
       "      <th>4</th>\n",
       "      <td>0.310059</td>\n",
       "      <td>Good</td>\n",
       "      <td>J</td>\n",
       "      <td>SI2</td>\n",
       "      <td>63.3</td>\n",
       "      <td>58.0</td>\n",
       "      <td>335.0</td>\n",
       "      <td>4.34</td>\n",
       "      <td>4.35</td>\n",
       "      <td>2.75</td>\n",
       "      <td>2</td>\n",
       "      <td>405.350006</td>\n",
       "      <td>1.21</td>\n",
       "    </tr>\n",
       "  </tbody>\n",
       "</table>\n",
       "</div>"
      ],
      "text/plain": [
       "      carat      cut color clarity  depth  table  price     x     y     z  \\\n",
       "0  0.229980    Ideal     E     SI2   61.5   55.0  326.0  3.95  3.98  2.43   \n",
       "1  0.209961  Premium     E     SI1   59.8   61.0  326.0  3.89  3.84  2.31   \n",
       "2  0.229980     Good     E     VS1   56.9   65.0  327.0  4.05  4.07  2.31   \n",
       "3  0.290039  Premium     I     VS2   62.4   58.0  334.0  4.20  4.23  2.63   \n",
       "4  0.310059     Good     J     SI2   63.3   58.0  335.0  4.34  4.35  2.75   \n",
       "\n",
       "  cut_int   price_IVA   iva  \n",
       "0       3  394.460022  1.21  \n",
       "1       4  394.460022  1.21  \n",
       "2       2  395.670013  1.21  \n",
       "3       4  404.140015  1.21  \n",
       "4       2  405.350006  1.21  "
      ]
     },
     "execution_count": 42,
     "metadata": {},
     "output_type": "execute_result"
    }
   ],
   "source": [
    "df = df.assign(price_IVA=lambda x: x['price'] * 1.21)\n",
    "df.head()"
   ]
  },
  {
   "cell_type": "markdown",
   "metadata": {},
   "source": [
    "### 2.2. Crear una columna price_discount usando apply a partir de la columna price(con lambda o def):\n",
    "        * price < 1000 and cut == 'Ideal' entonces 10 % descuento\n",
    "        * 1000 <= price <= 5000 and cut == 'Premium' entonces 15 % descuento\n",
    "        * si no entra en las condiciones sin descuento, devolver el precio original\n"
   ]
  },
  {
   "cell_type": "code",
   "execution_count": 47,
   "metadata": {},
   "outputs": [],
   "source": [
    "# Agregar Columna de Descuento Aplicado:\n",
    "def calcular_descuento(row):\n",
    "    if row['price'] < 1000 and row['cut'] == 'Ideal':\n",
    "        return 10\n",
    "    elif 1000 <= row['price'] <= 5000 and row['cut'] == 'Premium':\n",
    "        return 15\n",
    "    else:\n",
    "        return 0\n",
    "\n",
    "df['discount_applied'] = df.apply(calcular_descuento, axis=1)\n"
   ]
  },
  {
   "cell_type": "code",
   "execution_count": null,
   "metadata": {},
   "outputs": [
    {
     "name": "stdout",
     "output_type": "stream",
     "text": [
      "DataFrame con la columna price_discount:\n",
      "          carat        cut color clarity  depth  table   price     x     y  \\\n",
      "0      0.229980      Ideal     E     SI2   61.5   55.0   326.0  3.95  3.98   \n",
      "1      0.209961    Premium     E     SI1   59.8   61.0   326.0  3.89  3.84   \n",
      "2      0.229980       Good     E     VS1   56.9   65.0   327.0  4.05  4.07   \n",
      "3      0.290039    Premium     I     VS2   62.4   58.0   334.0  4.20  4.23   \n",
      "4      0.310059       Good     J     SI2   63.3   58.0   335.0  4.34  4.35   \n",
      "...         ...        ...   ...     ...    ...    ...     ...   ...   ...   \n",
      "53935  0.720215      Ideal     D     SI1   60.8   57.0  2757.0  5.75  5.76   \n",
      "53936  0.720215       Good     D     SI1   63.1   55.0  2757.0  5.69  5.75   \n",
      "53937  0.700195  Very Good     D     SI1   62.8   60.0  2757.0  5.66  5.68   \n",
      "53938  0.859863    Premium     H     SI2   61.0   58.0  2757.0  6.15  6.12   \n",
      "53939  0.750000      Ideal     D     SI2   62.2   55.0  2757.0  5.83  5.87   \n",
      "\n",
      "          z cut_int    price_IVA   iva  price_discount  discount_applied  \n",
      "0      2.43       3   394.460022  1.21          293.40                10  \n",
      "1      2.31       4   394.460022  1.21          326.00                 0  \n",
      "2      2.31       2   395.670013  1.21          327.00                 0  \n",
      "3      2.63       4   404.140015  1.21          334.00                 0  \n",
      "4      2.75       2   405.350006  1.21          335.00                 0  \n",
      "...     ...     ...          ...   ...             ...               ...  \n",
      "53935  3.50       3  3335.970215  1.21         2757.00                 0  \n",
      "53936  3.61       2  3335.970215  1.21         2757.00                 0  \n",
      "53937  3.56       5  3335.970215  1.21         2757.00                 0  \n",
      "53938  3.74       4  3335.970215  1.21         2343.45                15  \n",
      "53939  3.64       3  3335.970215  1.21         2757.00                 0  \n",
      "\n",
      "[53940 rows x 15 columns]\n"
     ]
    },
    {
     "name": "stderr",
     "output_type": "stream",
     "text": [
      "c:\\Users\\carol\\AppData\\Local\\Programs\\Python\\Python313\\Lib\\site-packages\\pandas\\io\\formats\\format.py:1458: RuntimeWarning: overflow encountered in cast\n",
      "  has_large_values = (abs_vals > 1e6).any()\n"
     ]
    }
   ],
   "source": [
    "# Definir la función para calcular el precio con descuento directamente con porcentajes\n",
    "def calcular_descuento(row):\n",
    "    if row['price'] < 1000 and row['cut'] == 'Ideal':\n",
    "        descuento = 10  # Porcentaje de descuento\n",
    "        return row['price'] * (1 - descuento / 100)\n",
    "    elif 1000 <= row['price'] <= 5000 and row['cut'] == 'Premium':\n",
    "        descuento = 15  # Porcentaje de descuento\n",
    "        return row['price'] * (1 - descuento / 100)\n",
    "    else:\n",
    "        return row['price']  # Sin descuento\n",
    "\n",
    "# Aplicar la función usando apply\n",
    "df['price_discount'] = df.apply(calcular_descuento, axis=1)\n",
    "\n",
    "print(\"DataFrame con la columna price_discount:\")\n",
    "print(df)\n"
   ]
  },
  {
   "cell_type": "code",
   "execution_count": null,
   "metadata": {},
   "outputs": [
    {
     "name": "stdout",
     "output_type": "stream",
     "text": [
      "DataFrame con la columna price_discount:\n",
      "          carat        cut color clarity  depth  table   price     x     y  \\\n",
      "0      0.229980      Ideal     E     SI2   61.5   55.0   326.0  3.95  3.98   \n",
      "1      0.209961    Premium     E     SI1   59.8   61.0   326.0  3.89  3.84   \n",
      "2      0.229980       Good     E     VS1   56.9   65.0   327.0  4.05  4.07   \n",
      "3      0.290039    Premium     I     VS2   62.4   58.0   334.0  4.20  4.23   \n",
      "4      0.310059       Good     J     SI2   63.3   58.0   335.0  4.34  4.35   \n",
      "...         ...        ...   ...     ...    ...    ...     ...   ...   ...   \n",
      "53935  0.720215      Ideal     D     SI1   60.8   57.0  2757.0  5.75  5.76   \n",
      "53936  0.720215       Good     D     SI1   63.1   55.0  2757.0  5.69  5.75   \n",
      "53937  0.700195  Very Good     D     SI1   62.8   60.0  2757.0  5.66  5.68   \n",
      "53938  0.859863    Premium     H     SI2   61.0   58.0  2757.0  6.15  6.12   \n",
      "53939  0.750000      Ideal     D     SI2   62.2   55.0  2757.0  5.83  5.87   \n",
      "\n",
      "          z cut_int    price_IVA   iva  price_discount  discount_applied  \n",
      "0      2.43       3   394.460022  1.21          293.40                10  \n",
      "1      2.31       4   394.460022  1.21          326.00                 0  \n",
      "2      2.31       2   395.670013  1.21          327.00                 0  \n",
      "3      2.63       4   404.140015  1.21          334.00                 0  \n",
      "4      2.75       2   405.350006  1.21          335.00                 0  \n",
      "...     ...     ...          ...   ...             ...               ...  \n",
      "53935  3.50       3  3335.970215  1.21         2757.00                 0  \n",
      "53936  3.61       2  3335.970215  1.21         2757.00                 0  \n",
      "53937  3.56       5  3335.970215  1.21         2757.00                 0  \n",
      "53938  3.74       4  3335.970215  1.21         2343.45                15  \n",
      "53939  3.64       3  3335.970215  1.21         2757.00                 0  \n",
      "\n",
      "[53940 rows x 15 columns]\n"
     ]
    },
    {
     "name": "stderr",
     "output_type": "stream",
     "text": [
      "c:\\Users\\carol\\AppData\\Local\\Programs\\Python\\Python313\\Lib\\site-packages\\pandas\\io\\formats\\format.py:1458: RuntimeWarning: overflow encountered in cast\n",
      "  has_large_values = (abs_vals > 1e6).any()\n"
     ]
    }
   ],
   "source": [
    "# Calcular descuentos en función del precio y el corte:\n",
    "def calcular_descuento(row):\n",
    "    if row['price'] < 1000 and row['cut'] == 'Ideal':\n",
    "        return row['price'] * 0.9  # 10 % descuento\n",
    "    elif 1000 <= row['price'] <= 5000 and row['cut'] == 'Premium':\n",
    "        return row['price'] * 0.85  # 15 % descuento\n",
    "    else:\n",
    "        return row['price']  # Sin descuento\n",
    "\n",
    "# Aplicar la función usando apply\n",
    "df['price_discount'] = df.apply(calcular_descuento, axis=1)\n",
    "\n",
    "print(\"DataFrame con la columna price_discount:\")\n",
    "print(df)"
   ]
  },
  {
   "cell_type": "code",
   "execution_count": null,
   "metadata": {},
   "outputs": [
    {
     "name": "stdout",
     "output_type": "stream",
     "text": [
      "DataFrame con la columna price_discount:\n",
      "          carat        cut color clarity  depth  table   price     x     y  \\\n",
      "0      0.229980      Ideal     E     SI2   61.5   55.0   326.0  3.95  3.98   \n",
      "1      0.209961    Premium     E     SI1   59.8   61.0   326.0  3.89  3.84   \n",
      "2      0.229980       Good     E     VS1   56.9   65.0   327.0  4.05  4.07   \n",
      "3      0.290039    Premium     I     VS2   62.4   58.0   334.0  4.20  4.23   \n",
      "4      0.310059       Good     J     SI2   63.3   58.0   335.0  4.34  4.35   \n",
      "...         ...        ...   ...     ...    ...    ...     ...   ...   ...   \n",
      "53935  0.720215      Ideal     D     SI1   60.8   57.0  2757.0  5.75  5.76   \n",
      "53936  0.720215       Good     D     SI1   63.1   55.0  2757.0  5.69  5.75   \n",
      "53937  0.700195  Very Good     D     SI1   62.8   60.0  2757.0  5.66  5.68   \n",
      "53938  0.859863    Premium     H     SI2   61.0   58.0  2757.0  6.15  6.12   \n",
      "53939  0.750000      Ideal     D     SI2   62.2   55.0  2757.0  5.83  5.87   \n",
      "\n",
      "          z cut_int    price_IVA   iva  price_discount  discount_applied  \n",
      "0      2.43       3   394.460022  1.21          293.40                10  \n",
      "1      2.31       4   394.460022  1.21          326.00                 0  \n",
      "2      2.31       2   395.670013  1.21          327.00                 0  \n",
      "3      2.63       4   404.140015  1.21          334.00                 0  \n",
      "4      2.75       2   405.350006  1.21          335.00                 0  \n",
      "...     ...     ...          ...   ...             ...               ...  \n",
      "53935  3.50       3  3335.970215  1.21         2757.00                 0  \n",
      "53936  3.61       2  3335.970215  1.21         2757.00                 0  \n",
      "53937  3.56       5  3335.970215  1.21         2757.00                 0  \n",
      "53938  3.74       4  3335.970215  1.21         2343.45                15  \n",
      "53939  3.64       3  3335.970215  1.21         2757.00                 0  \n",
      "\n",
      "[53940 rows x 15 columns]\n"
     ]
    },
    {
     "name": "stderr",
     "output_type": "stream",
     "text": [
      "c:\\Users\\carol\\AppData\\Local\\Programs\\Python\\Python313\\Lib\\site-packages\\pandas\\io\\formats\\format.py:1458: RuntimeWarning: overflow encountered in cast\n",
      "  has_large_values = (abs_vals > 1e6).any()\n"
     ]
    }
   ],
   "source": [
    "# Usar lambda con apply para calcular el precio con descuento\n",
    "df['price_discount'] = df.apply(\n",
    "    lambda row: row['price'] * 0.9 if row['price'] < 1000 and row['cut'] == 'Ideal' else\n",
    "                row['price'] * 0.85 if 1000 <= row['price'] <= 5000 and row['cut'] == 'Premium' else\n",
    "                row['price'], axis=1\n",
    ")\n",
    "\n",
    "print(\"DataFrame con la columna price_discount:\")\n",
    "print(df)\n"
   ]
  },
  {
   "cell_type": "code",
   "execution_count": null,
   "metadata": {},
   "outputs": [],
   "source": []
  },
  {
   "cell_type": "code",
   "execution_count": null,
   "metadata": {},
   "outputs": [],
   "source": []
  },
  {
   "cell_type": "markdown",
   "metadata": {},
   "source": [
    "### 2.3. Crear una nueva columna volumen combinando: x * y * z\n"
   ]
  },
  {
   "cell_type": "code",
   "execution_count": 51,
   "metadata": {},
   "outputs": [
    {
     "name": "stdout",
     "output_type": "stream",
     "text": [
      "DataFrame con la columna volumen:\n",
      "          carat        cut color clarity  depth  table   price     x     y  \\\n",
      "0      0.229980      Ideal     E     SI2   61.5   55.0   326.0  3.95  3.98   \n",
      "1      0.209961    Premium     E     SI1   59.8   61.0   326.0  3.89  3.84   \n",
      "2      0.229980       Good     E     VS1   56.9   65.0   327.0  4.05  4.07   \n",
      "3      0.290039    Premium     I     VS2   62.4   58.0   334.0  4.20  4.23   \n",
      "4      0.310059       Good     J     SI2   63.3   58.0   335.0  4.34  4.35   \n",
      "...         ...        ...   ...     ...    ...    ...     ...   ...   ...   \n",
      "53935  0.720215      Ideal     D     SI1   60.8   57.0  2757.0  5.75  5.76   \n",
      "53936  0.720215       Good     D     SI1   63.1   55.0  2757.0  5.69  5.75   \n",
      "53937  0.700195  Very Good     D     SI1   62.8   60.0  2757.0  5.66  5.68   \n",
      "53938  0.859863    Premium     H     SI2   61.0   58.0  2757.0  6.15  6.12   \n",
      "53939  0.750000      Ideal     D     SI2   62.2   55.0  2757.0  5.83  5.87   \n",
      "\n",
      "          z cut_int    price_IVA   iva  price_discount  discount_applied  \\\n",
      "0      2.43       3   394.460022  1.21          293.40                10   \n",
      "1      2.31       4   394.460022  1.21          326.00                 0   \n",
      "2      2.31       2   395.670013  1.21          327.00                 0   \n",
      "3      2.63       4   404.140015  1.21          334.00                 0   \n",
      "4      2.75       2   405.350006  1.21          335.00                 0   \n",
      "...     ...     ...          ...   ...             ...               ...   \n",
      "53935  3.50       3  3335.970215  1.21         2757.00                 0   \n",
      "53936  3.61       2  3335.970215  1.21         2757.00                 0   \n",
      "53937  3.56       5  3335.970215  1.21         2757.00                 0   \n",
      "53938  3.74       4  3335.970215  1.21         2343.45                15   \n",
      "53939  3.64       3  3335.970215  1.21         2757.00                 0   \n",
      "\n",
      "          volumen  \n",
      "0       38.202030  \n",
      "1       34.505856  \n",
      "2       38.076885  \n",
      "3       46.724580  \n",
      "4       51.917250  \n",
      "...           ...  \n",
      "53935  115.920000  \n",
      "53936  118.110175  \n",
      "53937  114.449728  \n",
      "53938  140.766120  \n",
      "53939  124.568444  \n",
      "\n",
      "[53940 rows x 16 columns]\n"
     ]
    },
    {
     "name": "stderr",
     "output_type": "stream",
     "text": [
      "c:\\Users\\carol\\AppData\\Local\\Programs\\Python\\Python313\\Lib\\site-packages\\pandas\\io\\formats\\format.py:1458: RuntimeWarning: overflow encountered in cast\n",
      "  has_large_values = (abs_vals > 1e6).any()\n"
     ]
    }
   ],
   "source": [
    "# Crear la nueva columna volumen\n",
    "df['volumen'] = df['x'] * df['y'] * df['z']\n",
    "\n",
    "print(\"DataFrame con la columna volumen:\")\n",
    "print(df)"
   ]
  },
  {
   "cell_type": "code",
   "execution_count": null,
   "metadata": {},
   "outputs": [],
   "source": []
  },
  {
   "cell_type": "code",
   "execution_count": null,
   "metadata": {},
   "outputs": [],
   "source": []
  },
  {
   "cell_type": "code",
   "execution_count": null,
   "metadata": {},
   "outputs": [],
   "source": []
  },
  {
   "cell_type": "markdown",
   "metadata": {},
   "source": [
    "### 2.4. Ordenar por dos columnas con sort_values():\n"
   ]
  },
  {
   "cell_type": "code",
   "execution_count": 67,
   "metadata": {},
   "outputs": [
    {
     "name": "stdout",
     "output_type": "stream",
     "text": [
      "<class 'pandas.core.frame.DataFrame'>\n",
      "RangeIndex: 53940 entries, 0 to 53939\n",
      "Data columns (total 17 columns):\n",
      " #   Column            Non-Null Count  Dtype   \n",
      "---  ------            --------------  -----   \n",
      " 0   carat             53940 non-null  float16 \n",
      " 1   cut               53940 non-null  category\n",
      " 2   color             53940 non-null  category\n",
      " 3   clarity           53940 non-null  category\n",
      " 4   depth             53940 non-null  float64 \n",
      " 5   table             53940 non-null  float64 \n",
      " 6   price             53940 non-null  float32 \n",
      " 7   x                 53940 non-null  float64 \n",
      " 8   y                 53940 non-null  float64 \n",
      " 9   z                 53940 non-null  float64 \n",
      " 10  cut_int           53940 non-null  category\n",
      " 11  price_IVA         53940 non-null  float32 \n",
      " 12  iva               53940 non-null  float64 \n",
      " 13  price_discount    53940 non-null  float64 \n",
      " 14  discount_applied  53940 non-null  int64   \n",
      " 15  volumen           53940 non-null  float64 \n",
      " 16  price_per_carat   53940 non-null  float32 \n",
      "dtypes: category(4), float16(1), float32(3), float64(8), int64(1)\n",
      "memory usage: 4.6 MB\n"
     ]
    }
   ],
   "source": [
    "df.head()\n",
    "df.info()"
   ]
  },
  {
   "cell_type": "code",
   "execution_count": 75,
   "metadata": {},
   "outputs": [
    {
     "name": "stdout",
     "output_type": "stream",
     "text": [
      "<class 'pandas.core.frame.DataFrame'>\n",
      "RangeIndex: 53940 entries, 0 to 53939\n",
      "Data columns (total 17 columns):\n",
      " #   Column            Non-Null Count  Dtype   \n",
      "---  ------            --------------  -----   \n",
      " 0   carat             53940 non-null  float32 \n",
      " 1   cut               53940 non-null  category\n",
      " 2   color             53940 non-null  category\n",
      " 3   clarity           53940 non-null  category\n",
      " 4   depth             53940 non-null  float64 \n",
      " 5   table             53940 non-null  float64 \n",
      " 6   price             53940 non-null  float32 \n",
      " 7   x                 53940 non-null  float64 \n",
      " 8   y                 53940 non-null  float64 \n",
      " 9   z                 53940 non-null  float64 \n",
      " 10  cut_int           53940 non-null  category\n",
      " 11  price_IVA         53940 non-null  float32 \n",
      " 12  iva               53940 non-null  float64 \n",
      " 13  price_discount    53940 non-null  float64 \n",
      " 14  discount_applied  53940 non-null  int64   \n",
      " 15  volumen           53940 non-null  float64 \n",
      " 16  price_per_carat   53940 non-null  float32 \n",
      "dtypes: category(4), float32(4), float64(8), int64(1)\n",
      "memory usage: 4.7 MB\n"
     ]
    }
   ],
   "source": [
    "df[\"carat\"] = df[\"carat\"].astype(\"float32\") # Cambiar a float32 para poder hacer sort\n",
    "df.info()"
   ]
  },
  {
   "cell_type": "code",
   "execution_count": 76,
   "metadata": {},
   "outputs": [
    {
     "name": "stdout",
     "output_type": "stream",
     "text": [
      "carat                float32\n",
      "cut                 category\n",
      "color               category\n",
      "clarity             category\n",
      "depth                float64\n",
      "table                float64\n",
      "price                float32\n",
      "x                    float64\n",
      "y                    float64\n",
      "z                    float64\n",
      "cut_int             category\n",
      "price_IVA            float32\n",
      "iva                  float64\n",
      "price_discount       float64\n",
      "discount_applied       int64\n",
      "volumen              float64\n",
      "price_per_carat      float32\n",
      "dtype: object\n"
     ]
    }
   ],
   "source": [
    "print(df.dtypes)\n"
   ]
  },
  {
   "cell_type": "code",
   "execution_count": 78,
   "metadata": {},
   "outputs": [
    {
     "name": "stdout",
     "output_type": "stream",
     "text": [
      "          carat        cut color clarity  depth  table    price     x     y  \\\n",
      "0      0.229980      Ideal     E     SI2   61.5   55.0    326.0  3.95  3.98   \n",
      "1      0.209961    Premium     E     SI1   59.8   61.0    326.0  3.89  3.84   \n",
      "2      0.229980       Good     E     VS1   56.9   65.0    327.0  4.05  4.07   \n",
      "3      0.290039    Premium     I     VS2   62.4   58.0    334.0  4.20  4.23   \n",
      "4      0.310059       Good     J     SI2   63.3   58.0    335.0  4.34  4.35   \n",
      "...         ...        ...   ...     ...    ...    ...      ...   ...   ...   \n",
      "27745  2.000000  Very Good     H     SI1   62.8   57.0  18803.0  7.95  8.00   \n",
      "27746  2.070312      Ideal     G     SI2   62.5   55.0  18804.0  8.20  8.13   \n",
      "27747  1.509766      Ideal     G      IF   61.7   55.0  18806.0  7.37  7.41   \n",
      "27748  2.000000  Very Good     G     SI1   63.5   56.0  18818.0  7.90  7.97   \n",
      "27749  2.289062    Premium     I     VS2   60.8   60.0  18823.0  8.50  8.47   \n",
      "\n",
      "          z cut_int     price_IVA   iva  price_discount  discount_applied  \\\n",
      "0      2.43       3    394.460022  1.21           293.4                10   \n",
      "1      2.31       4    394.460022  1.21           326.0                 0   \n",
      "2      2.31       2    395.670013  1.21           327.0                 0   \n",
      "3      2.63       4    404.140015  1.21           334.0                 0   \n",
      "4      2.75       2    405.350006  1.21           335.0                 0   \n",
      "...     ...     ...           ...   ...             ...               ...   \n",
      "27745  5.01       5  22751.630859  1.21         18803.0                 0   \n",
      "27746  5.11       3  22752.839844  1.21         18804.0                 0   \n",
      "27747  4.56       3  22755.259766  1.21         18806.0                 0   \n",
      "27748  5.04       5  22769.781250  1.21         18818.0                 0   \n",
      "27749  5.16       4  22775.830078  1.21         18823.0                 0   \n",
      "\n",
      "          volumen  price_per_carat  \n",
      "0       38.202030      1417.511719  \n",
      "1       34.505856      1552.669800  \n",
      "2       38.076885      1421.859863  \n",
      "3       46.724580      1151.568970  \n",
      "4       51.917250      1080.440918  \n",
      "...           ...              ...  \n",
      "27745  318.636000      9401.500000  \n",
      "27746  340.663260      9082.686523  \n",
      "27747  249.029352     12456.238281  \n",
      "27748  317.333520      9409.000000  \n",
      "27749  371.494200      8223.016602  \n",
      "\n",
      "[53940 rows x 17 columns]\n"
     ]
    }
   ],
   "source": [
    "# pruebo con precio y peso\n",
    "# df['price_per_carat'] = df['price'] / df['carat']\n",
    "# df.sort_values(by='price_per_carat', ascending=False)\n",
    "# print(df.sort_values(by='price'))\n",
    "# print(df.sort_values(by='carat'))\n",
    "# print(df.sort_values(by=['price', 'carat'], ascending=[False, True]))\n",
    "# print(df.sort_values(by=['price', 'carat'], ascending=[True, True]))\n",
    "# print(df.sort_values(by=['price', 'carat'], ascending=[False, False]))\n",
    "print(df.sort_values(by=['price', 'carat'], ascending=[True, False]))\n",
    "\n"
   ]
  },
  {
   "cell_type": "code",
   "execution_count": null,
   "metadata": {},
   "outputs": [],
   "source": []
  },
  {
   "cell_type": "code",
   "execution_count": null,
   "metadata": {},
   "outputs": [],
   "source": []
  },
  {
   "cell_type": "markdown",
   "metadata": {},
   "source": [
    "#### 2.4.1. tipo de corte (cut) y precio (price)\n"
   ]
  },
  {
   "cell_type": "code",
   "execution_count": 35,
   "metadata": {},
   "outputs": [
    {
     "name": "stdout",
     "output_type": "stream",
     "text": [
      "          carat        cut color clarity  depth  table    price     x     y  \\\n",
      "1      0.209961    Premium     E     SI1   59.8   61.0    326.0  3.89  3.84   \n",
      "0      0.229980      Ideal     E     SI2   61.5   55.0    326.0  3.95  3.98   \n",
      "2      0.229980       Good     E     VS1   56.9   65.0    327.0  4.05  4.07   \n",
      "3      0.290039    Premium     I     VS2   62.4   58.0    334.0  4.20  4.23   \n",
      "4      0.310059       Good     J     SI2   63.3   58.0    335.0  4.34  4.35   \n",
      "...         ...        ...   ...     ...    ...    ...      ...   ...   ...   \n",
      "27745  2.000000  Very Good     H     SI1   62.8   57.0  18803.0  7.95  8.00   \n",
      "27746  2.070312      Ideal     G     SI2   62.5   55.0  18804.0  8.20  8.13   \n",
      "27747  1.509766      Ideal     G      IF   61.7   55.0  18806.0  7.37  7.41   \n",
      "27748  2.000000  Very Good     G     SI1   63.5   56.0  18818.0  7.90  7.97   \n",
      "27749  2.289062    Premium     I     VS2   60.8   60.0  18823.0  8.50  8.47   \n",
      "\n",
      "          z cut_int  \n",
      "1      2.31       4  \n",
      "0      2.43       3  \n",
      "2      2.31       2  \n",
      "3      2.63       4  \n",
      "4      2.75       2  \n",
      "...     ...     ...  \n",
      "27745  5.01       5  \n",
      "27746  5.11       3  \n",
      "27747  4.56       3  \n",
      "27748  5.04       5  \n",
      "27749  5.16       4  \n",
      "\n",
      "[53940 rows x 11 columns]\n"
     ]
    },
    {
     "name": "stderr",
     "output_type": "stream",
     "text": [
      "c:\\Users\\carol\\AppData\\Local\\Programs\\Python\\Python313\\Lib\\site-packages\\pandas\\io\\formats\\format.py:1458: RuntimeWarning: overflow encountered in cast\n",
      "  has_large_values = (abs_vals > 1e6).any()\n"
     ]
    }
   ],
   "source": [
    "print(df.sort_values(by=['price', 'cut_int'], ascending=[True, False]))\n"
   ]
  },
  {
   "cell_type": "code",
   "execution_count": null,
   "metadata": {},
   "outputs": [],
   "source": []
  },
  {
   "cell_type": "code",
   "execution_count": null,
   "metadata": {},
   "outputs": [],
   "source": []
  },
  {
   "cell_type": "markdown",
   "metadata": {},
   "source": [
    "### 2.5. Agrupaciones con groupby y visualizarla\n"
   ]
  },
  {
   "cell_type": "markdown",
   "metadata": {},
   "source": [
    "\n",
    "La agrupación con groupby permite realizar cálculos agregados basados en una o más columnas categóricas y aplicar funciones como suma, promedio, máximo, etc. Una vez agrupados los datos, podemos visualizarlos usando Matplotlib o Seaborn."
   ]
  },
  {
   "cell_type": "markdown",
   "metadata": {},
   "source": [
    ".groupby() se usa para agrupar filas que tienen los mismos valores.\n",
    "Obligatoriamente se usa junto con funciones agregadas para producir informes resumidos."
   ]
  },
  {
   "cell_type": "markdown",
   "metadata": {},
   "source": [
    "Solo usar .groupby() retorna el objeto de la operación, pero no muestra nada"
   ]
  },
  {
   "cell_type": "markdown",
   "metadata": {},
   "source": [
    "Para ejecutar alguna operación o aggregate function podemos hacer simplemente:\n",
    "\n",
    "df.groupby(by = \"Continente\").max()\n",
    "\n",
    "En este ejemplo usamos la función \"max\"\n",
    "El DataFrame muestra por cada continente el \"max\" por cada columna"
   ]
  },
  {
   "cell_type": "markdown",
   "metadata": {},
   "source": [
    "También podemos usar el método .aggregate()\n",
    "\n",
    "df.groupby(by = \"Continente\").aggregate([\"max\"])\n",
    "\n",
    "En este ejemplo usamos la función \"max\"\n",
    "El DataFrame muestra por cada continente el \"max\" por cada columna, también añade otro nivel de columnas\n",
    "Es la principal diferencia entre este método y el anterior"
   ]
  },
  {
   "cell_type": "markdown",
   "metadata": {},
   "source": [
    "El método .aggregate() permite hacer más de una función a la vez\n",
    "\n",
    "df.groupby(by = \"Continente\").aggregate([\"min\", \"max\"])"
   ]
  },
  {
   "cell_type": "markdown",
   "metadata": {},
   "source": [
    "Otra opción puede ser usar el método .agg()\n",
    "La diferencia es que este método toma como parámetro un diccionario\n",
    "Donde la llave es la columna del DataFrame y el valor una lista de aggregate functions\n",
    "\n",
    "df.groupby(by = \"Continente\").agg({2000 : [\"min\", \"max\", \"sum\"],\n",
    "                                   2001 : [\"min\", \"max\"],\n",
    "                                   2002 : [\"count\"]})\n",
    "\n",
    "La ventaja es que solo aplica las aggregate functions a las columnas indicadas, no a todo el DataFrame"
   ]
  },
  {
   "cell_type": "markdown",
   "metadata": {},
   "source": [
    "También podemos hacer .groupby() a varias columnas a la vez\n",
    "\n",
    "df.groupby(by = [\"Continente\", \"Tipo de region\"]).agg({2000 : [\"min\", \"max\", \"sum\"]})"
   ]
  },
  {
   "cell_type": "markdown",
   "metadata": {},
   "source": [
    "También podemos hacer .groupby() a varias columnas a la vez\n",
    "\n",
    "df.groupby(by = [\"Tipo de region\", \"Continente\"]).agg({2000 : [\"min\", \"max\", \"sum\"]})\n",
    "\n",
    "En este ejemplo cambiamos el orden de las columnas del .groupby(), el resultado está en otro orden"
   ]
  },
  {
   "cell_type": "markdown",
   "metadata": {},
   "source": [
    "Podemos agregar el parámetro \"as_index = False\" para que las columnas del .groupby() no se conviertan en el índice\n",
    "\n",
    "df1 = df.groupby(by = [\"Tipo de region\", \"Continente\"], as_index = False).agg({2000 : [\"min\", \"max\", \"sum\"]})\n",
    "De esta manera podemos seguir usando los elementos de las columnas"
   ]
  },
  {
   "cell_type": "markdown",
   "metadata": {},
   "source": [
    "Debido al doble nivel de columnas, obtenemos este resultado al ver las columnas\n",
    "\n",
    "df1.columns\n",
    "\n",
    "Es una lista de tuplas, donde cada tupla es el nombre de la columna y el aggregate function aplicada a cada una"
   ]
  },
  {
   "cell_type": "markdown",
   "metadata": {},
   "source": [
    "Para eliminar los niveles de las columnas podemos usar el siguiente código\n",
    "\n",
    "Guardamos el .groupby() en una variable\n",
    "df1 = df.groupby(by = [\"Tipo de region\", \"Continente\"], as_index = False).agg({2000 : [\"min\", \"max\", \"sum\"]})\n",
    "\n",
    "df1.columns = [f\"{x[0]}_{x[1]}\" if x[1] != \"\" else f\"{x[0]}\" for x in df1.columns.values]"
   ]
  },
  {
   "cell_type": "markdown",
   "metadata": {},
   "source": [
    "#### 2.5.1. Agrupar por las 3 que hay de tipo categórico calculando la media, max, min por ejemplo de alguna de las numéricas: price, carat, depth\n"
   ]
  },
  {
   "cell_type": "code",
   "execution_count": 36,
   "metadata": {},
   "outputs": [
    {
     "name": "stdout",
     "output_type": "stream",
     "text": [
      "<class 'pandas.core.frame.DataFrame'>\n",
      "RangeIndex: 53940 entries, 0 to 53939\n",
      "Data columns (total 11 columns):\n",
      " #   Column   Non-Null Count  Dtype   \n",
      "---  ------   --------------  -----   \n",
      " 0   carat    53940 non-null  float16 \n",
      " 1   cut      53940 non-null  category\n",
      " 2   color    53940 non-null  category\n",
      " 3   clarity  53940 non-null  category\n",
      " 4   depth    53940 non-null  float64 \n",
      " 5   table    53940 non-null  float64 \n",
      " 6   price    53940 non-null  float32 \n",
      " 7   x        53940 non-null  float64 \n",
      " 8   y        53940 non-null  float64 \n",
      " 9   z        53940 non-null  float64 \n",
      " 10  cut_int  53940 non-null  category\n",
      "dtypes: category(4), float16(1), float32(1), float64(5)\n",
      "memory usage: 2.6 MB\n"
     ]
    }
   ],
   "source": [
    "df.info()\n",
    "# recordamos que las 3 columnas de tipo categórico son cut, color y clarity"
   ]
  },
  {
   "cell_type": "code",
   "execution_count": 36,
   "metadata": {},
   "outputs": [
    {
     "name": "stdout",
     "output_type": "stream",
     "text": [
      "DataFrame Agrupado:\n",
      "           cut color clarity   price_mean  price_max  price_min  carat_mean  \\\n",
      "0         Fair     D      I1  7383.000000    15964.0     2491.0    1.877686   \n",
      "1         Fair     D      IF  1619.666626     2211.0     1208.0    0.380046   \n",
      "2         Fair     D     SI1  4273.344727    16386.0      644.0    0.913734   \n",
      "3         Fair     D     SI2  4355.143066    16086.0      536.0    1.016894   \n",
      "4         Fair     D     VS1  2921.199951     7083.0      563.0    0.629980   \n",
      "..         ...   ...     ...          ...        ...        ...         ...   \n",
      "275  Very Good     J     SI2  5992.898438    17164.0      430.0    1.360840   \n",
      "276  Very Good     J     VS1  4339.591797    17920.0      394.0    0.964899   \n",
      "277  Very Good     J     VS2  5325.548828    18430.0      357.0    1.140517   \n",
      "278  Very Good     J    VVS1  3175.526367    10808.0      544.0    0.765240   \n",
      "279  Very Good     J    VVS2  5960.448242    16043.0      336.0    1.102009   \n",
      "\n",
      "     carat_max  carat_min  depth_mean  depth_max  depth_min  \n",
      "0     3.400391   0.910156   65.600000       66.8       64.7  \n",
      "1     0.469971   0.300049   60.766667       61.2       60.5  \n",
      "2     2.019531   0.399902   64.634483       70.6       52.2  \n",
      "3     2.070312   0.300049   64.703571       71.6       55.5  \n",
      "4     1.000000   0.250000   63.160000       67.3       55.9  \n",
      "..         ...        ...         ...        ...        ...  \n",
      "275   2.740234   0.310059   61.835938       63.6       58.0  \n",
      "276   2.390625   0.300049   62.024167       64.1       59.0  \n",
      "277   2.439453   0.300049   61.868478       63.9       58.0  \n",
      "278   1.700195   0.320068   61.684211       63.9       57.8  \n",
      "279   2.029297   0.239990   62.410345       63.7       60.0  \n",
      "\n",
      "[280 rows x 12 columns]\n"
     ]
    },
    {
     "name": "stderr",
     "output_type": "stream",
     "text": [
      "C:\\Users\\carol\\AppData\\Local\\Temp\\ipykernel_2664\\799444966.py:3: FutureWarning: The default of observed=False is deprecated and will be changed to True in a future version of pandas. Pass observed=False to retain current behavior or observed=True to adopt the future default and silence this warning.\n",
      "  grouped = df.groupby(['cut', 'color', 'clarity']).agg({\n",
      "c:\\Users\\carol\\AppData\\Local\\Programs\\Python\\Python313\\Lib\\site-packages\\pandas\\io\\formats\\format.py:1458: RuntimeWarning: overflow encountered in cast\n",
      "  has_large_values = (abs_vals > 1e6).any()\n"
     ]
    }
   ],
   "source": [
    "# Agrupar por las columnas categóricas y calcular estadísticas para las numéricas\n",
    "# Usamos las columnas categóricas cut, color y clarity como claves para agrupar:\n",
    "grouped = df.groupby(['cut', 'color', 'clarity']).agg({\n",
    "    # Aplicamos las funciones agregadas (mean, max, min) a las columnas numéricas price, carat y depth:\n",
    "    'price': ['mean', 'max', 'min'],\n",
    "    'carat': ['mean', 'max', 'min'],\n",
    "    'depth': ['mean', 'max', 'min']\n",
    "}).reset_index()\n",
    "\n",
    "# Renombrar columnas para mayor claridad\n",
    "grouped.columns = [\n",
    "    'cut', 'color', 'clarity', \n",
    "    'price_mean', 'price_max', 'price_min', \n",
    "    'carat_mean', 'carat_max', 'carat_min',\n",
    "    'depth_mean', 'depth_max', 'depth_min'\n",
    "]\n",
    "\n",
    "print(\"DataFrame Agrupado:\")\n",
    "print(grouped)"
   ]
  },
  {
   "cell_type": "code",
   "execution_count": 40,
   "metadata": {},
   "outputs": [
    {
     "name": "stderr",
     "output_type": "stream",
     "text": [
      "C:\\Users\\carol\\AppData\\Local\\Temp\\ipykernel_26656\\1648561787.py:5: FutureWarning: The default of observed=False is deprecated and will be changed to True in a future version of pandas. Pass observed=False to retain current behavior or observed=True to adopt the future default and silence this warning.\n",
      "  grouped = df.groupby(['cut', 'color', 'clarity']).agg({'price': ['mean', rango]})\n"
     ]
    }
   ],
   "source": [
    "'''# Aplicar Funciones Personalizadas: Puedes definir una función personalizada para usarla en la agrupación:\n",
    "def rango(x):\n",
    "    return x.max() - x.min()\n",
    "\n",
    "grouped = df.groupby(['cut', 'color', 'clarity']).agg({'price': ['mean', rango]})'''"
   ]
  },
  {
   "cell_type": "code",
   "execution_count": null,
   "metadata": {},
   "outputs": [
    {
     "data": {
      "image/png": "[encoded data removed]",
      "text/plain": [
       "<Figure size 1000x600 with 1 Axes>"
      ]
     },
     "metadata": {},
     "output_type": "display_data"
    }
   ],
   "source": [
    "plt.figure(figsize=(10, 6))\n",
    "sns.barplot(data=grouped, x='cut', y='price_mean', hue='color', palette='viridis')\n",
    "plt.title(\"Precio Promedio por Tipo de Corte y Color\")\n",
    "plt.xlabel(\"Tipo de Corte\")\n",
    "plt.ylabel(\"Precio Promedio (USD)\")\n",
    "plt.legend(title='Color')\n",
    "plt.grid(axis='y', linestyle='--', alpha=0.7)\n",
    "plt.show()\n"
   ]
  },
  {
   "cell_type": "code",
   "execution_count": null,
   "metadata": {},
   "outputs": [],
   "source": []
  },
  {
   "cell_type": "markdown",
   "metadata": {},
   "source": [
    "## PARTE 3: 20 % distribuciones: \n"
   ]
  },
  {
   "cell_type": "markdown",
   "metadata": {},
   "source": []
  },
  {
   "cell_type": "code",
   "execution_count": null,
   "metadata": {},
   "outputs": [],
   "source": []
  },
  {
   "cell_type": "code",
   "execution_count": null,
   "metadata": {},
   "outputs": [],
   "source": []
  },
  {
   "cell_type": "markdown",
   "metadata": {},
   "source": [
    "### 3.1. Outliers: Visualización Q1 y Q3 y calcular límites tukey y filtrar. Sobre la columna precio.\n"
   ]
  },
  {
   "cell_type": "markdown",
   "metadata": {},
   "source": [
    "Cálculo de Q1, Q3 e IQR:\n",
    "\n",
    "Q1 (25%): El valor debajo del cual se encuentra el 25% de los datos.\n",
    "Q3 (75%): El valor debajo del cual se encuentra el 75% de los datos.\n",
    "IQR: La diferencia entre Q3 y Q1, mide la dispersión central de los datos.\n",
    "Límites de Tukey:\n",
    "\n",
    "Límite inferior: \n",
    "𝑄\n",
    "1\n",
    "−\n",
    "1.5\n",
    "×\n",
    "𝐼\n",
    "𝑄\n",
    "𝑅\n",
    "Q1−1.5×IQR\n",
    "Límite superior: \n",
    "𝑄\n",
    "3\n",
    "+\n",
    "1.5\n",
    "×\n",
    "𝐼\n",
    "𝑄\n",
    "𝑅\n",
    "Q3+1.5×IQR\n",
    "Filtrar Outliers:\n",
    "\n",
    "Separamos los valores que están fuera de los límites y los etiquetamos como outliers."
   ]
  },
  {
   "cell_type": "code",
   "execution_count": 38,
   "metadata": {},
   "outputs": [
    {
     "name": "stderr",
     "output_type": "stream",
     "text": [
      "c:\\Users\\carol\\AppData\\Local\\Programs\\Python\\Python313\\Lib\\site-packages\\pandas\\io\\formats\\format.py:1458: RuntimeWarning: overflow encountered in cast\n",
      "  has_large_values = (abs_vals > 1e6).any()\n"
     ]
    },
    {
     "data": {
      "text/html": [
       "<div>\n",
       "<style scoped>\n",
       "    .dataframe tbody tr th:only-of-type {\n",
       "        vertical-align: middle;\n",
       "    }\n",
       "\n",
       "    .dataframe tbody tr th {\n",
       "        vertical-align: top;\n",
       "    }\n",
       "\n",
       "    .dataframe thead th {\n",
       "        text-align: right;\n",
       "    }\n",
       "</style>\n",
       "<table border=\"1\" class=\"dataframe\">\n",
       "  <thead>\n",
       "    <tr style=\"text-align: right;\">\n",
       "      <th></th>\n",
       "      <th>carat</th>\n",
       "      <th>cut</th>\n",
       "      <th>color</th>\n",
       "      <th>clarity</th>\n",
       "      <th>depth</th>\n",
       "      <th>table</th>\n",
       "      <th>price</th>\n",
       "      <th>x</th>\n",
       "      <th>y</th>\n",
       "      <th>z</th>\n",
       "      <th>cut_int</th>\n",
       "    </tr>\n",
       "  </thead>\n",
       "  <tbody>\n",
       "    <tr>\n",
       "      <th>0</th>\n",
       "      <td>0.229980</td>\n",
       "      <td>Ideal</td>\n",
       "      <td>E</td>\n",
       "      <td>SI2</td>\n",
       "      <td>61.5</td>\n",
       "      <td>55.0</td>\n",
       "      <td>326.0</td>\n",
       "      <td>3.95</td>\n",
       "      <td>3.98</td>\n",
       "      <td>2.43</td>\n",
       "      <td>3</td>\n",
       "    </tr>\n",
       "    <tr>\n",
       "      <th>1</th>\n",
       "      <td>0.209961</td>\n",
       "      <td>Premium</td>\n",
       "      <td>E</td>\n",
       "      <td>SI1</td>\n",
       "      <td>59.8</td>\n",
       "      <td>61.0</td>\n",
       "      <td>326.0</td>\n",
       "      <td>3.89</td>\n",
       "      <td>3.84</td>\n",
       "      <td>2.31</td>\n",
       "      <td>4</td>\n",
       "    </tr>\n",
       "    <tr>\n",
       "      <th>2</th>\n",
       "      <td>0.229980</td>\n",
       "      <td>Good</td>\n",
       "      <td>E</td>\n",
       "      <td>VS1</td>\n",
       "      <td>56.9</td>\n",
       "      <td>65.0</td>\n",
       "      <td>327.0</td>\n",
       "      <td>4.05</td>\n",
       "      <td>4.07</td>\n",
       "      <td>2.31</td>\n",
       "      <td>2</td>\n",
       "    </tr>\n",
       "    <tr>\n",
       "      <th>3</th>\n",
       "      <td>0.290039</td>\n",
       "      <td>Premium</td>\n",
       "      <td>I</td>\n",
       "      <td>VS2</td>\n",
       "      <td>62.4</td>\n",
       "      <td>58.0</td>\n",
       "      <td>334.0</td>\n",
       "      <td>4.20</td>\n",
       "      <td>4.23</td>\n",
       "      <td>2.63</td>\n",
       "      <td>4</td>\n",
       "    </tr>\n",
       "    <tr>\n",
       "      <th>4</th>\n",
       "      <td>0.310059</td>\n",
       "      <td>Good</td>\n",
       "      <td>J</td>\n",
       "      <td>SI2</td>\n",
       "      <td>63.3</td>\n",
       "      <td>58.0</td>\n",
       "      <td>335.0</td>\n",
       "      <td>4.34</td>\n",
       "      <td>4.35</td>\n",
       "      <td>2.75</td>\n",
       "      <td>2</td>\n",
       "    </tr>\n",
       "  </tbody>\n",
       "</table>\n",
       "</div>"
      ],
      "text/plain": [
       "      carat      cut color clarity  depth  table  price     x     y     z  \\\n",
       "0  0.229980    Ideal     E     SI2   61.5   55.0  326.0  3.95  3.98  2.43   \n",
       "1  0.209961  Premium     E     SI1   59.8   61.0  326.0  3.89  3.84  2.31   \n",
       "2  0.229980     Good     E     VS1   56.9   65.0  327.0  4.05  4.07  2.31   \n",
       "3  0.290039  Premium     I     VS2   62.4   58.0  334.0  4.20  4.23  2.63   \n",
       "4  0.310059     Good     J     SI2   63.3   58.0  335.0  4.34  4.35  2.75   \n",
       "\n",
       "  cut_int  \n",
       "0       3  \n",
       "1       4  \n",
       "2       2  \n",
       "3       4  \n",
       "4       2  "
      ]
     },
     "execution_count": 38,
     "metadata": {},
     "output_type": "execute_result"
    }
   ],
   "source": [
    "df.head()"
   ]
  },
  {
   "cell_type": "code",
   "execution_count": 36,
   "metadata": {},
   "outputs": [
    {
     "name": "stdout",
     "output_type": "stream",
     "text": [
      "Cuartiles e IQR:\n",
      "Q1: 950.0, Q2 (mediana): 2401.0, Q3: 5324.0\n",
      "IQR: 4374.0\n",
      "------------------------------------------------\n"
     ]
    }
   ],
   "source": [
    "# Cuartiles e IQR\n",
    "def cuartiles_iqr(dataframe, columna):\n",
    "    # Cálculo de Q1, Q3 e IQR\n",
    "    Q1 = np.percentile(dataframe[columna], 25)  # Primer cuartil\n",
    "    Q2 = np.percentile(dataframe[columna], 50)  # Segundo cuartil == mediana\n",
    "    Q3 = np.percentile(dataframe[columna], 75)  # Tercer cuartil\n",
    "    IQR = Q3 - Q1 # Rango intercuartílico\n",
    "    print(\"Cuartiles e IQR:\")\n",
    "    print(f\"Q1: {Q1}, Q2 (mediana): {Q2}, Q3: {Q3}\")\n",
    "    print(f\"IQR: {IQR}\")\n",
    "    return Q1, Q3, IQR\n",
    "\n",
    "Q1, Q3, IQR = cuartiles_iqr(df, 'price')\n",
    "print(\"------------------------------------------------\")\n"
   ]
  },
  {
   "cell_type": "code",
   "execution_count": 37,
   "metadata": {},
   "outputs": [
    {
     "name": "stdout",
     "output_type": "stream",
     "text": [
      "Filtrar columna price por porcentaje:\n",
      "Percentil 20: 837.00\n",
      "Percentil 80: 6301.00\n",
      "Cantidad en el 20% más barato: 10796\n",
      "Cantidad en el 20% más caro: 10790\n",
      "------------------------------------------------\n"
     ]
    }
   ],
   "source": [
    "# Filtrar por porcentaje\n",
    "def filtrar_por_porcentaje(dataframe, columna):\n",
    "    sorted_values = np.sort(dataframe[columna])   # Ordenar los valores de la columna\n",
    "    # Calcular los percentiles\n",
    "    bottom_20_percent = np.percentile(sorted_values, 20)\n",
    "    top_20_percent = np.percentile(sorted_values, 80)\n",
    "    \n",
    "    # Filtrar precios según los percentiles\n",
    "    bottom_prices = dataframe[dataframe[columna]<= bottom_20_percent]\n",
    "    top_prices = dataframe[dataframe[columna] >= top_20_percent]\n",
    "\n",
    "    # Imprimir resultados\n",
    "    print(f\"Filtrar columna {columna} por porcentaje:\")\n",
    "    print(f\"Percentil 20: {bottom_20_percent:.2f}\")\n",
    "    print(f\"Percentil 80: {top_20_percent:.2f}\")\n",
    "    print(f\"Cantidad en el 20% más barato: {len(bottom_prices)}\")\n",
    "    print(f\"Cantidad en el 20% más caro: {len(top_prices)}\")\n",
    "   \n",
    "    return top_prices, bottom_prices, top_20_percent, bottom_20_percent\n",
    "\n",
    "# Llamar a la función con el DataFrame y la columna 'price'\n",
    "top_prices, bottom_prices, top_20_percent, bottom_20_percent = filtrar_por_porcentaje(df, 'price')\n",
    "print(\"------------------------------------------------\")\n"
   ]
  },
  {
   "cell_type": "code",
   "execution_count": 38,
   "metadata": {},
   "outputs": [
    {
     "data": {
      "image/png": "[encoded data removed]",
      "text/plain": [
       "<Figure size 1000x600 with 1 Axes>"
      ]
     },
     "metadata": {},
     "output_type": "display_data"
    }
   ],
   "source": [
    "# histograma para visualizar los datos y marcar los percentiles:\n",
    "plt.figure(figsize=(10, 6))\n",
    "plt.hist(df['price'], bins=20, color='blue', alpha=0.7, label='Precios')\n",
    "plt.axvline(bottom_20_percent, color='red', linestyle='--', label=f'P20: {bottom_20_percent}')\n",
    "plt.axvline(top_20_percent, color='green', linestyle='--', label=f'P80: {top_20_percent}')\n",
    "plt.title(\"Distribución de Precios y Percentiles\")\n",
    "plt.xlabel(\"Precio\")\n",
    "plt.ylabel(\"Frecuencia\")\n",
    "plt.legend()\n",
    "plt.show()"
   ]
  },
  {
   "cell_type": "code",
   "execution_count": 80,
   "metadata": {},
   "outputs": [
    {
     "data": {
      "text/plain": [
       "\"Crear una nueva columna para identificar si cada fila está en el 20% más barato o más caro:\\ndf['percentile_category'] = df['price'].apply(\\n    lambda x: 'Bottom 20%' if x <= bottom_20_percent else 'Top 20%' if x >= top_20_percent else 'Middle'\\n)\""
      ]
     },
     "execution_count": 80,
     "metadata": {},
     "output_type": "execute_result"
    }
   ],
   "source": [
    "'''Crear una nueva columna para identificar si cada fila está en el 20% más barato o más caro:\n",
    "df['percentile_category'] = df['price'].apply(\n",
    "    lambda x: 'Bottom 20%' if x <= bottom_20_percent else 'Top 20%' if x >= top_20_percent else 'Middle'\n",
    ")'''"
   ]
  },
  {
   "cell_type": "code",
   "execution_count": 81,
   "metadata": {},
   "outputs": [
    {
     "data": {
      "text/plain": [
       "\"#Si necesitas calcular los cuartiles para grupos dentro del DataFrame:\\ngrouped = df.groupby('otra_columna')['price'].apply(lambda x: np.percentile(x, [25, 50, 75]))\\nprint(grouped)\""
      ]
     },
     "execution_count": 81,
     "metadata": {},
     "output_type": "execute_result"
    }
   ],
   "source": [
    "'''#Si necesitas calcular los cuartiles para grupos dentro del DataFrame:\n",
    "grouped = df.groupby('otra_columna')['price'].apply(lambda x: np.percentile(x, [25, 50, 75]))\n",
    "print(grouped)'''"
   ]
  },
  {
   "cell_type": "code",
   "execution_count": 39,
   "metadata": {},
   "outputs": [
    {
     "name": "stdout",
     "output_type": "stream",
     "text": [
      "Varianza: 15911842.00, Desviación estándar: 3988.97\n",
      "------------------------------------------------\n"
     ]
    }
   ],
   "source": [
    "# Varianza y desviación estándar\n",
    "def varianza_desviacion(columna):\n",
    "    variance = np.var(columna)\n",
    "    std_dev = np.std(columna)\n",
    "    print(f\"Varianza: {variance:.2f}, Desviación estándar: {std_dev:.2f}\")\n",
    "    return variance, std_dev\n",
    "\n",
    "# Llamar a la función con la columna 'price'\n",
    "variance, std_dev = varianza_desviacion(df['price'])\n",
    "print(\"------------------------------------------------\")"
   ]
  },
  {
   "cell_type": "code",
   "execution_count": 40,
   "metadata": {},
   "outputs": [
    {
     "data": {
      "image/png": "[encoded data removed]",
      "text/plain": [
       "<Figure size 800x500 with 1 Axes>"
      ]
     },
     "metadata": {},
     "output_type": "display_data"
    }
   ],
   "source": [
    "# histograma o boxplot para visualizar la dispersión de los datos:\n",
    "plt.figure(figsize=(8, 5))\n",
    "plt.hist(df['price'], bins=10, color='skyblue', alpha=0.7)\n",
    "plt.axvline(df['price'].mean(), color='red', linestyle='--', label='Media')\n",
    "plt.axvline(df['price'].mean() + std_dev, color='green', linestyle='--', label='+1 Desv. Est.')\n",
    "plt.axvline(df['price'].mean() - std_dev, color='green', linestyle='--', label='-1 Desv. Est.')\n",
    "plt.title('Distribución de Precios')\n",
    "plt.xlabel('Precio')\n",
    "plt.ylabel('Frecuencia')\n",
    "plt.legend()\n",
    "plt.grid(axis='y', linestyle='--', alpha=0.7)\n",
    "plt.show()"
   ]
  },
  {
   "cell_type": "code",
   "execution_count": 41,
   "metadata": {},
   "outputs": [
    {
     "name": "stdout",
     "output_type": "stream",
     "text": [
      "Outliers detectados con Tukey: 3539\n",
      "Límite Inferior: -5611.0, Límite Superior: 11885.0\n",
      "\n",
      "Outliers detectados:\n",
      "          carat        cut color clarity  depth  table    price     x     y  \\\n",
      "23820  1.169922      Ideal     F    VVS1   62.1   57.0  11886.0  6.82  6.73   \n",
      "23821  2.080078      Ideal     I     SI2   62.0   56.0  11886.0  8.21  8.10   \n",
      "23822  1.700195    Premium     I     VS2   62.2   58.0  11888.0  7.65  7.60   \n",
      "23823  1.089844      Ideal     F      IF   61.6   55.0  11888.0  6.59  6.65   \n",
      "23824  1.679688      Ideal     E     SI2   60.4   55.0  11888.0  7.79  7.70   \n",
      "...         ...        ...   ...     ...    ...    ...      ...   ...   ...   \n",
      "27745  2.000000  Very Good     H     SI1   62.8   57.0  18803.0  7.95  8.00   \n",
      "27746  2.070312      Ideal     G     SI2   62.5   55.0  18804.0  8.20  8.13   \n",
      "27747  1.509766      Ideal     G      IF   61.7   55.0  18806.0  7.37  7.41   \n",
      "27748  2.000000  Very Good     G     SI1   63.5   56.0  18818.0  7.90  7.97   \n",
      "27749  2.289062    Premium     I     VS2   60.8   60.0  18823.0  8.50  8.47   \n",
      "\n",
      "          z cut_int  \n",
      "23820  4.21       3  \n",
      "23821  5.06       3  \n",
      "23822  4.74       4  \n",
      "23823  4.08       3  \n",
      "23824  4.68       3  \n",
      "...     ...     ...  \n",
      "27745  5.01       5  \n",
      "27746  5.11       3  \n",
      "27747  4.56       3  \n",
      "27748  5.04       5  \n",
      "27749  5.16       4  \n",
      "\n",
      "[3539 rows x 11 columns]\n",
      "------------------------------------------------\n"
     ]
    },
    {
     "name": "stderr",
     "output_type": "stream",
     "text": [
      "c:\\Users\\carol\\AppData\\Local\\Programs\\Python\\Python313\\Lib\\site-packages\\pandas\\io\\formats\\format.py:1458: RuntimeWarning: overflow encountered in cast\n",
      "  has_large_values = (abs_vals > 1e6).any()\n"
     ]
    }
   ],
   "source": [
    "# Detectar outliers con Tukey\n",
    "def filtro_outliers_tukey(dataframe, columna, q1, q3, iqr):\n",
    "    # Cálculo de límites de Tukey\n",
    "    upper_limit = q3 + 1.5 * iqr\n",
    "    lower_limit = q1 - 1.5 * iqr\n",
    "    # Filtrar los outliers\n",
    "    outliers = dataframe[(dataframe[columna] < lower_limit) | (dataframe[columna] > upper_limit)]\n",
    "    filtered_df = dataframe[(dataframe[columna] >= lower_limit) & (dataframe[columna] <= upper_limit)]\n",
    "    print(f\"Outliers detectados con Tukey: {len(outliers)}\")\n",
    "    print(f\"Límite Inferior: {lower_limit}, Límite Superior: {upper_limit}\")\n",
    "    print(\"\\nOutliers detectados:\")\n",
    "    print(outliers)\n",
    "    # Agregar Columnas para Identificar Outliers:\n",
    "    dataframe['is_outlier'] = (dataframe[columna] < lower_limit) | (dataframe[columna] > upper_limit)\n",
    "    \n",
    "    return upper_limit, lower_limit, outliers, filtered_df\n",
    "\n",
    "# Llamar a la función con el DataFrame y la columna 'price'\n",
    "upper_limit, lower_limit, outliers, filtered_df = filtro_outliers_tukey(df, 'price', Q1, Q3, IQR)\n",
    "print(\"------------------------------------------------\")"
   ]
  },
  {
   "cell_type": "code",
   "execution_count": 48,
   "metadata": {},
   "outputs": [
    {
     "data": {
      "text/plain": [
       "\"# Aplicar Tukey a Múltiples Columnas: Si deseas aplicar este análisis a varias columnas numéricas:\\nfor col in df.select_dtypes(include=np.number).columns:\\n    filtro_outliers_tukey(df, col)\\n\\n#Filtrar el DataFrame: Si deseas eliminar los outliers y trabajar solo con los datos filtrados:\\nfiltered_df.to_csv('filtered_data.csv', index=False)\""
      ]
     },
     "execution_count": 48,
     "metadata": {},
     "output_type": "execute_result"
    }
   ],
   "source": [
    "'''# Aplicar Tukey a Múltiples Columnas: Si deseas aplicar este análisis a varias columnas numéricas:\n",
    "for col in df.select_dtypes(include=np.number).columns:\n",
    "    filtro_outliers_tukey(df, col)\n",
    "\n",
    "#Filtrar el DataFrame: Si deseas eliminar los outliers y trabajar solo con los datos filtrados:\n",
    "filtered_df.to_csv('filtered_data.csv', index=False)'''"
   ]
  },
  {
   "cell_type": "code",
   "execution_count": 42,
   "metadata": {},
   "outputs": [
    {
     "data": {
      "image/png": "[encoded data removed]",
      "text/plain": [
       "<Figure size 1000x600 with 1 Axes>"
      ]
     },
     "metadata": {},
     "output_type": "display_data"
    }
   ],
   "source": [
    "# boxplot para visualizar los datos y marcar los límites:\n",
    "plt.figure(figsize=(10, 6))\n",
    "sns.boxplot(data=df, y='price', color='skyblue')\n",
    "plt.axhline(lower_limit, color='red', linestyle='--', label=f'Límite Inferior: {lower_limit:.2f}')\n",
    "plt.axhline(upper_limit, color='green', linestyle='--', label=f'Límite Superior: {upper_limit:.2f}')\n",
    "plt.title(\"Detección de Outliers con Tukey\")\n",
    "plt.legend()\n",
    "plt.grid(axis='y', linestyle='--', alpha=0.7)\n",
    "plt.show()"
   ]
  },
  {
   "cell_type": "code",
   "execution_count": 43,
   "metadata": {},
   "outputs": [
    {
     "data": {
      "image/png": "[encoded data removed]",
      "text/plain": [
       "<Figure size 640x480 with 1 Axes>"
      ]
     },
     "metadata": {},
     "output_type": "display_data"
    }
   ],
   "source": [
    "# boxplot con los límites de Tukey:\n",
    "sns.boxplot(data=df, y='price', color='skyblue')\n",
    "plt.axhline(Q1, color='orange', linestyle='--', label=f'Q1: {Q1}')\n",
    "plt.axhline(Q3, color='green', linestyle='--', label=f'Q3: {Q3}')\n",
    "plt.axhline(lower_limit, color='red', linestyle='--', label=f'Límite Inferior: {lower_limit}')\n",
    "plt.axhline(upper_limit, color='blue', linestyle='--', label=f'Límite Superior: {upper_limit}')\n",
    "plt.legend()\n",
    "plt.show()"
   ]
  },
  {
   "cell_type": "code",
   "execution_count": 44,
   "metadata": {},
   "outputs": [
    {
     "name": "stdout",
     "output_type": "stream",
     "text": [
      "Graficar Outliers\n"
     ]
    },
    {
     "data": {
      "image/png": "[encoded data removed]",
      "text/plain": [
       "<Figure size 1000x600 with 1 Axes>"
      ]
     },
     "metadata": {},
     "output_type": "display_data"
    },
    {
     "name": "stdout",
     "output_type": "stream",
     "text": [
      "------------------------------------------------\n"
     ]
    }
   ],
   "source": [
    "\n",
    "# Graficar outliers\n",
    "def graficar_outliers(dataframe, columna, upper_limit, lower_limit, outliers):\n",
    "    print(\"Graficar Outliers\")\n",
    "    plt.figure(figsize=(10, 6))\n",
    "    # Histograma con KDE\n",
    "    sns.histplot(dataframe[columna], bins=30, color=\"blue\", alpha=0.7, kde=True)\n",
    "    # Límites\n",
    "    # Se agregan líneas verticales para marcar los límites superior e inferior:\n",
    "    plt.axvline(upper_limit, color='red', linestyle='dashed', linewidth=1, label=\"Límite Superior\")\n",
    "    plt.axvline(lower_limit, color='blue', linestyle='dashed', linewidth=1, label=\"Límite Inferior\")\n",
    "    # Configuración del gráfico\n",
    "    plt.legend()\n",
    "    plt.title(f\"Distribución de {columna} y Outliers\")\n",
    "    plt.xlabel(columna.capitalize())\n",
    "    plt.ylabel(\"Frecuencia\")\n",
    "    plt.grid(axis='y', linestyle='--', alpha=0.7)\n",
    "    # Resaltar los outliers en el gráfico:\n",
    "    plt.scatter(outliers[columna],[0]*len(outliers), color='orange', label='Outliers', zorder=5)\n",
    "    # plt.grid()\n",
    "    plt.show()\n",
    "    \n",
    "graficar_outliers(df, 'price', upper_limit, lower_limit, outliers)\n",
    "print(\"------------------------------------------------\")"
   ]
  },
  {
   "cell_type": "code",
   "execution_count": 55,
   "metadata": {},
   "outputs": [
    {
     "name": "stdout",
     "output_type": "stream",
     "text": [
      "Estandarización de la columna 'price':\n",
      "Media: 3932.46, Desviación estándar: 3988.97\n",
      "------------------------------------------------\n",
      "DataFrame con columna estandarizada:\n",
      "          carat        cut color clarity  depth  table   price     x     y  \\\n",
      "0      0.229980      Ideal     E     SI2   61.5   55.0   326.0  3.95  3.98   \n",
      "1      0.209961    Premium     E     SI1   59.8   61.0   326.0  3.89  3.84   \n",
      "2      0.229980       Good     E     VS1   56.9   65.0   327.0  4.05  4.07   \n",
      "3      0.290039    Premium     I     VS2   62.4   58.0   334.0  4.20  4.23   \n",
      "4      0.310059       Good     J     SI2   63.3   58.0   335.0  4.34  4.35   \n",
      "...         ...        ...   ...     ...    ...    ...     ...   ...   ...   \n",
      "53935  0.720215      Ideal     D     SI1   60.8   57.0  2757.0  5.75  5.76   \n",
      "53936  0.720215       Good     D     SI1   63.1   55.0  2757.0  5.69  5.75   \n",
      "53937  0.700195  Very Good     D     SI1   62.8   60.0  2757.0  5.66  5.68   \n",
      "53938  0.859863    Premium     H     SI2   61.0   58.0  2757.0  6.15  6.12   \n",
      "53939  0.750000      Ideal     D     SI2   62.2   55.0  2757.0  5.83  5.87   \n",
      "\n",
      "          z cut_int  is_outlier  price_std  \n",
      "0      2.43       3       False  -0.904109  \n",
      "1      2.31       4       False  -0.904109  \n",
      "2      2.31       2       False  -0.903858  \n",
      "3      2.63       4       False  -0.902104  \n",
      "4      2.75       2       False  -0.901853  \n",
      "...     ...     ...         ...        ...  \n",
      "53935  3.50       3       False  -0.294678  \n",
      "53936  3.61       2       False  -0.294678  \n",
      "53937  3.56       5       False  -0.294678  \n",
      "53938  3.74       4       False  -0.294678  \n",
      "53939  3.64       3       False  -0.294678  \n",
      "\n",
      "[53940 rows x 13 columns]\n"
     ]
    },
    {
     "name": "stderr",
     "output_type": "stream",
     "text": [
      "c:\\Users\\carol\\AppData\\Local\\Programs\\Python\\Python313\\Lib\\site-packages\\pandas\\io\\formats\\format.py:1458: RuntimeWarning: overflow encountered in cast\n",
      "  has_large_values = (abs_vals > 1e6).any()\n"
     ]
    }
   ],
   "source": [
    "# Estandarizar una columna\n",
    "def estandarizar(dataframe, columna):\n",
    "    print(f\"Estandarización de la columna '{columna}':\")\n",
    "    # Cálculo de la media y desviación estándar\n",
    "    mean_columna = np.mean(dataframe[columna])\n",
    "    std_dev_columna = np.std(dataframe[columna])\n",
    "    print(f\"Media: {mean_columna:.2f}, Desviación estándar: {std_dev_columna:.2f}\")\n",
    "    # Estandarización\n",
    "    columna_std = (dataframe[columna] - mean_columna) / std_dev_columna\n",
    "    return columna_std\n",
    "\n",
    "df['price_std'] = estandarizar(df, 'price')\n",
    "print(\"------------------------------------------------\")\n",
    "# Mostrar el DataFrame resultante\n",
    "print(\"DataFrame con columna estandarizada:\")\n",
    "print(df)\n"
   ]
  },
  {
   "cell_type": "code",
   "execution_count": 75,
   "metadata": {},
   "outputs": [
    {
     "name": "stdout",
     "output_type": "stream",
     "text": [
      "-8.825996e-08 1.0000093\n",
      "Media de 'price_std': -8.825995934103048e-08\n",
      "Desviación estándar de 'price_std': 1.000009298324585\n",
      "        price  price_std\n",
      "0       326.0  -0.904109\n",
      "1       326.0  -0.904109\n",
      "2       327.0  -0.903858\n",
      "3       334.0  -0.902104\n",
      "4       335.0  -0.901853\n",
      "...       ...        ...\n",
      "53935  2757.0  -0.294678\n",
      "53936  2757.0  -0.294678\n",
      "53937  2757.0  -0.294678\n",
      "53938  2757.0  -0.294678\n",
      "53939  2757.0  -0.294678\n",
      "\n",
      "[53940 rows x 2 columns]\n"
     ]
    },
    {
     "data": {
      "text/plain": [
       "<matplotlib.collections.PathCollection at 0x1cd3aade850>"
      ]
     },
     "execution_count": 75,
     "metadata": {},
     "output_type": "execute_result"
    },
    {
     "data": {
      "image/png": "[encoded data removed]",
      "text/plain": [
       "<Figure size 1000x600 with 1 Axes>"
      ]
     },
     "metadata": {},
     "output_type": "display_data"
    }
   ],
   "source": [
    "# Verificación: Verifica si la media de la columna estandarizada es cercana a 0 y la desviación estándar cercana a 1:\n",
    "print(df['price_std'].mean(), df['price_std'].std())\n",
    "\n",
    "# Verificar si la transformación es correcta\n",
    "print(f\"Media de 'price_std': {df['price_std'].mean()}\")\n",
    "print(f\"Desviación estándar de 'price_std': {df['price_std'].std()}\")\n",
    "\n",
    "# Para confirmar que los datos estandarizados son correctos, puedes inspeccionar la columna price_std:\n",
    "print(df[['price', 'price_std']])\n",
    "plt.figure(figsize=(10, 6))\n",
    "plt.scatter(df['price'], df['price_std'], color='blue', alpha=0.5)"
   ]
  },
  {
   "cell_type": "code",
   "execution_count": null,
   "metadata": {},
   "outputs": [],
   "source": [
    "'''Aplicar a Múltiples Columnas: Si deseas estandarizar todas las columnas numéricas:\n",
    "\n",
    "python\n",
    "Copiar código\n",
    "for col in df.select_dtypes(include=np.number).columns:\n",
    "    df[f'{col}_std'] = estandarizar(df, col)'''"
   ]
  },
  {
   "cell_type": "code",
   "execution_count": 76,
   "metadata": {},
   "outputs": [
    {
     "data": {
      "image/png": "[encoded data removed]",
      "text/plain": [
       "<Figure size 1200x600 with 2 Axes>"
      ]
     },
     "metadata": {},
     "output_type": "display_data"
    }
   ],
   "source": [
    "# Visualización\n",
    "plt.figure(figsize=(12, 6))\n",
    "\n",
    "# Histograma original\n",
    "plt.subplot(1, 2, 1)\n",
    "plt.hist(df['price'], bins=10, alpha=0.6, color='blue', label='Original')\n",
    "plt.title('Distribución Original')\n",
    "plt.xlabel('Precio')\n",
    "plt.ylabel('Frecuencia')\n",
    "plt.legend()\n",
    "\n",
    "# Histograma estandarizado\n",
    "plt.subplot(1, 2, 2)\n",
    "plt.hist(df['price_std'], bins=10, alpha=0.6, color='green', label='Estandarizado')\n",
    "plt.title('Distribución Estandarizada')\n",
    "plt.xlabel('Valor Estandarizado (z-score)')\n",
    "plt.ylabel('Frecuencia')\n",
    "plt.legend()\n",
    "\n",
    "plt.tight_layout()\n",
    "plt.show()"
   ]
  },
  {
   "cell_type": "code",
   "execution_count": 77,
   "metadata": {},
   "outputs": [
    {
     "name": "stdout",
     "output_type": "stream",
     "text": [
      "<class 'pandas.core.frame.DataFrame'>\n",
      "RangeIndex: 53940 entries, 0 to 53939\n",
      "Data columns (total 13 columns):\n",
      " #   Column      Non-Null Count  Dtype   \n",
      "---  ------      --------------  -----   \n",
      " 0   carat       53940 non-null  float16 \n",
      " 1   cut         53940 non-null  category\n",
      " 2   color       53940 non-null  category\n",
      " 3   clarity     53940 non-null  category\n",
      " 4   depth       53940 non-null  float64 \n",
      " 5   table       53940 non-null  float64 \n",
      " 6   price       53940 non-null  float32 \n",
      " 7   x           53940 non-null  float64 \n",
      " 8   y           53940 non-null  float64 \n",
      " 9   z           53940 non-null  float64 \n",
      " 10  cut_int     53940 non-null  category\n",
      " 11  is_outlier  53940 non-null  bool    \n",
      " 12  price_std   53940 non-null  float32 \n",
      "dtypes: bool(1), category(4), float16(1), float32(2), float64(5)\n",
      "memory usage: 2.8 MB\n"
     ]
    }
   ],
   "source": [
    "df.info()"
   ]
  },
  {
   "cell_type": "code",
   "execution_count": 78,
   "metadata": {},
   "outputs": [
    {
     "data": {
      "image/png": "[encoded data removed]",
      "text/plain": [
       "<Figure size 640x480 with 1 Axes>"
      ]
     },
     "metadata": {},
     "output_type": "display_data"
    }
   ],
   "source": [
    "# Agregar Gráficos: Incluye un boxplot con los límites de Tukey:\n",
    "sns.boxplot(data=df, y='price', color='skyblue')\n",
    "plt.axhline(Q1, color='orange', linestyle='--', label=f'Q1: {Q1}')\n",
    "plt.axhline(Q3, color='green', linestyle='--', label=f'Q3: {Q3}')\n",
    "plt.axhline(lower_limit, color='red', linestyle='--', label=f'Límite Inferior: {lower_limit}')\n",
    "plt.axhline(upper_limit, color='blue', linestyle='--', label=f'Límite Superior: {upper_limit}')\n",
    "plt.legend()\n",
    "plt.show()"
   ]
  },
  {
   "cell_type": "markdown",
   "metadata": {},
   "source": [
    "### 3.2. asimetría, curtosis y transformar datos con logaritmo o raíz cuadrada, aplicar sobre precio, visualizar el histograma y/o boxplot por tipo de corte. Opcional ajustar la escala.\n"
   ]
  },
  {
   "cell_type": "code",
   "execution_count": 79,
   "metadata": {},
   "outputs": [
    {
     "name": "stdout",
     "output_type": "stream",
     "text": [
      "Asimetría y curtosis\n",
      "Asimetría: 1.6183805465698242, Curtosis: 2.1776084899902344\n",
      "------------------------------------------------\n"
     ]
    }
   ],
   "source": [
    "\n",
    "# Asimetría y curtosis\n",
    "def asimetria_curtosis(dataframe, columna):\n",
    "    print(\"Asimetría y curtosis\")\n",
    "    skewness = stats.skew(df[columna])\n",
    "    kurtosis = stats.kurtosis(df[columna])\n",
    "    print(f\"Asimetría: {skewness}, Curtosis: {kurtosis}\")\n",
    "    \n",
    "asimetria_curtosis(df, 'price')\n",
    "print(\"------------------------------------------------\")"
   ]
  },
  {
   "cell_type": "code",
   "execution_count": 80,
   "metadata": {},
   "outputs": [
    {
     "name": "stdout",
     "output_type": "stream",
     "text": [
      "Transformar distribuciones\n"
     ]
    },
    {
     "ename": "TypeError",
     "evalue": "'>' not supported between instances of 'str' and 'int'",
     "output_type": "error",
     "traceback": [
      "\u001b[1;31m---------------------------------------------------------------------------\u001b[0m",
      "\u001b[1;31mTypeError\u001b[0m                                 Traceback (most recent call last)",
      "Cell \u001b[1;32mIn[80], line 13\u001b[0m\n\u001b[0;32m     10\u001b[0m     plt\u001b[38;5;241m.\u001b[39mgrid()\n\u001b[0;32m     11\u001b[0m     plt\u001b[38;5;241m.\u001b[39mshow()\n\u001b[1;32m---> 13\u001b[0m \u001b[43mtransformar_distribuciones\u001b[49m\u001b[43m(\u001b[49m\u001b[43mdf\u001b[49m\u001b[43m,\u001b[49m\u001b[43m \u001b[49m\u001b[38;5;124;43m'\u001b[39;49m\u001b[38;5;124;43mprice\u001b[39;49m\u001b[38;5;124;43m'\u001b[39;49m\u001b[43m)\u001b[49m\n\u001b[0;32m     14\u001b[0m \u001b[38;5;28mprint\u001b[39m(\u001b[38;5;124m\"\u001b[39m\u001b[38;5;124m------------------------------------------------\u001b[39m\u001b[38;5;124m\"\u001b[39m)\n",
      "Cell \u001b[1;32mIn[80], line 4\u001b[0m, in \u001b[0;36mtransformar_distribuciones\u001b[1;34m(dataframe, columna)\u001b[0m\n\u001b[0;32m      2\u001b[0m \u001b[38;5;28;01mdef\u001b[39;00m \u001b[38;5;21mtransformar_distribuciones\u001b[39m(dataframe, columna):\n\u001b[0;32m      3\u001b[0m     \u001b[38;5;28mprint\u001b[39m(\u001b[38;5;124m\"\u001b[39m\u001b[38;5;124mTransformar distribuciones\u001b[39m\u001b[38;5;124m\"\u001b[39m)\n\u001b[1;32m----> 4\u001b[0m     price_log \u001b[38;5;241m=\u001b[39m np\u001b[38;5;241m.\u001b[39mlog(df[columna][\u001b[43mcolumna\u001b[49m\u001b[43m \u001b[49m\u001b[38;5;241;43m>\u001b[39;49m\u001b[43m \u001b[49m\u001b[38;5;241;43m0\u001b[39;49m])\n\u001b[0;32m      5\u001b[0m     plt\u001b[38;5;241m.\u001b[39mfigure(figsize\u001b[38;5;241m=\u001b[39m(\u001b[38;5;241m10\u001b[39m, \u001b[38;5;241m6\u001b[39m))\n\u001b[0;32m      6\u001b[0m     sns\u001b[38;5;241m.\u001b[39mhistplot(price_log, kde\u001b[38;5;241m=\u001b[39m\u001b[38;5;28;01mTrue\u001b[39;00m, bins\u001b[38;5;241m=\u001b[39m\u001b[38;5;241m30\u001b[39m, color\u001b[38;5;241m=\u001b[39m\u001b[38;5;124m\"\u001b[39m\u001b[38;5;124mgreen\u001b[39m\u001b[38;5;124m\"\u001b[39m, alpha\u001b[38;5;241m=\u001b[39m\u001b[38;5;241m0.6\u001b[39m)\n",
      "\u001b[1;31mTypeError\u001b[0m: '>' not supported between instances of 'str' and 'int'"
     ]
    }
   ],
   "source": [
    "# Transformar distribuciones\n",
    "def transformar_distribuciones(dataframe, columna):\n",
    "    print(\"Transformar distribuciones\")\n",
    "    price_log = np.log(df[columna][columna > 0])\n",
    "    plt.figure(figsize=(10, 6))\n",
    "    sns.histplot(price_log, kde=True, bins=30, color=\"green\", alpha=0.6)\n",
    "    plt.title(\"Transformación Logarítmica de Precios\")\n",
    "    plt.xlabel(\"Log(Precio)\")\n",
    "    plt.ylabel(\"Frecuencia\")\n",
    "    plt.grid()\n",
    "    plt.show()\n",
    "    \n",
    "transformar_distribuciones(df, 'price')\n",
    "print(\"------------------------------------------------\")\n"
   ]
  },
  {
   "cell_type": "code",
   "execution_count": 58,
   "metadata": {},
   "outputs": [
    {
     "name": "stdout",
     "output_type": "stream",
     "text": [
      "plotbox\n"
     ]
    },
    {
     "ename": "NameError",
     "evalue": "name 'price' is not defined",
     "output_type": "error",
     "traceback": [
      "\u001b[1;31m---------------------------------------------------------------------------\u001b[0m",
      "\u001b[1;31mNameError\u001b[0m                                 Traceback (most recent call last)",
      "Cell \u001b[1;32mIn[58], line 2\u001b[0m\n\u001b[0;32m      1\u001b[0m \u001b[38;5;28mprint\u001b[39m(\u001b[38;5;124m\"\u001b[39m\u001b[38;5;124mplotbox\u001b[39m\u001b[38;5;124m\"\u001b[39m)\n\u001b[1;32m----> 2\u001b[0m plt\u001b[38;5;241m.\u001b[39mboxplot(\u001b[43mprice\u001b[49m, showmeans\u001b[38;5;241m=\u001b[39m\u001b[38;5;28;01mTrue\u001b[39;00m)\n",
      "\u001b[1;31mNameError\u001b[0m: name 'price' is not defined"
     ]
    }
   ],
   "source": [
    "print(\"plotbox\")\n",
    "plt.boxplot(price, showmeans=True)"
   ]
  },
  {
   "cell_type": "code",
   "execution_count": null,
   "metadata": {},
   "outputs": [],
   "source": []
  },
  {
   "cell_type": "code",
   "execution_count": null,
   "metadata": {},
   "outputs": [],
   "source": []
  },
  {
   "cell_type": "markdown",
   "metadata": {},
   "source": [
    "### 3.3. Discretizar la columna precio por barato, medio, caro usando la función pd.cut\n"
   ]
  },
  {
   "cell_type": "code",
   "execution_count": null,
   "metadata": {},
   "outputs": [],
   "source": []
  },
  {
   "cell_type": "code",
   "execution_count": null,
   "metadata": {},
   "outputs": [],
   "source": []
  },
  {
   "cell_type": "code",
   "execution_count": null,
   "metadata": {},
   "outputs": [],
   "source": []
  },
  {
   "cell_type": "code",
   "execution_count": null,
   "metadata": {},
   "outputs": [],
   "source": []
  },
  {
   "cell_type": "code",
   "execution_count": null,
   "metadata": {},
   "outputs": [],
   "source": []
  },
  {
   "cell_type": "markdown",
   "metadata": {},
   "source": [
    "## PARTE 4: 30 % visualizaciones:\n"
   ]
  },
  {
   "cell_type": "code",
   "execution_count": null,
   "metadata": {},
   "outputs": [],
   "source": []
  },
  {
   "cell_type": "code",
   "execution_count": null,
   "metadata": {},
   "outputs": [],
   "source": []
  },
  {
   "cell_type": "code",
   "execution_count": null,
   "metadata": {},
   "outputs": [],
   "source": []
  },
  {
   "cell_type": "markdown",
   "metadata": {},
   "source": [
    "### 4.1. Seaborn EDAS:\n"
   ]
  },
  {
   "cell_type": "code",
   "execution_count": 51,
   "metadata": {},
   "outputs": [
    {
     "data": {
      "text/plain": [
       "array([[<Axes: title={'center': 'carat'}>,\n",
       "        <Axes: title={'center': 'depth'}>,\n",
       "        <Axes: title={'center': 'table'}>],\n",
       "       [<Axes: title={'center': 'price'}>, <Axes: title={'center': 'x'}>,\n",
       "        <Axes: title={'center': 'y'}>],\n",
       "       [<Axes: title={'center': 'z'}>, <Axes: >, <Axes: >]], dtype=object)"
      ]
     },
     "execution_count": 51,
     "metadata": {},
     "output_type": "execute_result"
    },
    {
     "data": {
      "image/png": "[encoded data removed]",
      "text/plain": [
       "<Figure size 640x480 with 9 Axes>"
      ]
     },
     "metadata": {},
     "output_type": "display_data"
    }
   ],
   "source": [
    "df.hist()"
   ]
  },
  {
   "cell_type": "code",
   "execution_count": null,
   "metadata": {},
   "outputs": [],
   "source": []
  },
  {
   "cell_type": "code",
   "execution_count": null,
   "metadata": {},
   "outputs": [],
   "source": []
  },
  {
   "cell_type": "markdown",
   "metadata": {},
   "source": [
    "#### 4.1.1. univariantes:\n"
   ]
  },
  {
   "cell_type": "code",
   "execution_count": null,
   "metadata": {},
   "outputs": [],
   "source": []
  },
  {
   "cell_type": "code",
   "execution_count": null,
   "metadata": {},
   "outputs": [],
   "source": []
  },
  {
   "cell_type": "markdown",
   "metadata": {},
   "source": [
    "#####  4.1.1.1. histogramas y curvas de densidad\n"
   ]
  },
  {
   "cell_type": "code",
   "execution_count": null,
   "metadata": {},
   "outputs": [],
   "source": []
  },
  {
   "cell_type": "code",
   "execution_count": null,
   "metadata": {},
   "outputs": [],
   "source": []
  },
  {
   "cell_type": "markdown",
   "metadata": {},
   "source": [
    "##### 4.1.1.2. boxplot"
   ]
  },
  {
   "cell_type": "code",
   "execution_count": null,
   "metadata": {},
   "outputs": [],
   "source": []
  },
  {
   "cell_type": "code",
   "execution_count": null,
   "metadata": {},
   "outputs": [],
   "source": []
  },
  {
   "cell_type": "code",
   "execution_count": null,
   "metadata": {},
   "outputs": [],
   "source": []
  },
  {
   "cell_type": "code",
   "execution_count": null,
   "metadata": {},
   "outputs": [],
   "source": []
  },
  {
   "cell_type": "markdown",
   "metadata": {},
   "source": [
    "#####  4.1.1.3. countplot\n"
   ]
  },
  {
   "cell_type": "code",
   "execution_count": null,
   "metadata": {},
   "outputs": [],
   "source": []
  },
  {
   "cell_type": "code",
   "execution_count": null,
   "metadata": {},
   "outputs": [],
   "source": []
  },
  {
   "cell_type": "code",
   "execution_count": null,
   "metadata": {},
   "outputs": [],
   "source": []
  },
  {
   "cell_type": "code",
   "execution_count": null,
   "metadata": {},
   "outputs": [],
   "source": []
  },
  {
   "cell_type": "markdown",
   "metadata": {},
   "source": [
    "#### 4.1.2. bivariantes y multivariantes\n"
   ]
  },
  {
   "cell_type": "code",
   "execution_count": null,
   "metadata": {},
   "outputs": [],
   "source": []
  },
  {
   "cell_type": "code",
   "execution_count": null,
   "metadata": {},
   "outputs": [],
   "source": []
  },
  {
   "cell_type": "code",
   "execution_count": null,
   "metadata": {},
   "outputs": [],
   "source": []
  },
  {
   "cell_type": "markdown",
   "metadata": {},
   "source": [
    "##### 4.1.2.1. scatterplot con hue, con size, con style\n"
   ]
  },
  {
   "cell_type": "code",
   "execution_count": null,
   "metadata": {},
   "outputs": [],
   "source": []
  },
  {
   "cell_type": "code",
   "execution_count": null,
   "metadata": {},
   "outputs": [],
   "source": []
  },
  {
   "cell_type": "code",
   "execution_count": null,
   "metadata": {},
   "outputs": [],
   "source": []
  },
  {
   "cell_type": "code",
   "execution_count": null,
   "metadata": {},
   "outputs": [],
   "source": []
  },
  {
   "cell_type": "markdown",
   "metadata": {},
   "source": [
    "##### 4.1.2.2. Calcular correlación con Pandas y mostrarla con seaborn\n"
   ]
  },
  {
   "cell_type": "code",
   "execution_count": null,
   "metadata": {},
   "outputs": [],
   "source": []
  },
  {
   "cell_type": "code",
   "execution_count": null,
   "metadata": {},
   "outputs": [],
   "source": []
  },
  {
   "cell_type": "code",
   "execution_count": null,
   "metadata": {},
   "outputs": [],
   "source": []
  },
  {
   "cell_type": "code",
   "execution_count": null,
   "metadata": {},
   "outputs": [],
   "source": []
  },
  {
   "cell_type": "code",
   "execution_count": null,
   "metadata": {},
   "outputs": [],
   "source": []
  },
  {
   "cell_type": "markdown",
   "metadata": {},
   "source": [
    "##### 4.1.2.3. Hacer la correlación en un gráfico de barras para la columna 'price'\n"
   ]
  },
  {
   "cell_type": "code",
   "execution_count": null,
   "metadata": {},
   "outputs": [],
   "source": []
  },
  {
   "cell_type": "code",
   "execution_count": null,
   "metadata": {},
   "outputs": [],
   "source": []
  },
  {
   "cell_type": "code",
   "execution_count": null,
   "metadata": {},
   "outputs": [],
   "source": []
  },
  {
   "cell_type": "code",
   "execution_count": null,
   "metadata": {},
   "outputs": [],
   "source": []
  },
  {
   "cell_type": "markdown",
   "metadata": {},
   "source": [
    "##### 4.1.2.4. Crear una pivot table usando como index y columns algunas variables categóricas y como values usar el price y visualizarla con heatmap de seaborn\n"
   ]
  },
  {
   "cell_type": "code",
   "execution_count": null,
   "metadata": {},
   "outputs": [],
   "source": []
  },
  {
   "cell_type": "code",
   "execution_count": null,
   "metadata": {},
   "outputs": [],
   "source": []
  },
  {
   "cell_type": "code",
   "execution_count": null,
   "metadata": {},
   "outputs": [],
   "source": []
  },
  {
   "cell_type": "code",
   "execution_count": null,
   "metadata": {},
   "outputs": [],
   "source": []
  },
  {
   "cell_type": "code",
   "execution_count": null,
   "metadata": {},
   "outputs": [],
   "source": []
  },
  {
   "cell_type": "markdown",
   "metadata": {},
   "source": [
    "#### 4.1.3. Combinarlas con:\n"
   ]
  },
  {
   "cell_type": "code",
   "execution_count": null,
   "metadata": {},
   "outputs": [],
   "source": []
  },
  {
   "cell_type": "code",
   "execution_count": null,
   "metadata": {},
   "outputs": [],
   "source": []
  },
  {
   "cell_type": "markdown",
   "metadata": {},
   "source": [
    "##### 4.1.3.1. hue, style, size, row, col usando un relplot\n"
   ]
  },
  {
   "cell_type": "code",
   "execution_count": null,
   "metadata": {},
   "outputs": [],
   "source": []
  },
  {
   "cell_type": "code",
   "execution_count": null,
   "metadata": {},
   "outputs": [],
   "source": []
  },
  {
   "cell_type": "code",
   "execution_count": null,
   "metadata": {},
   "outputs": [],
   "source": []
  },
  {
   "cell_type": "code",
   "execution_count": null,
   "metadata": {},
   "outputs": [],
   "source": []
  },
  {
   "cell_type": "code",
   "execution_count": null,
   "metadata": {},
   "outputs": [],
   "source": []
  },
  {
   "cell_type": "markdown",
   "metadata": {},
   "source": [
    "##### 4.1.3.2. filtro\n"
   ]
  },
  {
   "cell_type": "code",
   "execution_count": null,
   "metadata": {},
   "outputs": [],
   "source": []
  },
  {
   "cell_type": "code",
   "execution_count": null,
   "metadata": {},
   "outputs": [],
   "source": []
  },
  {
   "cell_type": "code",
   "execution_count": null,
   "metadata": {},
   "outputs": [],
   "source": []
  },
  {
   "cell_type": "code",
   "execution_count": null,
   "metadata": {},
   "outputs": [],
   "source": []
  },
  {
   "cell_type": "code",
   "execution_count": null,
   "metadata": {},
   "outputs": [],
   "source": []
  }
 ],
 "metadata": {
  "kernelspec": {
   "display_name": "Python 3",
   "language": "python",
   "name": "python3"
  },
  "language_info": {
   "codemirror_mode": {
    "name": "ipython",
    "version": 3
   },
   "file_extension": ".py",
   "mimetype": "text/x-python",
   "name": "python",
   "nbconvert_exporter": "python",
   "pygments_lexer": "ipython3",
   "version": "3.13.1"
  }
 },
 "nbformat": 4,
 "nbformat_minor": 2
}
