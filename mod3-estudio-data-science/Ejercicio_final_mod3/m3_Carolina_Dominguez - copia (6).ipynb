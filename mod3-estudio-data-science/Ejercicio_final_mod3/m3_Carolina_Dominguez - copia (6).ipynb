{
 "cells": [
  {
   "cell_type": "markdown",
   "metadata": {},
   "source": [
    "# EJERCICIO MÓDULO 3:\n",
    "\n",
    "Uso de Pandas y Seaborn + algún gráfico de Plotly.\n",
    "\n",
    "Dataset: diamonds.\n",
    "\n",
    "IMPORTANTE: cargar el dataset desde CSV desde la carpeta Data porque tendrá nulos introducidos manualmente.\n",
    "\n",
    "* PARTE 1: 25 % carga y limpieza\n",
    "    * Carga con Pandas: pd.read_csv\n",
    "\n",
    "    * Limpieza de valores error: \n",
    "        * hay columnas que tienen un valor '?', por tanto se deben reemplazar por un valor nan.\n",
    "\n",
    "    * Cambio de tipo de dato: .astype() a numéricos y textos, por ejemplo a categorical y carat a float32 o float16\n",
    "\n",
    "    * Limpieza de nulos (limpiar valores NaN):\n",
    "        * Nulos en columnas continuas: mediana, media\n",
    "        * Nulos en columnas categóricas: moda, un valor fijo\n",
    "\n",
    "    * Encoding: texto a numérico\n",
    "        * Uso de la función get_dummies() para encoding one_hot\n",
    "        * Uso de map para encoding ordinal para la columna cut como una nueva columna cut_int: 1, 2, 3, 4\n",
    "\n",
    "* PARTE 2: 25 % transformaciones:\n",
    "    * Crear una columna price_iva a partir de la columna price que muestre el precio + IVA (21%). \n",
    "        * Ejemplo df['price'] * 1.21 \n",
    "\n",
    "    * Crear una columna price_discount usando apply a partir de la columna price(con lambda o def):\n",
    "        * price < 1000 and cut == 'Ideal' entonces 10 % descuento\n",
    "        * 1000 <= price <= 5000 and cut == 'Premium' entonces 15 % descuento\n",
    "        * si no entra en las condiciones sin descuento, devolver el precio original\n",
    "\n",
    "    * Crear una nueva columna volumen combinando: x * y * z\n",
    "\n",
    "    * Ordenar por dos columnas con sort_values():\n",
    "        * tipo de corte (cut) y precio (price)\n",
    "\n",
    "    * Agrupaciones con groupby y visualizarla\n",
    "        * Agrupar por las 3 que hay de tipo categórico calculando la media, max, min por ejemplo de alguna de las numéricas: price, carat, depth\n",
    "\n",
    "* PARTE 3: 20 % distribuciones: \n",
    "\n",
    "* Outliers: Visualización Q1 y Q3 y calcular límites tukey y filtrar. Sobre la columna precio.\n",
    "\n",
    "* asimetría, curtosis y transformar datos con logaritmo o raíz cuadrada, aplicar sobre precio, visualizar el histograma y/o boxplot por tipo de corte. Opcional ajustar la escala.\n",
    "\n",
    "* Discretizar la columna precio por barato, medio, caro usando la función pd.cut\n",
    "\n",
    "\n",
    "* PARTE 4: 30 % visualizaciones:\n",
    "\n",
    "* Seaborn EDAS:\n",
    "    * univariantes:\n",
    "        * histogramas y curvas de densidad\n",
    "        * boxplot\n",
    "        * countplot\n",
    "    * bivariantes y multivariantes\n",
    "        * scatterplot con hue, con size, con style\n",
    "        * Calcular correlación con Pandas y mostrarla con seaborn\n",
    "        * Hacer la correlación en un gráfico de barras para la columna 'price'\n",
    "        * Crear una pivot table usando como index y columns algunas variables categóricas y como values usar el price y visualizarla con heatmap de seaborn\n",
    "    * Combinarlas con:\n",
    "        * hue, style, size, row, col usando un relplot\n",
    "        * filtro\n"
   ]
  },
  {
   "cell_type": "markdown",
   "metadata": {},
   "source": [
    "# EJERCICIO MÓDULO 3:"
   ]
  },
  {
   "cell_type": "markdown",
   "metadata": {},
   "source": [
    "Uso de Pandas y Seaborn + algún gráfico de Plotly.\n",
    "\n",
    "Dataset: diamonds.\n",
    "\n",
    "IMPORTANTE: cargar el dataset desde CSV desde la carpeta Data porque tendrá nulos introducidos manualmente."
   ]
  },
  {
   "cell_type": "markdown",
   "metadata": {},
   "source": [
    "## PARTE 1: \n",
    "25 % carga y limpieza\n"
   ]
  },
  {
   "cell_type": "code",
   "execution_count": 1,
   "metadata": {},
   "outputs": [],
   "source": [
    "import numpy as np\n",
    "import pandas as pd\n",
    "import seaborn as sns\n",
    "# todos los necesarios para el ejercicio mientras usemos np y sns\n",
    "import matplotlib.pyplot as plt\n",
    "from scipy import stats\n",
    "import pickle as pkl"
   ]
  },
  {
   "cell_type": "markdown",
   "metadata": {},
   "source": [
    "### 1.1. Carga con Pandas: pd.read_csv\n"
   ]
  },
  {
   "cell_type": "code",
   "execution_count": 2,
   "metadata": {},
   "outputs": [],
   "source": [
    "df = pd.read_csv('../Data/diamonds.csv')"
   ]
  },
  {
   "cell_type": "code",
   "execution_count": 3,
   "metadata": {},
   "outputs": [
    {
     "name": "stdout",
     "output_type": "stream",
     "text": [
      "Primeras 10 filas del dataset:\n"
     ]
    },
    {
     "data": {
      "text/html": [
       "<div>\n",
       "<style scoped>\n",
       "    .dataframe tbody tr th:only-of-type {\n",
       "        vertical-align: middle;\n",
       "    }\n",
       "\n",
       "    .dataframe tbody tr th {\n",
       "        vertical-align: top;\n",
       "    }\n",
       "\n",
       "    .dataframe thead th {\n",
       "        text-align: right;\n",
       "    }\n",
       "</style>\n",
       "<table border=\"1\" class=\"dataframe\">\n",
       "  <thead>\n",
       "    <tr style=\"text-align: right;\">\n",
       "      <th></th>\n",
       "      <th>carat</th>\n",
       "      <th>cut</th>\n",
       "      <th>color</th>\n",
       "      <th>clarity</th>\n",
       "      <th>depth</th>\n",
       "      <th>table</th>\n",
       "      <th>price</th>\n",
       "      <th>x</th>\n",
       "      <th>y</th>\n",
       "      <th>z</th>\n",
       "    </tr>\n",
       "  </thead>\n",
       "  <tbody>\n",
       "    <tr>\n",
       "      <th>0</th>\n",
       "      <td>0.23</td>\n",
       "      <td>Ideal</td>\n",
       "      <td>E</td>\n",
       "      <td>SI2</td>\n",
       "      <td>61.5</td>\n",
       "      <td>55.0</td>\n",
       "      <td>326</td>\n",
       "      <td>3.95</td>\n",
       "      <td>3.98</td>\n",
       "      <td>2.43</td>\n",
       "    </tr>\n",
       "    <tr>\n",
       "      <th>1</th>\n",
       "      <td>0.21</td>\n",
       "      <td>Premium</td>\n",
       "      <td>E</td>\n",
       "      <td>SI1</td>\n",
       "      <td>59.8</td>\n",
       "      <td>61.0</td>\n",
       "      <td>326</td>\n",
       "      <td>3.89</td>\n",
       "      <td>3.84</td>\n",
       "      <td>2.31</td>\n",
       "    </tr>\n",
       "    <tr>\n",
       "      <th>2</th>\n",
       "      <td>0.23</td>\n",
       "      <td>Good</td>\n",
       "      <td>E</td>\n",
       "      <td>VS1</td>\n",
       "      <td>56.9</td>\n",
       "      <td>65.0</td>\n",
       "      <td>327</td>\n",
       "      <td>4.05</td>\n",
       "      <td>4.07</td>\n",
       "      <td>2.31</td>\n",
       "    </tr>\n",
       "    <tr>\n",
       "      <th>3</th>\n",
       "      <td>0.29</td>\n",
       "      <td>Premium</td>\n",
       "      <td>I</td>\n",
       "      <td>VS2</td>\n",
       "      <td>62.4</td>\n",
       "      <td>58.0</td>\n",
       "      <td>334</td>\n",
       "      <td>4.2</td>\n",
       "      <td>4.23</td>\n",
       "      <td>2.63</td>\n",
       "    </tr>\n",
       "    <tr>\n",
       "      <th>4</th>\n",
       "      <td>0.31</td>\n",
       "      <td>Good</td>\n",
       "      <td>J</td>\n",
       "      <td>SI2</td>\n",
       "      <td>63.3</td>\n",
       "      <td>58.0</td>\n",
       "      <td>335</td>\n",
       "      <td>4.34</td>\n",
       "      <td>4.35</td>\n",
       "      <td>2.75</td>\n",
       "    </tr>\n",
       "    <tr>\n",
       "      <th>5</th>\n",
       "      <td>0.24</td>\n",
       "      <td>Very Good</td>\n",
       "      <td>J</td>\n",
       "      <td>VVS2</td>\n",
       "      <td>62.8</td>\n",
       "      <td>57.0</td>\n",
       "      <td>336</td>\n",
       "      <td>3.94</td>\n",
       "      <td>3.96</td>\n",
       "      <td>2.48</td>\n",
       "    </tr>\n",
       "    <tr>\n",
       "      <th>6</th>\n",
       "      <td>0.24</td>\n",
       "      <td>Very Good</td>\n",
       "      <td>I</td>\n",
       "      <td>VVS1</td>\n",
       "      <td>62.3</td>\n",
       "      <td>57.0</td>\n",
       "      <td>336</td>\n",
       "      <td>3.95</td>\n",
       "      <td>3.98</td>\n",
       "      <td>2.47</td>\n",
       "    </tr>\n",
       "    <tr>\n",
       "      <th>7</th>\n",
       "      <td>0.26</td>\n",
       "      <td>Very Good</td>\n",
       "      <td>H</td>\n",
       "      <td>SI1</td>\n",
       "      <td>61.9</td>\n",
       "      <td>55.0</td>\n",
       "      <td>337</td>\n",
       "      <td>4.07</td>\n",
       "      <td>4.11</td>\n",
       "      <td>2.53</td>\n",
       "    </tr>\n",
       "    <tr>\n",
       "      <th>8</th>\n",
       "      <td>0.22</td>\n",
       "      <td>Fair</td>\n",
       "      <td>E</td>\n",
       "      <td>VS2</td>\n",
       "      <td>65.1</td>\n",
       "      <td>61.0</td>\n",
       "      <td>337</td>\n",
       "      <td>3.87</td>\n",
       "      <td>3.78</td>\n",
       "      <td>2.49</td>\n",
       "    </tr>\n",
       "    <tr>\n",
       "      <th>9</th>\n",
       "      <td>0.23</td>\n",
       "      <td>Very Good</td>\n",
       "      <td>H</td>\n",
       "      <td>VS1</td>\n",
       "      <td>59.4</td>\n",
       "      <td>61.0</td>\n",
       "      <td>338</td>\n",
       "      <td>4</td>\n",
       "      <td>4.05</td>\n",
       "      <td>2.39</td>\n",
       "    </tr>\n",
       "  </tbody>\n",
       "</table>\n",
       "</div>"
      ],
      "text/plain": [
       "   carat        cut color clarity  depth  table price     x     y     z\n",
       "0   0.23      Ideal     E     SI2   61.5   55.0   326  3.95  3.98  2.43\n",
       "1   0.21    Premium     E     SI1   59.8   61.0   326  3.89  3.84  2.31\n",
       "2   0.23       Good     E     VS1   56.9   65.0   327  4.05  4.07  2.31\n",
       "3   0.29    Premium     I     VS2   62.4   58.0   334   4.2  4.23  2.63\n",
       "4   0.31       Good     J     SI2   63.3   58.0   335  4.34  4.35  2.75\n",
       "5   0.24  Very Good     J    VVS2   62.8   57.0   336  3.94  3.96  2.48\n",
       "6   0.24  Very Good     I    VVS1   62.3   57.0   336  3.95  3.98  2.47\n",
       "7   0.26  Very Good     H     SI1   61.9   55.0   337  4.07  4.11  2.53\n",
       "8   0.22       Fair     E     VS2   65.1   61.0   337  3.87  3.78  2.49\n",
       "9   0.23  Very Good     H     VS1   59.4   61.0   338     4  4.05  2.39"
      ]
     },
     "execution_count": 3,
     "metadata": {},
     "output_type": "execute_result"
    }
   ],
   "source": [
    "print(\"Primeras 10 filas del dataset:\")\n",
    "df.head(10)"
   ]
  },
  {
   "cell_type": "code",
   "execution_count": 4,
   "metadata": {},
   "outputs": [
    {
     "name": "stdout",
     "output_type": "stream",
     "text": [
      "Información inicial del dataset:\n",
      "<class 'pandas.core.frame.DataFrame'>\n",
      "RangeIndex: 53940 entries, 0 to 53939\n",
      "Data columns (total 10 columns):\n",
      " #   Column   Non-Null Count  Dtype  \n",
      "---  ------   --------------  -----  \n",
      " 0   carat    53939 non-null  float64\n",
      " 1   cut      53937 non-null  object \n",
      " 2   color    53938 non-null  object \n",
      " 3   clarity  53938 non-null  object \n",
      " 4   depth    53940 non-null  float64\n",
      " 5   table    53938 non-null  float64\n",
      " 6   price    53938 non-null  object \n",
      " 7   x        53938 non-null  object \n",
      " 8   y        53939 non-null  float64\n",
      " 9   z        53939 non-null  float64\n",
      "dtypes: float64(5), object(5)\n",
      "memory usage: 4.1+ MB\n"
     ]
    }
   ],
   "source": [
    "print(\"Información inicial del dataset:\")\n",
    "df.info()"
   ]
  },
  {
   "cell_type": "code",
   "execution_count": 5,
   "metadata": {},
   "outputs": [
    {
     "data": {
      "text/html": [
       "<div>\n",
       "<style scoped>\n",
       "    .dataframe tbody tr th:only-of-type {\n",
       "        vertical-align: middle;\n",
       "    }\n",
       "\n",
       "    .dataframe tbody tr th {\n",
       "        vertical-align: top;\n",
       "    }\n",
       "\n",
       "    .dataframe thead th {\n",
       "        text-align: right;\n",
       "    }\n",
       "</style>\n",
       "<table border=\"1\" class=\"dataframe\">\n",
       "  <thead>\n",
       "    <tr style=\"text-align: right;\">\n",
       "      <th></th>\n",
       "      <th>carat</th>\n",
       "      <th>depth</th>\n",
       "      <th>table</th>\n",
       "      <th>y</th>\n",
       "      <th>z</th>\n",
       "    </tr>\n",
       "  </thead>\n",
       "  <tbody>\n",
       "    <tr>\n",
       "      <th>count</th>\n",
       "      <td>53939.000000</td>\n",
       "      <td>53940.000000</td>\n",
       "      <td>53938.000000</td>\n",
       "      <td>53939.000000</td>\n",
       "      <td>53939.000000</td>\n",
       "    </tr>\n",
       "    <tr>\n",
       "      <th>mean</th>\n",
       "      <td>0.797946</td>\n",
       "      <td>61.749405</td>\n",
       "      <td>57.457145</td>\n",
       "      <td>5.734479</td>\n",
       "      <td>3.538722</td>\n",
       "    </tr>\n",
       "    <tr>\n",
       "      <th>std</th>\n",
       "      <td>0.474013</td>\n",
       "      <td>1.432621</td>\n",
       "      <td>2.234521</td>\n",
       "      <td>1.142092</td>\n",
       "      <td>0.705700</td>\n",
       "    </tr>\n",
       "    <tr>\n",
       "      <th>min</th>\n",
       "      <td>0.200000</td>\n",
       "      <td>43.000000</td>\n",
       "      <td>43.000000</td>\n",
       "      <td>0.000000</td>\n",
       "      <td>0.000000</td>\n",
       "    </tr>\n",
       "    <tr>\n",
       "      <th>25%</th>\n",
       "      <td>0.400000</td>\n",
       "      <td>61.000000</td>\n",
       "      <td>56.000000</td>\n",
       "      <td>4.720000</td>\n",
       "      <td>2.910000</td>\n",
       "    </tr>\n",
       "    <tr>\n",
       "      <th>50%</th>\n",
       "      <td>0.700000</td>\n",
       "      <td>61.800000</td>\n",
       "      <td>57.000000</td>\n",
       "      <td>5.710000</td>\n",
       "      <td>3.530000</td>\n",
       "    </tr>\n",
       "    <tr>\n",
       "      <th>75%</th>\n",
       "      <td>1.040000</td>\n",
       "      <td>62.500000</td>\n",
       "      <td>59.000000</td>\n",
       "      <td>6.540000</td>\n",
       "      <td>4.040000</td>\n",
       "    </tr>\n",
       "    <tr>\n",
       "      <th>max</th>\n",
       "      <td>5.010000</td>\n",
       "      <td>79.000000</td>\n",
       "      <td>95.000000</td>\n",
       "      <td>58.900000</td>\n",
       "      <td>31.800000</td>\n",
       "    </tr>\n",
       "  </tbody>\n",
       "</table>\n",
       "</div>"
      ],
      "text/plain": [
       "              carat         depth         table             y             z\n",
       "count  53939.000000  53940.000000  53938.000000  53939.000000  53939.000000\n",
       "mean       0.797946     61.749405     57.457145      5.734479      3.538722\n",
       "std        0.474013      1.432621      2.234521      1.142092      0.705700\n",
       "min        0.200000     43.000000     43.000000      0.000000      0.000000\n",
       "25%        0.400000     61.000000     56.000000      4.720000      2.910000\n",
       "50%        0.700000     61.800000     57.000000      5.710000      3.530000\n",
       "75%        1.040000     62.500000     59.000000      6.540000      4.040000\n",
       "max        5.010000     79.000000     95.000000     58.900000     31.800000"
      ]
     },
     "execution_count": 5,
     "metadata": {},
     "output_type": "execute_result"
    }
   ],
   "source": [
    "df.describe()"
   ]
  },
  {
   "cell_type": "code",
   "execution_count": 6,
   "metadata": {},
   "outputs": [
    {
     "data": {
      "text/plain": [
       "(53940, 10)"
      ]
     },
     "execution_count": 6,
     "metadata": {},
     "output_type": "execute_result"
    }
   ],
   "source": [
    "df.shape # 53940 filas y 10 columnas\n"
   ]
  },
  {
   "cell_type": "code",
   "execution_count": 7,
   "metadata": {},
   "outputs": [
    {
     "data": {
      "text/plain": [
       "Index(['carat', 'cut', 'color', 'clarity', 'depth', 'table', 'price', 'x', 'y',\n",
       "       'z'],\n",
       "      dtype='object')"
      ]
     },
     "execution_count": 7,
     "metadata": {},
     "output_type": "execute_result"
    }
   ],
   "source": [
    "df.keys() # obtenemos los nombres de las columnas"
   ]
  },
  {
   "cell_type": "code",
   "execution_count": 8,
   "metadata": {},
   "outputs": [
    {
     "data": {
      "text/plain": [
       "False"
      ]
     },
     "execution_count": 8,
     "metadata": {},
     "output_type": "execute_result"
    }
   ],
   "source": [
    "df.empty # nos dice si el dataframe está vacío"
   ]
  },
  {
   "cell_type": "code",
   "execution_count": 9,
   "metadata": {},
   "outputs": [
    {
     "data": {
      "text/plain": [
       "<bound method DataFrame.query of        carat        cut color clarity  depth  table price     x     y     z\n",
       "0       0.23      Ideal     E     SI2   61.5   55.0   326  3.95  3.98  2.43\n",
       "1       0.21    Premium     E     SI1   59.8   61.0   326  3.89  3.84  2.31\n",
       "2       0.23       Good     E     VS1   56.9   65.0   327  4.05  4.07  2.31\n",
       "3       0.29    Premium     I     VS2   62.4   58.0   334   4.2  4.23  2.63\n",
       "4       0.31       Good     J     SI2   63.3   58.0   335  4.34  4.35  2.75\n",
       "...      ...        ...   ...     ...    ...    ...   ...   ...   ...   ...\n",
       "53935   0.72      Ideal     D     SI1   60.8   57.0  2757  5.75  5.76  3.50\n",
       "53936   0.72       Good     D     SI1   63.1   55.0  2757  5.69  5.75  3.61\n",
       "53937   0.70  Very Good     D     SI1   62.8   60.0  2757  5.66  5.68  3.56\n",
       "53938   0.86    Premium     H     SI2   61.0   58.0  2757  6.15  6.12  3.74\n",
       "53939   0.75      Ideal     D     SI2   62.2   55.0  2757  5.83  5.87  3.64\n",
       "\n",
       "[53940 rows x 10 columns]>"
      ]
     },
     "execution_count": 9,
     "metadata": {},
     "output_type": "execute_result"
    }
   ],
   "source": [
    "df.query # nos permite hacer consultas al dataframe"
   ]
  },
  {
   "cell_type": "code",
   "execution_count": 10,
   "metadata": {},
   "outputs": [
    {
     "data": {
      "text/plain": [
       "array([[0.23, 'Ideal', 'E', ..., '3.95', 3.98, 2.43],\n",
       "       [0.21, 'Premium', 'E', ..., '3.89', 3.84, 2.31],\n",
       "       [0.23, 'Good', 'E', ..., '4.05', 4.07, 2.31],\n",
       "       ...,\n",
       "       [0.7, 'Very Good', 'D', ..., '5.66', 5.68, 3.56],\n",
       "       [0.86, 'Premium', 'H', ..., '6.15', 6.12, 3.74],\n",
       "       [0.75, 'Ideal', 'D', ..., '5.83', 5.87, 3.64]],\n",
       "      shape=(53940, 10), dtype=object)"
      ]
     },
     "execution_count": 10,
     "metadata": {},
     "output_type": "execute_result"
    }
   ],
   "source": [
    "df.values # nos devuelve los valores del dataframe en forma de array de filas"
   ]
  },
  {
   "cell_type": "code",
   "execution_count": null,
   "metadata": {},
   "outputs": [],
   "source": []
  },
  {
   "cell_type": "markdown",
   "metadata": {},
   "source": [
    "### 1.2. Limpieza de valores error: \n"
   ]
  },
  {
   "cell_type": "markdown",
   "metadata": {},
   "source": [
    "Para trabajar más correctamente con un dataframe, es necesario limpia los datos, es decir, eliminar los valores nulos, duplicados y valores atípicos. Para ello, se pueden utilizar los siguientes métodos:"
   ]
  },
  {
   "cell_type": "code",
   "execution_count": 11,
   "metadata": {},
   "outputs": [
    {
     "name": "stdout",
     "output_type": "stream",
     "text": [
      "Número de valores nulos por columna:\n",
      "carat      1\n",
      "cut        3\n",
      "color      2\n",
      "clarity    2\n",
      "depth      0\n",
      "table      2\n",
      "price      2\n",
      "x          2\n",
      "y          1\n",
      "z          1\n",
      "dtype: int64\n"
     ]
    }
   ],
   "source": [
    "# Comprobar si hay valores nulos en cada columna (sean '?', 'nan, o no)\n",
    "print(\"Número de valores nulos por columna:\") \n",
    "print(df.isnull().sum()) "
   ]
  },
  {
   "cell_type": "markdown",
   "metadata": {},
   "source": [
    "#### 1.2.1. sabemos que hay columnas que tienen un valor '?', por tanto se deben reemplazar por un valor nan.\n"
   ]
  },
  {
   "cell_type": "code",
   "execution_count": null,
   "metadata": {},
   "outputs": [
    {
     "name": "stdout",
     "output_type": "stream",
     "text": [
      "True\n"
     ]
    }
   ],
   "source": [
    "# Verificar si hay valores exactamente iguales a '?'\n",
    "print((df == '?').any().any())\n"
   ]
  },
  {
   "cell_type": "code",
   "execution_count": 13,
   "metadata": {},
   "outputs": [
    {
     "name": "stdout",
     "output_type": "stream",
     "text": [
      "Filas con valores '?':\n",
      "       carat    cut color clarity  depth  table price     x     y     z\n",
      "49222   0.56  Ideal     ?    VVS2   61.6   56.0  2081     ?  5.29  3.27\n",
      "49227   0.50      ?     E    VVS2   61.7   61.0  2083  5.09  5.12  3.15\n",
      "49229   0.70   Good     H     VS2   63.8   60.0     ?  5.59  5.51  3.54\n"
     ]
    }
   ],
   "source": [
    "# Buscar las filas donde hay valores '?'\n",
    "rows_with_question_mark = df.isin(['?']).any(axis=1) # Devuelve una Serie con True en las filas que contienen '?'\n",
    "\n",
    "# Mostrar las filas que contienen '?'\n",
    "rows_with_question_mark_df = df[rows_with_question_mark] # Filtrar las filas que contienen '?'\n",
    "print(\"Filas con valores '?':\")\n",
    "print(rows_with_question_mark_df) # imprime las filas que contienen '?'"
   ]
  },
  {
   "cell_type": "code",
   "execution_count": 14,
   "metadata": {},
   "outputs": [
    {
     "name": "stdout",
     "output_type": "stream",
     "text": [
      "Filas con valores ?: \n",
      "       carat    cut color clarity  depth  table price     x     y     z\n",
      "49222   0.56  Ideal     ?    VVS2   61.6   56.0  2081     ?  5.29  3.27\n",
      "49227   0.50      ?     E    VVS2   61.7   61.0  2083  5.09  5.12  3.15\n",
      "49229   0.70   Good     H     VS2   63.8   60.0     ?  5.59  5.51  3.54\n",
      "------------------------------------\n",
      "Índices de las filas con valores '?':\n",
      "[49222, 49227, 49229]\n"
     ]
    }
   ],
   "source": [
    "# Buscar las filas donde hay valores texto\n",
    "def busca_filas_con_texto(df, texto):\n",
    "    # Identificar las filas que contienen el texto\n",
    "    rows_with_texto_mark = df.isin([texto]).any(axis=1) # Devuelve una Serie con True en las filas que contienen 'texto'\n",
    "    rows_with_texto_mark_df = df[rows_with_texto_mark] # Filtrar las filas que contienen 'texto'\n",
    "    # Obtener los índices de las filas\n",
    "    indices = rows_with_texto_mark_df.index.tolist()\n",
    "    \n",
    "    return rows_with_texto_mark_df, indices\n",
    "\n",
    "texto = '?' # texto a buscar\n",
    "filas_con_texto, indices = busca_filas_con_texto(df, texto)\n",
    "\n",
    "busca_filas_con_texto(df, texto)\n",
    "print(f\"Filas con valores {texto}: \")\n",
    "print(filas_con_texto) # imprime las filas que contienen 'texto'\n",
    "print('------------------------------------')\n",
    "print(f\"Índices de las filas con valores '{texto}':\")\n",
    "print(indices)"
   ]
  },
  {
   "cell_type": "code",
   "execution_count": 15,
   "metadata": {},
   "outputs": [],
   "source": [
    "# Reemplazar valores '?' por NaN\n",
    "df = df.replace('?', np.nan) \n"
   ]
  },
  {
   "cell_type": "code",
   "execution_count": 16,
   "metadata": {},
   "outputs": [
    {
     "name": "stdout",
     "output_type": "stream",
     "text": [
      "Número de valores nulos por columna:\n",
      "carat      1\n",
      "cut        4\n",
      "color      3\n",
      "clarity    2\n",
      "depth      0\n",
      "table      2\n",
      "price      3\n",
      "x          3\n",
      "y          1\n",
      "z          1\n",
      "dtype: int64\n"
     ]
    }
   ],
   "source": [
    "# Comprobar si hay valores nulos en cada columna\n",
    "print(\"Número de valores nulos por columna:\")\n",
    "print(df.isnull().sum()) # Devuelve el número de valores nulos por columna"
   ]
  },
  {
   "cell_type": "markdown",
   "metadata": {},
   "source": [
    "Hemos comprobado que aparecen 3 valores nulos en las columnas donde antes había interrogación"
   ]
  },
  {
   "cell_type": "code",
   "execution_count": 17,
   "metadata": {},
   "outputs": [
    {
     "name": "stdout",
     "output_type": "stream",
     "text": [
      "False\n"
     ]
    }
   ],
   "source": [
    "# Verificar si hay valores exactamente iguales a '?'\n",
    "print((df == '?').any().any()) # Devuelve True si hay algún valor igual a '?'\n"
   ]
  },
  {
   "cell_type": "markdown",
   "metadata": {},
   "source": [
    "con esto ya hemos quitado los interrogantes y los hemos sustituido por nan"
   ]
  },
  {
   "cell_type": "markdown",
   "metadata": {},
   "source": [
    "### 1.3. Cambio de tipo de dato: .astype() a numéricos y textos, por ejemplo a categorical y carat a float32 o float16\n"
   ]
  },
  {
   "cell_type": "code",
   "execution_count": 18,
   "metadata": {},
   "outputs": [
    {
     "name": "stdout",
     "output_type": "stream",
     "text": [
      "<class 'pandas.core.frame.DataFrame'>\n",
      "RangeIndex: 53940 entries, 0 to 53939\n",
      "Data columns (total 10 columns):\n",
      " #   Column   Non-Null Count  Dtype  \n",
      "---  ------   --------------  -----  \n",
      " 0   carat    53939 non-null  float64\n",
      " 1   cut      53936 non-null  object \n",
      " 2   color    53937 non-null  object \n",
      " 3   clarity  53938 non-null  object \n",
      " 4   depth    53940 non-null  float64\n",
      " 5   table    53938 non-null  float64\n",
      " 6   price    53937 non-null  object \n",
      " 7   x        53937 non-null  object \n",
      " 8   y        53939 non-null  float64\n",
      " 9   z        53939 non-null  float64\n",
      "dtypes: float64(5), object(5)\n",
      "memory usage: 4.1+ MB\n"
     ]
    }
   ],
   "source": [
    "df.info() # información del dataset"
   ]
  },
  {
   "cell_type": "code",
   "execution_count": 19,
   "metadata": {},
   "outputs": [
    {
     "name": "stdout",
     "output_type": "stream",
     "text": [
      "<class 'pandas.core.frame.DataFrame'>\n",
      "RangeIndex: 53940 entries, 0 to 53939\n",
      "Data columns (total 10 columns):\n",
      " #   Column   Non-Null Count  Dtype   \n",
      "---  ------   --------------  -----   \n",
      " 0   carat    53939 non-null  float64 \n",
      " 1   cut      53936 non-null  category\n",
      " 2   color    53937 non-null  category\n",
      " 3   clarity  53938 non-null  category\n",
      " 4   depth    53940 non-null  float64 \n",
      " 5   table    53938 non-null  float64 \n",
      " 6   price    53937 non-null  object  \n",
      " 7   x        53937 non-null  float64 \n",
      " 8   y        53939 non-null  float64 \n",
      " 9   z        53939 non-null  float64 \n",
      "dtypes: category(3), float64(6), object(1)\n",
      "memory usage: 3.0+ MB\n"
     ]
    }
   ],
   "source": [
    "# Cambiar el tipo de las columnas object (que no sean el precio) a categorical\n",
    "df[\"cut\"] = df[\"cut\"].astype(\"category\")\n",
    "df[\"color\"] = df[\"color\"].astype(\"category\")\n",
    "df[\"clarity\"] = df[\"clarity\"].astype(\"category\")\n",
    "\n",
    "# Cambiar a float64 para poder usarlo para calcular el volumen\n",
    "df[\"x\"] = df[\"x\"].astype(\"float64\") \n",
    "\n",
    "\n",
    "df.info()"
   ]
  },
  {
   "cell_type": "markdown",
   "metadata": {},
   "source": [
    "ya está cambiado el tipo de la columna cut"
   ]
  },
  {
   "cell_type": "markdown",
   "metadata": {},
   "source": [
    "##### 1.3.1. cambio de tipo de dato de carat , a float16"
   ]
  },
  {
   "cell_type": "code",
   "execution_count": 20,
   "metadata": {},
   "outputs": [
    {
     "name": "stdout",
     "output_type": "stream",
     "text": [
      "<class 'pandas.core.frame.DataFrame'>\n",
      "RangeIndex: 53940 entries, 0 to 53939\n",
      "Data columns (total 10 columns):\n",
      " #   Column   Non-Null Count  Dtype   \n",
      "---  ------   --------------  -----   \n",
      " 0   carat    53939 non-null  float16 \n",
      " 1   cut      53936 non-null  category\n",
      " 2   color    53937 non-null  category\n",
      " 3   clarity  53938 non-null  category\n",
      " 4   depth    53940 non-null  float64 \n",
      " 5   table    53938 non-null  float64 \n",
      " 6   price    53937 non-null  object  \n",
      " 7   x        53937 non-null  float64 \n",
      " 8   y        53939 non-null  float64 \n",
      " 9   z        53939 non-null  float64 \n",
      "dtypes: category(3), float16(1), float64(5), object(1)\n",
      "memory usage: 2.7+ MB\n"
     ]
    }
   ],
   "source": [
    "df[\"carat\"] = df[\"carat\"].astype(\"float16\") # Cambiar a float16 para reducir el uso de memoria\n",
    "df.info()"
   ]
  },
  {
   "cell_type": "markdown",
   "metadata": {},
   "source": [
    "Ya hemos pasado el tipo de la columna carat de float64 a float 16 para ahorrar memoria"
   ]
  },
  {
   "cell_type": "markdown",
   "metadata": {},
   "source": [
    "### 1.4. Limpieza de nulos (limpiar valores NaN):\n"
   ]
  },
  {
   "cell_type": "code",
   "execution_count": 21,
   "metadata": {},
   "outputs": [],
   "source": [
    "# df['cut'].fillna(df['cut'].mode()[0], inplace=True)"
   ]
  },
  {
   "cell_type": "code",
   "execution_count": 22,
   "metadata": {},
   "outputs": [
    {
     "name": "stdout",
     "output_type": "stream",
     "text": [
      "Número de valores nulos por columna:\n",
      "carat      1\n",
      "cut        4\n",
      "color      3\n",
      "clarity    2\n",
      "depth      0\n",
      "table      2\n",
      "price      3\n",
      "x          3\n",
      "y          1\n",
      "z          1\n",
      "dtype: int64\n"
     ]
    }
   ],
   "source": [
    "# Comprobar si hay valores nulos en cada columna\n",
    "print(\"Número de valores nulos por columna:\")\n",
    "print(df.isnull().sum()) # Devuelve el número de valores nulos por columna"
   ]
  },
  {
   "cell_type": "markdown",
   "metadata": {},
   "source": [
    "Vemos que hay nulos en casi todas las columnas, salvo en depth"
   ]
  },
  {
   "cell_type": "code",
   "execution_count": 23,
   "metadata": {},
   "outputs": [
    {
     "name": "stdout",
     "output_type": "stream",
     "text": [
      "<class 'pandas.core.frame.DataFrame'>\n",
      "RangeIndex: 53940 entries, 0 to 53939\n",
      "Data columns (total 10 columns):\n",
      " #   Column   Non-Null Count  Dtype   \n",
      "---  ------   --------------  -----   \n",
      " 0   carat    53939 non-null  float16 \n",
      " 1   cut      53936 non-null  category\n",
      " 2   color    53937 non-null  category\n",
      " 3   clarity  53938 non-null  category\n",
      " 4   depth    53940 non-null  float64 \n",
      " 5   table    53938 non-null  float64 \n",
      " 6   price    53937 non-null  float32 \n",
      " 7   x        53937 non-null  float64 \n",
      " 8   y        53939 non-null  float64 \n",
      " 9   z        53939 non-null  float64 \n",
      "dtypes: category(3), float16(1), float32(1), float64(5)\n",
      "memory usage: 2.5 MB\n"
     ]
    }
   ],
   "source": [
    "# la columna price viene como object, hay que pasarla a número antes de quitar los nulos, porque si no tendríamos que poner la moda\n",
    "df[\"price\"] = pd.to_numeric(df[\"price\"], errors=\"coerce\")\n",
    "# Cambiar a int32 para poder hacer gráficas\n",
    "df[\"price\"] = df[\"price\"].astype(\"float32\") \n",
    "\n",
    "df.info()\n"
   ]
  },
  {
   "cell_type": "code",
   "execution_count": 24,
   "metadata": {},
   "outputs": [
    {
     "data": {
      "text/plain": [
       "'def quita_nan(df):\\n    for i in df.keys():\\n        print(i)\\n        df[i].fillna(df[i].mode()[0], inplace=True)'"
      ]
     },
     "execution_count": 24,
     "metadata": {},
     "output_type": "execute_result"
    }
   ],
   "source": [
    "'''def quita_nan(df):\n",
    "    for i in df.keys():\n",
    "        print(i)\n",
    "        df[i].fillna(df[i].mode()[0], inplace=True)'''\n",
    "        \n",
    "        "
   ]
  },
  {
   "cell_type": "code",
   "execution_count": 25,
   "metadata": {},
   "outputs": [
    {
     "data": {
      "text/plain": [
       "'def quita_nan(df): # Función para reemplazar los NaN por la moda de cada columna\\n    # Iterar sobre las columnas del DataFrame\\n    for i in df.keys(): # Iterar sobre las columnas del dataframe\\n        # Calcular la asimetría (skewness) de la columna\\n        skewness = stats.skew(df[i].dropna()) # Calcular la asimetría de la columna sin NaN\\n        print(f\\'Asimetría de: {i} : {skewness}\\') # Imprimir la asimetría de la columna i\\n\\n        # Reemplazar NaN según la asimetría\\n        if skewness > 1: # Si la asimetría es mayor a 1, reemplazar NaN por la mediana\\n            df[i].fillna(df[i].median(), inplace=True) # Reemplazar NaN por la mediana\\n            print(f\"Rellenando nulos en {i} con la mediana {df[i].median()}\") \\n\\n        else: # Si la asimetría es menor o igual a 1, reemplazar NaN por la media\\n            df[i].fillna(df[i].mean(), inplace=True) # Reemplazar NaN por la media\\n            print(f\"Rellenando nulos en {i} con la media {df[i].mean()}\") '"
      ]
     },
     "execution_count": 25,
     "metadata": {},
     "output_type": "execute_result"
    }
   ],
   "source": [
    "'''def quita_nan(df): # Función para reemplazar los NaN por la moda de cada columna\n",
    "    # Iterar sobre las columnas del DataFrame\n",
    "    for i in df.keys(): # Iterar sobre las columnas del dataframe\n",
    "        # Calcular la asimetría (skewness) de la columna\n",
    "        skewness = stats.skew(df[i].dropna()) # Calcular la asimetría de la columna sin NaN\n",
    "        print(f'Asimetría de: {i} : {skewness}') # Imprimir la asimetría de la columna i\n",
    "\n",
    "        # Reemplazar NaN según la asimetría\n",
    "        if skewness > 1: # Si la asimetría es mayor a 1, reemplazar NaN por la mediana\n",
    "            df[i].fillna(df[i].median(), inplace=True) # Reemplazar NaN por la mediana\n",
    "            print(f\"Rellenando nulos en {i} con la mediana {df[i].median()}\") \n",
    "\n",
    "        else: # Si la asimetría es menor o igual a 1, reemplazar NaN por la media\n",
    "            df[i].fillna(df[i].mean(), inplace=True) # Reemplazar NaN por la media\n",
    "            print(f\"Rellenando nulos en {i} con la media {df[i].mean()}\") '''\n"
   ]
  },
  {
   "cell_type": "code",
   "execution_count": 26,
   "metadata": {},
   "outputs": [
    {
     "name": "stdout",
     "output_type": "stream",
     "text": [
      "------------------------------------\n",
      "Antes de procesar:\n",
      "          carat        cut color clarity  depth  table   price     x     y  \\\n",
      "0      0.229980      Ideal     E     SI2   61.5   55.0   326.0  3.95  3.98   \n",
      "1      0.209961    Premium     E     SI1   59.8   61.0   326.0  3.89  3.84   \n",
      "2      0.229980       Good     E     VS1   56.9   65.0   327.0  4.05  4.07   \n",
      "3      0.290039    Premium     I     VS2   62.4   58.0   334.0  4.20  4.23   \n",
      "4      0.310059       Good     J     SI2   63.3   58.0   335.0  4.34  4.35   \n",
      "...         ...        ...   ...     ...    ...    ...     ...   ...   ...   \n",
      "53935  0.720215      Ideal     D     SI1   60.8   57.0  2757.0  5.75  5.76   \n",
      "53936  0.720215       Good     D     SI1   63.1   55.0  2757.0  5.69  5.75   \n",
      "53937  0.700195  Very Good     D     SI1   62.8   60.0  2757.0  5.66  5.68   \n",
      "53938  0.859863    Premium     H     SI2   61.0   58.0  2757.0  6.15  6.12   \n",
      "53939  0.750000      Ideal     D     SI2   62.2   55.0  2757.0  5.83  5.87   \n",
      "\n",
      "          z  \n",
      "0      2.43  \n",
      "1      2.31  \n",
      "2      2.31  \n",
      "3      2.63  \n",
      "4      2.75  \n",
      "...     ...  \n",
      "53935  3.50  \n",
      "53936  3.61  \n",
      "53937  3.56  \n",
      "53938  3.74  \n",
      "53939  3.64  \n",
      "\n",
      "[53940 rows x 10 columns]\n",
      "<class 'pandas.core.frame.DataFrame'>\n",
      "RangeIndex: 53940 entries, 0 to 53939\n",
      "Data columns (total 10 columns):\n",
      " #   Column   Non-Null Count  Dtype   \n",
      "---  ------   --------------  -----   \n",
      " 0   carat    53939 non-null  float16 \n",
      " 1   cut      53936 non-null  category\n",
      " 2   color    53937 non-null  category\n",
      " 3   clarity  53938 non-null  category\n",
      " 4   depth    53940 non-null  float64 \n",
      " 5   table    53938 non-null  float64 \n",
      " 6   price    53937 non-null  float32 \n",
      " 7   x        53937 non-null  float64 \n",
      " 8   y        53939 non-null  float64 \n",
      " 9   z        53939 non-null  float64 \n",
      "dtypes: category(3), float16(1), float32(1), float64(5)\n",
      "memory usage: 2.5 MB\n",
      "------------------------------------\n",
      "Procesando columna: carat\n",
      "1....................................\n",
      "La columna carat es numérica\n",
      "Asimetría de carat: 1.1171875\n",
      "4....................................\n",
      "Rellenando nulos en carat con la mediana: 0.7001953125\n",
      "Procesando columna: cut\n",
      "1....................................\n",
      "La columna cut es de texto\n",
      "5....................................\n",
      "Rellenando nulos en cut con la moda: Ideal\n",
      "Procesando columna: color\n",
      "1....................................\n",
      "La columna color es de texto\n",
      "5....................................\n",
      "Rellenando nulos en color con la moda: G\n",
      "Procesando columna: clarity\n",
      "1....................................\n",
      "La columna clarity es de texto\n",
      "5....................................\n",
      "Rellenando nulos en clarity con la moda: SI1\n",
      "Procesando columna: depth\n",
      "1....................................\n",
      "La columna depth es numérica\n",
      "Asimetría de depth: -0.08229173779627727\n",
      "4....................................\n",
      "Rellenando nulos en depth con la media: 61.749404894327036\n",
      "Procesando columna: table\n",
      "1....................................\n",
      "La columna table es numérica\n",
      "Asimetría de table: 0.7969163326008666\n",
      "4....................................\n",
      "Rellenando nulos en table con la media: 57.45714524083207\n",
      "Procesando columna: price\n",
      "1....................................\n",
      "La columna price es numérica\n",
      "Asimetría de price: 1.618294358253479\n",
      "4....................................\n",
      "Rellenando nulos en price con la mediana: 2401.0\n",
      "Procesando columna: x\n",
      "1....................................\n",
      "La columna x es numérica\n",
      "Asimetría de x: 0.3786955087690976\n",
      "4....................................\n",
      "Rellenando nulos en x con la media: 5.7311431855683495\n",
      "Procesando columna: y\n",
      "1....................................\n",
      "La columna y es numérica\n",
      "Asimetría de y: 2.43433213298009\n",
      "4....................................\n",
      "Rellenando nulos en y con la mediana: 5.71\n",
      "Procesando columna: z\n",
      "1....................................\n",
      "La columna z es numérica\n",
      "Asimetría de z: 1.522438924979246\n",
      "4....................................\n",
      "Rellenando nulos en z con la mediana: 3.53\n",
      "------------------------------------\n",
      "------------------------------------\n",
      "Después de procesar:\n",
      "          carat        cut color clarity  depth  table   price     x     y  \\\n",
      "0      0.229980      Ideal     E     SI2   61.5   55.0   326.0  3.95  3.98   \n",
      "1      0.209961    Premium     E     SI1   59.8   61.0   326.0  3.89  3.84   \n",
      "2      0.229980       Good     E     VS1   56.9   65.0   327.0  4.05  4.07   \n",
      "3      0.290039    Premium     I     VS2   62.4   58.0   334.0  4.20  4.23   \n",
      "4      0.310059       Good     J     SI2   63.3   58.0   335.0  4.34  4.35   \n",
      "...         ...        ...   ...     ...    ...    ...     ...   ...   ...   \n",
      "53935  0.720215      Ideal     D     SI1   60.8   57.0  2757.0  5.75  5.76   \n",
      "53936  0.720215       Good     D     SI1   63.1   55.0  2757.0  5.69  5.75   \n",
      "53937  0.700195  Very Good     D     SI1   62.8   60.0  2757.0  5.66  5.68   \n",
      "53938  0.859863    Premium     H     SI2   61.0   58.0  2757.0  6.15  6.12   \n",
      "53939  0.750000      Ideal     D     SI2   62.2   55.0  2757.0  5.83  5.87   \n",
      "\n",
      "          z  \n",
      "0      2.43  \n",
      "1      2.31  \n",
      "2      2.31  \n",
      "3      2.63  \n",
      "4      2.75  \n",
      "...     ...  \n",
      "53935  3.50  \n",
      "53936  3.61  \n",
      "53937  3.56  \n",
      "53938  3.74  \n",
      "53939  3.64  \n",
      "\n",
      "[53940 rows x 10 columns]\n",
      "<class 'pandas.core.frame.DataFrame'>\n",
      "RangeIndex: 53940 entries, 0 to 53939\n",
      "Data columns (total 10 columns):\n",
      " #   Column   Non-Null Count  Dtype   \n",
      "---  ------   --------------  -----   \n",
      " 0   carat    53940 non-null  float16 \n",
      " 1   cut      53940 non-null  category\n",
      " 2   color    53940 non-null  category\n",
      " 3   clarity  53940 non-null  category\n",
      " 4   depth    53940 non-null  float64 \n",
      " 5   table    53940 non-null  float64 \n",
      " 6   price    53940 non-null  float32 \n",
      " 7   x        53940 non-null  float64 \n",
      " 8   y        53940 non-null  float64 \n",
      " 9   z        53940 non-null  float64 \n",
      "dtypes: category(3), float16(1), float32(1), float64(5)\n",
      "memory usage: 2.5 MB\n",
      "------------------------------------\n",
      "Número de valores nulos por columna:\n",
      "carat      0\n",
      "cut        0\n",
      "color      0\n",
      "clarity    0\n",
      "depth      0\n",
      "table      0\n",
      "price      0\n",
      "x          0\n",
      "y          0\n",
      "z          0\n",
      "dtype: int64\n",
      "------------------------------------\n"
     ]
    },
    {
     "name": "stderr",
     "output_type": "stream",
     "text": [
      "c:\\Users\\carol\\AppData\\Local\\Programs\\Python\\Python313\\Lib\\site-packages\\pandas\\io\\formats\\format.py:1458: RuntimeWarning: overflow encountered in cast\n",
      "  has_large_values = (abs_vals > 1e6).any()\n",
      "C:\\Users\\carol\\AppData\\Local\\Temp\\ipykernel_1728\\1632911507.py:29: FutureWarning: A value is trying to be set on a copy of a DataFrame or Series through chained assignment using an inplace method.\n",
      "The behavior will change in pandas 3.0. This inplace method will never work because the intermediate object on which we are setting values always behaves as a copy.\n",
      "\n",
      "For example, when doing 'df[col].method(value, inplace=True)', try using 'df.method({col: value}, inplace=True)' or df[col] = df[col].method(value) instead, to perform the operation inplace on the original object.\n",
      "\n",
      "\n",
      "  df[i].fillna(mediana, inplace=True)\n",
      "C:\\Users\\carol\\AppData\\Local\\Temp\\ipykernel_1728\\1632911507.py:47: FutureWarning: A value is trying to be set on a copy of a DataFrame or Series through chained assignment using an inplace method.\n",
      "The behavior will change in pandas 3.0. This inplace method will never work because the intermediate object on which we are setting values always behaves as a copy.\n",
      "\n",
      "For example, when doing 'df[col].method(value, inplace=True)', try using 'df.method({col: value}, inplace=True)' or df[col] = df[col].method(value) instead, to perform the operation inplace on the original object.\n",
      "\n",
      "\n",
      "  df[i].fillna(moda, inplace=True)\n",
      "C:\\Users\\carol\\AppData\\Local\\Temp\\ipykernel_1728\\1632911507.py:33: FutureWarning: A value is trying to be set on a copy of a DataFrame or Series through chained assignment using an inplace method.\n",
      "The behavior will change in pandas 3.0. This inplace method will never work because the intermediate object on which we are setting values always behaves as a copy.\n",
      "\n",
      "For example, when doing 'df[col].method(value, inplace=True)', try using 'df.method({col: value}, inplace=True)' or df[col] = df[col].method(value) instead, to perform the operation inplace on the original object.\n",
      "\n",
      "\n",
      "  df[i].fillna(media, inplace=True)\n",
      "C:\\Users\\carol\\AppData\\Local\\Temp\\ipykernel_1728\\1632911507.py:29: FutureWarning: A value is trying to be set on a copy of a DataFrame or Series through chained assignment using an inplace method.\n",
      "The behavior will change in pandas 3.0. This inplace method will never work because the intermediate object on which we are setting values always behaves as a copy.\n",
      "\n",
      "For example, when doing 'df[col].method(value, inplace=True)', try using 'df.method({col: value}, inplace=True)' or df[col] = df[col].method(value) instead, to perform the operation inplace on the original object.\n",
      "\n",
      "\n",
      "  df[i].fillna(mediana, inplace=True)\n",
      "C:\\Users\\carol\\AppData\\Local\\Temp\\ipykernel_1728\\1632911507.py:33: FutureWarning: A value is trying to be set on a copy of a DataFrame or Series through chained assignment using an inplace method.\n",
      "The behavior will change in pandas 3.0. This inplace method will never work because the intermediate object on which we are setting values always behaves as a copy.\n",
      "\n",
      "For example, when doing 'df[col].method(value, inplace=True)', try using 'df.method({col: value}, inplace=True)' or df[col] = df[col].method(value) instead, to perform the operation inplace on the original object.\n",
      "\n",
      "\n",
      "  df[i].fillna(media, inplace=True)\n",
      "C:\\Users\\carol\\AppData\\Local\\Temp\\ipykernel_1728\\1632911507.py:29: FutureWarning: A value is trying to be set on a copy of a DataFrame or Series through chained assignment using an inplace method.\n",
      "The behavior will change in pandas 3.0. This inplace method will never work because the intermediate object on which we are setting values always behaves as a copy.\n",
      "\n",
      "For example, when doing 'df[col].method(value, inplace=True)', try using 'df.method({col: value}, inplace=True)' or df[col] = df[col].method(value) instead, to perform the operation inplace on the original object.\n",
      "\n",
      "\n",
      "  df[i].fillna(mediana, inplace=True)\n",
      "C:\\Users\\carol\\AppData\\Local\\Temp\\ipykernel_1728\\1632911507.py:29: FutureWarning: A value is trying to be set on a copy of a DataFrame or Series through chained assignment using an inplace method.\n",
      "The behavior will change in pandas 3.0. This inplace method will never work because the intermediate object on which we are setting values always behaves as a copy.\n",
      "\n",
      "For example, when doing 'df[col].method(value, inplace=True)', try using 'df.method({col: value}, inplace=True)' or df[col] = df[col].method(value) instead, to perform the operation inplace on the original object.\n",
      "\n",
      "\n",
      "  df[i].fillna(mediana, inplace=True)\n",
      "c:\\Users\\carol\\AppData\\Local\\Programs\\Python\\Python313\\Lib\\site-packages\\pandas\\io\\formats\\format.py:1458: RuntimeWarning: overflow encountered in cast\n",
      "  has_large_values = (abs_vals > 1e6).any()\n"
     ]
    }
   ],
   "source": [
    "def quita_nan(df):\n",
    "    columnas_no_procesadas = []  # Lista Para registrar columnas que no se pudieron procesar\n",
    "    print('------------------------------------')\n",
    "    # Iterar sobre las columnas del DataFrame\n",
    "    for i in df.columns:\n",
    "        print(f\"Procesando columna: {i}\")\n",
    "        print('1....................................')\n",
    "        # Validar si la columna contiene al menos un valor no nulo\n",
    "        if df[i].dropna().empty:\n",
    "            print(f\"La columna {i} está completamente vacía. No se puede calcular la asimetría.\")\n",
    "            print('2....................................')\n",
    "            columnas_no_procesadas.append((i, \"Columna completamente vacía\"))\n",
    "\n",
    "        # Si la columna es numérica\n",
    "        if df[i].dtype in [np.float64, np.float32, np.float16, np.int64, np.int32, np.int16]:\n",
    "            # Validar si la columna contiene al menos un valor no nulo\n",
    " \n",
    "            print(f\"La columna {i} es numérica\")\n",
    "\n",
    "            # Calcular la asimetría (skewness) de la columna sin NaN\n",
    "            skewness = stats.skew(df[i].dropna())\n",
    "            print(f\"Asimetría de {i}: {skewness}\")\n",
    "            print('4....................................')\n",
    "\n",
    "            # Reemplazar NaN según la asimetría\n",
    "            try:\n",
    "                if skewness > 1:\n",
    "                    mediana = df[i].median()\n",
    "                    df[i].fillna(mediana, inplace=True)\n",
    "                    print(f\"Rellenando nulos en {i} con la mediana: {mediana}\")\n",
    "                else:\n",
    "                    media = df[i].mean()\n",
    "                    df[i].fillna(media, inplace=True)\n",
    "                    print(f\"Rellenando nulos en {i} con la media: {media}\")\n",
    "            except Exception as e:\n",
    "                print(f\"Error al procesar la columna {i}: {e}\")\n",
    "                columnas_no_procesadas.append((i, f\"Error: {e}\"))\n",
    "\n",
    "        # Si la columna no es numérica\n",
    "        else:\n",
    "            # Intentar rellenar con la moda\n",
    "            print(f\"La columna {i} es de texto\")\n",
    "            print('5....................................')\n",
    "\n",
    "            try:\n",
    "                moda = df[i].mode()[0]\n",
    "                df[i].fillna(moda, inplace=True)\n",
    "                print(f\"Rellenando nulos en {i} con la moda: {moda}\")\n",
    "            except Exception as e:\n",
    "                print(f\"Error al procesar la columna {i}: {e}\")\n",
    "                columnas_no_procesadas.append((i, f\"Error: {e}\"))\n",
    "    print('------------------------------------')\n",
    "    return columnas_no_procesadas\n",
    "            \n",
    "print('------------------------------------')\n",
    "print(\"Antes de procesar:\")\n",
    "print(df)\n",
    "df.info()\n",
    "\n",
    "quita_nan(df)\n",
    "\n",
    "# Verificar si quedan valores nulos\n",
    "print('------------------------------------')\n",
    "print(\"Después de procesar:\")\n",
    "print(df)\n",
    "df.info()\n",
    "print('------------------------------------')\n",
    "print(\"Número de valores nulos por columna:\")\n",
    "print(df.isnull().sum())\n",
    "print('------------------------------------')\n",
    "\n",
    "# Mostrar las columnas que no pudieron procesarse\n",
    "#print(\"Columnas no procesadas:\")\n",
    "#for i in columnas_no_procesadas:\n",
    "#    print(f\"Columna: {i}\")\n"
   ]
  },
  {
   "cell_type": "code",
   "execution_count": 27,
   "metadata": {},
   "outputs": [
    {
     "name": "stdout",
     "output_type": "stream",
     "text": [
      "------------------------------------\n",
      "Procesando columna: carat\n",
      "1....................................\n",
      "La columna carat es numérica\n",
      "Asimetría de carat: 1.1171875\n",
      "4....................................\n",
      "Rellenando nulos en carat con la mediana: 0.7001953125\n",
      "Procesando columna: cut\n",
      "1....................................\n",
      "La columna cut es de texto\n",
      "5....................................\n",
      "Rellenando nulos en cut con la moda: Ideal\n",
      "Procesando columna: color\n",
      "1....................................\n",
      "La columna color es de texto\n",
      "5....................................\n",
      "Rellenando nulos en color con la moda: G\n",
      "Procesando columna: clarity\n",
      "1....................................\n",
      "La columna clarity es de texto\n",
      "5....................................\n",
      "Rellenando nulos en clarity con la moda: SI1\n",
      "Procesando columna: depth\n",
      "1....................................\n",
      "La columna depth es numérica\n",
      "Asimetría de depth: -0.08229173779627727\n",
      "4....................................\n",
      "Rellenando nulos en depth con la media: 61.749404894327036\n",
      "Procesando columna: table\n",
      "1....................................\n",
      "La columna table es numérica\n",
      "Asimetría de table: 0.7969311071372762\n",
      "4....................................\n",
      "Rellenando nulos en table con la media: 57.45714524083208\n",
      "Procesando columna: price\n",
      "1....................................\n",
      "La columna price es numérica\n",
      "Asimetría de price: 1.6183805465698242\n",
      "4....................................\n",
      "Rellenando nulos en price con la mediana: 2401.0\n",
      "Procesando columna: x\n",
      "1....................................\n",
      "La columna x es numérica\n",
      "Asimetría de x: 0.37870604022922566\n",
      "4....................................\n",
      "Rellenando nulos en x con la media: 5.731143185568348\n",
      "Procesando columna: y\n",
      "1....................................\n",
      "La columna y es numérica\n",
      "Asimetría de y: 2.434355859271755\n",
      "4....................................\n",
      "Rellenando nulos en y con la mediana: 5.71\n",
      "Procesando columna: z\n",
      "1....................................\n",
      "La columna z es numérica\n",
      "Asimetría de z: 1.5224537183951334\n",
      "4....................................\n",
      "Rellenando nulos en z con la mediana: 3.53\n",
      "------------------------------------\n",
      "Número de valores nulos por columna:\n",
      "carat      0\n",
      "cut        0\n",
      "color      0\n",
      "clarity    0\n",
      "depth      0\n",
      "table      0\n",
      "price      0\n",
      "x          0\n",
      "y          0\n",
      "z          0\n",
      "dtype: int64\n"
     ]
    },
    {
     "name": "stderr",
     "output_type": "stream",
     "text": [
      "C:\\Users\\carol\\AppData\\Local\\Temp\\ipykernel_1728\\1632911507.py:29: FutureWarning: A value is trying to be set on a copy of a DataFrame or Series through chained assignment using an inplace method.\n",
      "The behavior will change in pandas 3.0. This inplace method will never work because the intermediate object on which we are setting values always behaves as a copy.\n",
      "\n",
      "For example, when doing 'df[col].method(value, inplace=True)', try using 'df.method({col: value}, inplace=True)' or df[col] = df[col].method(value) instead, to perform the operation inplace on the original object.\n",
      "\n",
      "\n",
      "  df[i].fillna(mediana, inplace=True)\n",
      "C:\\Users\\carol\\AppData\\Local\\Temp\\ipykernel_1728\\1632911507.py:47: FutureWarning: A value is trying to be set on a copy of a DataFrame or Series through chained assignment using an inplace method.\n",
      "The behavior will change in pandas 3.0. This inplace method will never work because the intermediate object on which we are setting values always behaves as a copy.\n",
      "\n",
      "For example, when doing 'df[col].method(value, inplace=True)', try using 'df.method({col: value}, inplace=True)' or df[col] = df[col].method(value) instead, to perform the operation inplace on the original object.\n",
      "\n",
      "\n",
      "  df[i].fillna(moda, inplace=True)\n",
      "C:\\Users\\carol\\AppData\\Local\\Temp\\ipykernel_1728\\1632911507.py:33: FutureWarning: A value is trying to be set on a copy of a DataFrame or Series through chained assignment using an inplace method.\n",
      "The behavior will change in pandas 3.0. This inplace method will never work because the intermediate object on which we are setting values always behaves as a copy.\n",
      "\n",
      "For example, when doing 'df[col].method(value, inplace=True)', try using 'df.method({col: value}, inplace=True)' or df[col] = df[col].method(value) instead, to perform the operation inplace on the original object.\n",
      "\n",
      "\n",
      "  df[i].fillna(media, inplace=True)\n",
      "C:\\Users\\carol\\AppData\\Local\\Temp\\ipykernel_1728\\1632911507.py:29: FutureWarning: A value is trying to be set on a copy of a DataFrame or Series through chained assignment using an inplace method.\n",
      "The behavior will change in pandas 3.0. This inplace method will never work because the intermediate object on which we are setting values always behaves as a copy.\n",
      "\n",
      "For example, when doing 'df[col].method(value, inplace=True)', try using 'df.method({col: value}, inplace=True)' or df[col] = df[col].method(value) instead, to perform the operation inplace on the original object.\n",
      "\n",
      "\n",
      "  df[i].fillna(mediana, inplace=True)\n",
      "C:\\Users\\carol\\AppData\\Local\\Temp\\ipykernel_1728\\1632911507.py:33: FutureWarning: A value is trying to be set on a copy of a DataFrame or Series through chained assignment using an inplace method.\n",
      "The behavior will change in pandas 3.0. This inplace method will never work because the intermediate object on which we are setting values always behaves as a copy.\n",
      "\n",
      "For example, when doing 'df[col].method(value, inplace=True)', try using 'df.method({col: value}, inplace=True)' or df[col] = df[col].method(value) instead, to perform the operation inplace on the original object.\n",
      "\n",
      "\n",
      "  df[i].fillna(media, inplace=True)\n",
      "C:\\Users\\carol\\AppData\\Local\\Temp\\ipykernel_1728\\1632911507.py:29: FutureWarning: A value is trying to be set on a copy of a DataFrame or Series through chained assignment using an inplace method.\n",
      "The behavior will change in pandas 3.0. This inplace method will never work because the intermediate object on which we are setting values always behaves as a copy.\n",
      "\n",
      "For example, when doing 'df[col].method(value, inplace=True)', try using 'df.method({col: value}, inplace=True)' or df[col] = df[col].method(value) instead, to perform the operation inplace on the original object.\n",
      "\n",
      "\n",
      "  df[i].fillna(mediana, inplace=True)\n",
      "C:\\Users\\carol\\AppData\\Local\\Temp\\ipykernel_1728\\1632911507.py:29: FutureWarning: A value is trying to be set on a copy of a DataFrame or Series through chained assignment using an inplace method.\n",
      "The behavior will change in pandas 3.0. This inplace method will never work because the intermediate object on which we are setting values always behaves as a copy.\n",
      "\n",
      "For example, when doing 'df[col].method(value, inplace=True)', try using 'df.method({col: value}, inplace=True)' or df[col] = df[col].method(value) instead, to perform the operation inplace on the original object.\n",
      "\n",
      "\n",
      "  df[i].fillna(mediana, inplace=True)\n"
     ]
    }
   ],
   "source": [
    "quita_nan(df)\n",
    "print(\"Número de valores nulos por columna:\")\n",
    "print(df.isnull().sum())\n"
   ]
  },
  {
   "cell_type": "code",
   "execution_count": 28,
   "metadata": {},
   "outputs": [
    {
     "name": "stdout",
     "output_type": "stream",
     "text": [
      "<class 'pandas.core.frame.DataFrame'>\n",
      "RangeIndex: 53940 entries, 0 to 53939\n",
      "Data columns (total 10 columns):\n",
      " #   Column   Non-Null Count  Dtype   \n",
      "---  ------   --------------  -----   \n",
      " 0   carat    53940 non-null  float16 \n",
      " 1   cut      53940 non-null  category\n",
      " 2   color    53940 non-null  category\n",
      " 3   clarity  53940 non-null  category\n",
      " 4   depth    53940 non-null  float64 \n",
      " 5   table    53940 non-null  float64 \n",
      " 6   price    53940 non-null  float32 \n",
      " 7   x        53940 non-null  float64 \n",
      " 8   y        53940 non-null  float64 \n",
      " 9   z        53940 non-null  float64 \n",
      "dtypes: category(3), float16(1), float32(1), float64(5)\n",
      "memory usage: 2.5 MB\n"
     ]
    }
   ],
   "source": [
    "df.info()"
   ]
  },
  {
   "cell_type": "code",
   "execution_count": 29,
   "metadata": {},
   "outputs": [
    {
     "name": "stderr",
     "output_type": "stream",
     "text": [
      "c:\\Users\\carol\\AppData\\Local\\Programs\\Python\\Python313\\Lib\\site-packages\\pandas\\io\\formats\\format.py:1458: RuntimeWarning: overflow encountered in cast\n",
      "  has_large_values = (abs_vals > 1e6).any()\n"
     ]
    },
    {
     "data": {
      "text/html": [
       "<div>\n",
       "<style scoped>\n",
       "    .dataframe tbody tr th:only-of-type {\n",
       "        vertical-align: middle;\n",
       "    }\n",
       "\n",
       "    .dataframe tbody tr th {\n",
       "        vertical-align: top;\n",
       "    }\n",
       "\n",
       "    .dataframe thead th {\n",
       "        text-align: right;\n",
       "    }\n",
       "</style>\n",
       "<table border=\"1\" class=\"dataframe\">\n",
       "  <thead>\n",
       "    <tr style=\"text-align: right;\">\n",
       "      <th></th>\n",
       "      <th>carat</th>\n",
       "      <th>cut</th>\n",
       "      <th>color</th>\n",
       "      <th>clarity</th>\n",
       "      <th>depth</th>\n",
       "      <th>table</th>\n",
       "      <th>price</th>\n",
       "      <th>x</th>\n",
       "      <th>y</th>\n",
       "      <th>z</th>\n",
       "    </tr>\n",
       "  </thead>\n",
       "  <tbody>\n",
       "    <tr>\n",
       "      <th>0</th>\n",
       "      <td>0.229980</td>\n",
       "      <td>Ideal</td>\n",
       "      <td>E</td>\n",
       "      <td>SI2</td>\n",
       "      <td>61.5</td>\n",
       "      <td>55.0</td>\n",
       "      <td>326.0</td>\n",
       "      <td>3.95</td>\n",
       "      <td>3.98</td>\n",
       "      <td>2.43</td>\n",
       "    </tr>\n",
       "    <tr>\n",
       "      <th>1</th>\n",
       "      <td>0.209961</td>\n",
       "      <td>Premium</td>\n",
       "      <td>E</td>\n",
       "      <td>SI1</td>\n",
       "      <td>59.8</td>\n",
       "      <td>61.0</td>\n",
       "      <td>326.0</td>\n",
       "      <td>3.89</td>\n",
       "      <td>3.84</td>\n",
       "      <td>2.31</td>\n",
       "    </tr>\n",
       "    <tr>\n",
       "      <th>2</th>\n",
       "      <td>0.229980</td>\n",
       "      <td>Good</td>\n",
       "      <td>E</td>\n",
       "      <td>VS1</td>\n",
       "      <td>56.9</td>\n",
       "      <td>65.0</td>\n",
       "      <td>327.0</td>\n",
       "      <td>4.05</td>\n",
       "      <td>4.07</td>\n",
       "      <td>2.31</td>\n",
       "    </tr>\n",
       "    <tr>\n",
       "      <th>3</th>\n",
       "      <td>0.290039</td>\n",
       "      <td>Premium</td>\n",
       "      <td>I</td>\n",
       "      <td>VS2</td>\n",
       "      <td>62.4</td>\n",
       "      <td>58.0</td>\n",
       "      <td>334.0</td>\n",
       "      <td>4.20</td>\n",
       "      <td>4.23</td>\n",
       "      <td>2.63</td>\n",
       "    </tr>\n",
       "    <tr>\n",
       "      <th>4</th>\n",
       "      <td>0.310059</td>\n",
       "      <td>Good</td>\n",
       "      <td>J</td>\n",
       "      <td>SI2</td>\n",
       "      <td>63.3</td>\n",
       "      <td>58.0</td>\n",
       "      <td>335.0</td>\n",
       "      <td>4.34</td>\n",
       "      <td>4.35</td>\n",
       "      <td>2.75</td>\n",
       "    </tr>\n",
       "    <tr>\n",
       "      <th>5</th>\n",
       "      <td>0.239990</td>\n",
       "      <td>Very Good</td>\n",
       "      <td>J</td>\n",
       "      <td>VVS2</td>\n",
       "      <td>62.8</td>\n",
       "      <td>57.0</td>\n",
       "      <td>336.0</td>\n",
       "      <td>3.94</td>\n",
       "      <td>3.96</td>\n",
       "      <td>2.48</td>\n",
       "    </tr>\n",
       "    <tr>\n",
       "      <th>6</th>\n",
       "      <td>0.239990</td>\n",
       "      <td>Very Good</td>\n",
       "      <td>I</td>\n",
       "      <td>VVS1</td>\n",
       "      <td>62.3</td>\n",
       "      <td>57.0</td>\n",
       "      <td>336.0</td>\n",
       "      <td>3.95</td>\n",
       "      <td>3.98</td>\n",
       "      <td>2.47</td>\n",
       "    </tr>\n",
       "    <tr>\n",
       "      <th>7</th>\n",
       "      <td>0.260010</td>\n",
       "      <td>Very Good</td>\n",
       "      <td>H</td>\n",
       "      <td>SI1</td>\n",
       "      <td>61.9</td>\n",
       "      <td>55.0</td>\n",
       "      <td>337.0</td>\n",
       "      <td>4.07</td>\n",
       "      <td>4.11</td>\n",
       "      <td>2.53</td>\n",
       "    </tr>\n",
       "    <tr>\n",
       "      <th>8</th>\n",
       "      <td>0.219971</td>\n",
       "      <td>Fair</td>\n",
       "      <td>E</td>\n",
       "      <td>VS2</td>\n",
       "      <td>65.1</td>\n",
       "      <td>61.0</td>\n",
       "      <td>337.0</td>\n",
       "      <td>3.87</td>\n",
       "      <td>3.78</td>\n",
       "      <td>2.49</td>\n",
       "    </tr>\n",
       "    <tr>\n",
       "      <th>9</th>\n",
       "      <td>0.229980</td>\n",
       "      <td>Very Good</td>\n",
       "      <td>H</td>\n",
       "      <td>VS1</td>\n",
       "      <td>59.4</td>\n",
       "      <td>61.0</td>\n",
       "      <td>338.0</td>\n",
       "      <td>4.00</td>\n",
       "      <td>4.05</td>\n",
       "      <td>2.39</td>\n",
       "    </tr>\n",
       "    <tr>\n",
       "      <th>10</th>\n",
       "      <td>0.300049</td>\n",
       "      <td>Good</td>\n",
       "      <td>J</td>\n",
       "      <td>SI1</td>\n",
       "      <td>64.0</td>\n",
       "      <td>55.0</td>\n",
       "      <td>339.0</td>\n",
       "      <td>4.25</td>\n",
       "      <td>4.28</td>\n",
       "      <td>2.73</td>\n",
       "    </tr>\n",
       "    <tr>\n",
       "      <th>11</th>\n",
       "      <td>0.229980</td>\n",
       "      <td>Ideal</td>\n",
       "      <td>J</td>\n",
       "      <td>VS1</td>\n",
       "      <td>62.8</td>\n",
       "      <td>56.0</td>\n",
       "      <td>340.0</td>\n",
       "      <td>3.93</td>\n",
       "      <td>3.90</td>\n",
       "      <td>2.46</td>\n",
       "    </tr>\n",
       "    <tr>\n",
       "      <th>12</th>\n",
       "      <td>0.219971</td>\n",
       "      <td>Premium</td>\n",
       "      <td>F</td>\n",
       "      <td>SI1</td>\n",
       "      <td>60.4</td>\n",
       "      <td>61.0</td>\n",
       "      <td>342.0</td>\n",
       "      <td>3.88</td>\n",
       "      <td>3.84</td>\n",
       "      <td>2.33</td>\n",
       "    </tr>\n",
       "    <tr>\n",
       "      <th>13</th>\n",
       "      <td>0.310059</td>\n",
       "      <td>Ideal</td>\n",
       "      <td>J</td>\n",
       "      <td>SI2</td>\n",
       "      <td>62.2</td>\n",
       "      <td>54.0</td>\n",
       "      <td>344.0</td>\n",
       "      <td>4.35</td>\n",
       "      <td>4.37</td>\n",
       "      <td>2.71</td>\n",
       "    </tr>\n",
       "    <tr>\n",
       "      <th>14</th>\n",
       "      <td>0.199951</td>\n",
       "      <td>Premium</td>\n",
       "      <td>E</td>\n",
       "      <td>SI2</td>\n",
       "      <td>60.2</td>\n",
       "      <td>62.0</td>\n",
       "      <td>345.0</td>\n",
       "      <td>3.79</td>\n",
       "      <td>3.75</td>\n",
       "      <td>2.27</td>\n",
       "    </tr>\n",
       "    <tr>\n",
       "      <th>15</th>\n",
       "      <td>0.320068</td>\n",
       "      <td>Premium</td>\n",
       "      <td>E</td>\n",
       "      <td>I1</td>\n",
       "      <td>60.9</td>\n",
       "      <td>58.0</td>\n",
       "      <td>345.0</td>\n",
       "      <td>4.38</td>\n",
       "      <td>4.42</td>\n",
       "      <td>2.68</td>\n",
       "    </tr>\n",
       "    <tr>\n",
       "      <th>16</th>\n",
       "      <td>0.300049</td>\n",
       "      <td>Ideal</td>\n",
       "      <td>I</td>\n",
       "      <td>SI2</td>\n",
       "      <td>62.0</td>\n",
       "      <td>54.0</td>\n",
       "      <td>348.0</td>\n",
       "      <td>4.31</td>\n",
       "      <td>4.34</td>\n",
       "      <td>2.68</td>\n",
       "    </tr>\n",
       "    <tr>\n",
       "      <th>17</th>\n",
       "      <td>0.300049</td>\n",
       "      <td>Good</td>\n",
       "      <td>J</td>\n",
       "      <td>SI1</td>\n",
       "      <td>63.4</td>\n",
       "      <td>54.0</td>\n",
       "      <td>351.0</td>\n",
       "      <td>4.23</td>\n",
       "      <td>4.29</td>\n",
       "      <td>2.70</td>\n",
       "    </tr>\n",
       "    <tr>\n",
       "      <th>18</th>\n",
       "      <td>0.300049</td>\n",
       "      <td>Good</td>\n",
       "      <td>J</td>\n",
       "      <td>SI1</td>\n",
       "      <td>63.8</td>\n",
       "      <td>56.0</td>\n",
       "      <td>351.0</td>\n",
       "      <td>4.23</td>\n",
       "      <td>4.26</td>\n",
       "      <td>2.71</td>\n",
       "    </tr>\n",
       "    <tr>\n",
       "      <th>19</th>\n",
       "      <td>0.300049</td>\n",
       "      <td>Very Good</td>\n",
       "      <td>J</td>\n",
       "      <td>SI1</td>\n",
       "      <td>62.7</td>\n",
       "      <td>59.0</td>\n",
       "      <td>351.0</td>\n",
       "      <td>4.21</td>\n",
       "      <td>4.27</td>\n",
       "      <td>2.66</td>\n",
       "    </tr>\n",
       "    <tr>\n",
       "      <th>20</th>\n",
       "      <td>0.300049</td>\n",
       "      <td>Good</td>\n",
       "      <td>I</td>\n",
       "      <td>SI2</td>\n",
       "      <td>63.3</td>\n",
       "      <td>56.0</td>\n",
       "      <td>351.0</td>\n",
       "      <td>4.26</td>\n",
       "      <td>4.30</td>\n",
       "      <td>2.71</td>\n",
       "    </tr>\n",
       "    <tr>\n",
       "      <th>21</th>\n",
       "      <td>0.229980</td>\n",
       "      <td>Very Good</td>\n",
       "      <td>E</td>\n",
       "      <td>VS2</td>\n",
       "      <td>63.8</td>\n",
       "      <td>55.0</td>\n",
       "      <td>352.0</td>\n",
       "      <td>3.85</td>\n",
       "      <td>3.92</td>\n",
       "      <td>2.48</td>\n",
       "    </tr>\n",
       "    <tr>\n",
       "      <th>22</th>\n",
       "      <td>0.229980</td>\n",
       "      <td>Very Good</td>\n",
       "      <td>H</td>\n",
       "      <td>VS1</td>\n",
       "      <td>61.0</td>\n",
       "      <td>57.0</td>\n",
       "      <td>353.0</td>\n",
       "      <td>3.94</td>\n",
       "      <td>3.96</td>\n",
       "      <td>2.41</td>\n",
       "    </tr>\n",
       "    <tr>\n",
       "      <th>23</th>\n",
       "      <td>0.310059</td>\n",
       "      <td>Very Good</td>\n",
       "      <td>J</td>\n",
       "      <td>SI1</td>\n",
       "      <td>59.4</td>\n",
       "      <td>62.0</td>\n",
       "      <td>353.0</td>\n",
       "      <td>4.39</td>\n",
       "      <td>4.43</td>\n",
       "      <td>2.62</td>\n",
       "    </tr>\n",
       "    <tr>\n",
       "      <th>24</th>\n",
       "      <td>0.310059</td>\n",
       "      <td>Very Good</td>\n",
       "      <td>J</td>\n",
       "      <td>SI1</td>\n",
       "      <td>58.1</td>\n",
       "      <td>62.0</td>\n",
       "      <td>353.0</td>\n",
       "      <td>4.44</td>\n",
       "      <td>4.47</td>\n",
       "      <td>2.59</td>\n",
       "    </tr>\n",
       "    <tr>\n",
       "      <th>25</th>\n",
       "      <td>0.229980</td>\n",
       "      <td>Very Good</td>\n",
       "      <td>G</td>\n",
       "      <td>VVS2</td>\n",
       "      <td>60.4</td>\n",
       "      <td>58.0</td>\n",
       "      <td>354.0</td>\n",
       "      <td>3.97</td>\n",
       "      <td>4.01</td>\n",
       "      <td>2.41</td>\n",
       "    </tr>\n",
       "    <tr>\n",
       "      <th>26</th>\n",
       "      <td>0.239990</td>\n",
       "      <td>Premium</td>\n",
       "      <td>I</td>\n",
       "      <td>VS1</td>\n",
       "      <td>62.5</td>\n",
       "      <td>57.0</td>\n",
       "      <td>355.0</td>\n",
       "      <td>3.97</td>\n",
       "      <td>3.94</td>\n",
       "      <td>2.47</td>\n",
       "    </tr>\n",
       "    <tr>\n",
       "      <th>27</th>\n",
       "      <td>0.300049</td>\n",
       "      <td>Very Good</td>\n",
       "      <td>J</td>\n",
       "      <td>VS2</td>\n",
       "      <td>62.2</td>\n",
       "      <td>57.0</td>\n",
       "      <td>357.0</td>\n",
       "      <td>4.28</td>\n",
       "      <td>4.30</td>\n",
       "      <td>2.67</td>\n",
       "    </tr>\n",
       "    <tr>\n",
       "      <th>28</th>\n",
       "      <td>0.229980</td>\n",
       "      <td>Very Good</td>\n",
       "      <td>D</td>\n",
       "      <td>VS2</td>\n",
       "      <td>60.5</td>\n",
       "      <td>61.0</td>\n",
       "      <td>357.0</td>\n",
       "      <td>3.96</td>\n",
       "      <td>3.97</td>\n",
       "      <td>2.40</td>\n",
       "    </tr>\n",
       "    <tr>\n",
       "      <th>29</th>\n",
       "      <td>0.229980</td>\n",
       "      <td>Very Good</td>\n",
       "      <td>F</td>\n",
       "      <td>VS1</td>\n",
       "      <td>60.9</td>\n",
       "      <td>57.0</td>\n",
       "      <td>357.0</td>\n",
       "      <td>3.96</td>\n",
       "      <td>3.99</td>\n",
       "      <td>2.42</td>\n",
       "    </tr>\n",
       "  </tbody>\n",
       "</table>\n",
       "</div>"
      ],
      "text/plain": [
       "       carat        cut color clarity  depth  table  price     x     y     z\n",
       "0   0.229980      Ideal     E     SI2   61.5   55.0  326.0  3.95  3.98  2.43\n",
       "1   0.209961    Premium     E     SI1   59.8   61.0  326.0  3.89  3.84  2.31\n",
       "2   0.229980       Good     E     VS1   56.9   65.0  327.0  4.05  4.07  2.31\n",
       "3   0.290039    Premium     I     VS2   62.4   58.0  334.0  4.20  4.23  2.63\n",
       "4   0.310059       Good     J     SI2   63.3   58.0  335.0  4.34  4.35  2.75\n",
       "5   0.239990  Very Good     J    VVS2   62.8   57.0  336.0  3.94  3.96  2.48\n",
       "6   0.239990  Very Good     I    VVS1   62.3   57.0  336.0  3.95  3.98  2.47\n",
       "7   0.260010  Very Good     H     SI1   61.9   55.0  337.0  4.07  4.11  2.53\n",
       "8   0.219971       Fair     E     VS2   65.1   61.0  337.0  3.87  3.78  2.49\n",
       "9   0.229980  Very Good     H     VS1   59.4   61.0  338.0  4.00  4.05  2.39\n",
       "10  0.300049       Good     J     SI1   64.0   55.0  339.0  4.25  4.28  2.73\n",
       "11  0.229980      Ideal     J     VS1   62.8   56.0  340.0  3.93  3.90  2.46\n",
       "12  0.219971    Premium     F     SI1   60.4   61.0  342.0  3.88  3.84  2.33\n",
       "13  0.310059      Ideal     J     SI2   62.2   54.0  344.0  4.35  4.37  2.71\n",
       "14  0.199951    Premium     E     SI2   60.2   62.0  345.0  3.79  3.75  2.27\n",
       "15  0.320068    Premium     E      I1   60.9   58.0  345.0  4.38  4.42  2.68\n",
       "16  0.300049      Ideal     I     SI2   62.0   54.0  348.0  4.31  4.34  2.68\n",
       "17  0.300049       Good     J     SI1   63.4   54.0  351.0  4.23  4.29  2.70\n",
       "18  0.300049       Good     J     SI1   63.8   56.0  351.0  4.23  4.26  2.71\n",
       "19  0.300049  Very Good     J     SI1   62.7   59.0  351.0  4.21  4.27  2.66\n",
       "20  0.300049       Good     I     SI2   63.3   56.0  351.0  4.26  4.30  2.71\n",
       "21  0.229980  Very Good     E     VS2   63.8   55.0  352.0  3.85  3.92  2.48\n",
       "22  0.229980  Very Good     H     VS1   61.0   57.0  353.0  3.94  3.96  2.41\n",
       "23  0.310059  Very Good     J     SI1   59.4   62.0  353.0  4.39  4.43  2.62\n",
       "24  0.310059  Very Good     J     SI1   58.1   62.0  353.0  4.44  4.47  2.59\n",
       "25  0.229980  Very Good     G    VVS2   60.4   58.0  354.0  3.97  4.01  2.41\n",
       "26  0.239990    Premium     I     VS1   62.5   57.0  355.0  3.97  3.94  2.47\n",
       "27  0.300049  Very Good     J     VS2   62.2   57.0  357.0  4.28  4.30  2.67\n",
       "28  0.229980  Very Good     D     VS2   60.5   61.0  357.0  3.96  3.97  2.40\n",
       "29  0.229980  Very Good     F     VS1   60.9   57.0  357.0  3.96  3.99  2.42"
      ]
     },
     "execution_count": 29,
     "metadata": {},
     "output_type": "execute_result"
    }
   ],
   "source": [
    "df.head(30)"
   ]
  },
  {
   "cell_type": "code",
   "execution_count": 30,
   "metadata": {},
   "outputs": [
    {
     "data": {
      "text/plain": [
       "'from scipy import stats\\nimport numpy as np\\nimport pandas as pd\\n\\n# Crear un DataFrame con valores nulos\\ndata = {\\n    \\'carat\\': [0.23, np.nan, 0.31, 0.45, np.nan],\\n    \\'depth\\': [61.5, 59.8, 56.9, np.nan, 62.4],\\n    \\'price\\': [326, 334, np.nan, 327, 335],\\n    \\'cut\\': [\\'Ideal\\', \\'Premium\\', \\'Good\\', np.nan, \\'Fair\\']  # Columna no numérica\\n}\\ndf = pd.DataFrame(data)\\n\\n# Función para reemplazar valores nulos\\ndef quita_nan(df):\\n    for col in df.columns:  # Iterar por todas las columnas\\n        if df[col].dtype in [np.float64, np.int64]:  # Si la columna es numérica\\n            if df[col].dropna().empty:  # Evitar columnas completamente vacías\\n                print(f\"La columna {col} está completamente vacía. No se puede calcular la asimetría.\")\\n                continue\\n            \\n            # Calcular asimetría\\n            skewness = stats.skew(df[col].dropna())\\n            print(f\"Asimetría de {col}: {skewness}\")\\n            \\n            # Rellenar NaN según la asimetría\\n            if skewness > 1:\\n                mediana = df[col].median()\\n                df[col].fillna(mediana, inplace=True)\\n                print(f\"Rellenando nulos en {col} con la mediana: {mediana}\")\\n            else:\\n                media = df[col].mean()\\n                df[col].fillna(media, inplace=True)\\n                print(f\"Rellenando nulos en {col} con la media: {media}\")\\n        else:  # Si la columna no es numérica\\n            if df[col].dropna().empty:\\n                print(f\"La columna {col} está completamente vacía. No se puede calcular la moda.\")\\n                continue\\n            \\n            # Rellenar NaN con la moda\\n            moda = df[col].mode()[0]\\n            df[col].fillna(moda, inplace=True)\\n            print(f\"Rellenando nulos en {col} con la moda: {moda}\")\\n\\n# Aplicar la función quita_nan\\nprint(\"Antes de procesar:\")\\nprint(df)\\n\\nquita_nan(df)\\n\\nprint(\"Después de procesar:\")\\nprint(df)'"
      ]
     },
     "execution_count": 30,
     "metadata": {},
     "output_type": "execute_result"
    }
   ],
   "source": [
    "'''from scipy import stats\n",
    "import numpy as np\n",
    "import pandas as pd\n",
    "\n",
    "# Crear un DataFrame con valores nulos\n",
    "data = {\n",
    "    'carat': [0.23, np.nan, 0.31, 0.45, np.nan],\n",
    "    'depth': [61.5, 59.8, 56.9, np.nan, 62.4],\n",
    "    'price': [326, 334, np.nan, 327, 335],\n",
    "    'cut': ['Ideal', 'Premium', 'Good', np.nan, 'Fair']  # Columna no numérica\n",
    "}\n",
    "df = pd.DataFrame(data)\n",
    "\n",
    "# Función para reemplazar valores nulos\n",
    "def quita_nan(df):\n",
    "    for col in df.columns:  # Iterar por todas las columnas\n",
    "        if df[col].dtype in [np.float64, np.int64]:  # Si la columna es numérica\n",
    "            if df[col].dropna().empty:  # Evitar columnas completamente vacías\n",
    "                print(f\"La columna {col} está completamente vacía. No se puede calcular la asimetría.\")\n",
    "                continue\n",
    "            \n",
    "            # Calcular asimetría\n",
    "            skewness = stats.skew(df[col].dropna())\n",
    "            print(f\"Asimetría de {col}: {skewness}\")\n",
    "            \n",
    "            # Rellenar NaN según la asimetría\n",
    "            if skewness > 1:\n",
    "                mediana = df[col].median()\n",
    "                df[col].fillna(mediana, inplace=True)\n",
    "                print(f\"Rellenando nulos en {col} con la mediana: {mediana}\")\n",
    "            else:\n",
    "                media = df[col].mean()\n",
    "                df[col].fillna(media, inplace=True)\n",
    "                print(f\"Rellenando nulos en {col} con la media: {media}\")\n",
    "        else:  # Si la columna no es numérica\n",
    "            if df[col].dropna().empty:\n",
    "                print(f\"La columna {col} está completamente vacía. No se puede calcular la moda.\")\n",
    "                continue\n",
    "            \n",
    "            # Rellenar NaN con la moda\n",
    "            moda = df[col].mode()[0]\n",
    "            df[col].fillna(moda, inplace=True)\n",
    "            print(f\"Rellenando nulos en {col} con la moda: {moda}\")\n",
    "\n",
    "# Aplicar la función quita_nan\n",
    "print(\"Antes de procesar:\")\n",
    "print(df)\n",
    "\n",
    "quita_nan(df)\n",
    "\n",
    "print(\"Después de procesar:\")\n",
    "print(df)'''\n"
   ]
  },
  {
   "cell_type": "markdown",
   "metadata": {},
   "source": [
    "#### 1.4.1. Nulos en columnas continuas: mediana, media\n"
   ]
  },
  {
   "cell_type": "code",
   "execution_count": null,
   "metadata": {},
   "outputs": [],
   "source": []
  },
  {
   "cell_type": "code",
   "execution_count": null,
   "metadata": {},
   "outputs": [],
   "source": []
  },
  {
   "cell_type": "code",
   "execution_count": null,
   "metadata": {},
   "outputs": [],
   "source": []
  },
  {
   "cell_type": "markdown",
   "metadata": {},
   "source": [
    "#### 1.4.2. Nulos en columnas categóricas: moda, un valor fijo\n"
   ]
  },
  {
   "cell_type": "code",
   "execution_count": null,
   "metadata": {},
   "outputs": [],
   "source": []
  },
  {
   "cell_type": "code",
   "execution_count": null,
   "metadata": {},
   "outputs": [],
   "source": []
  },
  {
   "cell_type": "code",
   "execution_count": null,
   "metadata": {},
   "outputs": [],
   "source": []
  },
  {
   "cell_type": "markdown",
   "metadata": {},
   "source": [
    "### 1.5. Encoding: texto a numérico\n"
   ]
  },
  {
   "cell_type": "code",
   "execution_count": null,
   "metadata": {},
   "outputs": [],
   "source": []
  },
  {
   "cell_type": "code",
   "execution_count": null,
   "metadata": {},
   "outputs": [],
   "source": []
  },
  {
   "cell_type": "markdown",
   "metadata": {},
   "source": [
    "####  1.5.1. Uso de la función get_dummies() para encoding one_hot\n"
   ]
  },
  {
   "cell_type": "code",
   "execution_count": null,
   "metadata": {},
   "outputs": [],
   "source": []
  },
  {
   "cell_type": "code",
   "execution_count": null,
   "metadata": {},
   "outputs": [],
   "source": []
  },
  {
   "cell_type": "code",
   "execution_count": null,
   "metadata": {},
   "outputs": [],
   "source": []
  },
  {
   "cell_type": "code",
   "execution_count": null,
   "metadata": {},
   "outputs": [],
   "source": []
  },
  {
   "cell_type": "markdown",
   "metadata": {},
   "source": [
    "#### 1.5.2. Uso de map para encoding ordinal para la columna cut como una nueva columna cut_int: 1, 2, 3, 4\n"
   ]
  },
  {
   "cell_type": "code",
   "execution_count": null,
   "metadata": {},
   "outputs": [],
   "source": []
  },
  {
   "cell_type": "code",
   "execution_count": null,
   "metadata": {},
   "outputs": [],
   "source": []
  },
  {
   "cell_type": "code",
   "execution_count": null,
   "metadata": {},
   "outputs": [],
   "source": []
  },
  {
   "cell_type": "code",
   "execution_count": null,
   "metadata": {},
   "outputs": [],
   "source": []
  },
  {
   "cell_type": "markdown",
   "metadata": {},
   "source": [
    "## PARTE 2: 25 % transformaciones:\n"
   ]
  },
  {
   "cell_type": "code",
   "execution_count": null,
   "metadata": {},
   "outputs": [],
   "source": []
  },
  {
   "cell_type": "code",
   "execution_count": null,
   "metadata": {},
   "outputs": [],
   "source": []
  },
  {
   "cell_type": "code",
   "execution_count": null,
   "metadata": {},
   "outputs": [],
   "source": []
  },
  {
   "cell_type": "markdown",
   "metadata": {},
   "source": [
    "### 2.1. Crear una columna price_iva a partir de la columna price que muestre el precio + IVA (21%). \n",
    "        * Ejemplo df['price'] * 1.21 \n"
   ]
  },
  {
   "cell_type": "code",
   "execution_count": null,
   "metadata": {},
   "outputs": [],
   "source": []
  },
  {
   "cell_type": "code",
   "execution_count": null,
   "metadata": {},
   "outputs": [],
   "source": []
  },
  {
   "cell_type": "markdown",
   "metadata": {},
   "source": [
    "### 2.2. Crear una columna price_discount usando apply a partir de la columna price(con lambda o def):\n",
    "        * price < 1000 and cut == 'Ideal' entonces 10 % descuento\n",
    "        * 1000 <= price <= 5000 and cut == 'Premium' entonces 15 % descuento\n",
    "        * si no entra en las condiciones sin descuento, devolver el precio original\n"
   ]
  },
  {
   "cell_type": "code",
   "execution_count": null,
   "metadata": {},
   "outputs": [],
   "source": []
  },
  {
   "cell_type": "code",
   "execution_count": null,
   "metadata": {},
   "outputs": [],
   "source": []
  },
  {
   "cell_type": "code",
   "execution_count": null,
   "metadata": {},
   "outputs": [],
   "source": []
  },
  {
   "cell_type": "code",
   "execution_count": null,
   "metadata": {},
   "outputs": [],
   "source": []
  },
  {
   "cell_type": "markdown",
   "metadata": {},
   "source": [
    "### 2.3. Crear una nueva columna volumen combinando: x * y * z\n"
   ]
  },
  {
   "cell_type": "code",
   "execution_count": null,
   "metadata": {},
   "outputs": [],
   "source": []
  },
  {
   "cell_type": "code",
   "execution_count": null,
   "metadata": {},
   "outputs": [],
   "source": []
  },
  {
   "cell_type": "code",
   "execution_count": null,
   "metadata": {},
   "outputs": [],
   "source": []
  },
  {
   "cell_type": "code",
   "execution_count": null,
   "metadata": {},
   "outputs": [],
   "source": []
  },
  {
   "cell_type": "markdown",
   "metadata": {},
   "source": [
    "### 2.4. Ordenar por dos columnas con sort_values():\n"
   ]
  },
  {
   "cell_type": "code",
   "execution_count": null,
   "metadata": {},
   "outputs": [],
   "source": []
  },
  {
   "cell_type": "code",
   "execution_count": null,
   "metadata": {},
   "outputs": [],
   "source": []
  },
  {
   "cell_type": "code",
   "execution_count": null,
   "metadata": {},
   "outputs": [],
   "source": []
  },
  {
   "cell_type": "markdown",
   "metadata": {},
   "source": [
    "#### 2.4.1. tipo de corte (cut) y precio (price)\n"
   ]
  },
  {
   "cell_type": "code",
   "execution_count": null,
   "metadata": {},
   "outputs": [],
   "source": []
  },
  {
   "cell_type": "code",
   "execution_count": null,
   "metadata": {},
   "outputs": [],
   "source": []
  },
  {
   "cell_type": "code",
   "execution_count": null,
   "metadata": {},
   "outputs": [],
   "source": []
  },
  {
   "cell_type": "code",
   "execution_count": null,
   "metadata": {},
   "outputs": [],
   "source": []
  },
  {
   "cell_type": "markdown",
   "metadata": {},
   "source": [
    "### 2.5. Agrupaciones con groupby y visualizarla\n"
   ]
  },
  {
   "cell_type": "code",
   "execution_count": null,
   "metadata": {},
   "outputs": [],
   "source": []
  },
  {
   "cell_type": "code",
   "execution_count": null,
   "metadata": {},
   "outputs": [],
   "source": []
  },
  {
   "cell_type": "code",
   "execution_count": null,
   "metadata": {},
   "outputs": [],
   "source": []
  },
  {
   "cell_type": "markdown",
   "metadata": {},
   "source": [
    "#### 2.5.1. Agrupar por las 3 que hay de tipo categórico calculando la media, max, min por ejemplo de alguna de las numéricas: price, carat, depth\n"
   ]
  },
  {
   "cell_type": "code",
   "execution_count": null,
   "metadata": {},
   "outputs": [],
   "source": []
  },
  {
   "cell_type": "code",
   "execution_count": null,
   "metadata": {},
   "outputs": [],
   "source": []
  },
  {
   "cell_type": "code",
   "execution_count": null,
   "metadata": {},
   "outputs": [],
   "source": []
  },
  {
   "cell_type": "code",
   "execution_count": null,
   "metadata": {},
   "outputs": [],
   "source": []
  },
  {
   "cell_type": "markdown",
   "metadata": {},
   "source": [
    "## PARTE 3: 20 % distribuciones: \n"
   ]
  },
  {
   "cell_type": "code",
   "execution_count": null,
   "metadata": {},
   "outputs": [],
   "source": []
  },
  {
   "cell_type": "code",
   "execution_count": null,
   "metadata": {},
   "outputs": [],
   "source": []
  },
  {
   "cell_type": "markdown",
   "metadata": {},
   "source": [
    "### 3.1. Outliers: Visualización Q1 y Q3 y calcular límites tukey y filtrar. Sobre la columna precio.\n"
   ]
  },
  {
   "cell_type": "code",
   "execution_count": null,
   "metadata": {},
   "outputs": [],
   "source": []
  },
  {
   "cell_type": "code",
   "execution_count": null,
   "metadata": {},
   "outputs": [],
   "source": []
  },
  {
   "cell_type": "code",
   "execution_count": null,
   "metadata": {},
   "outputs": [],
   "source": []
  },
  {
   "cell_type": "code",
   "execution_count": null,
   "metadata": {},
   "outputs": [],
   "source": []
  },
  {
   "cell_type": "code",
   "execution_count": null,
   "metadata": {},
   "outputs": [],
   "source": []
  },
  {
   "cell_type": "markdown",
   "metadata": {},
   "source": [
    "### 3.2. asimetría, curtosis y transformar datos con logaritmo o raíz cuadrada, aplicar sobre precio, visualizar el histograma y/o boxplot por tipo de corte. Opcional ajustar la escala.\n"
   ]
  },
  {
   "cell_type": "code",
   "execution_count": null,
   "metadata": {},
   "outputs": [],
   "source": []
  },
  {
   "cell_type": "code",
   "execution_count": null,
   "metadata": {},
   "outputs": [],
   "source": []
  },
  {
   "cell_type": "code",
   "execution_count": null,
   "metadata": {},
   "outputs": [],
   "source": []
  },
  {
   "cell_type": "code",
   "execution_count": null,
   "metadata": {},
   "outputs": [],
   "source": []
  },
  {
   "cell_type": "markdown",
   "metadata": {},
   "source": [
    "### 3.3. Discretizar la columna precio por barato, medio, caro usando la función pd.cut\n"
   ]
  },
  {
   "cell_type": "code",
   "execution_count": null,
   "metadata": {},
   "outputs": [],
   "source": []
  },
  {
   "cell_type": "code",
   "execution_count": null,
   "metadata": {},
   "outputs": [],
   "source": []
  },
  {
   "cell_type": "code",
   "execution_count": null,
   "metadata": {},
   "outputs": [],
   "source": []
  },
  {
   "cell_type": "code",
   "execution_count": null,
   "metadata": {},
   "outputs": [],
   "source": []
  },
  {
   "cell_type": "code",
   "execution_count": null,
   "metadata": {},
   "outputs": [],
   "source": []
  },
  {
   "cell_type": "markdown",
   "metadata": {},
   "source": [
    "## PARTE 4: 30 % visualizaciones:\n"
   ]
  },
  {
   "cell_type": "code",
   "execution_count": null,
   "metadata": {},
   "outputs": [],
   "source": []
  },
  {
   "cell_type": "code",
   "execution_count": null,
   "metadata": {},
   "outputs": [],
   "source": []
  },
  {
   "cell_type": "code",
   "execution_count": null,
   "metadata": {},
   "outputs": [],
   "source": []
  },
  {
   "cell_type": "markdown",
   "metadata": {},
   "source": [
    "### 4.1. Seaborn EDAS:\n"
   ]
  },
  {
   "cell_type": "code",
   "execution_count": 31,
   "metadata": {},
   "outputs": [
    {
     "data": {
      "text/plain": [
       "array([[<Axes: title={'center': 'carat'}>,\n",
       "        <Axes: title={'center': 'depth'}>,\n",
       "        <Axes: title={'center': 'table'}>],\n",
       "       [<Axes: title={'center': 'price'}>, <Axes: title={'center': 'x'}>,\n",
       "        <Axes: title={'center': 'y'}>],\n",
       "       [<Axes: title={'center': 'z'}>, <Axes: >, <Axes: >]], dtype=object)"
      ]
     },
     "execution_count": 31,
     "metadata": {},
     "output_type": "execute_result"
    },
    {
     "data": {
      "image/png": "[encoded data removed]",
      "text/plain": [
       "<Figure size 640x480 with 9 Axes>"
      ]
     },
     "metadata": {},
     "output_type": "display_data"
    }
   ],
   "source": [
    "df.hist()"
   ]
  },
  {
   "cell_type": "code",
   "execution_count": null,
   "metadata": {},
   "outputs": [],
   "source": []
  },
  {
   "cell_type": "code",
   "execution_count": null,
   "metadata": {},
   "outputs": [],
   "source": []
  },
  {
   "cell_type": "markdown",
   "metadata": {},
   "source": [
    "#### 4.1.1. univariantes:\n"
   ]
  },
  {
   "cell_type": "code",
   "execution_count": null,
   "metadata": {},
   "outputs": [],
   "source": []
  },
  {
   "cell_type": "code",
   "execution_count": null,
   "metadata": {},
   "outputs": [],
   "source": []
  },
  {
   "cell_type": "markdown",
   "metadata": {},
   "source": [
    "#####  4.1.1.1. histogramas y curvas de densidad\n"
   ]
  },
  {
   "cell_type": "code",
   "execution_count": null,
   "metadata": {},
   "outputs": [],
   "source": []
  },
  {
   "cell_type": "code",
   "execution_count": null,
   "metadata": {},
   "outputs": [],
   "source": []
  },
  {
   "cell_type": "markdown",
   "metadata": {},
   "source": [
    "##### 4.1.1.2. boxplot"
   ]
  },
  {
   "cell_type": "code",
   "execution_count": null,
   "metadata": {},
   "outputs": [],
   "source": []
  },
  {
   "cell_type": "code",
   "execution_count": null,
   "metadata": {},
   "outputs": [],
   "source": []
  },
  {
   "cell_type": "code",
   "execution_count": null,
   "metadata": {},
   "outputs": [],
   "source": []
  },
  {
   "cell_type": "code",
   "execution_count": null,
   "metadata": {},
   "outputs": [],
   "source": []
  },
  {
   "cell_type": "markdown",
   "metadata": {},
   "source": [
    "#####  4.1.1.3. countplot\n"
   ]
  },
  {
   "cell_type": "code",
   "execution_count": null,
   "metadata": {},
   "outputs": [],
   "source": []
  },
  {
   "cell_type": "code",
   "execution_count": null,
   "metadata": {},
   "outputs": [],
   "source": []
  },
  {
   "cell_type": "code",
   "execution_count": null,
   "metadata": {},
   "outputs": [],
   "source": []
  },
  {
   "cell_type": "code",
   "execution_count": null,
   "metadata": {},
   "outputs": [],
   "source": []
  },
  {
   "cell_type": "markdown",
   "metadata": {},
   "source": [
    "#### 4.1.2. bivariantes y multivariantes\n"
   ]
  },
  {
   "cell_type": "code",
   "execution_count": null,
   "metadata": {},
   "outputs": [],
   "source": []
  },
  {
   "cell_type": "code",
   "execution_count": null,
   "metadata": {},
   "outputs": [],
   "source": []
  },
  {
   "cell_type": "code",
   "execution_count": null,
   "metadata": {},
   "outputs": [],
   "source": []
  },
  {
   "cell_type": "markdown",
   "metadata": {},
   "source": [
    "##### 4.1.2.1. scatterplot con hue, con size, con style\n"
   ]
  },
  {
   "cell_type": "code",
   "execution_count": null,
   "metadata": {},
   "outputs": [],
   "source": []
  },
  {
   "cell_type": "code",
   "execution_count": null,
   "metadata": {},
   "outputs": [],
   "source": []
  },
  {
   "cell_type": "code",
   "execution_count": null,
   "metadata": {},
   "outputs": [],
   "source": []
  },
  {
   "cell_type": "code",
   "execution_count": null,
   "metadata": {},
   "outputs": [],
   "source": []
  },
  {
   "cell_type": "markdown",
   "metadata": {},
   "source": [
    "##### 4.1.2.2. Calcular correlación con Pandas y mostrarla con seaborn\n"
   ]
  },
  {
   "cell_type": "code",
   "execution_count": null,
   "metadata": {},
   "outputs": [],
   "source": []
  },
  {
   "cell_type": "code",
   "execution_count": null,
   "metadata": {},
   "outputs": [],
   "source": []
  },
  {
   "cell_type": "code",
   "execution_count": null,
   "metadata": {},
   "outputs": [],
   "source": []
  },
  {
   "cell_type": "code",
   "execution_count": null,
   "metadata": {},
   "outputs": [],
   "source": []
  },
  {
   "cell_type": "code",
   "execution_count": null,
   "metadata": {},
   "outputs": [],
   "source": []
  },
  {
   "cell_type": "markdown",
   "metadata": {},
   "source": [
    "##### 4.1.2.3. Hacer la correlación en un gráfico de barras para la columna 'price'\n"
   ]
  },
  {
   "cell_type": "code",
   "execution_count": null,
   "metadata": {},
   "outputs": [],
   "source": []
  },
  {
   "cell_type": "code",
   "execution_count": null,
   "metadata": {},
   "outputs": [],
   "source": []
  },
  {
   "cell_type": "code",
   "execution_count": null,
   "metadata": {},
   "outputs": [],
   "source": []
  },
  {
   "cell_type": "code",
   "execution_count": null,
   "metadata": {},
   "outputs": [],
   "source": []
  },
  {
   "cell_type": "markdown",
   "metadata": {},
   "source": [
    "##### 4.1.2.4. Crear una pivot table usando como index y columns algunas variables categóricas y como values usar el price y visualizarla con heatmap de seaborn\n"
   ]
  },
  {
   "cell_type": "code",
   "execution_count": null,
   "metadata": {},
   "outputs": [],
   "source": []
  },
  {
   "cell_type": "code",
   "execution_count": null,
   "metadata": {},
   "outputs": [],
   "source": []
  },
  {
   "cell_type": "code",
   "execution_count": null,
   "metadata": {},
   "outputs": [],
   "source": []
  },
  {
   "cell_type": "code",
   "execution_count": null,
   "metadata": {},
   "outputs": [],
   "source": []
  },
  {
   "cell_type": "code",
   "execution_count": null,
   "metadata": {},
   "outputs": [],
   "source": []
  },
  {
   "cell_type": "markdown",
   "metadata": {},
   "source": [
    "#### 4.1.3. Combinarlas con:\n"
   ]
  },
  {
   "cell_type": "code",
   "execution_count": null,
   "metadata": {},
   "outputs": [],
   "source": []
  },
  {
   "cell_type": "code",
   "execution_count": null,
   "metadata": {},
   "outputs": [],
   "source": []
  },
  {
   "cell_type": "markdown",
   "metadata": {},
   "source": [
    "##### 4.1.3.1. hue, style, size, row, col usando un relplot\n"
   ]
  },
  {
   "cell_type": "code",
   "execution_count": null,
   "metadata": {},
   "outputs": [],
   "source": []
  },
  {
   "cell_type": "code",
   "execution_count": null,
   "metadata": {},
   "outputs": [],
   "source": []
  },
  {
   "cell_type": "code",
   "execution_count": null,
   "metadata": {},
   "outputs": [],
   "source": []
  },
  {
   "cell_type": "code",
   "execution_count": null,
   "metadata": {},
   "outputs": [],
   "source": []
  },
  {
   "cell_type": "code",
   "execution_count": null,
   "metadata": {},
   "outputs": [],
   "source": []
  },
  {
   "cell_type": "markdown",
   "metadata": {},
   "source": [
    "##### 4.1.3.2. filtro\n"
   ]
  },
  {
   "cell_type": "code",
   "execution_count": null,
   "metadata": {},
   "outputs": [],
   "source": []
  },
  {
   "cell_type": "code",
   "execution_count": null,
   "metadata": {},
   "outputs": [],
   "source": []
  },
  {
   "cell_type": "code",
   "execution_count": null,
   "metadata": {},
   "outputs": [],
   "source": []
  },
  {
   "cell_type": "code",
   "execution_count": null,
   "metadata": {},
   "outputs": [],
   "source": []
  },
  {
   "cell_type": "code",
   "execution_count": null,
   "metadata": {},
   "outputs": [],
   "source": []
  }
 ],
 "metadata": {
  "kernelspec": {
   "display_name": "Python 3",
   "language": "python",
   "name": "python3"
  },
  "language_info": {
   "codemirror_mode": {
    "name": "ipython",
    "version": 3
   },
   "file_extension": ".py",
   "mimetype": "text/x-python",
   "name": "python",
   "nbconvert_exporter": "python",
   "pygments_lexer": "ipython3",
   "version": "3.13.1"
  }
 },
 "nbformat": 4,
 "nbformat_minor": 2
}
