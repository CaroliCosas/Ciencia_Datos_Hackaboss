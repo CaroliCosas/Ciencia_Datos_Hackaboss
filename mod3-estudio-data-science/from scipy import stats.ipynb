from scipy import stats
import numpy as np
import pandas as pd

# Crear un DataFrame con valores nulos
data = {
    'carat': [0.23, np.nan, 0.31, 0.45, np.nan],
    'depth': [61.5, 59.8, 56.9, np.nan, 62.4],
    'price': [326, 334, np.nan, 327, 335],
    'cut': ['Ideal', 'Premium', 'Good', np.nan, 'Fair']  # Columna no numérica
}
df = pd.DataFrame(data)

# Función para reemplazar valores nulos
def quita_nan(df):
    for col in df.columns:  # Iterar por todas las columnas
        if df[col].dtype in [np.float64, np.int64]:  # Si la columna es numérica
            if df[col].dropna().empty:  # Evitar columnas completamente vacías
                print(f"La columna {col} está completamente vacía. No se puede calcular la asimetría.")
                continue
            
            # Calcular asimetría
            skewness = stats.skew(df[col].dropna())
            print(f"Asimetría de {col}: {skewness}")
            
            # Rellenar NaN según la asimetría
            if skewness > 1:
                mediana = df[col].median()
                df[col].fillna(mediana, inplace=True)
                print(f"Rellenando nulos en {col} con la mediana: {mediana}")
            else:
                media = df[col].mean()
                df[col].fillna(media, inplace=True)
                print(f"Rellenando nulos en {col} con la media: {media}")
        else:  # Si la columna no es numérica
            if df[col].dropna().empty:
                print(f"La columna {col} está completamente vacía. No se puede calcular la moda.")
                continue
            
            # Rellenar NaN con la moda
            moda = df[col].mode()[0]
            df[col].fillna(moda, inplace=True)
            print(f"Rellenando nulos en {col} con la moda: {moda}")

# Aplicar la función quita_nan
print("Antes de procesar:")
print(df)

quita_nan(df)

print("\nDespués de procesar:")
print(df)
