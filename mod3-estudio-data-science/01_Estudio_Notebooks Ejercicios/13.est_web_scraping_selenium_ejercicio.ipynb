{
 "cells": [
  {
   "cell_type": "markdown",
   "id": "dc998db4",
   "metadata": {},
   "source": [
    "## Ejercicio Web Scraping bs4/Selenium\n",
    "\n",
    "_**url** = https://www.20minutos.es/_\n",
    "\n",
    "Vamos a hacer Web Scraping de las primeras 3 páginas de una de las siguientes categorias de noticias: **Ciencia**, **Deporte**, **Gente**, **Economía**, **Grastronomía** y **Opinión**.\n",
    "\n",
    "Y de cada noticia/articulo vamos a obtener:\n",
    "\n",
    "- **Titulo**\n",
    "- **Hora**\n",
    "- **Fecha**\n",
    "- **Autor**\n",
    "- **Texto completo**\n",
    "- **Categoria de la noticia**\n",
    "\n",
    "Genera un DataFrame con esta información y guardalo en el archivo **`20minutos_1.csv`**."
   ]
  },
  {
   "cell_type": "code",
   "execution_count": 1,
   "id": "73fd7efb",
   "metadata": {},
   "outputs": [],
   "source": [
    "import requests \n",
    "\n",
    "import bs4 # Para ver la versión\n",
    "from bs4 import BeautifulSoup\n",
    "\n",
    "import selenium # Para ver la versión\n",
    "from selenium import webdriver\n",
    "from selenium.webdriver.common.by import By\n",
    "\n",
    "from time import sleep"
   ]
  },
  {
   "cell_type": "code",
   "execution_count": 2,
   "id": "d8d78b70",
   "metadata": {},
   "outputs": [],
   "source": [
    "chrome_driver = \"chromedriver.exe\""
   ]
  },
  {
   "cell_type": "code",
   "execution_count": 3,
   "id": "0ee42b78",
   "metadata": {},
   "outputs": [],
   "source": [
    "driver = webdriver.Chrome()\n",
    "\n",
    "driver.get(\"https://www.recetasgratis.net/Recetas-de-Ensaladas-listado_receta-4_1.html\")\n",
    "\n",
    "driver.maximize_window()"
   ]
  },
  {
   "cell_type": "code",
   "execution_count": 4,
   "id": "6b52e260",
   "metadata": {},
   "outputs": [],
   "source": [
    "# consentimiento cookies\n",
    "# vemos que el botón de aceptar esta a la derecha\n",
    "# buscamos el ID, la clase o lo que sea de ese botón\n",
    "# y lo clickeamos\n",
    "driver.find_element(By.CLASS_NAME, \"fc-cta-consent\").click() \n",
    "# sleep(2)\n",
    "\n"
   ]
  },
  {
   "cell_type": "code",
   "execution_count": 5,
   "id": "75b1d362",
   "metadata": {},
   "outputs": [
    {
     "data": {
      "text/plain": [
       "['Receta de Ensalada rusa chilena',\n",
       " 'Receta de Soltero de habas',\n",
       " 'Receta de Ensalada de gulas y gambas',\n",
       " 'Receta de Ensalada rusa argentina',\n",
       " 'Receta de Ensalada de fideos navideña',\n",
       " 'Receta de Ensalada blanca navideña',\n",
       " 'Receta de Ensalada de betarraga',\n",
       " 'Receta de Salpicón chileno',\n",
       " 'Receta de Ensalada de cochayuyo',\n",
       " 'Receta de Ensalada chilena',\n",
       " 'Receta de Ensalada coleslaw',\n",
       " 'Receta de Ensalada de quinoa y verduras',\n",
       " 'Ensaladas especiales para fiestas',\n",
       " 'Receta de Ensalada navideña peruana',\n",
       " 'Receta de Ensalada de pasta con atún',\n",
       " 'Receta de Ensaladilla vegana',\n",
       " 'Receta de Ensalada de garbanzos veraniega rápida',\n",
       " 'Receta de Moje murciano',\n",
       " 'Receta de Ensalada de garbanzos mediterránea',\n",
       " 'Receta de Ensalada campera de la abuela',\n",
       " 'Receta de Ensalada de coditos con verduras',\n",
       " 'Receta de Ensalada de manzana y queso',\n",
       " 'Receta de Ensalada tropical con salsa rosa',\n",
       " 'Receta de Remojón andaluz',\n",
       " 'Receta de Ensalada de pollo deshebrado',\n",
       " 'Receta de Ensalada de naranja extremeña',\n",
       " 'Receta de Ensalada de berenjenas griega',\n",
       " 'Receta de Ensalada Belén',\n",
       " 'Receta de Ensalada de patata y aguacate',\n",
       " 'Receta de Ensalada rusa dominicana',\n",
       " 'Receta de Ensalada rusa peruana',\n",
       " 'Receta de Ensalada de pollo y papa',\n",
       " 'Receta de Ensalada de pollo y lechuga',\n",
       " 'Receta de Ensalada César con pollo',\n",
       " 'Recetas de ensaladas proteicas',\n",
       " 'Receta de Ensalada de arroz con lechuga',\n",
       " 'Receta de Ensalada de garbanzos con verduras',\n",
       " 'Receta de Ensalada de garbanzos con espinacas',\n",
       " 'Receta de Ensalada de garbanzos marroquí',\n",
       " 'Receta de Ensalada de mote',\n",
       " 'Receta de Ensaladilla malagueña',\n",
       " 'Receta de Empedrat',\n",
       " 'Receta de Ensalada de col andaluza',\n",
       " 'Receta de Ensalada de quinoa roja',\n",
       " 'Receta de Ensalada de arroz y garbanzos',\n",
       " 'Ensaladas para Navidad originales',\n",
       " 'Receta de Ensalada de aguacate y naranja',\n",
       " 'Receta de Ensalada de burrata con tomate, rúcula y pesto',\n",
       " 'Receta de Pipirrana malagueña',\n",
       " 'Receta de Ensalada de coditos con atún']"
      ]
     },
     "execution_count": 5,
     "metadata": {},
     "output_type": "execute_result"
    }
   ],
   "source": [
    "[element.text for element in driver.find_elements(By.CSS_SELECTOR, \"a.titulo.titulo--resultado\")]"
   ]
  },
  {
   "cell_type": "code",
   "execution_count": 6,
   "id": "ec0d81b7",
   "metadata": {},
   "outputs": [],
   "source": [
    "# obtener textos de enlaces de recetas y navegar a la primera\n",
    "# enlaces_recetas = [element.get_attribute('href') for element in driver.find_elements(By.CSS_SELECTOR, 'a.titulo.titulo--resultado')]\n",
    "# driver.get(enlaces_recetas[0])"
   ]
  },
  {
   "cell_type": "code",
   "execution_count": 7,
   "id": "7678e6c3",
   "metadata": {},
   "outputs": [],
   "source": [
    "driver.find_element(By.CSS_SELECTOR, \"a.titulo.titulo--resultado\").click()"
   ]
  },
  {
   "cell_type": "code",
   "execution_count": 8,
   "id": "114c1173",
   "metadata": {},
   "outputs": [
    {
     "data": {
      "text/plain": [
       "'5 comensales'"
      ]
     },
     "execution_count": 8,
     "metadata": {},
     "output_type": "execute_result"
    }
   ],
   "source": [
    "driver.find_element(By.CSS_SELECTOR, \".property.comensales\").text"
   ]
  },
  {
   "cell_type": "code",
   "execution_count": 9,
   "id": "7aa29af2",
   "metadata": {},
   "outputs": [
    {
     "data": {
      "text/plain": [
       "'Dificultad muy baja'"
      ]
     },
     "execution_count": 9,
     "metadata": {},
     "output_type": "execute_result"
    }
   ],
   "source": [
    "driver.find_element(By.CSS_SELECTOR, \".property.dificultad\").text"
   ]
  },
  {
   "cell_type": "code",
   "execution_count": 10,
   "id": "36d364bd",
   "metadata": {},
   "outputs": [],
   "source": [
    "driver.quit()"
   ]
  },
  {
   "cell_type": "markdown",
   "id": "b90547ae",
   "metadata": {},
   "source": [
    "- **Escribe el código para sacar la información de las primeras 5 páginas de las 6 categorias anteriores. Guarda esta información en el archivo `20minutos_2.csv`**"
   ]
  },
  {
   "cell_type": "code",
   "execution_count": 11,
   "id": "a5a7b514",
   "metadata": {},
   "outputs": [],
   "source": [
    "#"
   ]
  },
  {
   "cell_type": "code",
   "execution_count": null,
   "id": "cf4c7713",
   "metadata": {},
   "outputs": [],
   "source": []
  },
  {
   "cell_type": "code",
   "execution_count": null,
   "id": "94b802c7",
   "metadata": {},
   "outputs": [],
   "source": []
  },
  {
   "cell_type": "code",
   "execution_count": null,
   "id": "7358a572",
   "metadata": {},
   "outputs": [],
   "source": []
  },
  {
   "cell_type": "code",
   "execution_count": null,
   "id": "8c66ea4e",
   "metadata": {},
   "outputs": [],
   "source": []
  },
  {
   "cell_type": "code",
   "execution_count": null,
   "id": "2edc3495",
   "metadata": {},
   "outputs": [],
   "source": []
  },
  {
   "cell_type": "code",
   "execution_count": null,
   "id": "8d27d08b",
   "metadata": {},
   "outputs": [],
   "source": []
  }
 ],
 "metadata": {
  "kernelspec": {
   "display_name": "Python 3",
   "language": "python",
   "name": "python3"
  },
  "language_info": {
   "codemirror_mode": {
    "name": "ipython",
    "version": 3
   },
   "file_extension": ".py",
   "mimetype": "text/x-python",
   "name": "python",
   "nbconvert_exporter": "python",
   "pygments_lexer": "ipython3",
   "version": "3.13.1"
  }
 },
 "nbformat": 4,
 "nbformat_minor": 5
}
