{
  "cells": [
    {
      "cell_type": "markdown",
      "metadata": {
        "id": "view-in-github",
        "colab_type": "text"
      },
      "source": [
        "<a href=\"https://colab.research.google.com/github/CaroliCosas/Bootcamp_Data_Science/blob/main/01_numpy_1_ejercicios.ipynb\" target=\"_parent\"><img src=\"https://colab.research.google.com/assets/colab-badge.svg\" alt=\"Open In Colab\"/></a>"
      ]
    },
    {
      "cell_type": "markdown",
      "id": "94338a65",
      "metadata": {
        "id": "94338a65"
      },
      "source": [
        "## Ejercicios - NumPy 1"
      ]
    },
    {
      "cell_type": "code",
      "execution_count": 16,
      "id": "c5e694ac",
      "metadata": {
        "id": "c5e694ac"
      },
      "outputs": [],
      "source": [
        "import numpy as np"
      ]
    },
    {
      "cell_type": "code",
      "execution_count": 2,
      "id": "230265d0-4569-4582-84ca-845fcb91aed6",
      "metadata": {
        "tags": [],
        "colab": {
          "base_uri": "https://localhost:8080/"
        },
        "id": "230265d0-4569-4582-84ca-845fcb91aed6",
        "outputId": "ec4bf185-012e-4d6e-ca81-8a29e7f8c406"
      },
      "outputs": [
        {
          "output_type": "stream",
          "name": "stdout",
          "text": [
            "numpy==1.26.4\n"
          ]
        }
      ],
      "source": [
        "# Versión\n",
        "print(f\"numpy=={np.__version__}\")"
      ]
    },
    {
      "cell_type": "markdown",
      "id": "fa919e9a",
      "metadata": {
        "id": "fa919e9a"
      },
      "source": [
        "### Ejercicio 1:\n",
        "- Crea un vector con 10 elementos pares."
      ]
    },
    {
      "cell_type": "code",
      "execution_count": 3,
      "id": "12914c1b",
      "metadata": {
        "colab": {
          "base_uri": "https://localhost:8080/"
        },
        "id": "12914c1b",
        "outputId": "a0e23655-000d-45d1-ed56-2ba318bf8371"
      },
      "outputs": [
        {
          "output_type": "execute_result",
          "data": {
            "text/plain": [
              "array([ 0,  2,  4,  6,  8, 10, 12, 14, 16, 18])"
            ]
          },
          "metadata": {},
          "execution_count": 3
        }
      ],
      "source": [
        "lista = []\n",
        "for i in range(20):\n",
        "    if i % 2 == 0:\n",
        "        lista.append(i)\n",
        "\n",
        "np.array(lista)"
      ]
    },
    {
      "cell_type": "code",
      "execution_count": 4,
      "id": "dec735d3",
      "metadata": {
        "colab": {
          "base_uri": "https://localhost:8080/"
        },
        "id": "dec735d3",
        "outputId": "8a8f03e2-261b-4c9d-abaa-50dc71f00b73"
      },
      "outputs": [
        {
          "output_type": "execute_result",
          "data": {
            "text/plain": [
              "array([ 2,  4,  6,  8, 10, 12, 14, 16, 18, 20])"
            ]
          },
          "metadata": {},
          "execution_count": 4
        }
      ],
      "source": [
        "lista = []\n",
        "for i in range(2, 22, 2):\n",
        "    lista.append(i)\n",
        "\n",
        "np.array(lista)"
      ]
    },
    {
      "cell_type": "code",
      "execution_count": 5,
      "id": "e37dc4bb",
      "metadata": {
        "colab": {
          "base_uri": "https://localhost:8080/"
        },
        "id": "e37dc4bb",
        "outputId": "e534529d-9859-4845-9086-789f2c826f16"
      },
      "outputs": [
        {
          "output_type": "execute_result",
          "data": {
            "text/plain": [
              "array([ 2,  4,  6,  8, 10, 12, 14, 16, 18, 20])"
            ]
          },
          "metadata": {},
          "execution_count": 5
        }
      ],
      "source": [
        "array_pares = np.array([i for i in range(2, 22, 2)])\n",
        "array_pares"
      ]
    },
    {
      "cell_type": "markdown",
      "id": "83420425",
      "metadata": {
        "id": "83420425"
      },
      "source": [
        "### Ejercicio 2:\n",
        "- Obten el número de dimensiones y el tamaño del vector anterior."
      ]
    },
    {
      "cell_type": "code",
      "execution_count": 6,
      "id": "3216bb58",
      "metadata": {
        "colab": {
          "base_uri": "https://localhost:8080/"
        },
        "id": "3216bb58",
        "outputId": "ec47e01d-6d97-41fa-c928-84a8395fa0e7"
      },
      "outputs": [
        {
          "output_type": "execute_result",
          "data": {
            "text/plain": [
              "1"
            ]
          },
          "metadata": {},
          "execution_count": 6
        }
      ],
      "source": [
        "array_pares.ndim"
      ]
    },
    {
      "cell_type": "code",
      "execution_count": 7,
      "id": "ef81c396",
      "metadata": {
        "colab": {
          "base_uri": "https://localhost:8080/"
        },
        "id": "ef81c396",
        "outputId": "8dc24713-b57c-45d8-a9e5-28c8f406e7d4"
      },
      "outputs": [
        {
          "output_type": "execute_result",
          "data": {
            "text/plain": [
              "10"
            ]
          },
          "metadata": {},
          "execution_count": 7
        }
      ],
      "source": [
        "# numero de elementos en total\n",
        "array_pares.size"
      ]
    },
    {
      "cell_type": "code",
      "execution_count": 8,
      "id": "cb679748",
      "metadata": {
        "colab": {
          "base_uri": "https://localhost:8080/"
        },
        "id": "cb679748",
        "outputId": "d35e8bbc-b3b2-4382-f5c9-7672c8459097"
      },
      "outputs": [
        {
          "output_type": "execute_result",
          "data": {
            "text/plain": [
              "(10,)"
            ]
          },
          "metadata": {},
          "execution_count": 8
        }
      ],
      "source": [
        "# numero de elementos en cada dimension\n",
        "array_pares.shape"
      ]
    },
    {
      "cell_type": "code",
      "execution_count": 9,
      "id": "791be7d1",
      "metadata": {
        "colab": {
          "base_uri": "https://localhost:8080/"
        },
        "id": "791be7d1",
        "outputId": "6f2e6778-fa5f-4a83-c4c7-57efeb94824e"
      },
      "outputs": [
        {
          "output_type": "execute_result",
          "data": {
            "text/plain": [
              "dtype('int64')"
            ]
          },
          "metadata": {},
          "execution_count": 9
        }
      ],
      "source": [
        "array_pares.dtype"
      ]
    },
    {
      "cell_type": "code",
      "execution_count": 10,
      "id": "84b5ce82",
      "metadata": {
        "colab": {
          "base_uri": "https://localhost:8080/"
        },
        "id": "84b5ce82",
        "outputId": "5c6296bf-e9a5-4b1a-b141-fe594f69b2cb"
      },
      "outputs": [
        {
          "output_type": "execute_result",
          "data": {
            "text/plain": [
              "array([10, 10, 20, 20, 30, 30])"
            ]
          },
          "metadata": {},
          "execution_count": 10
        }
      ],
      "source": [
        "array = np.array([10, 10, 20, 20, 30, 30])\n",
        "array"
      ]
    },
    {
      "cell_type": "code",
      "execution_count": 11,
      "id": "eea030e0",
      "metadata": {
        "colab": {
          "base_uri": "https://localhost:8080/"
        },
        "id": "eea030e0",
        "outputId": "9dc55e90-bd48-4c9f-d6a6-d04005492da4"
      },
      "outputs": [
        {
          "output_type": "execute_result",
          "data": {
            "text/plain": [
              "array([ 10,  20,  40,  60,  90, 120])"
            ]
          },
          "metadata": {},
          "execution_count": 11
        }
      ],
      "source": [
        "array_acumulado = np.cumsum(array)\n",
        "array_acumulado"
      ]
    },
    {
      "cell_type": "code",
      "execution_count": 12,
      "id": "6e8a2b81",
      "metadata": {
        "colab": {
          "base_uri": "https://localhost:8080/"
        },
        "id": "6e8a2b81",
        "outputId": "017cb156-fdad-4f7b-e52c-a11b9c07a6db"
      },
      "outputs": [
        {
          "output_type": "execute_result",
          "data": {
            "text/plain": [
              "array([10, 20, 20, 30, 30])"
            ]
          },
          "metadata": {},
          "execution_count": 12
        }
      ],
      "source": [
        "np.diff(array_acumulado)"
      ]
    },
    {
      "cell_type": "code",
      "execution_count": 13,
      "id": "cf21ded0",
      "metadata": {
        "colab": {
          "base_uri": "https://localhost:8080/"
        },
        "id": "cf21ded0",
        "outputId": "abb6b9a4-32b5-48cd-9121-4c23e9edb3ba"
      },
      "outputs": [
        {
          "output_type": "execute_result",
          "data": {
            "text/plain": [
              "array([10, 10, 20, 20, 30, 30])"
            ]
          },
          "metadata": {},
          "execution_count": 13
        }
      ],
      "source": [
        "# agregar el primero manualmente ya que no tiene ninguno delante para obtener el diff\n",
        "original = np.insert(np.diff(array_acumulado), 0, array_acumulado[0])\n",
        "original"
      ]
    },
    {
      "cell_type": "code",
      "execution_count": 13,
      "id": "df9c33c7",
      "metadata": {
        "id": "df9c33c7"
      },
      "outputs": [],
      "source": []
    },
    {
      "cell_type": "markdown",
      "id": "50b94f88",
      "metadata": {
        "id": "50b94f88"
      },
      "source": [
        "### Ejercicio 3:\n",
        "- Crea una lista con 5 números pares y otra lista con 5 números impares utilizando **list comprehension** y conviertelos en una matriz de (5, 2) dimensiones."
      ]
    },
    {
      "cell_type": "code",
      "execution_count": 18,
      "id": "5f8738d9",
      "metadata": {
        "colab": {
          "base_uri": "https://localhost:8080/"
        },
        "id": "5f8738d9",
        "outputId": "a2ac2599-3862-4880-e4ba-04671ed5f5d3"
      },
      "outputs": [
        {
          "output_type": "execute_result",
          "data": {
            "text/plain": [
              "array([ 2,  4,  6,  8, 10])"
            ]
          },
          "metadata": {},
          "execution_count": 18
        }
      ],
      "source": [
        "pares = np.array([i for i in range(2,11,2)])\n",
        "pares\n",
        "\n",
        "# concatenate y reshape"
      ]
    },
    {
      "cell_type": "code",
      "source": [
        "impares = np.array([i for i in range(1,11,2)])\n",
        "impares"
      ],
      "metadata": {
        "colab": {
          "base_uri": "https://localhost:8080/"
        },
        "id": "pHdAdAGIQWeu",
        "outputId": "37fc2d36-5d4f-4777-e56d-eabb1391a1e9"
      },
      "id": "pHdAdAGIQWeu",
      "execution_count": 25,
      "outputs": [
        {
          "output_type": "execute_result",
          "data": {
            "text/plain": [
              "array([1, 3, 5, 7, 9])"
            ]
          },
          "metadata": {},
          "execution_count": 25
        }
      ]
    },
    {
      "cell_type": "code",
      "execution_count": 27,
      "id": "a46adfc2",
      "metadata": {
        "colab": {
          "base_uri": "https://localhost:8080/"
        },
        "id": "a46adfc2",
        "outputId": "bd5922ea-7075-4047-f02b-21aef852c423"
      },
      "outputs": [
        {
          "output_type": "execute_result",
          "data": {
            "text/plain": [
              "array([ 2,  4,  6,  8, 10,  1,  3,  5,  7,  9])"
            ]
          },
          "metadata": {},
          "execution_count": 27
        }
      ],
      "source": [
        "numbers = np.concatenate((pares, impares))\n",
        "numbers"
      ]
    },
    {
      "cell_type": "code",
      "execution_count": 14,
      "id": "52ab96be",
      "metadata": {
        "id": "52ab96be"
      },
      "outputs": [],
      "source": []
    },
    {
      "cell_type": "code",
      "source": [],
      "metadata": {
        "id": "S4_05XEWTKvX"
      },
      "id": "S4_05XEWTKvX",
      "execution_count": null,
      "outputs": []
    },
    {
      "cell_type": "code",
      "source": [],
      "metadata": {
        "id": "GoxkFBS6TKpE"
      },
      "id": "GoxkFBS6TKpE",
      "execution_count": null,
      "outputs": []
    },
    {
      "cell_type": "code",
      "source": [],
      "metadata": {
        "id": "eBC_6m27TKh2"
      },
      "id": "eBC_6m27TKh2",
      "execution_count": null,
      "outputs": []
    },
    {
      "cell_type": "code",
      "source": [
        "print(pares)\n",
        "print(np.where(pares > 5))"
      ],
      "metadata": {
        "colab": {
          "base_uri": "https://localhost:8080/"
        },
        "id": "-GJ5W299TKVZ",
        "outputId": "8262f47d-4320-42f3-9cf3-34b922bfa7ad"
      },
      "id": "-GJ5W299TKVZ",
      "execution_count": 28,
      "outputs": [
        {
          "output_type": "stream",
          "name": "stdout",
          "text": [
            "[ 2  4  6  8 10]\n",
            "(array([2, 3, 4]),)\n"
          ]
        }
      ]
    },
    {
      "cell_type": "code",
      "source": [
        "indices = np.where(pares > 5)\n",
        "pares[indices]"
      ],
      "metadata": {
        "colab": {
          "base_uri": "https://localhost:8080/"
        },
        "id": "4GJ1qVzjTfn0",
        "outputId": "501b44fb-c8a3-4f55-b22a-429741652338"
      },
      "id": "4GJ1qVzjTfn0",
      "execution_count": 29,
      "outputs": [
        {
          "output_type": "execute_result",
          "data": {
            "text/plain": [
              "array([ 6,  8, 10])"
            ]
          },
          "metadata": {},
          "execution_count": 29
        }
      ]
    },
    {
      "cell_type": "markdown",
      "source": [
        "Está devolviendo los índices, que luego me pueden interesar\n"
      ],
      "metadata": {
        "id": "HN6IULmzTZeQ"
      },
      "id": "HN6IULmzTZeQ"
    },
    {
      "cell_type": "markdown",
      "id": "5a6d6f9b",
      "metadata": {
        "id": "5a6d6f9b"
      },
      "source": [
        "### Ejercicio 4:\n",
        "- Obten el tipo de datos de la matriz anterior."
      ]
    },
    {
      "cell_type": "code",
      "execution_count": 17,
      "id": "39f29d4f",
      "metadata": {
        "colab": {
          "base_uri": "https://localhost:8080/",
          "height": 161
        },
        "id": "39f29d4f",
        "outputId": "0ef4b648-2316-43b3-d405-c20cc1997f63"
      },
      "outputs": [
        {
          "output_type": "error",
          "ename": "NameError",
          "evalue": "name 'matriz_5x2' is not defined",
          "traceback": [
            "\u001b[0;31m---------------------------------------------------------------------------\u001b[0m",
            "\u001b[0;31mNameError\u001b[0m                                 Traceback (most recent call last)",
            "\u001b[0;32m<ipython-input-17-4689747b10f3>\u001b[0m in \u001b[0;36m<cell line: 1>\u001b[0;34m()\u001b[0m\n\u001b[0;32m----> 1\u001b[0;31m \u001b[0mmatriz_5x2\u001b[0m\u001b[0;34m.\u001b[0m\u001b[0mdtype\u001b[0m\u001b[0;34m\u001b[0m\u001b[0;34m\u001b[0m\u001b[0m\n\u001b[0m",
            "\u001b[0;31mNameError\u001b[0m: name 'matriz_5x2' is not defined"
          ]
        }
      ],
      "source": [
        "matriz_5x2.dtype"
      ]
    },
    {
      "cell_type": "code",
      "source": [
        "matriz_5x2.flatten()"
      ],
      "metadata": {
        "id": "Bijjr9KMRKJA"
      },
      "id": "Bijjr9KMRKJA",
      "execution_count": null,
      "outputs": []
    },
    {
      "cell_type": "code",
      "execution_count": 14,
      "id": "dcb2ff00",
      "metadata": {
        "id": "dcb2ff00"
      },
      "outputs": [],
      "source": [
        "np.ravel(matriz_5x2)"
      ]
    },
    {
      "cell_type": "code",
      "execution_count": 14,
      "id": "6ae5b8ab",
      "metadata": {
        "id": "6ae5b8ab"
      },
      "outputs": [],
      "source": [
        "np.column_stack(matriz_5x2)"
      ]
    },
    {
      "cell_type": "code",
      "source": [],
      "metadata": {
        "id": "9MTfV3dZSJ6Q"
      },
      "id": "9MTfV3dZSJ6Q",
      "execution_count": null,
      "outputs": []
    },
    {
      "cell_type": "code",
      "source": [],
      "metadata": {
        "id": "Href3t3dSJoG"
      },
      "id": "Href3t3dSJoG",
      "execution_count": null,
      "outputs": []
    },
    {
      "cell_type": "markdown",
      "id": "f65930e0",
      "metadata": {
        "id": "f65930e0"
      },
      "source": [
        "### Ejercicio 5:\n",
        "- Crea una matriz de ceros de dimensión (4, 4) y remplaza los elementos de la diagonal principal por los números 5."
      ]
    },
    {
      "cell_type": "code",
      "execution_count": 14,
      "id": "b68dd617",
      "metadata": {
        "id": "b68dd617"
      },
      "outputs": [],
      "source": []
    },
    {
      "cell_type": "code",
      "execution_count": 14,
      "id": "734d9f67",
      "metadata": {
        "id": "734d9f67"
      },
      "outputs": [],
      "source": []
    },
    {
      "cell_type": "code",
      "execution_count": 14,
      "id": "96d7b73d",
      "metadata": {
        "id": "96d7b73d"
      },
      "outputs": [],
      "source": []
    },
    {
      "cell_type": "markdown",
      "id": "ff424246",
      "metadata": {
        "id": "ff424246"
      },
      "source": [
        "### Ejercicio 6:\n",
        "- Utiliza la función _**np.linspace()**_ para crear un vector con 10 elementos entre los números: -5 y 5."
      ]
    },
    {
      "cell_type": "code",
      "execution_count": 14,
      "id": "84675849",
      "metadata": {
        "id": "84675849"
      },
      "outputs": [],
      "source": []
    },
    {
      "cell_type": "code",
      "execution_count": 14,
      "id": "53aedee4",
      "metadata": {
        "id": "53aedee4"
      },
      "outputs": [],
      "source": []
    },
    {
      "cell_type": "code",
      "execution_count": 14,
      "id": "d39256a3",
      "metadata": {
        "id": "d39256a3"
      },
      "outputs": [],
      "source": []
    },
    {
      "cell_type": "markdown",
      "id": "d4d2232c",
      "metadata": {
        "id": "d4d2232c"
      },
      "source": [
        "### Ejercicio 7:\n",
        "- Crea una matriz vacía de tamaño (3, 6) con elementos del tipo flotante."
      ]
    },
    {
      "cell_type": "code",
      "execution_count": 14,
      "id": "15f8820b",
      "metadata": {
        "id": "15f8820b"
      },
      "outputs": [],
      "source": []
    },
    {
      "cell_type": "code",
      "execution_count": 14,
      "id": "79c50a7d",
      "metadata": {
        "id": "79c50a7d"
      },
      "outputs": [],
      "source": []
    },
    {
      "cell_type": "code",
      "execution_count": 14,
      "id": "531685ae",
      "metadata": {
        "id": "531685ae"
      },
      "outputs": [],
      "source": []
    },
    {
      "cell_type": "markdown",
      "id": "1239053e",
      "metadata": {
        "id": "1239053e"
      },
      "source": [
        "### Ejercicio 8:\n",
        "- Utiliza la matriz anterior para llenarla con números primos (investiga en internet una función que genere números primos e implementala)."
      ]
    },
    {
      "cell_type": "code",
      "execution_count": 14,
      "id": "cfb83730",
      "metadata": {
        "id": "cfb83730"
      },
      "outputs": [],
      "source": []
    },
    {
      "cell_type": "code",
      "execution_count": 14,
      "id": "0b816486",
      "metadata": {
        "id": "0b816486"
      },
      "outputs": [],
      "source": []
    },
    {
      "cell_type": "code",
      "execution_count": 14,
      "id": "038eb273",
      "metadata": {
        "id": "038eb273"
      },
      "outputs": [],
      "source": []
    },
    {
      "cell_type": "markdown",
      "id": "a92d1972",
      "metadata": {
        "id": "a92d1972"
      },
      "source": [
        "### Ejercicio 9:\n",
        "- Reemplaza los números de color azul por un 99 utilizando slicing.\n",
        "\n",
        "$$\\Large\n",
        "\\begin{bmatrix}\n",
        " 1 &  2 &  \\color{Blue}{3} &  4 \\\\\n",
        " 5 &  \\color{Blue}{6} &  7 &  \\color{Blue}{8} \\\\\n",
        " \\color{Blue}{9} & 10 & 11 & 12 \\\\\n",
        "13 & 14 & \\color{Blue}{15} & 16\n",
        "\\end{bmatrix}\n",
        "$$"
      ]
    },
    {
      "cell_type": "code",
      "execution_count": 14,
      "id": "ed329abf",
      "metadata": {
        "id": "ed329abf"
      },
      "outputs": [],
      "source": []
    },
    {
      "cell_type": "code",
      "execution_count": 14,
      "id": "c05f196c",
      "metadata": {
        "id": "c05f196c"
      },
      "outputs": [],
      "source": []
    },
    {
      "cell_type": "code",
      "execution_count": 14,
      "id": "d148695c",
      "metadata": {
        "id": "d148695c"
      },
      "outputs": [],
      "source": []
    },
    {
      "cell_type": "markdown",
      "id": "817ee31c",
      "metadata": {
        "id": "817ee31c"
      },
      "source": [
        "### Ejercicio 10:\n",
        "- Obten la primera y tercera fila de la matriz."
      ]
    },
    {
      "cell_type": "code",
      "execution_count": 14,
      "id": "0a1496e8",
      "metadata": {
        "id": "0a1496e8"
      },
      "outputs": [],
      "source": []
    },
    {
      "cell_type": "code",
      "execution_count": 14,
      "id": "6aee8f31",
      "metadata": {
        "id": "6aee8f31"
      },
      "outputs": [],
      "source": []
    },
    {
      "cell_type": "code",
      "execution_count": 14,
      "id": "c3761ae2",
      "metadata": {
        "id": "c3761ae2"
      },
      "outputs": [],
      "source": []
    },
    {
      "cell_type": "markdown",
      "id": "a4abb3c0",
      "metadata": {
        "id": "a4abb3c0"
      },
      "source": [
        "### Ejercico 11:\n",
        "- Obten la tercera columna de la matriz."
      ]
    },
    {
      "cell_type": "code",
      "execution_count": 14,
      "id": "047311f5",
      "metadata": {
        "id": "047311f5"
      },
      "outputs": [],
      "source": []
    },
    {
      "cell_type": "code",
      "execution_count": 14,
      "id": "b1368522",
      "metadata": {
        "id": "b1368522"
      },
      "outputs": [],
      "source": []
    },
    {
      "cell_type": "code",
      "execution_count": 14,
      "id": "19aa1a30",
      "metadata": {
        "id": "19aa1a30"
      },
      "outputs": [],
      "source": []
    },
    {
      "cell_type": "markdown",
      "id": "85659833",
      "metadata": {
        "id": "85659833"
      },
      "source": [
        "### Ejercicio 12:\n",
        "- Obtener la segunda y tercera columna de la matriz."
      ]
    },
    {
      "cell_type": "code",
      "execution_count": 14,
      "id": "f9f72826",
      "metadata": {
        "id": "f9f72826"
      },
      "outputs": [],
      "source": []
    },
    {
      "cell_type": "code",
      "execution_count": 14,
      "id": "72247f04",
      "metadata": {
        "id": "72247f04"
      },
      "outputs": [],
      "source": []
    },
    {
      "cell_type": "code",
      "execution_count": 14,
      "id": "3de230f8",
      "metadata": {
        "id": "3de230f8"
      },
      "outputs": [],
      "source": []
    },
    {
      "cell_type": "markdown",
      "id": "3a118c9a",
      "metadata": {
        "id": "3a118c9a"
      },
      "source": [
        "### Ejercicio 13:\n",
        "- Obten una submatriz con los 4 números del centro."
      ]
    },
    {
      "cell_type": "code",
      "execution_count": 14,
      "id": "6efd36bc",
      "metadata": {
        "id": "6efd36bc"
      },
      "outputs": [],
      "source": []
    },
    {
      "cell_type": "code",
      "execution_count": 14,
      "id": "15b53998",
      "metadata": {
        "id": "15b53998"
      },
      "outputs": [],
      "source": []
    },
    {
      "cell_type": "code",
      "execution_count": 14,
      "id": "197192ee",
      "metadata": {
        "id": "197192ee"
      },
      "outputs": [],
      "source": []
    },
    {
      "cell_type": "markdown",
      "id": "270239a7",
      "metadata": {
        "id": "270239a7"
      },
      "source": [
        "### Ejercicio 14:\n",
        "- Aplica la función _**np.flatten()**_ a la matriz anterior para obtener un vector."
      ]
    },
    {
      "cell_type": "code",
      "execution_count": 14,
      "id": "f9d01c3b",
      "metadata": {
        "id": "f9d01c3b"
      },
      "outputs": [],
      "source": []
    },
    {
      "cell_type": "code",
      "execution_count": 14,
      "id": "7e33d442",
      "metadata": {
        "id": "7e33d442"
      },
      "outputs": [],
      "source": []
    },
    {
      "cell_type": "code",
      "execution_count": 14,
      "id": "c459d98f",
      "metadata": {
        "id": "c459d98f"
      },
      "outputs": [],
      "source": []
    },
    {
      "cell_type": "markdown",
      "id": "aa26d703",
      "metadata": {
        "id": "aa26d703"
      },
      "source": [
        "### Ejercicio 15:\n",
        "- Aplica el método _**.reshape()**_ al vector anterior para obtener una matriz de (1, 4) dimensiones."
      ]
    },
    {
      "cell_type": "code",
      "execution_count": 14,
      "id": "8e045ee7",
      "metadata": {
        "id": "8e045ee7"
      },
      "outputs": [],
      "source": []
    },
    {
      "cell_type": "code",
      "execution_count": 14,
      "id": "78df5ad8",
      "metadata": {
        "id": "78df5ad8"
      },
      "outputs": [],
      "source": []
    },
    {
      "cell_type": "code",
      "execution_count": 14,
      "id": "0529314d",
      "metadata": {
        "id": "0529314d"
      },
      "outputs": [],
      "source": []
    },
    {
      "cell_type": "markdown",
      "id": "f61d6d34",
      "metadata": {
        "id": "f61d6d34"
      },
      "source": [
        "### Ejercicio 16:\n",
        "- Crea dos matrices de dimensión (4, 4) con números aleatorios y concatenalas verticalmente."
      ]
    },
    {
      "cell_type": "code",
      "execution_count": 14,
      "id": "1dd66c12",
      "metadata": {
        "id": "1dd66c12"
      },
      "outputs": [],
      "source": []
    },
    {
      "cell_type": "code",
      "execution_count": 14,
      "id": "4ca5da60",
      "metadata": {
        "id": "4ca5da60"
      },
      "outputs": [],
      "source": []
    },
    {
      "cell_type": "code",
      "execution_count": 14,
      "id": "6d5150b4",
      "metadata": {
        "id": "6d5150b4"
      },
      "outputs": [],
      "source": []
    },
    {
      "cell_type": "code",
      "execution_count": 15,
      "id": "46d3968e-3ca3-4976-a7dd-14bc3279a9cc",
      "metadata": {
        "id": "46d3968e-3ca3-4976-a7dd-14bc3279a9cc"
      },
      "outputs": [],
      "source": [
        "################################################################################################################################"
      ]
    }
  ],
  "metadata": {
    "kernelspec": {
      "display_name": ".mod3",
      "language": "python",
      "name": "python3"
    },
    "language_info": {
      "codemirror_mode": {
        "name": "ipython",
        "version": 3
      },
      "file_extension": ".py",
      "mimetype": "text/x-python",
      "name": "python",
      "nbconvert_exporter": "python",
      "pygments_lexer": "ipython3",
      "version": "3.13.0"
    },
    "colab": {
      "provenance": [],
      "include_colab_link": true
    }
  },
  "nbformat": 4,
  "nbformat_minor": 5
}