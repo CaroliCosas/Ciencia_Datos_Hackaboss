{
 "cells": [
  {
   "cell_type": "markdown",
   "metadata": {},
   "source": [
    "# Validación de modelos\n",
    "\n",
    "Al entrenar y evaluar modelos de ML, uno de los aspectos más importantes es **validar** correctamente para estimar de forma fiable cómo se comportará el modelo con datos nuevos (no vistos). \n",
    "\n",
    "Aunque la forma más básica es la separación de datos en *train* y *test* (train_test_split), existen diferentes técnicas de validación más sofisticadas que se utilizan para maximizar el uso de los datos disponibles y obtener una estimación más estable del desempeño del modelo.\n",
    "\n",
    "La **validación cruzada** en Scikit-learn es una técnica que se utiliza para evaluar el desempeño de un modelo predictivo, dividiendo los datos en conjuntos de entrenamiento y prueba múltiples veces de manera sistemática. Esto permite obtener una estimación más confiable y robusta del rendimiento del modelo que simplemente dividir los datos una sola vez.\n",
    "\n",
    "**Métodos para realizar validación de modelos**\n",
    "\n",
    "1. train_test_split\n",
    "2. cross_val_score\n",
    "3. cross_validate\n",
    "4. cross_val_predict\n",
    "5. make_scorer\n",
    "\n",
    "No devuelve un modelo entrenado, devuelve los resultados de entrenar y validar múltiples veces, para que podamos evaluar un modelo de forma más fiable que con un solo train test.\n",
    "\n",
    "**Clases para realizar distintos tipos de validación cruzada**\n",
    "\n",
    "1. KFold\n",
    "2. StratifiedKFold\n",
    "3. LeaveOneOut\n",
    "4. RepeatedStratifiedKFold\n",
    "5. GroupKFold\n",
    "6. TimeSeriesSplit\n",
    "\n",
    "## Separar X y\n",
    "\n",
    "Antes de particionamiento o validación cruzada, tenemos que separar manualmente la X, y.\n",
    "\n",
    "Si estamos usando dataset demo que vienen sklearn.datasets entonces existen funciones como load_iris que te devuelven la X,y separada.\n",
    "\n",
    "Si estamos trabajando con datos nuestros, entonces tenemos que separar nosotros la X de la y, por ejemplo:\n",
    "\n",
    "* X = df.drop('target', axis=1)\n",
    "* y = df['target']\n",
    "\n",
    "otra opción:\n",
    "\n",
    "* X = df[['col1', 'col2', 'col3]]\n",
    "* y = df['target']\n",
    "\n",
    "Si queremos usar un modelo o una validación cruzada o un gridsearch, todos los datos de la X tienen que convertirse a numérico. Habitualmente haríamos:\n",
    "\n",
    "* Imputar valores faltantes\n",
    "* Encoding de las columnas categóricas (OrdinalEncoder o OneHotEncoder o get_dummies para la X, LabelEncoder para la y)\n",
    "* Vectorizar texto si tenemos frases\n",
    "\n",
    "opcionalmente:\n",
    "\n",
    "* Escalado de numéricas con un scaler\n",
    "* Transformar distribuciones con PowerTransformer\n",
    "* Reducción dimensionalidad PCA o SelectKBest"
   ]
  },
  {
   "cell_type": "code",
   "execution_count": 1,
   "metadata": {},
   "outputs": [
    {
     "name": "stdout",
     "output_type": "stream",
     "text": [
      "results [0.96666667 1.         0.93333333 0.96666667 1.        ]\n",
      "accuracy media 0.9733333333333334\n",
      "accuracy std 0.02494438257849294\n"
     ]
    }
   ],
   "source": [
    "import seaborn as sns\n",
    "from sklearn.model_selection import cross_val_score, train_test_split\n",
    "from sklearn.datasets import load_iris\n",
    "from sklearn.linear_model import LogisticRegression\n",
    "\n",
    "X, y = load_iris(return_X_y=True) # clasificación multiclase, predecir la columna y\n",
    "model = LogisticRegression(max_iter=500)\n",
    "\n",
    "results = cross_val_score(model, X, y, scoring='accuracy') # por defecto cv=5\n",
    "print('results', results)\n",
    "print('accuracy media', results.mean())\n",
    "print('accuracy std', results.std())\n",
    "# sns.boxplot(results);"
   ]
  },
  {
   "cell_type": "code",
   "execution_count": 2,
   "metadata": {},
   "outputs": [
    {
     "name": "stdout",
     "output_type": "stream",
     "text": [
      "results [1.         1.         1.         1.         1.         0.86666667\n",
      " 0.93333333 1.         1.         0.93333333]\n",
      "accuracy media 0.9733333333333334\n",
      "accuracy std 0.04422166387140532\n"
     ]
    }
   ],
   "source": [
    "# Creando manualmente el KFold# Creando manualmente el KFold\n",
    "from sklearn.model_selection import KFold\n",
    "\n",
    "X, y = load_iris(return_X_y=True) # clasificación multiclase, predecir la columna y\n",
    "model = LogisticRegression(max_iter=500)\n",
    "\n",
    "kfold = KFold(n_splits=10, shuffle=True, random_state=42)\n",
    "\n",
    "results = cross_val_score(model, X, y, scoring='accuracy', cv=kfold) # Entrena y valida 10 veces de forma independiente\n",
    "print('results', results)\n",
    "print('accuracy media', results.mean())\n",
    "print('accuracy std', results.std())\n",
    "\n"
   ]
  },
  {
   "cell_type": "code",
   "execution_count": 3,
   "metadata": {},
   "outputs": [
    {
     "name": "stdout",
     "output_type": "stream",
     "text": [
      "results [1.         1.         1.         0.93333333 0.93333333 0.93333333\n",
      " 1.         1.         0.93333333 0.93333333]\n",
      "accuracy media 0.9666666666666668\n",
      "accuracy std 0.033333333333333326\n"
     ]
    }
   ],
   "source": [
    "from sklearn.model_selection import StratifiedKFold\n",
    "\n",
    "X, y = load_iris(return_X_y=True) # clasificación multiclase, predecir la columna y\n",
    "model = LogisticRegression(max_iter=500)\n",
    "\n",
    "kfold = StratifiedKFold(n_splits=10, shuffle=True, random_state=42)\n",
    "\n",
    "results = cross_val_score(model, X, y, scoring='accuracy', cv=kfold) # Entrena y valida 10 veces de forma independiente\n",
    "print('results', results)\n",
    "print('accuracy media', results.mean())\n",
    "print('accuracy std', results.std())"
   ]
  },
  {
   "cell_type": "markdown",
   "metadata": {},
   "source": [
    "## Leave One Out (LOO-CV)\n",
    "\n",
    "Caso extremo de KFold donde K es igual al número total de muestras:\n",
    "\n",
    "* Se deja solo una muestra para validación y se entrena con todas las demás\n",
    "* Se repite para cada muestra o fila del dataset, por lo que se obtienen n estimaciones de error.\n",
    "* Se aprovechan los datos al máximo\n",
    "* Problema: coste computacional alto ya que entrena muchas más veces\n",
    "* Ideal para datasets pequeños"
   ]
  },
  {
   "cell_type": "code",
   "execution_count": 4,
   "metadata": {},
   "outputs": [
    {
     "name": "stdout",
     "output_type": "stream",
     "text": [
      "accuracy media 0.9666666666666667\n",
      "accuracy std 0.17950549357115014\n"
     ]
    }
   ],
   "source": [
    "from sklearn.model_selection import LeaveOneOut\n",
    "\n",
    "X, y = load_iris(return_X_y=True) # clasificación multiclase, predecir la columna y\n",
    "model = LogisticRegression(max_iter=500)\n",
    "\n",
    "kfold = LeaveOneOut()\n",
    "\n",
    "results = cross_val_score(model, X, y, scoring='accuracy', cv=kfold) # Entrena y valida n veces de forma independiente\n",
    "# print('results', results)\n",
    "print('accuracy media', results.mean())\n",
    "print('accuracy std', results.std())"
   ]
  },
  {
   "cell_type": "markdown",
   "metadata": {},
   "source": [
    "## Múltiples métricas\n",
    "\n",
    "hacer validación cruzada con más de una métrica\n",
    "\n",
    "Usamos cross_validate ya que es más sofisticado y permite trabajr con múltiples métricas.\n",
    "\n",
    "Extra: cross_validate() tiene un parámetro return_estimator por si se quiere obtener los modelos entrenados, pero lo habitual es entrenarlo aparte por separado con todo el dataset en la fase final."
   ]
  },
  {
   "cell_type": "code",
   "execution_count": 5,
   "metadata": {},
   "outputs": [
    {
     "name": "stdout",
     "output_type": "stream",
     "text": [
      "['accuracy', 'adjusted_mutual_info_score', 'adjusted_rand_score', 'average_precision', 'balanced_accuracy', 'completeness_score', 'd2_absolute_error_score', 'explained_variance', 'f1', 'f1_macro', 'f1_micro', 'f1_samples', 'f1_weighted', 'fowlkes_mallows_score', 'homogeneity_score', 'jaccard', 'jaccard_macro', 'jaccard_micro', 'jaccard_samples', 'jaccard_weighted', 'matthews_corrcoef', 'mutual_info_score', 'neg_brier_score', 'neg_log_loss', 'neg_max_error', 'neg_mean_absolute_error', 'neg_mean_absolute_percentage_error', 'neg_mean_gamma_deviance', 'neg_mean_poisson_deviance', 'neg_mean_squared_error', 'neg_mean_squared_log_error', 'neg_median_absolute_error', 'neg_negative_likelihood_ratio', 'neg_root_mean_squared_error', 'neg_root_mean_squared_log_error', 'normalized_mutual_info_score', 'positive_likelihood_ratio', 'precision', 'precision_macro', 'precision_micro', 'precision_samples', 'precision_weighted', 'r2', 'rand_score', 'recall', 'recall_macro', 'recall_micro', 'recall_samples', 'recall_weighted', 'roc_auc', 'roc_auc_ovo', 'roc_auc_ovo_weighted', 'roc_auc_ovr', 'roc_auc_ovr_weighted', 'top_k_accuracy', 'v_measure_score']\n"
     ]
    }
   ],
   "source": [
    "from sklearn.metrics import get_scorer_names\n",
    "print(sorted(get_scorer_names()))\n",
    "# accuracy, precision_macro, recall_macro, f1 o f1_macro, roc_auc_ovr"
   ]
  },
  {
   "cell_type": "code",
   "execution_count": 6,
   "metadata": {},
   "outputs": [
    {
     "name": "stdout",
     "output_type": "stream",
     "text": [
      "accuracy 0.9733333333333334\n",
      "precision 0.9767676767676768\n",
      "recall 0.9733333333333334\n",
      "f1 0.973165236323131\n",
      "AUC 0.9963333333333333\n"
     ]
    }
   ],
   "source": [
    "# usamos cross_validate en lugar de cross_val_score para poder usar múltiples métricas\n",
    "from sklearn.model_selection import cross_validate \n",
    "\n",
    "X, y = load_iris(return_X_y=True)\n",
    "model = LogisticRegression(max_iter=500)\n",
    "\n",
    "results = cross_validate(model, X, y, \n",
    "    scoring=['accuracy', 'precision_macro', 'recall_macro', 'f1_macro', 'roc_auc_ovr']\n",
    ")\n",
    "results\n",
    "print('accuracy', results['test_accuracy'].mean())\n",
    "print('precision', results['test_precision_macro'].mean())\n",
    "print('recall', results['test_recall_macro'].mean())\n",
    "print('f1', results['test_f1_macro'].mean())\n",
    "print('AUC', results['test_roc_auc_ovr'].mean())"
   ]
  },
  {
   "cell_type": "markdown",
   "metadata": {},
   "source": [
    "## Combinar train_test_split con validación cruzada\n",
    "\n",
    "Si no se usa train_test_split, le solemos pasar X y completas a cross_val_score.\n",
    "\n",
    "Pero cuando usamos un train_test_split fuera, entonces lo habitual es pasarle X_train, y_train al cross_val_score que ya internamente este hace sus propios split de train y test y se evalua entonces la calidad total de esos datos de entrenamiento.\n",
    "\n",
    "Ya finalmente se prueba el modelo contra los datos de test del train_test_split que son datos que nunca vio.\n",
    "\n",
    "Prevenir data leakage ya que de esta forma el modelo no ve datos de test hasta el final del todo."
   ]
  },
  {
   "cell_type": "code",
   "execution_count": 7,
   "metadata": {},
   "outputs": [
    {
     "name": "stdout",
     "output_type": "stream",
     "text": [
      "accuracy cv 0.9666666666666666\n",
      "accuracy test 1.0\n"
     ]
    }
   ],
   "source": [
    "from sklearn.metrics import accuracy_score\n",
    "\n",
    "X, y = load_iris(return_X_y=True)\n",
    "model = LogisticRegression(max_iter=500)\n",
    "\n",
    "X_train, X_test, y_train, y_test = train_test_split(X, y, test_size=0.20, random_state=42)\n",
    "\n",
    "results = cross_val_score(model, X_train, y_train, cv=5, scoring='accuracy')\n",
    "print('accuracy cv', results.mean())\n",
    "\n",
    "model.fit(X_train, y_train)\n",
    "y_pred = model.predict(X_test)\n",
    "\n",
    "print('accuracy test', accuracy_score(y_test, y_pred))"
   ]
  },
  {
   "cell_type": "markdown",
   "metadata": {},
   "source": [
    "## Validación cruzada con múltiples modelos\n",
    "\n",
    "Bucle para probar todos los modelos con cross_validate probando múltiples métricas."
   ]
  },
  {
   "cell_type": "code",
   "execution_count": 8,
   "metadata": {},
   "outputs": [],
   "source": [
    "# Clasificación binaria\n",
    "from sklearn.neighbors import KNeighborsClassifier\n",
    "from sklearn.tree import DecisionTreeClassifier\n",
    "from sklearn.svm import SVC\n",
    "from sklearn.ensemble import RandomForestClassifier\n",
    "\n",
    "import pandas as pd\n",
    "df = pd.read_csv('../../Data/titanic_preprocesamiento.csv')\n",
    "X  = df.drop(columns=['Survived'])\n",
    "y = df['Survived']\n",
    "\n",
    "models = {\n",
    "    'LogisticRegression': LogisticRegression(max_iter=500),\n",
    "    'KNN': KNeighborsClassifier(),\n",
    "    'DT': DecisionTreeClassifier(),\n",
    "    'SVC': SVC(probability=True),\n",
    "    'RandomForest': RandomForestClassifier()\n",
    "}\n",
    "\n",
    "df_list = []\n",
    "for name, model in models.items(): \n",
    "    \n",
    "    results = cross_validate(model, X, y, cv=5, scoring=['accuracy', 'precision_macro', 'recall_macro', 'f1_macro', 'roc_auc_ovr'])\n",
    "    df_model = pd.DataFrame(results)\n",
    "    df_model['modelo'] = name\n",
    "    df_list.append(df_model)\n",
    "\n",
    "df_resultados = pd.concat(df_list, ignore_index=True)"
   ]
  },
  {
   "cell_type": "code",
   "execution_count": 9,
   "metadata": {},
   "outputs": [
    {
     "data": {
      "text/html": [
       "<div>\n",
       "<style scoped>\n",
       "    .dataframe tbody tr th:only-of-type {\n",
       "        vertical-align: middle;\n",
       "    }\n",
       "\n",
       "    .dataframe tbody tr th {\n",
       "        vertical-align: top;\n",
       "    }\n",
       "\n",
       "    .dataframe thead th {\n",
       "        text-align: right;\n",
       "    }\n",
       "</style>\n",
       "<table border=\"1\" class=\"dataframe\">\n",
       "  <thead>\n",
       "    <tr style=\"text-align: right;\">\n",
       "      <th></th>\n",
       "      <th>fit_time</th>\n",
       "      <th>score_time</th>\n",
       "      <th>test_accuracy</th>\n",
       "      <th>test_precision_macro</th>\n",
       "      <th>test_recall_macro</th>\n",
       "      <th>test_f1_macro</th>\n",
       "      <th>test_roc_auc_ovr</th>\n",
       "      <th>modelo</th>\n",
       "    </tr>\n",
       "  </thead>\n",
       "  <tbody>\n",
       "    <tr>\n",
       "      <th>0</th>\n",
       "      <td>0.013996</td>\n",
       "      <td>0.007002</td>\n",
       "      <td>0.784091</td>\n",
       "      <td>0.773534</td>\n",
       "      <td>0.773534</td>\n",
       "      <td>0.773534</td>\n",
       "      <td>0.835026</td>\n",
       "      <td>LogisticRegression</td>\n",
       "    </tr>\n",
       "    <tr>\n",
       "      <th>1</th>\n",
       "      <td>0.016042</td>\n",
       "      <td>0.005007</td>\n",
       "      <td>0.822857</td>\n",
       "      <td>0.815035</td>\n",
       "      <td>0.809579</td>\n",
       "      <td>0.812030</td>\n",
       "      <td>0.858851</td>\n",
       "      <td>LogisticRegression</td>\n",
       "    </tr>\n",
       "  </tbody>\n",
       "</table>\n",
       "</div>"
      ],
      "text/plain": [
       "   fit_time  score_time  test_accuracy  test_precision_macro  \\\n",
       "0  0.013996    0.007002       0.784091              0.773534   \n",
       "1  0.016042    0.005007       0.822857              0.815035   \n",
       "\n",
       "   test_recall_macro  test_f1_macro  test_roc_auc_ovr              modelo  \n",
       "0           0.773534       0.773534          0.835026  LogisticRegression  \n",
       "1           0.809579       0.812030          0.858851  LogisticRegression  "
      ]
     },
     "execution_count": 9,
     "metadata": {},
     "output_type": "execute_result"
    }
   ],
   "source": [
    "df_resultados.head(2)"
   ]
  },
  {
   "cell_type": "code",
   "execution_count": 10,
   "metadata": {},
   "outputs": [
    {
     "data": {
      "text/html": [
       "<div>\n",
       "<style scoped>\n",
       "    .dataframe tbody tr th:only-of-type {\n",
       "        vertical-align: middle;\n",
       "    }\n",
       "\n",
       "    .dataframe tbody tr th {\n",
       "        vertical-align: top;\n",
       "    }\n",
       "\n",
       "    .dataframe thead th {\n",
       "        text-align: right;\n",
       "    }\n",
       "</style>\n",
       "<table border=\"1\" class=\"dataframe\">\n",
       "  <thead>\n",
       "    <tr style=\"text-align: right;\">\n",
       "      <th></th>\n",
       "      <th>fit_time</th>\n",
       "      <th>score_time</th>\n",
       "      <th>test_accuracy</th>\n",
       "      <th>test_precision_macro</th>\n",
       "      <th>test_recall_macro</th>\n",
       "      <th>test_f1_macro</th>\n",
       "      <th>test_roc_auc_ovr</th>\n",
       "    </tr>\n",
       "    <tr>\n",
       "      <th>modelo</th>\n",
       "      <th></th>\n",
       "      <th></th>\n",
       "      <th></th>\n",
       "      <th></th>\n",
       "      <th></th>\n",
       "      <th></th>\n",
       "      <th></th>\n",
       "    </tr>\n",
       "  </thead>\n",
       "  <tbody>\n",
       "    <tr>\n",
       "      <th>RandomForest</th>\n",
       "      <td>0.104001</td>\n",
       "      <td>0.014400</td>\n",
       "      <td>0.819636</td>\n",
       "      <td>0.813691</td>\n",
       "      <td>0.803386</td>\n",
       "      <td>0.807262</td>\n",
       "      <td>0.876870</td>\n",
       "    </tr>\n",
       "    <tr>\n",
       "      <th>LogisticRegression</th>\n",
       "      <td>0.014398</td>\n",
       "      <td>0.005401</td>\n",
       "      <td>0.802532</td>\n",
       "      <td>0.795459</td>\n",
       "      <td>0.786730</td>\n",
       "      <td>0.789618</td>\n",
       "      <td>0.856381</td>\n",
       "    </tr>\n",
       "    <tr>\n",
       "      <th>DT</th>\n",
       "      <td>0.002809</td>\n",
       "      <td>0.006790</td>\n",
       "      <td>0.775149</td>\n",
       "      <td>0.764085</td>\n",
       "      <td>0.764857</td>\n",
       "      <td>0.764134</td>\n",
       "      <td>0.768073</td>\n",
       "    </tr>\n",
       "    <tr>\n",
       "      <th>KNN</th>\n",
       "      <td>0.001600</td>\n",
       "      <td>0.010801</td>\n",
       "      <td>0.776318</td>\n",
       "      <td>0.768159</td>\n",
       "      <td>0.753677</td>\n",
       "      <td>0.758768</td>\n",
       "      <td>0.809282</td>\n",
       "    </tr>\n",
       "    <tr>\n",
       "      <th>SVC</th>\n",
       "      <td>0.046999</td>\n",
       "      <td>0.013999</td>\n",
       "      <td>0.696370</td>\n",
       "      <td>0.757081</td>\n",
       "      <td>0.620588</td>\n",
       "      <td>0.604430</td>\n",
       "      <td>0.822384</td>\n",
       "    </tr>\n",
       "  </tbody>\n",
       "</table>\n",
       "</div>"
      ],
      "text/plain": [
       "                    fit_time  score_time  test_accuracy  test_precision_macro  \\\n",
       "modelo                                                                          \n",
       "RandomForest        0.104001    0.014400       0.819636              0.813691   \n",
       "LogisticRegression  0.014398    0.005401       0.802532              0.795459   \n",
       "DT                  0.002809    0.006790       0.775149              0.764085   \n",
       "KNN                 0.001600    0.010801       0.776318              0.768159   \n",
       "SVC                 0.046999    0.013999       0.696370              0.757081   \n",
       "\n",
       "                    test_recall_macro  test_f1_macro  test_roc_auc_ovr  \n",
       "modelo                                                                  \n",
       "RandomForest                 0.803386       0.807262          0.876870  \n",
       "LogisticRegression           0.786730       0.789618          0.856381  \n",
       "DT                           0.764857       0.764134          0.768073  \n",
       "KNN                          0.753677       0.758768          0.809282  \n",
       "SVC                          0.620588       0.604430          0.822384  "
      ]
     },
     "execution_count": 10,
     "metadata": {},
     "output_type": "execute_result"
    }
   ],
   "source": [
    "df_pivot = df_resultados.groupby('modelo').mean().sort_values('test_f1_macro', ascending=False)\n",
    "df_pivot"
   ]
  },
  {
   "cell_type": "code",
   "execution_count": 11,
   "metadata": {},
   "outputs": [
    {
     "data": {
      "text/plain": [
       "<Axes: ylabel='modelo'>"
      ]
     },
     "execution_count": 11,
     "metadata": {},
     "output_type": "execute_result"
    },
    {
     "data": {
      "image/png": "[encoded data removed]",
      "text/plain": [
       "<Figure size 640x480 with 2 Axes>"
      ]
     },
     "metadata": {},
     "output_type": "display_data"
    }
   ],
   "source": [
    "sns.heatmap(df_pivot.drop(columns=['fit_time','score_time']), annot=True, cmap='viridis')"
   ]
  },
  {
   "cell_type": "code",
   "execution_count": 12,
   "metadata": {},
   "outputs": [
    {
     "data": {
      "text/html": [
       "<div>\n",
       "<style scoped>\n",
       "    .dataframe tbody tr th:only-of-type {\n",
       "        vertical-align: middle;\n",
       "    }\n",
       "\n",
       "    .dataframe tbody tr th {\n",
       "        vertical-align: top;\n",
       "    }\n",
       "\n",
       "    .dataframe thead th {\n",
       "        text-align: right;\n",
       "    }\n",
       "</style>\n",
       "<table border=\"1\" class=\"dataframe\">\n",
       "  <thead>\n",
       "    <tr style=\"text-align: right;\">\n",
       "      <th></th>\n",
       "      <th>modelo</th>\n",
       "      <th>metric</th>\n",
       "      <th>score</th>\n",
       "    </tr>\n",
       "  </thead>\n",
       "  <tbody>\n",
       "    <tr>\n",
       "      <th>0</th>\n",
       "      <td>LogisticRegression</td>\n",
       "      <td>fit_time</td>\n",
       "      <td>0.013996</td>\n",
       "    </tr>\n",
       "    <tr>\n",
       "      <th>1</th>\n",
       "      <td>LogisticRegression</td>\n",
       "      <td>fit_time</td>\n",
       "      <td>0.016042</td>\n",
       "    </tr>\n",
       "    <tr>\n",
       "      <th>2</th>\n",
       "      <td>LogisticRegression</td>\n",
       "      <td>fit_time</td>\n",
       "      <td>0.014950</td>\n",
       "    </tr>\n",
       "  </tbody>\n",
       "</table>\n",
       "</div>"
      ],
      "text/plain": [
       "               modelo    metric     score\n",
       "0  LogisticRegression  fit_time  0.013996\n",
       "1  LogisticRegression  fit_time  0.016042\n",
       "2  LogisticRegression  fit_time  0.014950"
      ]
     },
     "execution_count": 12,
     "metadata": {},
     "output_type": "execute_result"
    }
   ],
   "source": [
    "# Restructurar el dataframe para meter las columnas como filas\n",
    "df_resultados_melt = df_resultados.melt(id_vars='modelo', var_name='metric', value_name='score')\n",
    "df_resultados_melt.head(3)"
   ]
  },
  {
   "cell_type": "code",
   "execution_count": 13,
   "metadata": {},
   "outputs": [],
   "source": [
    "# dividir en dos dataframes, unos para times y otro para scores\n",
    "df_resultados_times = df_resultados[['modelo', 'fit_time', 'score_time']]\n",
    "df_resultados_scores = df_resultados[['modelo', 'test_accuracy', 'test_precision_macro', 'test_recall_macro', 'test_f1_macro', 'test_roc_auc_ovr']]"
   ]
  },
  {
   "cell_type": "code",
   "execution_count": 14,
   "metadata": {},
   "outputs": [
    {
     "data": {
      "text/html": [
       "<div>\n",
       "<style scoped>\n",
       "    .dataframe tbody tr th:only-of-type {\n",
       "        vertical-align: middle;\n",
       "    }\n",
       "\n",
       "    .dataframe tbody tr th {\n",
       "        vertical-align: top;\n",
       "    }\n",
       "\n",
       "    .dataframe thead th {\n",
       "        text-align: right;\n",
       "    }\n",
       "</style>\n",
       "<table border=\"1\" class=\"dataframe\">\n",
       "  <thead>\n",
       "    <tr style=\"text-align: right;\">\n",
       "      <th></th>\n",
       "      <th>modelo</th>\n",
       "      <th>time_type</th>\n",
       "      <th>time_seconds</th>\n",
       "    </tr>\n",
       "  </thead>\n",
       "  <tbody>\n",
       "    <tr>\n",
       "      <th>0</th>\n",
       "      <td>LogisticRegression</td>\n",
       "      <td>fit_time</td>\n",
       "      <td>0.013996</td>\n",
       "    </tr>\n",
       "    <tr>\n",
       "      <th>1</th>\n",
       "      <td>LogisticRegression</td>\n",
       "      <td>fit_time</td>\n",
       "      <td>0.016042</td>\n",
       "    </tr>\n",
       "    <tr>\n",
       "      <th>2</th>\n",
       "      <td>LogisticRegression</td>\n",
       "      <td>fit_time</td>\n",
       "      <td>0.014950</td>\n",
       "    </tr>\n",
       "  </tbody>\n",
       "</table>\n",
       "</div>"
      ],
      "text/plain": [
       "               modelo time_type  time_seconds\n",
       "0  LogisticRegression  fit_time      0.013996\n",
       "1  LogisticRegression  fit_time      0.016042\n",
       "2  LogisticRegression  fit_time      0.014950"
      ]
     },
     "execution_count": 14,
     "metadata": {},
     "output_type": "execute_result"
    }
   ],
   "source": [
    "# DATAFRAMES DE TIMES\n",
    "df_times = df_resultados_times.melt(id_vars='modelo', var_name='time_type', value_name='time_seconds')\n",
    "df_times.head(3)"
   ]
  },
  {
   "cell_type": "code",
   "execution_count": 15,
   "metadata": {},
   "outputs": [
    {
     "data": {
      "text/html": [
       "<div>\n",
       "<style scoped>\n",
       "    .dataframe tbody tr th:only-of-type {\n",
       "        vertical-align: middle;\n",
       "    }\n",
       "\n",
       "    .dataframe tbody tr th {\n",
       "        vertical-align: top;\n",
       "    }\n",
       "\n",
       "    .dataframe thead th {\n",
       "        text-align: right;\n",
       "    }\n",
       "</style>\n",
       "<table border=\"1\" class=\"dataframe\">\n",
       "  <thead>\n",
       "    <tr style=\"text-align: right;\">\n",
       "      <th></th>\n",
       "      <th>modelo</th>\n",
       "      <th>metric</th>\n",
       "      <th>score</th>\n",
       "    </tr>\n",
       "  </thead>\n",
       "  <tbody>\n",
       "    <tr>\n",
       "      <th>0</th>\n",
       "      <td>LogisticRegression</td>\n",
       "      <td>test_accuracy</td>\n",
       "      <td>0.784091</td>\n",
       "    </tr>\n",
       "    <tr>\n",
       "      <th>1</th>\n",
       "      <td>LogisticRegression</td>\n",
       "      <td>test_accuracy</td>\n",
       "      <td>0.822857</td>\n",
       "    </tr>\n",
       "    <tr>\n",
       "      <th>2</th>\n",
       "      <td>LogisticRegression</td>\n",
       "      <td>test_accuracy</td>\n",
       "      <td>0.788571</td>\n",
       "    </tr>\n",
       "  </tbody>\n",
       "</table>\n",
       "</div>"
      ],
      "text/plain": [
       "               modelo         metric     score\n",
       "0  LogisticRegression  test_accuracy  0.784091\n",
       "1  LogisticRegression  test_accuracy  0.822857\n",
       "2  LogisticRegression  test_accuracy  0.788571"
      ]
     },
     "execution_count": 15,
     "metadata": {},
     "output_type": "execute_result"
    }
   ],
   "source": [
    "# DATAFRAMES DE SCORES\n",
    "df_scores = df_resultados_scores.melt(id_vars='modelo', var_name='metric', value_name='score')\n",
    "df_scores.head(3)"
   ]
  },
  {
   "cell_type": "code",
   "execution_count": 16,
   "metadata": {},
   "outputs": [
    {
     "data": {
      "image/png": "[encoded data removed]",
      "text/plain": [
       "<Figure size 3000x600 with 1 Axes>"
      ]
     },
     "metadata": {},
     "output_type": "display_data"
    }
   ],
   "source": [
    "# BOXPLOT PARA TIMES\n",
    "import matplotlib.pyplot as plt\n",
    "plt.figure(figsize=(30, 6))\n",
    "sns.boxplot(df_times, x='time_seconds', y='time_type', hue='modelo');"
   ]
  },
  {
   "cell_type": "code",
   "execution_count": 17,
   "metadata": {},
   "outputs": [
    {
     "data": {
      "image/png": "[encoded data removed]",
      "text/plain": [
       "<Figure size 1200x800 with 1 Axes>"
      ]
     },
     "metadata": {},
     "output_type": "display_data"
    }
   ],
   "source": [
    "plt.figure(figsize=(12, 8))\n",
    "sns.boxplot(df_scores, x='metric', y='score', hue='modelo');"
   ]
  },
  {
   "cell_type": "markdown",
   "metadata": {},
   "source": [
    "Se observa que el RandomForest es el modelo con mejores resultados, se puede optar por entrenar ese modelo con todos los datos y exportarlo y despleglarlo a un sistema en producción utilizando MLOps, DevOps.\n",
    "\n",
    "NOTA: hay que tener en cuenta, que los modelos no se han optimizado sus parámetros, si los optimizamos podemos lograr mayor precisión antes de decidir entrenarlo finalmente.\n",
    "\n",
    "NOTA: a nivel de negocio hay que ver si el modelo cumple con los requisitos de tolerancia de error y precisión. Como es un proceso iterativo, se sigue iterando mejorando los datos, preprocesados, modelados, evaluaciones.\n",
    "\n",
    "* v0.0.0\n",
    "* v0.1.0\n",
    "* v0.2.0\n",
    "* v0.2.1\n",
    "* v1.0.0\n",
    "* v2.0.0\n",
    "\n",
    "* gpt-4o (latest)\n",
    "* gpt-4o-2024-11-13"
   ]
  },
  {
   "cell_type": "markdown",
   "metadata": {},
   "source": [
    "## Validación cruzada regresión\n",
    "\n",
    "Los scorers en regresión algunos están negados para seguir la convención de que mayor es mejor y poder comparar R2 y MAE etc todos bajo la premisa de mayor es mejor.\n"
   ]
  },
  {
   "cell_type": "code",
   "execution_count": 18,
   "metadata": {},
   "outputs": [
    {
     "name": "stdout",
     "output_type": "stream",
     "text": [
      "['accuracy', 'adjusted_mutual_info_score', 'adjusted_rand_score', 'average_precision', 'balanced_accuracy', 'completeness_score', 'd2_absolute_error_score', 'explained_variance', 'f1', 'f1_macro', 'f1_micro', 'f1_samples', 'f1_weighted', 'fowlkes_mallows_score', 'homogeneity_score', 'jaccard', 'jaccard_macro', 'jaccard_micro', 'jaccard_samples', 'jaccard_weighted', 'matthews_corrcoef', 'mutual_info_score', 'neg_brier_score', 'neg_log_loss', 'neg_max_error', 'neg_mean_absolute_error', 'neg_mean_absolute_percentage_error', 'neg_mean_gamma_deviance', 'neg_mean_poisson_deviance', 'neg_mean_squared_error', 'neg_mean_squared_log_error', 'neg_median_absolute_error', 'neg_negative_likelihood_ratio', 'neg_root_mean_squared_error', 'neg_root_mean_squared_log_error', 'normalized_mutual_info_score', 'positive_likelihood_ratio', 'precision', 'precision_macro', 'precision_micro', 'precision_samples', 'precision_weighted', 'r2', 'rand_score', 'recall', 'recall_macro', 'recall_micro', 'recall_samples', 'recall_weighted', 'roc_auc', 'roc_auc_ovo', 'roc_auc_ovo_weighted', 'roc_auc_ovr', 'roc_auc_ovr_weighted', 'top_k_accuracy', 'v_measure_score']\n"
     ]
    }
   ],
   "source": [
    "print(sorted(get_scorer_names()))"
   ]
  },
  {
   "cell_type": "code",
   "execution_count": 19,
   "metadata": {},
   "outputs": [
    {
     "name": "stdout",
     "output_type": "stream",
     "text": [
      "fit_time 0.0009999752044677734\n",
      "score_time 0.0017999649047851563\n",
      "test_r2 0.5711581174835783\n",
      "test_neg_mean_absolute_error -3.0956126221622062\n",
      "test_neg_mean_squared_error -15.873427696602363\n",
      "test_neg_mean_absolute_percentage_error -0.14720789973290122\n",
      "test_neg_root_mean_squared_error -3.8590653291765387\n"
     ]
    }
   ],
   "source": [
    "from sklearn.linear_model import LinearRegression\n",
    "\n",
    "df = sns.load_dataset('mpg').dropna()\n",
    "X = df[['horsepower', 'weight', 'cylinders', 'acceleration', 'model_year', 'displacement']]\n",
    "y = df['mpg']\n",
    "\n",
    "model = LinearRegression()\n",
    "results = cross_validate(model, X, y, \n",
    "               scoring=['r2', 'neg_mean_absolute_error', 'neg_mean_squared_error', 'neg_mean_absolute_percentage_error', 'neg_root_mean_squared_error']\n",
    ")\n",
    "print('fit_time', results['fit_time'].mean())\n",
    "print('score_time', results['score_time'].mean())\n",
    "print('test_r2', results['test_r2'].mean())\n",
    "print('test_neg_mean_absolute_error', results['test_neg_mean_absolute_error'].mean())\n",
    "print('test_neg_mean_squared_error', results['test_neg_mean_squared_error'].mean())\n",
    "print('test_neg_mean_absolute_percentage_error', results['test_neg_mean_absolute_percentage_error'].mean())\n",
    "print('test_neg_root_mean_squared_error', results['test_neg_root_mean_squared_error'].mean())"
   ]
  }
 ],
 "metadata": {
  "kernelspec": {
   "display_name": "Python 3",
   "language": "python",
   "name": "python3"
  },
  "language_info": {
   "codemirror_mode": {
    "name": "ipython",
    "version": 3
   },
   "file_extension": ".py",
   "mimetype": "text/x-python",
   "name": "python",
   "nbconvert_exporter": "python",
   "pygments_lexer": "ipython3",
   "version": "3.12.2"
  }
 },
 "nbformat": 4,
 "nbformat_minor": 2
}
