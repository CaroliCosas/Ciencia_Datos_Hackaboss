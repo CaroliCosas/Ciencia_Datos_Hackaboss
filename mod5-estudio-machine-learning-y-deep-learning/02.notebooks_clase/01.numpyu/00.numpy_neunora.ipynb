{
 "cells": [
  {
   "cell_type": "code",
   "execution_count": 1,
   "metadata": {},
   "outputs": [
    {
     "data": {
      "text/plain": [
       "array([1.5, 2. , 2.5, 3. , 3.5])"
      ]
     },
     "execution_count": 1,
     "metadata": {},
     "output_type": "execute_result"
    }
   ],
   "source": [
    "import numpy as np\n",
    "# Ejemplo de una neurona con una sola columna X y sin aplicar función de activación\n",
    "def neurona(X, w, b):\n",
    "     return w * X + b\n",
    " \n",
    "X = np.array([1, 2, 3, 4, 5])  # Una única característica para varias muestras.\n",
    "w = 0.5\n",
    "b = 1.0\n",
    "neurona(X, w, b)"
   ]
  },
  {
   "cell_type": "code",
   "execution_count": null,
   "metadata": {},
   "outputs": [
    {
     "data": {
      "text/plain": [
       "array([0.81757448, 0.88079708, 0.92414182, 0.95257413, 0.97068777])"
      ]
     },
     "execution_count": 2,
     "metadata": {},
     "output_type": "execute_result"
    }
   ],
   "source": [
    "# Ejemplo de una neurona con una sola columna X y aplicando función de activación gismoide\n",
    "def sigmoid(z):\n",
    "    return 1 / (1 + np.exp(-z))\n",
    "\n",
    "def neurona(X, w, b):\n",
    "    z = w * X + b\n",
    "    return sigmoid(z)\n",
    "\n",
    "neurona(X, w, b)"
   ]
  }
 ],
 "metadata": {
  "kernelspec": {
   "display_name": "Python 3",
   "language": "python",
   "name": "python3"
  },
  "language_info": {
   "codemirror_mode": {
    "name": "ipython",
    "version": 3
   },
   "file_extension": ".py",
   "mimetype": "text/x-python",
   "name": "python",
   "nbconvert_exporter": "python",
   "pygments_lexer": "ipython3",
   "version": "3.12.2"
  }
 },
 "nbformat": 4,
 "nbformat_minor": 2
}
