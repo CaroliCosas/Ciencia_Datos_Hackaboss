{
 "cells": [
  {
   "cell_type": "markdown",
   "metadata": {},
   "source": [
    "# Deep"
   ]
  },
  {
   "cell_type": "code",
   "execution_count": 2,
   "metadata": {},
   "outputs": [],
   "source": [
    "from sklearn.linear_model import Perceptron\n",
    "from sklearn.model_selection import train_test_split\n",
    "from sklearn.datasets import load_iris\n",
    "\n",
    "X, y = load_iris(return_X_y=True)\n",
    "# para que sea clasificación multiclase filtramos solo clases 0 y 1\n",
    "X, y = X[y < 2], y[y < 2]\n",
    "\n",
    "X_train, X_test, y_train, y_test = train_test_split(X, y, random_state=42)\n"
   ]
  },
  {
   "cell_type": "code",
   "execution_count": 9,
   "metadata": {},
   "outputs": [
    {
     "name": "stdout",
     "output_type": "stream",
     "text": [
      "accuracy en train 1.0\n",
      "accuracy es test 1.0\n"
     ]
    }
   ],
   "source": [
    "model = Perceptron(max_iter=50, random_state=42) # por defecto 1000 epochs\n",
    "model.fit (X_train, y_train)\n",
    "\n",
    "print('accuracy en train', model.score(X_train, y_train))\n",
    "print('accuracy es test', model.score(X_test, y_test))\n"
   ]
  },
  {
   "cell_type": "code",
   "execution_count": null,
   "metadata": {},
   "outputs": [],
   "source": [
    "## Red neuronal clasificación: MLPClassifier"
   ]
  },
  {
   "cell_type": "code",
   "execution_count": null,
   "metadata": {},
   "outputs": [
    {
     "name": "stdout",
     "output_type": "stream",
     "text": [
      "accuracy en train 1.0\n",
      "accuracy es test 1.0\n"
     ]
    }
   ],
   "source": [
    "from sklearn.neural_network import MLPClassifier\n",
    "# clasificacion binaria:\n",
    "\n",
    "X, y = load_iris(return_X_y=True)\n",
    "X, y = X[y < 2], y[y < 2] # filtro\n",
    "\n",
    "X_train, X_test, y_train, y_test = train_test_split(X, y, random_state=42)\n",
    "\n",
    "model = MLPClassifier(hidden_layer_sizes=(5, 5), max_iter=700, random_state=42)\n",
    "model.fit(X_train, y_train)\n",
    "\n",
    "print('accuracy en train', model.score(X_train, y_train))\n",
    "print('accuracy es test', model.score(X_test, y_test))\n"
   ]
  },
  {
   "cell_type": "code",
   "execution_count": 21,
   "metadata": {},
   "outputs": [
    {
     "name": "stdout",
     "output_type": "stream",
     "text": [
      "accuracy en train 0.7857142857142857\n",
      "accuracy es test 0.8157894736842105\n"
     ]
    },
    {
     "name": "stderr",
     "output_type": "stream",
     "text": [
      "c:\\Users\\carol\\AppData\\Local\\Programs\\Python\\Python312\\Lib\\site-packages\\sklearn\\neural_network\\_multilayer_perceptron.py:691: ConvergenceWarning: Stochastic Optimizer: Maximum iterations (700) reached and the optimization hasn't converged yet.\n",
      "  warnings.warn(\n"
     ]
    }
   ],
   "source": [
    "# clasificación multiclase (sin filtro)\n",
    "X, y = load_iris(return_X_y=True)\n",
    "\n",
    "X_train, X_test, y_train, y_test = train_test_split(X, y, random_state=42)\n",
    "\n",
    "model = MLPClassifier(hidden_layer_sizes=(5, 5), max_iter=700, random_state=42)\n",
    "model.fit(X_train, y_train)\n",
    "\n",
    "print('accuracy en train', model.score(X_train, y_train))\n",
    "print('accuracy es test', model.score(X_test, y_test))\n"
   ]
  }
 ],
 "metadata": {
  "kernelspec": {
   "display_name": "Python 3",
   "language": "python",
   "name": "python3"
  },
  "language_info": {
   "codemirror_mode": {
    "name": "ipython",
    "version": 3
   },
   "file_extension": ".py",
   "mimetype": "text/x-python",
   "name": "python",
   "nbconvert_exporter": "python",
   "pygments_lexer": "ipython3",
   "version": "3.12.2"
  }
 },
 "nbformat": 4,
 "nbformat_minor": 2
}
