{
 "cells": [
  {
   "cell_type": "markdown",
   "metadata": {},
   "source": [
    "## Clasificación binaria\n",
    "\n",
    "*  la ultima capa tendrá una beurobna de salida con activación sigmoid para convertir a 0 o 1\n",
    "* La función de coste será binary Cross Entropy, ya que es diferenciable (se pùeden calcular derivadas sobre ella)"
   ]
  },
  {
   "cell_type": "code",
   "execution_count": 1,
   "metadata": {},
   "outputs": [],
   "source": [
    "import tensorflow as tf\n",
    "import seaborn as sns\n",
    "import pandas as pd\n",
    "import numpy as np\n",
    "import random\n",
    "from sklearn.datasets import load_breast_cancer\n",
    "from sklearn.model_selection import train_test_split\n"
   ]
  },
  {
   "cell_type": "code",
   "execution_count": 2,
   "metadata": {},
   "outputs": [],
   "source": [
    "keras = tf.keras"
   ]
  },
  {
   "cell_type": "code",
   "execution_count": 3,
   "metadata": {},
   "outputs": [],
   "source": [
    "data = load_breast_cancer()\n",
    "X = data.data        # Matriz de características\n",
    "y = data.target      # Vector de etiquetas (0 = maligno, 1 = benigno)\n",
    "X_train, X_test, y_train, y_test = train_test_split(\n",
    "    X, y, test_size=0.2, random_state=42\n",
    ")"
   ]
  },
  {
   "cell_type": "code",
   "execution_count": 4,
   "metadata": {},
   "outputs": [
    {
     "name": "stdout",
     "output_type": "stream",
     "text": [
      "WARNING:tensorflow:From c:\\Users\\carol\\AppData\\Local\\Programs\\Python\\Python312\\Lib\\site-packages\\keras\\src\\backend\\common\\global_state.py:82: The name tf.reset_default_graph is deprecated. Please use tf.compat.v1.reset_default_graph instead.\n",
      "\n",
      "Epoch 1/10\n",
      "\u001b[1m12/12\u001b[0m \u001b[32m━━━━━━━━━━━━━━━━━━━━\u001b[0m\u001b[37m\u001b[0m \u001b[1m1s\u001b[0m 32ms/step - accuracy: 0.5670 - auc: 0.6200 - loss: 5.9289 - precision: 0.6801 - recall: 0.4928 - val_accuracy: 0.8022 - val_auc: 0.7247 - val_loss: 3.5641 - val_precision: 0.7632 - val_recall: 1.0000\n",
      "Epoch 2/10\n",
      "\u001b[1m12/12\u001b[0m \u001b[32m━━━━━━━━━━━━━━━━━━━━\u001b[0m\u001b[37m\u001b[0m \u001b[1m0s\u001b[0m 6ms/step - accuracy: 0.7830 - auc: 0.8514 - loss: 0.9269 - precision: 0.8486 - recall: 0.7962 - val_accuracy: 0.8681 - val_auc: 0.8409 - val_loss: 2.4358 - val_precision: 0.8485 - val_recall: 0.9655\n",
      "Epoch 3/10\n",
      "\u001b[1m12/12\u001b[0m \u001b[32m━━━━━━━━━━━━━━━━━━━━\u001b[0m\u001b[37m\u001b[0m \u001b[1m0s\u001b[0m 6ms/step - accuracy: 0.8295 - auc: 0.9076 - loss: 0.6127 - precision: 0.8995 - recall: 0.8190 - val_accuracy: 0.8901 - val_auc: 0.8511 - val_loss: 2.0922 - val_precision: 0.8636 - val_recall: 0.9828\n",
      "Epoch 4/10\n",
      "\u001b[1m12/12\u001b[0m \u001b[32m━━━━━━━━━━━━━━━━━━━━\u001b[0m\u001b[37m\u001b[0m \u001b[1m0s\u001b[0m 6ms/step - accuracy: 0.8662 - auc: 0.9106 - loss: 0.5605 - precision: 0.9055 - recall: 0.8792 - val_accuracy: 0.8901 - val_auc: 0.8487 - val_loss: 1.6977 - val_precision: 0.8636 - val_recall: 0.9828\n",
      "Epoch 5/10\n",
      "\u001b[1m12/12\u001b[0m \u001b[32m━━━━━━━━━━━━━━━━━━━━\u001b[0m\u001b[37m\u001b[0m \u001b[1m0s\u001b[0m 6ms/step - accuracy: 0.8711 - auc: 0.9242 - loss: 0.4573 - precision: 0.9023 - recall: 0.8923 - val_accuracy: 0.8571 - val_auc: 0.8281 - val_loss: 1.2613 - val_precision: 0.8689 - val_recall: 0.9138\n",
      "Epoch 6/10\n",
      "\u001b[1m12/12\u001b[0m \u001b[32m━━━━━━━━━━━━━━━━━━━━\u001b[0m\u001b[37m\u001b[0m \u001b[1m0s\u001b[0m 6ms/step - accuracy: 0.8955 - auc: 0.9378 - loss: 0.3843 - precision: 0.9307 - recall: 0.9013 - val_accuracy: 0.8571 - val_auc: 0.8433 - val_loss: 0.9936 - val_precision: 0.8689 - val_recall: 0.9138\n",
      "Epoch 7/10\n",
      "\u001b[1m12/12\u001b[0m \u001b[32m━━━━━━━━━━━━━━━━━━━━\u001b[0m\u001b[37m\u001b[0m \u001b[1m0s\u001b[0m 7ms/step - accuracy: 0.8877 - auc: 0.9362 - loss: 0.3741 - precision: 0.9083 - recall: 0.9143 - val_accuracy: 0.8462 - val_auc: 0.8966 - val_loss: 0.7503 - val_precision: 0.8793 - val_recall: 0.8793\n",
      "Epoch 8/10\n",
      "\u001b[1m12/12\u001b[0m \u001b[32m━━━━━━━━━━━━━━━━━━━━\u001b[0m\u001b[37m\u001b[0m \u001b[1m0s\u001b[0m 7ms/step - accuracy: 0.8916 - auc: 0.9465 - loss: 0.3322 - precision: 0.9113 - recall: 0.9174 - val_accuracy: 0.8571 - val_auc: 0.9109 - val_loss: 0.5960 - val_precision: 0.8814 - val_recall: 0.8966\n",
      "Epoch 9/10\n",
      "\u001b[1m12/12\u001b[0m \u001b[32m━━━━━━━━━━━━━━━━━━━━\u001b[0m\u001b[37m\u001b[0m \u001b[1m0s\u001b[0m 7ms/step - accuracy: 0.9050 - auc: 0.9524 - loss: 0.3018 - precision: 0.9160 - recall: 0.9352 - val_accuracy: 0.8571 - val_auc: 0.9154 - val_loss: 0.5432 - val_precision: 0.9245 - val_recall: 0.8448\n",
      "Epoch 10/10\n",
      "\u001b[1m12/12\u001b[0m \u001b[32m━━━━━━━━━━━━━━━━━━━━\u001b[0m\u001b[37m\u001b[0m \u001b[1m0s\u001b[0m 8ms/step - accuracy: 0.8982 - auc: 0.9400 - loss: 0.3411 - precision: 0.9114 - recall: 0.9294 - val_accuracy: 0.8352 - val_auc: 0.9180 - val_loss: 0.5267 - val_precision: 0.9216 - val_recall: 0.8103\n"
     ]
    },
    {
     "data": {
      "text/plain": [
       "<keras.src.callbacks.history.History at 0x226dae32ed0>"
      ]
     },
     "execution_count": 4,
     "metadata": {},
     "output_type": "execute_result"
    }
   ],
   "source": [
    "# 0. random state\n",
    "keras.backend.clear_session()\n",
    "seed = 42\n",
    "tf.random.set_seed(seed)\n",
    "np.random.seed(seed)\n",
    "random.seed(seed)\n",
    "\n",
    "# 1, Arquitectura red neuronal\n",
    "model = keras.Sequential([\n",
    "    #keras.layers.Input(shape=(X.shape[1])), # calcula el numero de columnas de X y lo añade, pero no es necesario, lo detecta auto maticamente\n",
    "    keras.layers.Dense(64, activation='relu'), # una capa\n",
    "    keras.layers.Dense(64, activation='relu'), # una capa\n",
    "    keras.layers.Dense(1, activation='sigmoid'), # capa de salida para clasificacion binaria\n",
    "    \n",
    "])\n",
    "\n",
    "# 2. Compilar el modelo:\n",
    "model.compile(\n",
    "    loss = keras.losses.BinaryCrossentropy(), # es la función más importante!el que vamos a optimizar\n",
    "    optimizer = keras.optimizers.Adam(), # Adam es el mas sofisticado\n",
    "    metrics = ['accuracy',\n",
    "               keras.metrics.Precision(),\n",
    "               keras.metrics.Recall(),\n",
    "               keras.metrics.AUC()]\n",
    ")\n",
    "\n",
    "# 3. Fit model (entrenar el modelo)\n",
    "# batch_size: por defecto es 32, indica cuántos ejemplos se utilizan en cada iteración del entrenamiento\n",
    "model.fit(X_train, y_train, validation_split=0.2, epochs=10, verbose=1, batch_size=32)\n"
   ]
  },
  {
   "cell_type": "code",
   "execution_count": 5,
   "metadata": {},
   "outputs": [
    {
     "data": {
      "text/plain": [
       "keras.src.metrics.accuracy_metrics.BinaryAccuracy"
      ]
     },
     "execution_count": 5,
     "metadata": {},
     "output_type": "execute_result"
    }
   ],
   "source": [
    "keras.metrics.BinaryAccuracy"
   ]
  }
 ],
 "metadata": {
  "kernelspec": {
   "display_name": "Python 3",
   "language": "python",
   "name": "python3"
  },
  "language_info": {
   "codemirror_mode": {
    "name": "ipython",
    "version": 3
   },
   "file_extension": ".py",
   "mimetype": "text/x-python",
   "name": "python",
   "nbconvert_exporter": "python",
   "pygments_lexer": "ipython3",
   "version": "3.12.2"
  }
 },
 "nbformat": 4,
 "nbformat_minor": 2
}
