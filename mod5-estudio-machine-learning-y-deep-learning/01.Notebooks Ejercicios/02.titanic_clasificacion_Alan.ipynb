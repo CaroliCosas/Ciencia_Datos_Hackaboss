{
 "cells": [
  {
   "cell_type": "code",
   "execution_count": 2,
   "metadata": {},
   "outputs": [],
   "source": [
    "import pandas as pd\n",
    "import seaborn as sns\n",
    "import matplotlib.pyplot as plt \n",
    "import numpy as np\n",
    "from sklearn.linear_model import LogisticRegression"
   ]
  },
  {
   "cell_type": "code",
   "execution_count": 5,
   "metadata": {},
   "outputs": [
    {
     "data": {
      "text/html": [
       "<div>\n",
       "<style scoped>\n",
       "    .dataframe tbody tr th:only-of-type {\n",
       "        vertical-align: middle;\n",
       "    }\n",
       "\n",
       "    .dataframe tbody tr th {\n",
       "        vertical-align: top;\n",
       "    }\n",
       "\n",
       "    .dataframe thead th {\n",
       "        text-align: right;\n",
       "    }\n",
       "</style>\n",
       "<table border=\"1\" class=\"dataframe\">\n",
       "  <thead>\n",
       "    <tr style=\"text-align: right;\">\n",
       "      <th></th>\n",
       "      <th>Age</th>\n",
       "      <th>Pclass</th>\n",
       "      <th>Ticket</th>\n",
       "      <th>Sibsp</th>\n",
       "      <th>Parch</th>\n",
       "      <th>Sex_female</th>\n",
       "      <th>Sex_male</th>\n",
       "      <th>Log_Fare</th>\n",
       "      <th>Embark_Town_Cherbourg</th>\n",
       "      <th>Embark_Town_Queenstown</th>\n",
       "      <th>Embark_Town_Southampton</th>\n",
       "      <th>Survived</th>\n",
       "    </tr>\n",
       "  </thead>\n",
       "  <tbody>\n",
       "    <tr>\n",
       "      <th>0</th>\n",
       "      <td>22.0</td>\n",
       "      <td>3.0</td>\n",
       "      <td>1.0</td>\n",
       "      <td>1.0</td>\n",
       "      <td>0.0</td>\n",
       "      <td>0.0</td>\n",
       "      <td>1.0</td>\n",
       "      <td>2.110213</td>\n",
       "      <td>1.0</td>\n",
       "      <td>0.0</td>\n",
       "      <td>0.0</td>\n",
       "      <td>0.0</td>\n",
       "    </tr>\n",
       "    <tr>\n",
       "      <th>1</th>\n",
       "      <td>38.0</td>\n",
       "      <td>1.0</td>\n",
       "      <td>1.0</td>\n",
       "      <td>0.0</td>\n",
       "      <td>0.0</td>\n",
       "      <td>1.0</td>\n",
       "      <td>0.0</td>\n",
       "      <td>4.280593</td>\n",
       "      <td>0.0</td>\n",
       "      <td>0.0</td>\n",
       "      <td>1.0</td>\n",
       "      <td>1.0</td>\n",
       "    </tr>\n",
       "    <tr>\n",
       "      <th>2</th>\n",
       "      <td>26.0</td>\n",
       "      <td>3.0</td>\n",
       "      <td>1.0</td>\n",
       "      <td>1.0</td>\n",
       "      <td>0.0</td>\n",
       "      <td>1.0</td>\n",
       "      <td>0.0</td>\n",
       "      <td>2.188856</td>\n",
       "      <td>0.0</td>\n",
       "      <td>0.0</td>\n",
       "      <td>1.0</td>\n",
       "      <td>1.0</td>\n",
       "    </tr>\n",
       "    <tr>\n",
       "      <th>3</th>\n",
       "      <td>35.0</td>\n",
       "      <td>1.0</td>\n",
       "      <td>2.0</td>\n",
       "      <td>0.0</td>\n",
       "      <td>0.0</td>\n",
       "      <td>1.0</td>\n",
       "      <td>0.0</td>\n",
       "      <td>3.990834</td>\n",
       "      <td>0.0</td>\n",
       "      <td>0.0</td>\n",
       "      <td>1.0</td>\n",
       "      <td>1.0</td>\n",
       "    </tr>\n",
       "    <tr>\n",
       "      <th>4</th>\n",
       "      <td>35.0</td>\n",
       "      <td>3.0</td>\n",
       "      <td>1.0</td>\n",
       "      <td>0.0</td>\n",
       "      <td>0.0</td>\n",
       "      <td>0.0</td>\n",
       "      <td>1.0</td>\n",
       "      <td>2.202765</td>\n",
       "      <td>0.0</td>\n",
       "      <td>1.0</td>\n",
       "      <td>0.0</td>\n",
       "      <td>0.0</td>\n",
       "    </tr>\n",
       "  </tbody>\n",
       "</table>\n",
       "</div>"
      ],
      "text/plain": [
       "    Age  Pclass  Ticket  Sibsp  Parch  Sex_female  Sex_male  Log_Fare  \\\n",
       "0  22.0     3.0     1.0    1.0    0.0         0.0       1.0  2.110213   \n",
       "1  38.0     1.0     1.0    0.0    0.0         1.0       0.0  4.280593   \n",
       "2  26.0     3.0     1.0    1.0    0.0         1.0       0.0  2.188856   \n",
       "3  35.0     1.0     2.0    0.0    0.0         1.0       0.0  3.990834   \n",
       "4  35.0     3.0     1.0    0.0    0.0         0.0       1.0  2.202765   \n",
       "\n",
       "   Embark_Town_Cherbourg  Embark_Town_Queenstown  Embark_Town_Southampton  \\\n",
       "0                    1.0                     0.0                      0.0   \n",
       "1                    0.0                     0.0                      1.0   \n",
       "2                    0.0                     0.0                      1.0   \n",
       "3                    0.0                     0.0                      1.0   \n",
       "4                    0.0                     1.0                      0.0   \n",
       "\n",
       "   Survived  \n",
       "0       0.0  \n",
       "1       1.0  \n",
       "2       1.0  \n",
       "3       1.0  \n",
       "4       0.0  "
      ]
     },
     "execution_count": 5,
     "metadata": {},
     "output_type": "execute_result"
    }
   ],
   "source": [
    "df = pd.read_csv('../Data/titanic_preprocesamiento.csv')\n",
    "df.head()"
   ]
  },
  {
   "cell_type": "code",
   "execution_count": 6,
   "metadata": {},
   "outputs": [
    {
     "data": {
      "text/html": [
       "<div>\n",
       "<style scoped>\n",
       "    .dataframe tbody tr th:only-of-type {\n",
       "        vertical-align: middle;\n",
       "    }\n",
       "\n",
       "    .dataframe tbody tr th {\n",
       "        vertical-align: top;\n",
       "    }\n",
       "\n",
       "    .dataframe thead th {\n",
       "        text-align: right;\n",
       "    }\n",
       "</style>\n",
       "<table border=\"1\" class=\"dataframe\">\n",
       "  <thead>\n",
       "    <tr style=\"text-align: right;\">\n",
       "      <th></th>\n",
       "      <th>Age</th>\n",
       "      <th>Pclass</th>\n",
       "      <th>Ticket</th>\n",
       "      <th>Sibsp</th>\n",
       "      <th>Parch</th>\n",
       "      <th>Sex_female</th>\n",
       "      <th>Sex_male</th>\n",
       "      <th>Log_Fare</th>\n",
       "      <th>Embark_Town_Cherbourg</th>\n",
       "      <th>Embark_Town_Queenstown</th>\n",
       "      <th>Embark_Town_Southampton</th>\n",
       "    </tr>\n",
       "  </thead>\n",
       "  <tbody>\n",
       "    <tr>\n",
       "      <th>0</th>\n",
       "      <td>22.0</td>\n",
       "      <td>3.0</td>\n",
       "      <td>1.0</td>\n",
       "      <td>1.0</td>\n",
       "      <td>0.0</td>\n",
       "      <td>0.0</td>\n",
       "      <td>1.0</td>\n",
       "      <td>2.110213</td>\n",
       "      <td>1.0</td>\n",
       "      <td>0.0</td>\n",
       "      <td>0.0</td>\n",
       "    </tr>\n",
       "    <tr>\n",
       "      <th>1</th>\n",
       "      <td>38.0</td>\n",
       "      <td>1.0</td>\n",
       "      <td>1.0</td>\n",
       "      <td>0.0</td>\n",
       "      <td>0.0</td>\n",
       "      <td>1.0</td>\n",
       "      <td>0.0</td>\n",
       "      <td>4.280593</td>\n",
       "      <td>0.0</td>\n",
       "      <td>0.0</td>\n",
       "      <td>1.0</td>\n",
       "    </tr>\n",
       "    <tr>\n",
       "      <th>2</th>\n",
       "      <td>26.0</td>\n",
       "      <td>3.0</td>\n",
       "      <td>1.0</td>\n",
       "      <td>1.0</td>\n",
       "      <td>0.0</td>\n",
       "      <td>1.0</td>\n",
       "      <td>0.0</td>\n",
       "      <td>2.188856</td>\n",
       "      <td>0.0</td>\n",
       "      <td>0.0</td>\n",
       "      <td>1.0</td>\n",
       "    </tr>\n",
       "    <tr>\n",
       "      <th>3</th>\n",
       "      <td>35.0</td>\n",
       "      <td>1.0</td>\n",
       "      <td>2.0</td>\n",
       "      <td>0.0</td>\n",
       "      <td>0.0</td>\n",
       "      <td>1.0</td>\n",
       "      <td>0.0</td>\n",
       "      <td>3.990834</td>\n",
       "      <td>0.0</td>\n",
       "      <td>0.0</td>\n",
       "      <td>1.0</td>\n",
       "    </tr>\n",
       "    <tr>\n",
       "      <th>4</th>\n",
       "      <td>35.0</td>\n",
       "      <td>3.0</td>\n",
       "      <td>1.0</td>\n",
       "      <td>0.0</td>\n",
       "      <td>0.0</td>\n",
       "      <td>0.0</td>\n",
       "      <td>1.0</td>\n",
       "      <td>2.202765</td>\n",
       "      <td>0.0</td>\n",
       "      <td>1.0</td>\n",
       "      <td>0.0</td>\n",
       "    </tr>\n",
       "  </tbody>\n",
       "</table>\n",
       "</div>"
      ],
      "text/plain": [
       "    Age  Pclass  Ticket  Sibsp  Parch  Sex_female  Sex_male  Log_Fare  \\\n",
       "0  22.0     3.0     1.0    1.0    0.0         0.0       1.0  2.110213   \n",
       "1  38.0     1.0     1.0    0.0    0.0         1.0       0.0  4.280593   \n",
       "2  26.0     3.0     1.0    1.0    0.0         1.0       0.0  2.188856   \n",
       "3  35.0     1.0     2.0    0.0    0.0         1.0       0.0  3.990834   \n",
       "4  35.0     3.0     1.0    0.0    0.0         0.0       1.0  2.202765   \n",
       "\n",
       "   Embark_Town_Cherbourg  Embark_Town_Queenstown  Embark_Town_Southampton  \n",
       "0                    1.0                     0.0                      0.0  \n",
       "1                    0.0                     0.0                      1.0  \n",
       "2                    0.0                     0.0                      1.0  \n",
       "3                    0.0                     0.0                      1.0  \n",
       "4                    0.0                     1.0                      0.0  "
      ]
     },
     "execution_count": 6,
     "metadata": {},
     "output_type": "execute_result"
    }
   ],
   "source": [
    "# Clasificación binaria\n",
    "# 0 - No sobrevivió\n",
    "# 1 - Sí sobrevivió\n",
    "X = df.drop('Survived', axis=1)\n",
    "X.head()"
   ]
  },
  {
   "cell_type": "code",
   "execution_count": 7,
   "metadata": {},
   "outputs": [],
   "source": [
    "y = df['Survived']"
   ]
  },
  {
   "cell_type": "code",
   "execution_count": 8,
   "metadata": {},
   "outputs": [
    {
     "data": {
      "text/plain": [
       "Survived\n",
       "0.0    535\n",
       "1.0    341\n",
       "Name: count, dtype: int64"
      ]
     },
     "execution_count": 8,
     "metadata": {},
     "output_type": "execute_result"
    }
   ],
   "source": [
    "df['Survived'].value_counts()"
   ]
  },
  {
   "cell_type": "markdown",
   "metadata": {},
   "source": [
    "## Regresión logística\n",
    "\n",
    "* Parte lineal: similar a regresión lineal. Combina linealmente las columnas del dataframe:\n",
    "\n",
    "z = w0 + w1 * x1 + w2 * x2 + wn * xn\n",
    "\n",
    "* w0: intercept\n",
    "* wi: pesos que el modelo aprende\n",
    "\n",
    "Parte logística (función sigmoide)\n",
    "\n",
    "sigmoide(z) = 1 / (1 + e ^ -z)\n",
    "\n",
    "Esto nos da un número entre 0 y 1 que sería la probabilidad de pertecener a la clase 0 o 1. \n",
    "\n",
    "P ( clase = 1 | X)\n",
    "\n",
    "* Si la probabilidad es mayor a 0.5 entonces se clasifica como clase 1. \n",
    "* Si la probabilidad es mayor a 0.5 entonces se clasifica como clase 0. "
   ]
  },
  {
   "cell_type": "code",
   "execution_count": 60,
   "metadata": {},
   "outputs": [
    {
     "name": "stdout",
     "output_type": "stream",
     "text": [
      "[[99 16]\n",
      " [13 48]]\n"
     ]
    }
   ],
   "source": [
    "from sklearn.model_selection import train_test_split\n",
    "from sklearn.metrics import accuracy_score, confusion_matrix, ConfusionMatrixDisplay\n",
    "\n",
    "# LogisticRegression es un algoritmo de clasificación\n",
    "# https://the-algorithms.com/es/algorithm/logistic-regression\n",
    "\n",
    "X_train, X_test, y_train, y_test = train_test_split(X, y, test_size=0.2, random_state=42)\n",
    "\n",
    "model = LogisticRegression(max_iter=2000, C=0.2)\n",
    "\n",
    "model.fit(X_train, y_train)\n",
    "\n",
    "y_pred = model.predict(X_test)\n",
    "\n",
    "print(confusion_matrix(y_test, y_pred))"
   ]
  },
  {
   "cell_type": "code",
   "execution_count": 25,
   "metadata": {},
   "outputs": [
    {
     "data": {
      "text/plain": [
       "array([0., 1.])"
      ]
     },
     "execution_count": 25,
     "metadata": {},
     "output_type": "execute_result"
    }
   ],
   "source": [
    "model.classes_"
   ]
  },
  {
   "cell_type": "markdown",
   "metadata": {},
   "source": [
    "## Matriz de confusión\n",
    "\n",
    "Convención práctica (scikit learn)\n",
    "\n",
    "|                   | **Predicho: 0** | **Predicho: 1** |\n",
    "|-------------------|-----------------|-----------------|\n",
    "| **Real: 0**       | 98 (TN)         | 17 (FP)         |\n",
    "| **Real: 1**       | 13 (FN)          | 48 (TP)         |\n",
    "\n",
    "Convención teórica\n",
    "\n",
    "|                   | **Predicho: 1** | **Predicho: 0** |\n",
    "|-------------------|-----------------|-----------------|\n",
    "| **Real: 1**       | **True Positive (TP)** | **False Negative (FN)** |\n",
    "| **Real: 0**       | **False Positive (FP)** | **True Negative (TN)** |"
   ]
  },
  {
   "cell_type": "code",
   "execution_count": 33,
   "metadata": {},
   "outputs": [
    {
     "data": {
      "image/png": "[encoded data removed]",
      "text/plain": [
       "<Figure size 640x480 with 2 Axes>"
      ]
     },
     "metadata": {},
     "output_type": "display_data"
    }
   ],
   "source": [
    "cm = confusion_matrix(y_test, y_pred)\n",
    "# cmd = ConfusionMatrixDisplay(cm)\n",
    "cmd = ConfusionMatrixDisplay(cm, display_labels=['Not survived', 'Survived'])\n",
    "cmd.plot();"
   ]
  },
  {
   "cell_type": "code",
   "execution_count": null,
   "metadata": {},
   "outputs": [
    {
     "name": "stdout",
     "output_type": "stream",
     "text": [
      "              precision    recall  f1-score   support\n",
      "\n",
      "         0.0       0.88      0.85      0.87       115\n",
      "         1.0       0.74      0.79      0.76        61\n",
      "\n",
      "    accuracy                           0.83       176\n",
      "   macro avg       0.81      0.82      0.81       176\n",
      "weighted avg       0.83      0.83      0.83       176\n",
      "\n"
     ]
    }
   ],
   "source": [
    "from sklearn.metrics import classification_report\n",
    "\n",
    "# Para la clase 1 (survived) el modelo tiene peores puntuaciones\n",
    "# support indica el número de registros filas, HAY QUE TENER EN CUENTA QUE HEMOS HECHO PARTICIONAMIENTO 20 %\n",
    "print(classification_report(y_test, y_pred))"
   ]
  },
  {
   "cell_type": "markdown",
   "metadata": {},
   "source": [
    "### Accuracy: \n",
    "\n",
    "Exactitud: porcentaje de muestras que el modelo clasifica correctamente (TN + TP).\n",
    "\n",
    "accuracy = número de aciertos / número total de muestras"
   ]
  },
  {
   "cell_type": "code",
   "execution_count": 24,
   "metadata": {},
   "outputs": [
    {
     "name": "stdout",
     "output_type": "stream",
     "text": [
      "accuracy: 0.8295454545454546\n"
     ]
    }
   ],
   "source": [
    "# exactitud, ratio de acierto\n",
    "print(f'accuracy: {accuracy_score(y_test, y_pred)}')"
   ]
  },
  {
   "cell_type": "markdown",
   "metadata": {},
   "source": [
    "### Precision\n",
    "\n",
    "Precisión: De todas las observaciones que el modelo predijo como positivos, ¿cuántos son realmente positivos?\n",
    "\n",
    "Enfocada en evitar falsos positivos (FP).\n",
    "\n",
    "Responde: \"De los casos que predije como positivos, ¿qué proporción eran realmente positivos?\"\n",
    "\n",
    "Útil cuando los falsos positivos son costosos, como en detección de spam (es preferible no marcar un correo legítimo como spam)."
   ]
  },
  {
   "cell_type": "code",
   "execution_count": 26,
   "metadata": {},
   "outputs": [
    {
     "data": {
      "text/plain": [
       "0.7384615384615385"
      ]
     },
     "execution_count": 26,
     "metadata": {},
     "output_type": "execute_result"
    }
   ],
   "source": [
    "from sklearn.metrics import precision_score\n",
    "\n",
    "precision_score(y_test, y_pred)"
   ]
  },
  {
   "cell_type": "markdown",
   "metadata": {},
   "source": [
    "### Recall\n",
    "\n",
    "Enfocada en evitar falsos negativos (FN).\n",
    "\n",
    "Responde: \"De los casos positivos reales, ¿qué proporción detecté correctamente?\"\n",
    "\n",
    "Útil cuando los falsos negativos son costosos, como en detección de enfermedades (es mejor detectar todos los enfermos, incluso si algunos falsos positivos ocurren).\n"
   ]
  },
  {
   "cell_type": "code",
   "execution_count": 27,
   "metadata": {},
   "outputs": [
    {
     "data": {
      "text/plain": [
       "0.7868852459016393"
      ]
     },
     "execution_count": 27,
     "metadata": {},
     "output_type": "execute_result"
    }
   ],
   "source": [
    "from sklearn.metrics import recall_score\n",
    "\n",
    "recall_score(y_test, y_pred)"
   ]
  },
  {
   "cell_type": "markdown",
   "metadata": {},
   "source": [
    "### f1-score\n",
    "\n",
    "Media de precision y recall, tiene en cuenta ambas métricas, proporciona un balance entre ambas.\n",
    "\n",
    "Es la métrica más confiable cuando tenemos datasets desbalanceados."
   ]
  },
  {
   "cell_type": "code",
   "execution_count": 29,
   "metadata": {},
   "outputs": [
    {
     "data": {
      "text/plain": [
       "0.7619047619047619"
      ]
     },
     "execution_count": 29,
     "metadata": {},
     "output_type": "execute_result"
    }
   ],
   "source": [
    "from sklearn.metrics import f1_score\n",
    "\n",
    "f1_score(y_test, y_pred)"
   ]
  },
  {
   "cell_type": "markdown",
   "metadata": {},
   "source": [
    "## ROC-AUC\n",
    "\n",
    "Curva ilustrar el rendimiento del clasificador en distintos umbrales de decisión:\n",
    "\n",
    "* TPR: True Positive ratio\n",
    "* FPR: False Positive ratio\n",
    "\n",
    "TPR = 1, FPR = 0, lo ideal\n",
    "\n",
    "AUC: Area Under the curve cuantifica el área debajo de la curva ROC\n",
    "\n",
    "* AUC = 1 perfecto\n",
    "* AUC = 0.5 malo, igual que tomar una decisión aleatoria\n",
    "* AUC < 0.5 peor que aleatorio, posible problema en el modelo"
   ]
  },
  {
   "cell_type": "code",
   "execution_count": 35,
   "metadata": {},
   "outputs": [
    {
     "name": "stdout",
     "output_type": "stream",
     "text": [
      "AUC 0.8195295794725588\n"
     ]
    }
   ],
   "source": [
    "from sklearn.metrics import roc_auc_score\n",
    "\n",
    "auc = roc_auc_score(y_test, y_pred)\n",
    "print(f'AUC {auc}')"
   ]
  },
  {
   "cell_type": "code",
   "execution_count": 39,
   "metadata": {},
   "outputs": [
    {
     "data": {
      "text/plain": [
       "<matplotlib.legend.Legend at 0x184c76ca5a0>"
      ]
     },
     "execution_count": 39,
     "metadata": {},
     "output_type": "execute_result"
    },
    {
     "data": {
      "image/png": "[encoded data removed]",
      "text/plain": [
       "<Figure size 640x480 with 1 Axes>"
      ]
     },
     "metadata": {},
     "output_type": "display_data"
    }
   ],
   "source": [
    "from sklearn.metrics import RocCurveDisplay\n",
    "\n",
    "# Gráfico que muestra qué tan bien el modelo diferencia entre las clases \n",
    "# Eje x: FPR tasa de falsos positivos\n",
    "# Eje y: TPR tasa de verdaderos positivos\n",
    "# Nos interesa que la diagonalesté en (0,0)\n",
    "# FPR si es 0 es ideal, cuanto mayor FPR peor y más curva se hace la línea\n",
    "# TPR es 1 es ideal\n",
    "# INTERPRETACIÓN cuanto más cerca de la esquina superior izquierda MEJOR\n",
    "RocCurveDisplay.from_estimator(model, X_test, y_test, name='curva ROC')\n",
    "plt.plot([0, 1], [0,1], label='Clasificador aleatorio')\n",
    "plt.legend()"
   ]
  },
  {
   "cell_type": "code",
   "execution_count": 40,
   "metadata": {},
   "outputs": [
    {
     "data": {
      "text/plain": [
       "array([1., 0., 0., 0., 0., 1., 0., 0., 0., 0., 1., 1., 0., 0., 0., 1., 0.,\n",
       "       0., 1., 1., 0., 0., 0., 1., 0., 0., 0., 1., 1., 0., 0., 0., 1., 1.,\n",
       "       0., 1., 0., 0., 0., 0., 1., 0., 0., 0., 1., 0., 0., 1., 0., 0., 1.,\n",
       "       0., 1., 1., 0., 1., 0., 1., 0., 0., 1., 0., 0., 1., 1., 0., 0., 1.,\n",
       "       0., 1., 0., 1., 0., 1., 1., 1., 0., 0., 0., 1., 1., 0., 1., 0., 0.,\n",
       "       1., 0., 1., 1., 0., 0., 0., 0., 0., 0., 1., 0., 0., 0., 0., 0., 1.,\n",
       "       0., 0., 0., 1., 0., 0., 0., 1., 0., 0., 1., 0., 0., 1., 1., 0., 0.,\n",
       "       0., 0., 1., 0., 0., 0., 1., 0., 0., 0., 0., 0., 1., 1., 1., 0., 1.,\n",
       "       0., 0., 1., 1., 1., 0., 0., 0., 0., 1., 0., 0., 1., 0., 1., 1., 0.,\n",
       "       1., 0., 1., 0., 0., 0., 0., 1., 0., 0., 0., 1., 0., 0., 1., 0., 0.,\n",
       "       1., 0., 0., 1., 1., 1.])"
      ]
     },
     "execution_count": 40,
     "metadata": {},
     "output_type": "execute_result"
    }
   ],
   "source": [
    "model.predict(X_test)"
   ]
  },
  {
   "cell_type": "code",
   "execution_count": 41,
   "metadata": {},
   "outputs": [
    {
     "data": {
      "text/plain": [
       "array([[0.29601929, 0.70398071],\n",
       "       [0.86462451, 0.13537549],\n",
       "       [0.69305801, 0.30694199],\n",
       "       [0.88507228, 0.11492772],\n",
       "       [0.83085271, 0.16914729],\n",
       "       [0.09193106, 0.90806894],\n",
       "       [0.85083728, 0.14916272],\n",
       "       [0.58630052, 0.41369948],\n",
       "       [0.90533345, 0.09466655],\n",
       "       [0.54555842, 0.45444158],\n",
       "       [0.40678809, 0.59321191],\n",
       "       [0.37664393, 0.62335607],\n",
       "       [0.75984866, 0.24015134],\n",
       "       [0.57412056, 0.42587944],\n",
       "       [0.77774733, 0.22225267],\n",
       "       [0.42593744, 0.57406256],\n",
       "       [0.53718927, 0.46281073],\n",
       "       [0.58184253, 0.41815747],\n",
       "       [0.29972861, 0.70027139],\n",
       "       [0.12298767, 0.87701233],\n",
       "       [0.84983654, 0.15016346],\n",
       "       [0.87679291, 0.12320709],\n",
       "       [0.80946713, 0.19053287],\n",
       "       [0.33112606, 0.66887394],\n",
       "       [0.92411016, 0.07588984],\n",
       "       [0.90129921, 0.09870079],\n",
       "       [0.8631818 , 0.1368182 ],\n",
       "       [0.40560219, 0.59439781],\n",
       "       [0.41977572, 0.58022428],\n",
       "       [0.8734689 , 0.1265311 ],\n",
       "       [0.54597053, 0.45402947],\n",
       "       [0.86181501, 0.13818499],\n",
       "       [0.04482805, 0.95517195],\n",
       "       [0.05311391, 0.94688609],\n",
       "       [0.86451358, 0.13548642],\n",
       "       [0.30207708, 0.69792292],\n",
       "       [0.94505794, 0.05494206],\n",
       "       [0.81341215, 0.18658785],\n",
       "       [0.91611809, 0.08388191],\n",
       "       [0.68481194, 0.31518806],\n",
       "       [0.48221465, 0.51778535],\n",
       "       [0.60989897, 0.39010103],\n",
       "       [0.81634495, 0.18365505],\n",
       "       [0.58068343, 0.41931657],\n",
       "       [0.35301293, 0.64698707],\n",
       "       [0.56331979, 0.43668021],\n",
       "       [0.97809167, 0.02190833],\n",
       "       [0.09493315, 0.90506685],\n",
       "       [0.7563061 , 0.2436939 ],\n",
       "       [0.90406913, 0.09593087],\n",
       "       [0.10835359, 0.89164641],\n",
       "       [0.93895264, 0.06104736],\n",
       "       [0.04810047, 0.95189953],\n",
       "       [0.37655247, 0.62344753],\n",
       "       [0.85711132, 0.14288868],\n",
       "       [0.3186557 , 0.6813443 ],\n",
       "       [0.66934304, 0.33065696],\n",
       "       [0.43644986, 0.56355014],\n",
       "       [0.54351092, 0.45648908],\n",
       "       [0.83085005, 0.16914995],\n",
       "       [0.32209936, 0.67790064],\n",
       "       [0.84331438, 0.15668562],\n",
       "       [0.67496512, 0.32503488],\n",
       "       [0.06258391, 0.93741609],\n",
       "       [0.02659855, 0.97340145],\n",
       "       [0.77095724, 0.22904276],\n",
       "       [0.64841612, 0.35158388],\n",
       "       [0.04489584, 0.95510416],\n",
       "       [0.94401165, 0.05598835],\n",
       "       [0.36174808, 0.63825192],\n",
       "       [0.91362628, 0.08637372],\n",
       "       [0.11521419, 0.88478581],\n",
       "       [0.57038961, 0.42961039],\n",
       "       [0.06986393, 0.93013607],\n",
       "       [0.06304667, 0.93695333],\n",
       "       [0.01797287, 0.98202713],\n",
       "       [0.66957673, 0.33042327],\n",
       "       [0.8194899 , 0.1805101 ],\n",
       "       [0.99531706, 0.00468294],\n",
       "       [0.24787924, 0.75212076],\n",
       "       [0.179665  , 0.820335  ],\n",
       "       [0.93798557, 0.06201443],\n",
       "       [0.4008005 , 0.5991995 ],\n",
       "       [0.67706333, 0.32293667],\n",
       "       [0.94596943, 0.05403057],\n",
       "       [0.04034932, 0.95965068],\n",
       "       [0.56926241, 0.43073759],\n",
       "       [0.14724625, 0.85275375],\n",
       "       [0.27472821, 0.72527179],\n",
       "       [0.84150237, 0.15849763],\n",
       "       [0.83415081, 0.16584919],\n",
       "       [0.85522957, 0.14477043],\n",
       "       [0.94402323, 0.05597677],\n",
       "       [0.8574411 , 0.1425589 ],\n",
       "       [0.85794944, 0.14205056],\n",
       "       [0.27025026, 0.72974974],\n",
       "       [0.71870408, 0.28129592],\n",
       "       [0.68074539, 0.31925461],\n",
       "       [0.88340224, 0.11659776],\n",
       "       [0.90218824, 0.09781176],\n",
       "       [0.79045461, 0.20954539],\n",
       "       [0.22486697, 0.77513303],\n",
       "       [0.64841612, 0.35158388],\n",
       "       [0.93565765, 0.06434235],\n",
       "       [0.88733728, 0.11266272],\n",
       "       [0.3670491 , 0.6329509 ],\n",
       "       [0.84728541, 0.15271459],\n",
       "       [0.91628188, 0.08371812],\n",
       "       [0.84928423, 0.15071577],\n",
       "       [0.06368535, 0.93631465],\n",
       "       [0.89269918, 0.10730082],\n",
       "       [0.93900596, 0.06099404],\n",
       "       [0.20950503, 0.79049497],\n",
       "       [0.8844027 , 0.1155973 ],\n",
       "       [0.94315158, 0.05684842],\n",
       "       [0.16634612, 0.83365388],\n",
       "       [0.02681735, 0.97318265],\n",
       "       [0.88139124, 0.11860876],\n",
       "       [0.88121572, 0.11878428],\n",
       "       [0.8443908 , 0.1556092 ],\n",
       "       [0.9163448 , 0.0836552 ],\n",
       "       [0.1038763 , 0.8961237 ],\n",
       "       [0.94589813, 0.05410187],\n",
       "       [0.91611809, 0.08388191],\n",
       "       [0.83935789, 0.16064211],\n",
       "       [0.33611232, 0.66388768],\n",
       "       [0.90989907, 0.09010093],\n",
       "       [0.81948025, 0.18051975],\n",
       "       [0.85877136, 0.14122864],\n",
       "       [0.95803392, 0.04196608],\n",
       "       [0.89148538, 0.10851462],\n",
       "       [0.37610159, 0.62389841],\n",
       "       [0.05129914, 0.94870086],\n",
       "       [0.02853184, 0.97146816],\n",
       "       [0.84477313, 0.15522687],\n",
       "       [0.48267648, 0.51732352],\n",
       "       [0.70440324, 0.29559676],\n",
       "       [0.86815985, 0.13184015],\n",
       "       [0.47417266, 0.52582734],\n",
       "       [0.22940931, 0.77059069],\n",
       "       [0.15200117, 0.84799883],\n",
       "       [0.957157  , 0.042843  ],\n",
       "       [0.91611809, 0.08388191],\n",
       "       [0.93092447, 0.06907553],\n",
       "       [0.92065975, 0.07934025],\n",
       "       [0.02253785, 0.97746215],\n",
       "       [0.91097062, 0.08902938],\n",
       "       [0.90081028, 0.09918972],\n",
       "       [0.13811142, 0.86188858],\n",
       "       [0.60291959, 0.39708041],\n",
       "       [0.10556549, 0.89443451],\n",
       "       [0.0459232 , 0.9540768 ],\n",
       "       [0.81218852, 0.18781148],\n",
       "       [0.40044662, 0.59955338],\n",
       "       [0.89783799, 0.10216201],\n",
       "       [0.23670224, 0.76329776],\n",
       "       [0.84542462, 0.15457538],\n",
       "       [0.88693825, 0.11306175],\n",
       "       [0.66458705, 0.33541295],\n",
       "       [0.88717702, 0.11282298],\n",
       "       [0.19047036, 0.80952964],\n",
       "       [0.73766462, 0.26233538],\n",
       "       [0.84038261, 0.15961739],\n",
       "       [0.87465593, 0.12534407],\n",
       "       [0.11640538, 0.88359462],\n",
       "       [0.74563537, 0.25436463],\n",
       "       [0.86233774, 0.13766226],\n",
       "       [0.15524357, 0.84475643],\n",
       "       [0.85737098, 0.14262902],\n",
       "       [0.84611894, 0.15388106],\n",
       "       [0.10919582, 0.89080418],\n",
       "       [0.96816494, 0.03183506],\n",
       "       [0.58068592, 0.41931408],\n",
       "       [0.31449829, 0.68550171],\n",
       "       [0.31953974, 0.68046026],\n",
       "       [0.05945431, 0.94054569]])"
      ]
     },
     "execution_count": 41,
     "metadata": {},
     "output_type": "execute_result"
    }
   ],
   "source": [
    "model.predict_proba(X_test)"
   ]
  },
  {
   "cell_type": "code",
   "execution_count": 42,
   "metadata": {},
   "outputs": [
    {
     "data": {
      "text/plain": [
       "array([0., 1.])"
      ]
     },
     "execution_count": 42,
     "metadata": {},
     "output_type": "execute_result"
    }
   ],
   "source": [
    "model.classes_"
   ]
  },
  {
   "cell_type": "code",
   "execution_count": 44,
   "metadata": {},
   "outputs": [
    {
     "data": {
      "text/html": [
       "<div>\n",
       "<style scoped>\n",
       "    .dataframe tbody tr th:only-of-type {\n",
       "        vertical-align: middle;\n",
       "    }\n",
       "\n",
       "    .dataframe tbody tr th {\n",
       "        vertical-align: top;\n",
       "    }\n",
       "\n",
       "    .dataframe thead th {\n",
       "        text-align: right;\n",
       "    }\n",
       "</style>\n",
       "<table border=\"1\" class=\"dataframe\">\n",
       "  <thead>\n",
       "    <tr style=\"text-align: right;\">\n",
       "      <th></th>\n",
       "      <th>Age</th>\n",
       "      <th>Pclass</th>\n",
       "      <th>Ticket</th>\n",
       "      <th>Sibsp</th>\n",
       "      <th>Parch</th>\n",
       "      <th>Sex_female</th>\n",
       "      <th>Sex_male</th>\n",
       "      <th>Log_Fare</th>\n",
       "      <th>Embark_Town_Cherbourg</th>\n",
       "      <th>Embark_Town_Queenstown</th>\n",
       "      <th>Embark_Town_Southampton</th>\n",
       "    </tr>\n",
       "  </thead>\n",
       "  <tbody>\n",
       "    <tr>\n",
       "      <th>0</th>\n",
       "      <td>22.0</td>\n",
       "      <td>3.0</td>\n",
       "      <td>1.0</td>\n",
       "      <td>1.0</td>\n",
       "      <td>0.0</td>\n",
       "      <td>0.0</td>\n",
       "      <td>1.0</td>\n",
       "      <td>2.110213</td>\n",
       "      <td>1.0</td>\n",
       "      <td>0.0</td>\n",
       "      <td>0.0</td>\n",
       "    </tr>\n",
       "  </tbody>\n",
       "</table>\n",
       "</div>"
      ],
      "text/plain": [
       "    Age  Pclass  Ticket  Sibsp  Parch  Sex_female  Sex_male  Log_Fare  \\\n",
       "0  22.0     3.0     1.0    1.0    0.0         0.0       1.0  2.110213   \n",
       "\n",
       "   Embark_Town_Cherbourg  Embark_Town_Queenstown  Embark_Town_Southampton  \n",
       "0                    1.0                     0.0                      0.0  "
      ]
     },
     "execution_count": 44,
     "metadata": {},
     "output_type": "execute_result"
    }
   ],
   "source": [
    "# una nueva persona, por ejemplo \"Pepe\"\n",
    "X_new = pd.DataFrame([[22.0, 3.0, 1.0, 1.0, 0.0, 0.0, 1.0, 2.110213, 1.0, 0.0, 0.0]], columns=X.columns)\n",
    "X_new"
   ]
  },
  {
   "cell_type": "code",
   "execution_count": 45,
   "metadata": {},
   "outputs": [
    {
     "data": {
      "text/plain": [
       "array([0.])"
      ]
     },
     "execution_count": 45,
     "metadata": {},
     "output_type": "execute_result"
    }
   ],
   "source": [
    "model.predict(X_new) # 0 no sobrevivió"
   ]
  },
  {
   "cell_type": "code",
   "execution_count": 46,
   "metadata": {},
   "outputs": [
    {
     "data": {
      "text/plain": [
       "array([[0.87577564, 0.12422436]])"
      ]
     },
     "execution_count": 46,
     "metadata": {},
     "output_type": "execute_result"
    }
   ],
   "source": [
    "# 87,5 % de probabilidad de que no haya sobrevivido\n",
    "# 12,42 % de probabilidad de que sí haya sobrevivido\n",
    "model.predict_proba(X_new) "
   ]
  },
  {
   "cell_type": "code",
   "execution_count": 53,
   "metadata": {},
   "outputs": [
    {
     "data": {
      "text/plain": [
       "array([3.17225264])"
      ]
     },
     "execution_count": 53,
     "metadata": {},
     "output_type": "execute_result"
    }
   ],
   "source": [
    "model.intercept_"
   ]
  },
  {
   "cell_type": "code",
   "execution_count": 54,
   "metadata": {},
   "outputs": [
    {
     "data": {
      "text/plain": [
       "array([[-0.04794293, -1.01686266, -0.35620544, -0.11075366, -0.00186716,\n",
       "         1.14580793, -1.1421609 ,  0.39581168, -0.10331367,  0.06525725,\n",
       "        -0.11104905]])"
      ]
     },
     "execution_count": 54,
     "metadata": {},
     "output_type": "execute_result"
    }
   ],
   "source": [
    "model.coef_"
   ]
  },
  {
   "cell_type": "markdown",
   "metadata": {},
   "source": [
    "## Comparar modelos clasificación"
   ]
  },
  {
   "cell_type": "code",
   "execution_count": 64,
   "metadata": {},
   "outputs": [],
   "source": [
    "df_resultados = pd.DataFrame(columns=['Modelo', 'accuracy', 'precision', 'recall', 'f1', 'AUC'])\n",
    "\n",
    "def calculate_metrics(name, model):\n",
    "    model.fit(X_train, y_train)\n",
    "    y_pred = model.predict(X_test)\n",
    "    \n",
    "    accuracy = accuracy_score(y_test, y_pred)\n",
    "    precision = precision_score(y_test, y_pred)\n",
    "    recall = recall_score(y_test, y_pred)\n",
    "    f1 = f1_score(y_test, y_pred)\n",
    "    auc = roc_auc_score(y_test, y_pred)\n",
    "    \n",
    "    df_resultados.loc[len(df_resultados)] = [name, accuracy, precision, recall, f1, auc]"
   ]
  },
  {
   "cell_type": "code",
   "execution_count": 65,
   "metadata": {},
   "outputs": [
    {
     "data": {
      "text/html": [
       "<div>\n",
       "<style scoped>\n",
       "    .dataframe tbody tr th:only-of-type {\n",
       "        vertical-align: middle;\n",
       "    }\n",
       "\n",
       "    .dataframe tbody tr th {\n",
       "        vertical-align: top;\n",
       "    }\n",
       "\n",
       "    .dataframe thead th {\n",
       "        text-align: right;\n",
       "    }\n",
       "</style>\n",
       "<table border=\"1\" class=\"dataframe\">\n",
       "  <thead>\n",
       "    <tr style=\"text-align: right;\">\n",
       "      <th></th>\n",
       "      <th>Modelo</th>\n",
       "      <th>accuracy</th>\n",
       "      <th>precision</th>\n",
       "      <th>recall</th>\n",
       "      <th>f1</th>\n",
       "      <th>AUC</th>\n",
       "    </tr>\n",
       "  </thead>\n",
       "  <tbody>\n",
       "    <tr>\n",
       "      <th>0</th>\n",
       "      <td>RL</td>\n",
       "      <td>0.829545</td>\n",
       "      <td>0.738462</td>\n",
       "      <td>0.786885</td>\n",
       "      <td>0.761905</td>\n",
       "      <td>0.81953</td>\n",
       "    </tr>\n",
       "  </tbody>\n",
       "</table>\n",
       "</div>"
      ],
      "text/plain": [
       "  Modelo  accuracy  precision    recall        f1      AUC\n",
       "0     RL  0.829545   0.738462  0.786885  0.761905  0.81953"
      ]
     },
     "execution_count": 65,
     "metadata": {},
     "output_type": "execute_result"
    }
   ],
   "source": [
    "model = LogisticRegression(max_iter=1000, C=1)\n",
    "calculate_metrics('RL', model)\n",
    "df_resultados"
   ]
  },
  {
   "cell_type": "code",
   "execution_count": null,
   "metadata": {},
   "outputs": [],
   "source": []
  }
 ],
 "metadata": {
  "kernelspec": {
   "display_name": ".venv",
   "language": "python",
   "name": "python3"
  },
  "language_info": {
   "codemirror_mode": {
    "name": "ipython",
    "version": 3
   },
   "file_extension": ".py",
   "mimetype": "text/x-python",
   "name": "python",
   "nbconvert_exporter": "python",
   "pygments_lexer": "ipython3",
   "version": "3.12.6"
  }
 },
 "nbformat": 4,
 "nbformat_minor": 2
}
