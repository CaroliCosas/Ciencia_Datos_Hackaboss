{
 "cells": [
  {
   "cell_type": "markdown",
   "metadata": {},
   "source": [
    "# Validación de modelos\n",
    "\n",
    "Al entrenar y evaluar modelos de ML, uno de los aspectos más importantes es **validar** correctamente para estimar de forma fiable cómo se comportará el modelo con datos nuevos (no vistos). \n",
    "\n",
    "Aunque la forma más básica es la separación de datos en *train* y *test* (train_test_split), existen diferentes técnicas de validación más sofisticadas que se utilizan para maximizar el uso de los datos disponibles y obtener una estimación más estable del desempeño del modelo.\n",
    "\n",
    "La **validación cruzada** en Scikit-learn es una técnica que se utiliza para evaluar el desempeño de un modelo predictivo, dividiendo los datos en conjuntos de entrenamiento y prueba múltiples veces de manera sistemática. Esto permite obtener una estimación más confiable y robusta del rendimiento del modelo que simplemente dividir los datos una sola vez.\n",
    "\n",
    "**Métodos para realizar validación de modelos**\n",
    "\n",
    "1. train_test_split\n",
    "2. cross_val_score\n",
    "3. cross_validate\n",
    "4. cross_val_predict\n",
    "5. make_scorer\n",
    "\n",
    "**Clases para realizar distintos tipos de validación cruzada**\n",
    "\n",
    "1. KFold\n",
    "2. StratifiedKFold\n",
    "3. LeaveOneOut\n",
    "4. RepeatedStratifiedKFold\n",
    "5. GroupKFold\n",
    "6. TimeSeriesSplit"
   ]
  },
  {
   "cell_type": "code",
   "execution_count": 11,
   "metadata": {},
   "outputs": [
    {
     "name": "stdout",
     "output_type": "stream",
     "text": [
      "results [0.96666667 1.         0.93333333 0.96666667 1.        ]\n",
      "accuracy media 0.9733333333333334\n",
      "accuracy std 0.02494438257849294\n"
     ]
    }
   ],
   "source": [
    "import seaborn as sns\n",
    "from sklearn.model_selection import cross_val_score, train_test_split\n",
    "from sklearn.datasets import load_iris\n",
    "from sklearn.linear_model import LogisticRegression\n",
    "\n",
    "X, y = load_iris(return_X_y=True) # clasificación multiclase, predecir la columna\n",
    "model = LogisticRegression(max_iter=500)\n",
    "\n",
    "results = cross_val_score(model, X, y, scoring='accuracy') # por defecto, cv=5\n",
    "print('results', results)\n",
    "print('accuracy media', results.mean())\n",
    "print('accuracy std', results.std())\n",
    "#sns.boxplot(results);"
   ]
  },
  {
   "cell_type": "code",
   "execution_count": null,
   "metadata": {},
   "outputs": [],
   "source": [
    "# Creando manualmente el KFold\n",
    "\n",
    "\n"
   ]
  },
  {
   "cell_type": "code",
   "execution_count": null,
   "metadata": {},
   "outputs": [],
   "source": []
  },
  {
   "cell_type": "code",
   "execution_count": null,
   "metadata": {},
   "outputs": [],
   "source": []
  },
  {
   "cell_type": "code",
   "execution_count": null,
   "metadata": {},
   "outputs": [],
   "source": []
  }
 ],
 "metadata": {
  "kernelspec": {
   "display_name": "Python 3",
   "language": "python",
   "name": "python3"
  },
  "language_info": {
   "codemirror_mode": {
    "name": "ipython",
    "version": 3
   },
   "file_extension": ".py",
   "mimetype": "text/x-python",
   "name": "python",
   "nbconvert_exporter": "python",
   "pygments_lexer": "ipython3",
   "version": "3.12.2"
  }
 },
 "nbformat": 4,
 "nbformat_minor": 2
}
