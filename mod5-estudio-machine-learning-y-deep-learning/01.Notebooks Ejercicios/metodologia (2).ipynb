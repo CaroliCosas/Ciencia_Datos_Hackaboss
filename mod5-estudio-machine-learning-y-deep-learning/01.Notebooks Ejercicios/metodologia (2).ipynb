{
 "cells": [
  {
   "cell_type": "markdown",
   "metadata": {
    "vscode": {
     "languageId": "plaintext"
    }
   },
   "source": [
    "# Metodología \n",
    "\n",
    "* Carga de datos\n",
    "\n",
    "* Ver las columnas df\n",
    "\n",
    "* EDAs con matplotlib seaborn plotly\n",
    "    * univariante: histogramas boxplot\n",
    "    * bivariante\n",
    "    * mutivariante\n",
    "\n",
    "* Identificar columna sobre la que queremos realizar un modelado.\n",
    "\n",
    "* ¿Qué tipo de dato es esa columna?\n",
    "\n",
    "    * Numérico continuo: \n",
    "        * Ejemplo: precio, peso, consumo combustible, salario\n",
    "        * Usaríamos REGRESIÓN\n",
    "        * LinealRegression, KNeighborsRegressor, DecisionTreeRegressor, SVR, RandomForestRegressor\n",
    "\n",
    "    * Categórica discreta\n",
    "        * Ejemplo: especie, ciudad, grupo, apto o no apto, dígito de 0 a 9, grupo sanguíneo, bueno o malo, alto o bajo, clasificación en la liga\n",
    "        * Usaríamos CLASIFICACIÓN binaria o multiclase \n",
    "        * LogisticRegression, KNeighborsClassifier, DecisionTreeClassifier, SVC, RandomForestClassifier\n",
    "\n",
    "* Separar los datos en X, y\n",
    "    * X usamos columnas de entrada\n",
    "    * y usamos la columna a predecir\n",
    "\n",
    "* train_test_split\n",
    "\n",
    "* preprocesados: nulos, encoding, eliminar sesgos, outliers\n",
    "\n",
    "* modelado:\n",
    "    * model.fit\n",
    "    * model.predict\n",
    "    * validaciones con validación cruzada: cross_val_score y cross_validate\n",
    "\n",
    "* Tuning de hyperparameters sobre algoritmos\n",
    "    * tradeoff entre tiempo de computación y encontrar la mejor combinación de parámetros para los algoritmos\n",
    "    * GridSearchCV\n",
    "    * RandomizedSearchCV\n",
    "\n",
    "* pipelines para agrupar preprocesados con modelo\n"
   ]
  }
 ],
 "metadata": {
  "language_info": {
   "name": "python"
  }
 },
 "nbformat": 4,
 "nbformat_minor": 2
}
