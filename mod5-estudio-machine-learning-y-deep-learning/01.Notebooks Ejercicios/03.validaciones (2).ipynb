{
 "cells": [
  {
   "cell_type": "markdown",
   "metadata": {},
   "source": [
    "# Validación de modelos\n",
    "\n",
    "Al entrenar y evaluar modelos de ML, uno de los aspectos más importantes es **validar** correctamente para estimar de forma fiable cómo se comportará el modelo con datos nuevos (no vistos). \n",
    "\n",
    "Aunque la forma más básica es la separación de datos en *train* y *test* (train_test_split), existen diferentes técnicas de validación más sofisticadas que se utilizan para maximizar el uso de los datos disponibles y obtener una estimación más estable del desempeño del modelo.\n",
    "\n",
    "La **validación cruzada** en Scikit-learn es una técnica que se utiliza para evaluar el desempeño de un modelo predictivo, dividiendo los datos en conjuntos de entrenamiento y prueba múltiples veces de manera sistemática. Esto permite obtener una estimación más confiable y robusta del rendimiento del modelo que simplemente dividir los datos una sola vez.\n",
    "\n",
    "**Métodos para realizar validación de modelos**\n",
    "\n",
    "1. train_test_split\n",
    "2. cross_val_score\n",
    "3. cross_validate\n",
    "4. cross_val_predict\n",
    "5. make_scorer\n",
    "\n",
    "**Clases para realizar distintos tipos de validación cruzada**\n",
    "\n",
    "1. KFold\n",
    "2. StratifiedKFold\n",
    "3. LeaveOneOut\n",
    "4. RepeatedStratifiedKFold\n",
    "5. GroupKFold\n",
    "6. TimeSeriesSplit"
   ]
  },
  {
   "cell_type": "code",
   "execution_count": null,
   "metadata": {},
   "outputs": [],
   "source": [
    "from sklearn.model_selection import cross_val_score, train_test_split\n",
    "\n",
    "cross_val_score()"
   ]
  }
 ],
 "metadata": {
  "kernelspec": {
   "display_name": ".venv",
   "language": "python",
   "name": "python3"
  },
  "language_info": {
   "name": "python",
   "version": "3.12.6"
  }
 },
 "nbformat": 4,
 "nbformat_minor": 2
}
