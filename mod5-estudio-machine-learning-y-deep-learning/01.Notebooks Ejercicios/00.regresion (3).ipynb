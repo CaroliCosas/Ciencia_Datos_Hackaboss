{
 "cells": [
  {
   "cell_type": "code",
<<<<<<< HEAD
   "execution_count": 6,
   "metadata": {},
   "outputs": [],
   "source": [
    "import pandas as pd\n",
    "import numpy as np\n",
    "import seaborn as sns\n",
    "import matplotlib.pyplot as plt"
   ]
  },
  {
   "cell_type": "code",
   "execution_count": 9,
   "metadata": {},
   "outputs": [
    {
     "name": "stdout",
     "output_type": "stream",
     "text": [
      "Collecting scikit-learn\n",
      "  Downloading scikit_learn-1.6.1-cp312-cp312-win_amd64.whl.metadata (15 kB)\n",
      "Requirement already satisfied: numpy>=1.19.5 in c:\\users\\carol\\appdata\\local\\programs\\python\\python312\\lib\\site-packages (from scikit-learn) (2.0.2)\n",
      "Requirement already satisfied: scipy>=1.6.0 in c:\\users\\carol\\appdata\\local\\programs\\python\\python312\\lib\\site-packages (from scikit-learn) (1.13.1)\n",
      "Requirement already satisfied: joblib>=1.2.0 in c:\\users\\carol\\appdata\\local\\programs\\python\\python312\\lib\\site-packages (from scikit-learn) (1.4.2)\n",
      "Collecting threadpoolctl>=3.1.0 (from scikit-learn)\n",
      "  Downloading threadpoolctl-3.5.0-py3-none-any.whl.metadata (13 kB)\n",
      "Downloading scikit_learn-1.6.1-cp312-cp312-win_amd64.whl (11.1 MB)\n",
      "   ---------------------------------------- 0.0/11.1 MB ? eta -:--:--\n",
      "   ---------------------------------------- 0.0/11.1 MB ? eta -:--:--\n",
      "   ---------------------------------------- 0.1/11.1 MB 975.2 kB/s eta 0:00:12\n",
      "    --------------------------------------- 0.3/11.1 MB 2.0 MB/s eta 0:00:06\n",
      "   -- ------------------------------------- 0.6/11.1 MB 3.6 MB/s eta 0:00:03\n",
      "   ----- ---------------------------------- 1.4/11.1 MB 6.4 MB/s eta 0:00:02\n",
      "   ----------- ---------------------------- 3.1/11.1 MB 11.6 MB/s eta 0:00:01\n",
      "   ---------------------- ----------------- 6.2/11.1 MB 19.9 MB/s eta 0:00:01\n",
      "   ------------------------ --------------- 6.9/11.1 MB 22.1 MB/s eta 0:00:01\n",
      "   ---------------------------- ----------- 7.8/11.1 MB 20.0 MB/s eta 0:00:01\n",
      "   ----------------------------- ---------- 8.2/11.1 MB 19.5 MB/s eta 0:00:01\n",
      "   -------------------------------- ------- 8.9/11.1 MB 18.4 MB/s eta 0:00:01\n",
      "   --------------------------------- ------ 9.3/11.1 MB 17.4 MB/s eta 0:00:01\n",
      "   ---------------------------------- ----- 9.6/11.1 MB 16.6 MB/s eta 0:00:01\n",
      "   ------------------------------------- -- 10.3/11.1 MB 18.7 MB/s eta 0:00:01\n",
      "   ---------------------------------------  11.1/11.1 MB 21.9 MB/s eta 0:00:01\n",
      "   ---------------------------------------- 11.1/11.1 MB 20.4 MB/s eta 0:00:00\n",
      "Downloading threadpoolctl-3.5.0-py3-none-any.whl (18 kB)\n",
      "Installing collected packages: threadpoolctl, scikit-learn\n",
      "Successfully installed scikit-learn-1.6.1 threadpoolctl-3.5.0\n",
      "Note: you may need to restart the kernel to use updated packages.\n"
     ]
    },
    {
     "name": "stderr",
     "output_type": "stream",
     "text": [
      "\n",
      "[notice] A new release of pip is available: 24.0 -> 24.3.1\n",
      "[notice] To update, run: python.exe -m pip install --upgrade pip\n"
     ]
    }
   ],
   "source": [
    "\n",
    "pip install scikit-learn"
   ]
  },
  {
   "cell_type": "code",
   "execution_count": 10,
=======
   "execution_count": 1,
>>>>>>> ec2c35d92ba2c08e286dce8aae4d2da35ee7aa7d
   "metadata": {},
   "outputs": [
    {
     "data": {
      "text/plain": [
       "'1.6.1'"
      ]
     },
<<<<<<< HEAD
     "execution_count": 10,
=======
     "execution_count": 1,
>>>>>>> ec2c35d92ba2c08e286dce8aae4d2da35ee7aa7d
     "metadata": {},
     "output_type": "execute_result"
    }
   ],
   "source": [
    "import pandas as pd\n",
<<<<<<< HEAD
    "import sklearn \n",
=======
    "import sklearn\n",
>>>>>>> ec2c35d92ba2c08e286dce8aae4d2da35ee7aa7d
    "\n",
    "sklearn.__version__"
   ]
  },
  {
   "cell_type": "code",
<<<<<<< HEAD
   "execution_count": 17,
=======
   "execution_count": 4,
>>>>>>> ec2c35d92ba2c08e286dce8aae4d2da35ee7aa7d
   "metadata": {},
   "outputs": [
    {
     "data": {
      "text/html": [
       "<div>\n",
       "<style scoped>\n",
       "    .dataframe tbody tr th:only-of-type {\n",
       "        vertical-align: middle;\n",
       "    }\n",
       "\n",
       "    .dataframe tbody tr th {\n",
       "        vertical-align: top;\n",
       "    }\n",
       "\n",
       "    .dataframe thead th {\n",
       "        text-align: right;\n",
       "    }\n",
       "</style>\n",
       "<table border=\"1\" class=\"dataframe\">\n",
       "  <thead>\n",
       "    <tr style=\"text-align: right;\">\n",
       "      <th></th>\n",
       "      <th>YearsExperience</th>\n",
       "      <th>Salary</th>\n",
       "    </tr>\n",
       "  </thead>\n",
       "  <tbody>\n",
       "    <tr>\n",
       "      <th>0</th>\n",
       "      <td>1.1</td>\n",
       "      <td>39343.0</td>\n",
       "    </tr>\n",
       "    <tr>\n",
       "      <th>1</th>\n",
       "      <td>1.3</td>\n",
       "      <td>46205.0</td>\n",
       "    </tr>\n",
       "    <tr>\n",
       "      <th>2</th>\n",
       "      <td>1.5</td>\n",
       "      <td>37731.0</td>\n",
       "    </tr>\n",
       "    <tr>\n",
       "      <th>3</th>\n",
       "      <td>2.0</td>\n",
       "      <td>43525.0</td>\n",
       "    </tr>\n",
       "    <tr>\n",
       "      <th>4</th>\n",
       "      <td>2.2</td>\n",
       "      <td>39891.0</td>\n",
       "    </tr>\n",
       "    <tr>\n",
       "      <th>5</th>\n",
       "      <td>2.9</td>\n",
       "      <td>56642.0</td>\n",
       "    </tr>\n",
       "    <tr>\n",
       "      <th>6</th>\n",
       "      <td>3.0</td>\n",
       "      <td>60150.0</td>\n",
       "    </tr>\n",
       "    <tr>\n",
       "      <th>7</th>\n",
       "      <td>3.2</td>\n",
       "      <td>54445.0</td>\n",
       "    </tr>\n",
       "    <tr>\n",
       "      <th>8</th>\n",
       "      <td>3.2</td>\n",
       "      <td>64445.0</td>\n",
       "    </tr>\n",
       "    <tr>\n",
       "      <th>9</th>\n",
       "      <td>3.7</td>\n",
       "      <td>57189.0</td>\n",
       "    </tr>\n",
       "  </tbody>\n",
       "</table>\n",
       "</div>"
      ],
      "text/plain": [
       "   YearsExperience   Salary\n",
       "0              1.1  39343.0\n",
       "1              1.3  46205.0\n",
       "2              1.5  37731.0\n",
       "3              2.0  43525.0\n",
       "4              2.2  39891.0\n",
       "5              2.9  56642.0\n",
       "6              3.0  60150.0\n",
       "7              3.2  54445.0\n",
       "8              3.2  64445.0\n",
       "9              3.7  57189.0"
      ]
     },
<<<<<<< HEAD
     "execution_count": 17,
=======
     "execution_count": 4,
>>>>>>> ec2c35d92ba2c08e286dce8aae4d2da35ee7aa7d
     "metadata": {},
     "output_type": "execute_result"
    }
   ],
   "source": [
    "df = pd.read_csv('../Data/salaries_experience.csv')\n",
    "df.head(10)"
   ]
  },
  {
   "cell_type": "code",
<<<<<<< HEAD
   "execution_count": 34,
=======
   "execution_count": null,
>>>>>>> ec2c35d92ba2c08e286dce8aae4d2da35ee7aa7d
   "metadata": {},
   "outputs": [
    {
     "data": {
      "text/html": [
       "<div>\n",
       "<style scoped>\n",
       "    .dataframe tbody tr th:only-of-type {\n",
       "        vertical-align: middle;\n",
       "    }\n",
       "\n",
       "    .dataframe tbody tr th {\n",
       "        vertical-align: top;\n",
       "    }\n",
       "\n",
       "    .dataframe thead th {\n",
       "        text-align: right;\n",
       "    }\n",
       "</style>\n",
       "<table border=\"1\" class=\"dataframe\">\n",
       "  <thead>\n",
       "    <tr style=\"text-align: right;\">\n",
       "      <th></th>\n",
       "      <th>YearsExperience</th>\n",
       "    </tr>\n",
       "  </thead>\n",
       "  <tbody>\n",
       "    <tr>\n",
       "      <th>0</th>\n",
       "      <td>1.1</td>\n",
       "    </tr>\n",
       "    <tr>\n",
       "      <th>1</th>\n",
       "      <td>1.3</td>\n",
       "    </tr>\n",
       "    <tr>\n",
       "      <th>2</th>\n",
       "      <td>1.5</td>\n",
       "    </tr>\n",
       "    <tr>\n",
       "      <th>3</th>\n",
       "      <td>2.0</td>\n",
       "    </tr>\n",
       "    <tr>\n",
       "      <th>4</th>\n",
       "      <td>2.2</td>\n",
       "    </tr>\n",
<<<<<<< HEAD
=======
       "    <tr>\n",
       "      <th>5</th>\n",
       "      <td>2.9</td>\n",
       "    </tr>\n",
       "    <tr>\n",
       "      <th>6</th>\n",
       "      <td>3.0</td>\n",
       "    </tr>\n",
       "    <tr>\n",
       "      <th>7</th>\n",
       "      <td>3.2</td>\n",
       "    </tr>\n",
       "    <tr>\n",
       "      <th>8</th>\n",
       "      <td>3.2</td>\n",
       "    </tr>\n",
       "    <tr>\n",
       "      <th>9</th>\n",
       "      <td>3.7</td>\n",
       "    </tr>\n",
       "    <tr>\n",
       "      <th>10</th>\n",
       "      <td>3.9</td>\n",
       "    </tr>\n",
       "    <tr>\n",
       "      <th>11</th>\n",
       "      <td>4.0</td>\n",
       "    </tr>\n",
       "    <tr>\n",
       "      <th>12</th>\n",
       "      <td>4.0</td>\n",
       "    </tr>\n",
       "    <tr>\n",
       "      <th>13</th>\n",
       "      <td>4.1</td>\n",
       "    </tr>\n",
       "    <tr>\n",
       "      <th>14</th>\n",
       "      <td>4.5</td>\n",
       "    </tr>\n",
       "    <tr>\n",
       "      <th>15</th>\n",
       "      <td>4.9</td>\n",
       "    </tr>\n",
       "    <tr>\n",
       "      <th>16</th>\n",
       "      <td>5.1</td>\n",
       "    </tr>\n",
       "    <tr>\n",
       "      <th>17</th>\n",
       "      <td>5.3</td>\n",
       "    </tr>\n",
       "    <tr>\n",
       "      <th>18</th>\n",
       "      <td>5.9</td>\n",
       "    </tr>\n",
       "    <tr>\n",
       "      <th>19</th>\n",
       "      <td>6.0</td>\n",
       "    </tr>\n",
       "    <tr>\n",
       "      <th>20</th>\n",
       "      <td>6.8</td>\n",
       "    </tr>\n",
       "    <tr>\n",
       "      <th>21</th>\n",
       "      <td>7.1</td>\n",
       "    </tr>\n",
       "    <tr>\n",
       "      <th>22</th>\n",
       "      <td>7.9</td>\n",
       "    </tr>\n",
       "    <tr>\n",
       "      <th>23</th>\n",
       "      <td>8.2</td>\n",
       "    </tr>\n",
       "    <tr>\n",
       "      <th>24</th>\n",
       "      <td>8.7</td>\n",
       "    </tr>\n",
       "    <tr>\n",
       "      <th>25</th>\n",
       "      <td>9.0</td>\n",
       "    </tr>\n",
       "    <tr>\n",
       "      <th>26</th>\n",
       "      <td>9.5</td>\n",
       "    </tr>\n",
       "    <tr>\n",
       "      <th>27</th>\n",
       "      <td>9.6</td>\n",
       "    </tr>\n",
       "    <tr>\n",
       "      <th>28</th>\n",
       "      <td>10.3</td>\n",
       "    </tr>\n",
       "    <tr>\n",
       "      <th>29</th>\n",
       "      <td>10.5</td>\n",
       "    </tr>\n",
>>>>>>> ec2c35d92ba2c08e286dce8aae4d2da35ee7aa7d
       "  </tbody>\n",
       "</table>\n",
       "</div>"
      ],
      "text/plain": [
<<<<<<< HEAD
       "   YearsExperience\n",
       "0              1.1\n",
       "1              1.3\n",
       "2              1.5\n",
       "3              2.0\n",
       "4              2.2"
      ]
     },
     "execution_count": 34,
=======
       "    YearsExperience\n",
       "0               1.1\n",
       "1               1.3\n",
       "2               1.5\n",
       "3               2.0\n",
       "4               2.2\n",
       "5               2.9\n",
       "6               3.0\n",
       "7               3.2\n",
       "8               3.2\n",
       "9               3.7\n",
       "10              3.9\n",
       "11              4.0\n",
       "12              4.0\n",
       "13              4.1\n",
       "14              4.5\n",
       "15              4.9\n",
       "16              5.1\n",
       "17              5.3\n",
       "18              5.9\n",
       "19              6.0\n",
       "20              6.8\n",
       "21              7.1\n",
       "22              7.9\n",
       "23              8.2\n",
       "24              8.7\n",
       "25              9.0\n",
       "26              9.5\n",
       "27              9.6\n",
       "28             10.3\n",
       "29             10.5"
      ]
     },
     "execution_count": 7,
>>>>>>> ec2c35d92ba2c08e286dce8aae4d2da35ee7aa7d
     "metadata": {},
     "output_type": "execute_result"
    }
   ],
   "source": [
<<<<<<< HEAD
    "# modelado \n",
    "# aprendizaje supervisado\n",
    "# Datos de entrada X (la entrada suele ser en mayúsculas)\n",
    "# Datos de salida y (la salida suele ser en minúsculas)\n",
    "# Algoritmo aprenda los datos y la relación que tiene cada entrada X la salida y\n",
    "# si el algoritmo aprende luego puede predecir nuevas salidas Y frente a nuevas entradas X\n",
    "# nosotros decidimos qué parametros usar\n",
    "\n",
    "X = df[['YearsExperience']] # necesitamos que la X siga siendo un dataframe, no una serie, por eso usamos dobles corchetes\n",
=======
    "# modelado\n",
    "# aprendizaje supervisado\n",
    "# Datos de entrada X\n",
    "# Datos de salida y\n",
    "# Algoritmo aprenda los datos y la relación que tiene cada entrada X con cada salida y\n",
    "# si el algoritmo aprende luego puede predecir nuevas salidas y ante nuevas entradas X\n",
    "\n",
    "X = df[['YearsExperience']] # necesitamos que sea un dataframe por eso usamos doble corchete\n",
>>>>>>> ec2c35d92ba2c08e286dce8aae4d2da35ee7aa7d
    "# type(X) es un dataframe\n",
    "X[:5]"
   ]
  },
  {
   "cell_type": "code",
<<<<<<< HEAD
   "execution_count": 33,
=======
   "execution_count": 9,
>>>>>>> ec2c35d92ba2c08e286dce8aae4d2da35ee7aa7d
   "metadata": {},
   "outputs": [
    {
     "data": {
      "text/plain": [
       "0    39343.0\n",
       "1    46205.0\n",
       "2    37731.0\n",
       "3    43525.0\n",
       "4    39891.0\n",
       "Name: Salary, dtype: float64"
      ]
     },
<<<<<<< HEAD
     "execution_count": 33,
=======
     "execution_count": 9,
>>>>>>> ec2c35d92ba2c08e286dce8aae4d2da35ee7aa7d
     "metadata": {},
     "output_type": "execute_result"
    }
   ],
   "source": [
<<<<<<< HEAD
    "y = df['Salary'] # la salida si que puede ser una lista o array\n",
    "y[:5]\n"
=======
    "y = df['Salary'] # variable que queremos modelar predecir, puede ser una serie o un array de numpy de una dimensión\n",
    "y[:5]"
>>>>>>> ec2c35d92ba2c08e286dce8aae4d2da35ee7aa7d
   ]
  },
  {
   "cell_type": "code",
<<<<<<< HEAD
   "execution_count": 22,
   "metadata": {},
   "outputs": [
    {
     "data": {
      "text/html": [
       "<div>\n",
       "<style scoped>\n",
       "    .dataframe tbody tr th:only-of-type {\n",
       "        vertical-align: middle;\n",
       "    }\n",
       "\n",
       "    .dataframe tbody tr th {\n",
       "        vertical-align: top;\n",
       "    }\n",
       "\n",
       "    .dataframe thead th {\n",
       "        text-align: right;\n",
       "    }\n",
       "</style>\n",
       "<table border=\"1\" class=\"dataframe\">\n",
       "  <thead>\n",
       "    <tr style=\"text-align: right;\">\n",
       "      <th></th>\n",
       "      <th>YearsExperience</th>\n",
       "      <th>Salary</th>\n",
       "    </tr>\n",
       "  </thead>\n",
       "  <tbody>\n",
       "    <tr>\n",
       "      <th>count</th>\n",
       "      <td>30.000000</td>\n",
       "      <td>30.000000</td>\n",
       "    </tr>\n",
       "    <tr>\n",
       "      <th>mean</th>\n",
       "      <td>5.313333</td>\n",
       "      <td>76003.000000</td>\n",
       "    </tr>\n",
       "    <tr>\n",
       "      <th>std</th>\n",
       "      <td>2.837888</td>\n",
       "      <td>27414.429785</td>\n",
       "    </tr>\n",
       "    <tr>\n",
       "      <th>min</th>\n",
       "      <td>1.100000</td>\n",
       "      <td>37731.000000</td>\n",
       "    </tr>\n",
       "    <tr>\n",
       "      <th>25%</th>\n",
       "      <td>3.200000</td>\n",
       "      <td>56720.750000</td>\n",
       "    </tr>\n",
       "    <tr>\n",
       "      <th>50%</th>\n",
       "      <td>4.700000</td>\n",
       "      <td>65237.000000</td>\n",
       "    </tr>\n",
       "    <tr>\n",
       "      <th>75%</th>\n",
       "      <td>7.700000</td>\n",
       "      <td>100544.750000</td>\n",
       "    </tr>\n",
       "    <tr>\n",
       "      <th>max</th>\n",
       "      <td>10.500000</td>\n",
       "      <td>122391.000000</td>\n",
       "    </tr>\n",
       "  </tbody>\n",
       "</table>\n",
       "</div>"
      ],
      "text/plain": [
       "       YearsExperience         Salary\n",
       "count        30.000000      30.000000\n",
       "mean          5.313333   76003.000000\n",
       "std           2.837888   27414.429785\n",
       "min           1.100000   37731.000000\n",
       "25%           3.200000   56720.750000\n",
       "50%           4.700000   65237.000000\n",
       "75%           7.700000  100544.750000\n",
       "max          10.500000  122391.000000"
      ]
     },
     "execution_count": 22,
     "metadata": {},
     "output_type": "execute_result"
    }
   ],
   "source": [
    "df.describe()"
   ]
  },
  {
   "cell_type": "code",
   "execution_count": 54,
=======
   "execution_count": 10,
>>>>>>> ec2c35d92ba2c08e286dce8aae4d2da35ee7aa7d
   "metadata": {},
   "outputs": [
    {
     "name": "stdout",
     "output_type": "stream",
     "text": [
<<<<<<< HEAD
      "Intercepto (w0 / b0): 25792.20019866871\n",
=======
      "Intercepto: (w0 / b0): 25792.20019866871\n",
>>>>>>> ec2c35d92ba2c08e286dce8aae4d2da35ee7aa7d
      "Coeficiente (w1 / b1): [9449.96232146]\n"
     ]
    }
   ],
   "source": [
<<<<<<< HEAD
    "# importamos el modelo de la regresión lineal (recta entre 2 puntos)\n",
    "from sklearn.linear_model import LinearRegression\n",
    "\n",
    "# instanciar el algoritmo de regresión lineal\n",
    "model = LinearRegression() # es una clase de python y con él creamos un objeto al que podemos entrenar\n",
    "\n",
    "# entrenar el algoritmo\n",
    "model.fit(X, y) \n",
    "\n",
    "# el punto en el eje y donde la recta creada por la regresión cruza con =0\n",
    "print('Intercepto (w0 / b0):', model.intercept_)\n",
    "# Tasa de cambio de y por cada unidad de cambio en X: \n",
    "# por cada año de experiencia el salario a predecir aumenta en  9449 € o $\n",
=======
    "from sklearn.linear_model import LinearRegression\n",
    "\n",
    "# instanciar el algoritmo de regresión lineal\n",
    "model = LinearRegression()\n",
    "\n",
    "# entrenar el algoritmo\n",
    "model.fit(X, y)\n",
    "\n",
    "# el punto en el eje y donde la recta cruza cuando x = 0\n",
    "print('Intercepto: (w0 / b0):', model.intercept_)\n",
    "# tasa de cambio de y por cada unidad de cambio en x: por cada año de experiencia el salario aumenta en 9449 €\n",
>>>>>>> ec2c35d92ba2c08e286dce8aae4d2da35ee7aa7d
    "print('Coeficiente (w1 / b1):', model.coef_)"
   ]
  },
  {
   "cell_type": "code",
<<<<<<< HEAD
   "execution_count": 42,
=======
   "execution_count": null,
   "metadata": {},
   "outputs": [],
   "source": []
  },
  {
   "cell_type": "code",
   "execution_count": 13,
>>>>>>> ec2c35d92ba2c08e286dce8aae4d2da35ee7aa7d
   "metadata": {},
   "outputs": [
    {
     "data": {
      "text/html": [
       "<div>\n",
       "<style scoped>\n",
       "    .dataframe tbody tr th:only-of-type {\n",
       "        vertical-align: middle;\n",
       "    }\n",
       "\n",
       "    .dataframe tbody tr th {\n",
       "        vertical-align: top;\n",
       "    }\n",
       "\n",
       "    .dataframe thead th {\n",
       "        text-align: right;\n",
       "    }\n",
       "</style>\n",
       "<table border=\"1\" class=\"dataframe\">\n",
       "  <thead>\n",
       "    <tr style=\"text-align: right;\">\n",
       "      <th></th>\n",
       "      <th>YearsExperience</th>\n",
       "    </tr>\n",
       "  </thead>\n",
       "  <tbody>\n",
       "    <tr>\n",
       "      <th>0</th>\n",
       "      <td>5.78</td>\n",
       "    </tr>\n",
       "    <tr>\n",
       "      <th>1</th>\n",
       "      <td>2.43</td>\n",
       "    </tr>\n",
       "    <tr>\n",
       "      <th>2</th>\n",
       "      <td>9.77</td>\n",
       "    </tr>\n",
       "  </tbody>\n",
       "</table>\n",
       "</div>"
      ],
      "text/plain": [
       "   YearsExperience\n",
       "0             5.78\n",
       "1             2.43\n",
       "2             9.77"
      ]
     },
<<<<<<< HEAD
     "execution_count": 42,
=======
     "execution_count": 13,
>>>>>>> ec2c35d92ba2c08e286dce8aae4d2da35ee7aa7d
     "metadata": {},
     "output_type": "execute_result"
    }
   ],
   "source": [
<<<<<<< HEAD
    "# para predecir usamos el metodo predict\n",
    "# Realizar una predicción sobre cualquier cantidad de aos de experiencia\n",
    "\n",
    "X_new = pd.DataFrame(data=[5.78, 2.43, 9.77], columns=['YearsExperience'])\n",
    "X_new\n"
=======
    "# Realizar una predicción sobre cualquier cantidad de años de experiencia\n",
    "X_new = pd.DataFrame([5.78, 2.43, 9.77], columns=['YearsExperience'])\n",
    "X_new"
>>>>>>> ec2c35d92ba2c08e286dce8aae4d2da35ee7aa7d
   ]
  },
  {
   "cell_type": "code",
<<<<<<< HEAD
   "execution_count": 45,
   "metadata": {},
   "outputs": [],
   "source": [
    "X_new['Salary_pred'] = model.predict(X_new)\n"
=======
   "execution_count": 16,
   "metadata": {},
   "outputs": [],
   "source": [
    "X_new['Salary_pred'] = model.predict(X_new)"
>>>>>>> ec2c35d92ba2c08e286dce8aae4d2da35ee7aa7d
   ]
  },
  {
   "cell_type": "code",
<<<<<<< HEAD
   "execution_count": 46,
=======
   "execution_count": 17,
>>>>>>> ec2c35d92ba2c08e286dce8aae4d2da35ee7aa7d
   "metadata": {},
   "outputs": [
    {
     "data": {
      "text/html": [
       "<div>\n",
       "<style scoped>\n",
       "    .dataframe tbody tr th:only-of-type {\n",
       "        vertical-align: middle;\n",
       "    }\n",
       "\n",
       "    .dataframe tbody tr th {\n",
       "        vertical-align: top;\n",
       "    }\n",
       "\n",
       "    .dataframe thead th {\n",
       "        text-align: right;\n",
       "    }\n",
       "</style>\n",
       "<table border=\"1\" class=\"dataframe\">\n",
       "  <thead>\n",
       "    <tr style=\"text-align: right;\">\n",
       "      <th></th>\n",
       "      <th>YearsExperience</th>\n",
       "      <th>Salary_pred</th>\n",
       "    </tr>\n",
       "  </thead>\n",
       "  <tbody>\n",
       "    <tr>\n",
       "      <th>0</th>\n",
       "      <td>5.78</td>\n",
       "      <td>80412.982417</td>\n",
       "    </tr>\n",
       "    <tr>\n",
       "      <th>1</th>\n",
       "      <td>2.43</td>\n",
       "      <td>48755.608640</td>\n",
       "    </tr>\n",
       "    <tr>\n",
       "      <th>2</th>\n",
       "      <td>9.77</td>\n",
       "      <td>118118.332079</td>\n",
       "    </tr>\n",
       "  </tbody>\n",
       "</table>\n",
       "</div>"
      ],
      "text/plain": [
       "   YearsExperience    Salary_pred\n",
       "0             5.78   80412.982417\n",
       "1             2.43   48755.608640\n",
       "2             9.77  118118.332079"
      ]
     },
<<<<<<< HEAD
     "execution_count": 46,
=======
     "execution_count": 17,
>>>>>>> ec2c35d92ba2c08e286dce8aae4d2da35ee7aa7d
     "metadata": {},
     "output_type": "execute_result"
    }
   ],
   "source": [
<<<<<<< HEAD
    "X_new # nos da la predicción del salario para los aos de experiencia que le hemos dado"
=======
    "X_new"
>>>>>>> ec2c35d92ba2c08e286dce8aae4d2da35ee7aa7d
   ]
  },
  {
   "cell_type": "code",
<<<<<<< HEAD
   "execution_count": 50,
   "metadata": {},
   "outputs": [
    {
     "data": {
      "text/plain": [
       "array([48755.6086398])"
      ]
     },
     "execution_count": 50,
     "metadata": {},
     "output_type": "execute_result"
    }
   ],
   "source": [
    "experience_years = 2.43\n",
    "salary = model.intercept_ + model.coef_ * experience_years\n",
    "salary"
   ]
  },
  {
   "cell_type": "code",
   "execution_count": 48,
=======
   "execution_count": 19,
>>>>>>> ec2c35d92ba2c08e286dce8aae4d2da35ee7aa7d
   "metadata": {},
   "outputs": [
    {
     "data": {
      "text/plain": [
       "array([80412.98241668])"
      ]
     },
<<<<<<< HEAD
     "execution_count": 48,
=======
     "execution_count": 19,
>>>>>>> ec2c35d92ba2c08e286dce8aae4d2da35ee7aa7d
     "metadata": {},
     "output_type": "execute_result"
    }
   ],
   "source": [
    "experience_years = 5.78\n",
    "salary = model.intercept_ + model.coef_ * experience_years\n",
    "salary"
   ]
  },
  {
   "cell_type": "code",
<<<<<<< HEAD
   "execution_count": 49,
=======
   "execution_count": 20,
>>>>>>> ec2c35d92ba2c08e286dce8aae4d2da35ee7aa7d
   "metadata": {},
   "outputs": [
    {
     "data": {
      "text/plain": [
       "array([118118.33207928])"
      ]
     },
<<<<<<< HEAD
     "execution_count": 49,
=======
     "execution_count": 20,
>>>>>>> ec2c35d92ba2c08e286dce8aae4d2da35ee7aa7d
     "metadata": {},
     "output_type": "execute_result"
    }
   ],
   "source": [
    "experience_years = 9.77\n",
    "salary = model.intercept_ + model.coef_ * experience_years\n",
    "salary"
   ]
  },
  {
   "cell_type": "code",
<<<<<<< HEAD
   "execution_count": 55,
   "metadata": {},
   "outputs": [
    {
     "name": "stderr",
     "output_type": "stream",
     "text": [
      "c:\\Users\\carol\\AppData\\Local\\Programs\\Python\\Python312\\Lib\\site-packages\\sklearn\\utils\\validation.py:2739: UserWarning: X does not have valid feature names, but LinearRegression was fitted with feature names\n",
      "  warnings.warn(\n"
     ]
    },
    {
     "data": {
      "text/plain": [
       "array([118118.33207928])"
      ]
     },
     "execution_count": 55,
=======
   "execution_count": 24,
   "metadata": {},
   "outputs": [
    {
     "name": "stdout",
     "output_type": "stream",
     "text": [
      "[80412.98241668]\n",
      "[118118.33207928  51968.5958291 ]\n"
     ]
    },
    {
     "name": "stderr",
     "output_type": "stream",
     "text": [
      "c:\\dev\\mod5-machine-learning-y-deep-learning\\.venv\\Lib\\site-packages\\sklearn\\utils\\validation.py:2739: UserWarning: X does not have valid feature names, but LinearRegression was fitted with feature names\n",
      "  warnings.warn(\n",
      "c:\\dev\\mod5-machine-learning-y-deep-learning\\.venv\\Lib\\site-packages\\sklearn\\utils\\validation.py:2739: UserWarning: X does not have valid feature names, but LinearRegression was fitted with feature names\n",
      "  warnings.warn(\n"
     ]
    }
   ],
   "source": [
    "# para evitar el warning lo ideal es pasarle un DataFrame con las mismas columnas con el que se entrenó\n",
    "# pd.DataFrame([5.78, 2.43, 9.77], columns=['YearsExperience'])\n",
    "print(model.predict([[5.78]])) # Aquí le pasamos una nueva X\n",
    "print(model.predict([[9.77], [2.77]]))"
   ]
  },
  {
   "cell_type": "code",
   "execution_count": 25,
   "metadata": {},
   "outputs": [
    {
     "data": {
      "text/plain": [
       "array([ 80412.98241668,  48755.6086398 , 118118.33207928])"
      ]
     },
     "execution_count": 25,
>>>>>>> ec2c35d92ba2c08e286dce8aae4d2da35ee7aa7d
     "metadata": {},
     "output_type": "execute_result"
    }
   ],
   "source": [
<<<<<<< HEAD
    "model.predict([[9.77]]) # Aquí le pasamos una nueva X\n",
    "# para que no de warning mejor pasar un dataframe igual que el que teníamos, \n",
    "# con las mismas columnas que el que se entrenó"
=======
    "model.predict(pd.DataFrame([5.78, 2.43, 9.77], columns=['YearsExperience']))"
>>>>>>> ec2c35d92ba2c08e286dce8aae4d2da35ee7aa7d
   ]
  },
  {
   "cell_type": "code",
<<<<<<< HEAD
   "execution_count": 58,
=======
   "execution_count": 26,
>>>>>>> ec2c35d92ba2c08e286dce8aae4d2da35ee7aa7d
   "metadata": {},
   "outputs": [
    {
     "data": {
      "text/plain": [
       "array([ 36187.15875227,  38077.15121656,  39967.14368085,  44692.12484158,\n",
       "        46582.11730587,  53197.09093089,  54142.08716303,  56032.07962732,\n",
       "        56032.07962732,  60757.06078805,  62647.05325234,  63592.04948449,\n",
       "        63592.04948449,  64537.04571663,  68317.03064522,  72097.0155738 ,\n",
       "        73987.00803809,  75877.00050238,  81546.97789525,  82491.9741274 ,\n",
       "        90051.94398456,  92886.932681  , 100446.90253816, 103281.8912346 ,\n",
       "       108006.87239533, 110841.86109176, 115566.84225249, 116511.83848464,\n",
       "       123126.81210966, 125016.80457395])"
      ]
     },
<<<<<<< HEAD
     "execution_count": 58,
=======
     "execution_count": 26,
>>>>>>> ec2c35d92ba2c08e286dce8aae4d2da35ee7aa7d
     "metadata": {},
     "output_type": "execute_result"
    }
   ],
   "source": [
<<<<<<< HEAD
    "y_pred = model.predict(X) # aunque ya los conoce el modelo, vamos a ver si da errores\n",
    "y_pred\n",
    "\n",
    "# mean_absolute_error"
=======
    "y_pred = model.predict(X)\n",
    "y_pred\n",
    "# mean_absolute_error()"
>>>>>>> ec2c35d92ba2c08e286dce8aae4d2da35ee7aa7d
   ]
  },
  {
   "cell_type": "code",
<<<<<<< HEAD
   "execution_count": 59,
=======
   "execution_count": 27,
>>>>>>> ec2c35d92ba2c08e286dce8aae4d2da35ee7aa7d
   "metadata": {},
   "outputs": [
    {
     "data": {
      "text/html": [
       "<div>\n",
       "<style scoped>\n",
       "    .dataframe tbody tr th:only-of-type {\n",
       "        vertical-align: middle;\n",
       "    }\n",
       "\n",
       "    .dataframe tbody tr th {\n",
       "        vertical-align: top;\n",
       "    }\n",
       "\n",
       "    .dataframe thead th {\n",
       "        text-align: right;\n",
       "    }\n",
       "</style>\n",
       "<table border=\"1\" class=\"dataframe\">\n",
       "  <thead>\n",
       "    <tr style=\"text-align: right;\">\n",
       "      <th></th>\n",
       "      <th>YearsExperience</th>\n",
       "      <th>Salary</th>\n",
       "      <th>Salary_pred</th>\n",
       "    </tr>\n",
       "  </thead>\n",
       "  <tbody>\n",
       "    <tr>\n",
       "      <th>0</th>\n",
       "      <td>1.1</td>\n",
       "      <td>39343.0</td>\n",
       "      <td>36187.158752</td>\n",
       "    </tr>\n",
       "    <tr>\n",
       "      <th>1</th>\n",
       "      <td>1.3</td>\n",
       "      <td>46205.0</td>\n",
       "      <td>38077.151217</td>\n",
       "    </tr>\n",
       "    <tr>\n",
       "      <th>2</th>\n",
       "      <td>1.5</td>\n",
       "      <td>37731.0</td>\n",
       "      <td>39967.143681</td>\n",
       "    </tr>\n",
       "    <tr>\n",
       "      <th>3</th>\n",
       "      <td>2.0</td>\n",
       "      <td>43525.0</td>\n",
       "      <td>44692.124842</td>\n",
       "    </tr>\n",
       "    <tr>\n",
       "      <th>4</th>\n",
       "      <td>2.2</td>\n",
       "      <td>39891.0</td>\n",
       "      <td>46582.117306</td>\n",
       "    </tr>\n",
       "  </tbody>\n",
       "</table>\n",
       "</div>"
      ],
      "text/plain": [
       "   YearsExperience   Salary   Salary_pred\n",
       "0              1.1  39343.0  36187.158752\n",
       "1              1.3  46205.0  38077.151217\n",
       "2              1.5  37731.0  39967.143681\n",
       "3              2.0  43525.0  44692.124842\n",
       "4              2.2  39891.0  46582.117306"
      ]
     },
<<<<<<< HEAD
     "execution_count": 59,
=======
     "execution_count": 27,
>>>>>>> ec2c35d92ba2c08e286dce8aae4d2da35ee7aa7d
     "metadata": {},
     "output_type": "execute_result"
    }
   ],
   "source": [
    "df['Salary_pred'] = model.predict(X)\n",
    "df.head()"
   ]
  },
  {
   "cell_type": "code",
<<<<<<< HEAD
   "execution_count": null,
=======
   "execution_count": 33,
>>>>>>> ec2c35d92ba2c08e286dce8aae4d2da35ee7aa7d
   "metadata": {},
   "outputs": [
    {
     "data": {
      "text/plain": [
       "<Axes: xlabel='YearsExperience', ylabel='Salary'>"
      ]
     },
<<<<<<< HEAD
     "execution_count": 65,
=======
     "execution_count": 33,
>>>>>>> ec2c35d92ba2c08e286dce8aae4d2da35ee7aa7d
     "metadata": {},
     "output_type": "execute_result"
    },
    {
     "data": {
<<<<<<< HEAD
      "image/png": "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",
=======
      "image/png": "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",
>>>>>>> ec2c35d92ba2c08e286dce8aae4d2da35ee7aa7d
      "text/plain": [
       "<Figure size 640x480 with 1 Axes>"
      ]
     },
     "metadata": {},
     "output_type": "display_data"
    }
   ],
   "source": [
    "import matplotlib.pyplot as plt\n",
    "import seaborn as sns\n",
    "\n",
    "# plt.scatter(df['YearsExperience'], df['Salary'])\n",
    "sns.scatterplot(df, x='YearsExperience', y='Salary')\n",
<<<<<<< HEAD
    "sns.lineplot(df, x='YearsExperience', y='Salary_pred', c='r')\n",
    "sns.scatterplot(df, x='YearsExperience', y='Salary_pred', c='r') # así vemos los puntos que se han generado con el modelo\n"
=======
    "sns.lineplot(df, x='YearsExperience', y='Salary_pred', c='r')"
>>>>>>> ec2c35d92ba2c08e286dce8aae4d2da35ee7aa7d
   ]
  },
  {
   "cell_type": "code",
<<<<<<< HEAD
   "execution_count": 73,
=======
   "execution_count": 41,
>>>>>>> ec2c35d92ba2c08e286dce8aae4d2da35ee7aa7d
   "metadata": {},
   "outputs": [
    {
     "data": {
      "text/plain": [
       "4644.2012894435375"
      ]
     },
<<<<<<< HEAD
     "execution_count": 73,
=======
     "execution_count": 41,
>>>>>>> ec2c35d92ba2c08e286dce8aae4d2da35ee7aa7d
     "metadata": {},
     "output_type": "execute_result"
    }
   ],
   "source": [
    "from sklearn.metrics import mean_absolute_error, r2_score, root_mean_squared_error\n",
    "\n",
<<<<<<< HEAD
    "# Error absoluto medio: hay un error de unos 4600 € en las predicciones de media\n",
    "# Cuanto más cercano a 0, mejor, porque indica que hay menor error\n",
    "# las 2 hacen lo mismo:\n",
    "#mean_absolute_error(y, y_pred) \n",
    "mean_absolute_error(df['Salary'], df['Salary_pred'])\n"
=======
    "# error absoluto medio: hay un error de unos 4600 € en las predicciones de media\n",
    "# mean_absolute_error(y, y_pred)\n",
    "# Cuanto más cercano a 0 mejor, porque indica que hay menos error\n",
    "mean_absolute_error(df['Salary'], df['Salary_pred'])"
>>>>>>> ec2c35d92ba2c08e286dce8aae4d2da35ee7aa7d
   ]
  },
  {
   "cell_type": "code",
<<<<<<< HEAD
   "execution_count": 77,
=======
   "execution_count": 42,
>>>>>>> ec2c35d92ba2c08e286dce8aae4d2da35ee7aa7d
   "metadata": {},
   "outputs": [
    {
     "data": {
      "text/plain": [
       "5592.043608760662"
      ]
     },
<<<<<<< HEAD
     "execution_count": 77,
=======
     "execution_count": 42,
>>>>>>> ec2c35d92ba2c08e286dce8aae4d2da35ee7aa7d
     "metadata": {},
     "output_type": "execute_result"
    }
   ],
   "source": [
<<<<<<< HEAD
    "# Raíz error cuadrático medio: RMSE (Root Mean Squared Error)\n",
    "root_mean_squared_error(y, y_pred) # al dar un valor mayor que MAE, nos dice que hay valores mal escogidof\n"
=======
    "# Raíz error cuadrático medio: RMSE (Root mean squared error)\n",
    "# Penaliza predicciones que tengan un error muy grande, si por ejemplo el modelo se ha equivocado \n",
    "# en dos o tres predicciones las penaliza más que la MAE\n",
    "root_mean_squared_error(y, y_pred)"
>>>>>>> ec2c35d92ba2c08e286dce8aae4d2da35ee7aa7d
   ]
  },
  {
   "cell_type": "code",
<<<<<<< HEAD
   "execution_count": 76,
=======
   "execution_count": 39,
>>>>>>> ec2c35d92ba2c08e286dce8aae4d2da35ee7aa7d
   "metadata": {},
   "outputs": [
    {
     "data": {
      "text/plain": [
       "0.9569566641435086"
      ]
     },
<<<<<<< HEAD
     "execution_count": 76,
=======
     "execution_count": 39,
>>>>>>> ec2c35d92ba2c08e286dce8aae4d2da35ee7aa7d
     "metadata": {},
     "output_type": "execute_result"
    }
   ],
   "source": [
<<<<<<< HEAD
    "# calidad global : cómo de bien explica el modelo la variabilidad de los datos\n",
    "# De 0 a 1\n",
    "# Cuanto más cercano a 1 mejor: (aunque con datos reales es muy dificil)\n",
    "# Penaliza predicciones que tengan un error muy grande, \n",
    "# si por ejemplo el modelo se ha equivocado mucho en 2 o 3 predicciones, las penaliza más que la MAE\n",
    "r2_score(y, y_pred)\n"
=======
    "# calidad global: qué tan bien el modelo explica la variabilidad de los datos\n",
    "# Representa la proporción de la varianza total en la variable dependiente que es explicada por el modelo.\n",
    "# De 0 a 1\n",
    "# Cuanto más cercano a 1 mejor:\n",
    "r2_score(y, y_pred)"
>>>>>>> ec2c35d92ba2c08e286dce8aae4d2da35ee7aa7d
   ]
  },
  {
   "cell_type": "code",
   "execution_count": null,
   "metadata": {},
   "outputs": [],
   "source": [
<<<<<<< HEAD
    "# regresión lineal múltiple: utiliza varios datos de entrada X, por ejemplo, varias columnas\n",
    "\n",
    "# X = df[['YearsExperience', 'study_level', 'años_cotizados', 'age', 'city']] \n",
    "\n"
   ]
  },
  {
   "cell_type": "code",
   "execution_count": null,
   "metadata": {},
   "outputs": [],
   "source": []
  },
  {
   "cell_type": "code",
   "execution_count": null,
   "metadata": {},
   "outputs": [],
   "source": []
=======
    "# regresión lineal múltiple: utiliza varios datos de entrada X, por ejemplo varias columnas:\n",
    "\n",
    "# X = df[['YearsExperience', 'study_level', 'años cotizados', 'age', 'city']]"
   ]
>>>>>>> ec2c35d92ba2c08e286dce8aae4d2da35ee7aa7d
  }
 ],
 "metadata": {
  "kernelspec": {
<<<<<<< HEAD
   "display_name": "Python 3",
=======
   "display_name": ".venv",
>>>>>>> ec2c35d92ba2c08e286dce8aae4d2da35ee7aa7d
   "language": "python",
   "name": "python3"
  },
  "language_info": {
   "codemirror_mode": {
    "name": "ipython",
    "version": 3
   },
   "file_extension": ".py",
   "mimetype": "text/x-python",
   "name": "python",
   "nbconvert_exporter": "python",
   "pygments_lexer": "ipython3",
<<<<<<< HEAD
   "version": "3.12.2"
=======
   "version": "3.12.6"
>>>>>>> ec2c35d92ba2c08e286dce8aae4d2da35ee7aa7d
  }
 },
 "nbformat": 4,
 "nbformat_minor": 2
}
