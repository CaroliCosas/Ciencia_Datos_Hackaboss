{
 "cells": [
  {
   "cell_type": "markdown",
   "id": "1ace7bee-b24c-400e-9d93-7a84eec5d2e1",
   "metadata": {},
   "source": [
    "## Ejercicios - Algebra"
   ]
  },
  {
   "cell_type": "code",
   "execution_count": 1,
   "id": "2ab86bce-70ec-4791-92e0-5062aa3b751c",
   "metadata": {
    "tags": []
   },
   "outputs": [],
   "source": [
    "import numpy as np\n",
    "\n",
    "import random"
   ]
  },
  {
   "cell_type": "code",
   "execution_count": 2,
   "id": "0baa6b5f-63c7-4738-a9ba-f12c6636a4ec",
   "metadata": {
    "tags": []
   },
   "outputs": [
    {
     "name": "stdout",
     "output_type": "stream",
     "text": [
      "numpy==2.2.0\n"
     ]
    }
   ],
   "source": [
    "# Versiones\n",
    "print(f\"numpy=={np.__version__}\")"
   ]
  },
  {
   "cell_type": "markdown",
   "id": "9cad9f27-4d1e-429d-b0ac-fa89e8490ef2",
   "metadata": {},
   "source": [
    "### Ejercicio 1:\n",
    "- Usando la librería _**random**_, genera una matriz de $4x4$ de números enteros del 1 al 100, usando bucles.\n",
    "- El resultado debe ser un _**np.array()**_."
   ]
  },
  {
   "cell_type": "code",
   "execution_count": 3,
   "id": "b4eb665c-fffe-4448-8048-0bdba9380795",
   "metadata": {
    "tags": []
   },
   "outputs": [
    {
     "name": "stdout",
     "output_type": "stream",
     "text": [
      "[[1 2 3]\n",
      " [1 2 3]]\n",
      "(2, 3)\n"
     ]
    }
   ],
   "source": [
    "matriz = np.array([[1, 2, 3], [1, 2, 3]])\n",
    "print(matriz)\n",
    "print(matriz.shape)  #primero da las filas y luego las columnas"
   ]
  },
  {
   "cell_type": "code",
   "execution_count": 4,
   "id": "118c8228-d2bd-42de-933a-87eec7cf8352",
   "metadata": {},
   "outputs": [],
   "source": [
    "# en el ejercicio se pide 4x4\n"
   ]
  },
  {
   "cell_type": "code",
   "execution_count": 5,
   "id": "a7ecb18b-aff0-4806-9ae2-84798f8c453b",
   "metadata": {},
   "outputs": [
    {
     "name": "stdout",
     "output_type": "stream",
     "text": [
      "[[1 2 3]\n",
      " [1 2 3]]\n",
      "(2, 3)\n"
     ]
    }
   ],
   "source": [
    "matriz = np.array([[1, 2, 3], [1, 2, 3]])\n",
    "print(matriz)\n",
    "print(matriz.shape)  #primero da las filas y luego las columnas\n",
    "# Uso de bucles for para crear una lista en Python y pasarla a array de numpy"
   ]
  },
  {
   "cell_type": "code",
   "execution_count": 6,
   "id": "1d9fa8ac",
   "metadata": {},
   "outputs": [
    {
     "name": "stdout",
     "output_type": "stream",
     "text": [
      "[[8, 97, 35, 27], [67, 100, 8, 97], [5, 43, 32, 27], [1, 14, 97, 51]]\n"
     ]
    },
    {
     "data": {
      "text/plain": [
       "array([[  8,  97,  35,  27],\n",
       "       [ 67, 100,   8,  97],\n",
       "       [  5,  43,  32,  27],\n",
       "       [  1,  14,  97,  51]])"
      ]
     },
     "execution_count": 6,
     "metadata": {},
     "output_type": "execute_result"
    }
   ],
   "source": [
    "matriz = list()\n",
    "import numpy as np\n",
    "import random\n",
    "\n",
    "for i in range(4):\n",
    "    fila = list()\n",
    "    \n",
    "    for j in range(4):\n",
    "        # numero_aleatorio = 1  para descomponer el problema en partes y ver si funciona\n",
    "        # numero_aleatorio = j       \n",
    "        numero_aleatorio = random.randint(1, 100)\n",
    "        fila.append(numero_aleatorio)\n",
    "        \n",
    "    matriz.append(fila)\n",
    "     \n",
    "print(matriz)    \n",
    "np.array(matriz)\n"
   ]
  },
  {
   "cell_type": "code",
   "execution_count": 7,
   "id": "a3c73282",
   "metadata": {},
   "outputs": [
    {
     "data": {
      "text/plain": [
       "array([[99, 81, 68, 82],\n",
       "       [72, 79, 95, 53],\n",
       "       [89, 70, 74, 43],\n",
       "       [96, 64, 76, 41]])"
      ]
     },
     "execution_count": 7,
     "metadata": {},
     "output_type": "execute_result"
    }
   ],
   "source": [
    "# matriz = list()\n",
    "import numpy as np\n",
    "import random\n",
    "\n",
    "matriz = []\n",
    "for i in range(4):\n",
    "    fila = []\n",
    "    \n",
    "    for j in range(4):\n",
    "        # numero_aleatorio = i\n",
    "        # numero_aleatorio = j\n",
    "        numero_aleatorio = random.randint(1, 100)\n",
    "        fila.append(numero_aleatorio)\n",
    "    \n",
    "    matriz.append(fila)\n",
    "    \n",
    "np.array(matriz)"
   ]
  },
  {
   "cell_type": "code",
   "execution_count": 8,
   "id": "8da2281f",
   "metadata": {},
   "outputs": [
    {
     "data": {
      "text/plain": [
       "array([[ 66,  53,  93,  88],\n",
       "       [ 71,  61,  70,  29],\n",
       "       [ 50, 100,  42,  77],\n",
       "       [ 78,  21,  28,  20]])"
      ]
     },
     "execution_count": 8,
     "metadata": {},
     "output_type": "execute_result"
    }
   ],
   "source": [
    "#se puede poner comprimido:\n",
    "np.array([[random.randint(1, 100) for j in range(4)] for i in range(4)])"
   ]
  },
  {
   "cell_type": "markdown",
   "id": "110e057c-629b-4991-a908-eb7677bfa647",
   "metadata": {},
   "source": [
    "### Ejercicio 2:\n",
    "\n",
    "- Define una función que tome como parámetro de entrada 2 valores enteros ($m$, $n$).\n",
    "- La función debe generar, usando la librería _**random**_, una matriz de $mxn$ de números enteros del 1 al 100, usando bucles.\n",
    "- La función debe retornar la matriz, la matriz debe ser un _**np.array()**_."
   ]
  },
  {
   "cell_type": "code",
   "execution_count": 9,
   "id": "a4c760da",
   "metadata": {},
   "outputs": [
    {
     "name": "stdout",
     "output_type": "stream",
     "text": [
      "[[1 2 3]\n",
      " [1 2 3]]\n",
      "(2, 3)\n"
     ]
    }
   ],
   "source": [
    "matriz = np.array([[1, 2, 3], [1, 2, 3]])\n",
    "print(matriz)\n",
    "print(matriz.shape) # se pide (m, n)\n",
    "# Uso de bucles for para crear una lista en python y pasarla a array de numpy"
   ]
  },
  {
   "cell_type": "code",
   "execution_count": 10,
   "id": "71ae4ac4-8dae-4b9a-80ec-e67be3509e13",
   "metadata": {},
   "outputs": [
    {
     "data": {
      "text/plain": [
       "array([[78, 20, 76, 66, 81, 23],\n",
       "       [10, 46, 45, 60, 76, 52],\n",
       "       [62, 48, 13, 93, 64, 77],\n",
       "       [ 2, 79, 89, 57, 60,  8]])"
      ]
     },
     "execution_count": 10,
     "metadata": {},
     "output_type": "execute_result"
    }
   ],
   "source": [
    "# en este caso es una matriz dinamica, de mxn\n",
    "# hay que crear una función\n",
    "def generar_matriz(m=4, n=4): # añadiendo un valor nos aseguramos que al menos tendrá estas dimensiones si se introducen m y n mal\n",
    "    matriz = []\n",
    "    if m<=0 or n<=0:\n",
    "        raise ValueError(\"Dimensiones incorrectas\")\n",
    "    \n",
    "    for i in range(m):\n",
    "        fila = []\n",
    "        for j in range(n):\n",
    "            numero_aleatorio = random.randint(1, 100)\n",
    "            fila.append(numero_aleatorio)\n",
    "        \n",
    "        matriz.append(fila)\n",
    "    return np.array(matriz)\n",
    "\n",
    "generar_matriz(4, 6)\n"
   ]
  },
  {
   "cell_type": "code",
   "execution_count": 12,
   "id": "be4ba55d",
   "metadata": {},
   "outputs": [
    {
     "data": {
      "text/plain": [
       "array([[ 7, 31, 39,  8]])"
      ]
     },
     "execution_count": 12,
     "metadata": {},
     "output_type": "execute_result"
    }
   ],
   "source": [
    "def generar_matriz(m=4, n=4):\n",
    "    matriz = []\n",
    "    if m <= 0 or n <= 0:\n",
    "        raise ValueError(\"Dimensiones incorrectas\")\n",
    "        #print(\"las dimensiones deben ser mayor de 0.\")\n",
    "        \n",
    "    for i in range(m):\n",
    "        fila = []\n",
    "        for j in range(n):\n",
    "            numero_aleatorio = random.randint(1, 100)\n",
    "            fila.append(numero_aleatorio)\n",
    "        \n",
    "        matriz.append(fila)\n",
    "    return np.array(matriz)\n",
    "    \n",
    "generar_matriz(1, 4)"
   ]
  },
  {
   "cell_type": "code",
   "execution_count": 11,
   "id": "268b9042-48df-44fa-a28a-75a32febe065",
   "metadata": {
    "tags": []
   },
   "outputs": [],
   "source": [
    "##############################################################################################################################"
   ]
  }
 ],
 "metadata": {
  "kernelspec": {
   "display_name": "Python 3",
   "language": "python",
   "name": "python3"
  },
  "language_info": {
   "codemirror_mode": {
    "name": "ipython",
    "version": 3
   },
   "file_extension": ".py",
   "mimetype": "text/x-python",
   "name": "python",
   "nbconvert_exporter": "python",
   "pygments_lexer": "ipython3",
   "version": "3.13.1"
  }
 },
 "nbformat": 4,
 "nbformat_minor": 5
}
