{
 "cells": [
  {
   "cell_type": "markdown",
   "id": "f2add6d8-03a9-413c-925d-626844160adb",
   "metadata": {},
   "source": [
    "## NumPy - Introducción\n",
    "\n",
    "**NumPy** es una librería utilizada para el manejo de vectores y matrices multidimensionales (conocidos como arrays), cuenta con múltiples funciones para trabajar con estos objetos."
   ]
  },
  {
   "cell_type": "code",
   "execution_count": null,
   "id": "652b7c2e-7596-48ad-8fd5-c6c84532c2bb",
   "metadata": {
    "tags": []
   },
   "outputs": [],
   "source": [
    "import numpy as np"
   ]
  },
  {
   "cell_type": "code",
   "execution_count": null,
   "id": "2c357306-b8c8-4c83-a473-b21aca9482ca",
   "metadata": {
    "tags": []
   },
   "outputs": [],
   "source": [
    "# Versión de NumPy\n",
    "\n",
    "print(f\"numpy=={np.__version__}\")"
   ]
  },
  {
   "cell_type": "markdown",
   "id": "b541c23f-0af5-40c1-bff8-8784db7d99f7",
   "metadata": {},
   "source": [
    "#### Arrays\n",
    "\n",
    "Un array es un objeto multidimensional que puede contener elementos del mismo tipo de datos. Se utiliza para representar datos numéricos, como **vectores**, **matrices** o **tensores**.\n",
    "\n",
    "- Llamaremos **vectores** a los arrays **uni-dimensionales**.\n",
    "- Llamaremos **matrices** a los arrays **bi-dimensionales**.\n",
    "- Llamaremos **tensores** a los arrays **tri-dimensionales** o de más dimensiones."
   ]
  },
  {
   "cell_type": "code",
   "execution_count": null,
   "id": "fcccce0b-5bd4-4eab-88b2-432d839b03b7",
   "metadata": {
    "tags": []
   },
   "outputs": [],
   "source": [
    "lista = [1, 2, 3]\n",
    "\n",
    "type(lista)"
   ]
  },
  {
   "cell_type": "code",
   "execution_count": null,
   "id": "51376a55-3301-42e5-8251-0ee7c9f8d766",
   "metadata": {
    "tags": []
   },
   "outputs": [],
   "source": [
    "# Usando la función np.array() podemos castear una lista a un objeto numpy.ndarray\n",
    "\n",
    "array = np.array(lista)\n",
    "\n",
    "array"
   ]
  },
  {
   "cell_type": "code",
   "execution_count": null,
   "id": "f12dbcef-3181-439c-9436-d75490f6a79f",
   "metadata": {
    "tags": []
   },
   "outputs": [],
   "source": [
    "# numpy.ndarray se puede traducir como: \"n-dimension array\"\n",
    "\n",
    "type(array)"
   ]
  },
  {
   "cell_type": "code",
   "execution_count": null,
   "id": "1f6db32a-1c15-4c80-aecb-2e79f6557662",
   "metadata": {
    "tags": []
   },
   "outputs": [],
   "source": [
    "# Si tenemos una lista de listas, NumPy lo transformará como una matriz\n",
    "\n",
    "mat = [[1, 2, 3], [4, 5, 6], [7, 8, 9]]\n",
    "\n",
    "mat = np.array(mat)\n",
    "\n",
    "mat"
   ]
  },
  {
   "cell_type": "code",
   "execution_count": null,
   "id": "325966c7-f323-4527-b094-15a48a6cad79",
   "metadata": {
    "tags": []
   },
   "outputs": [],
   "source": [
    "# np.linspace(a, b, n) - linEAR space\n",
    "# Genera un array de n elementos, que van desde a hasta b.\n",
    "# Todos los números están espaciados uniformemente.\n",
    "\n",
    "np.linspace(start = 0, stop = 1, num = 10)\n",
    "\n",
    "# Esta función la usaremos más adelante"
   ]
  },
  {
   "cell_type": "markdown",
   "id": "f900f5d0-ffb8-43e4-9c81-2de85b0e4c21",
   "metadata": {},
   "source": [
    "**Métodos para arrays**:\n",
    "\n",
    "|Métodos      |Descripción                                   |\n",
    "|-------------|----------------------------------------------|\n",
    "|**.min()**   |Retorna el mínimo de un array.                |\n",
    "|**.max()**   |Retorna el máximo de un array.                |\n",
    "|**.argmax()**|Retorna el índice del mayor valor de un array.|\n",
    "|**.argmin()**|Retorna el índice del menor valor de un array.|\n",
    "|**.sum()**   |Retorna la suma de los elementos de un array. |\n",
    "|**.sort()**  |Ordena de menor a mayor el array.             |"
   ]
  },
  {
   "cell_type": "code",
   "execution_count": null,
   "id": "78843a61-2565-487d-b74f-e7e82177d0ae",
   "metadata": {
    "tags": []
   },
   "outputs": [],
   "source": [
    "# Creamos un np.array para probar los métodos\n",
    "\n",
    "array = np.array([46, -46, 61, -72, 40, 39, -94, 46, -23, -95, -25, 83, 29, 81, -50, 79, 6, 29, 99, 53])\n",
    "\n",
    "array"
   ]
  },
  {
   "cell_type": "code",
   "execution_count": null,
   "id": "4d0f3c88-848d-4889-9b33-18ba642b7163",
   "metadata": {
    "tags": []
   },
   "outputs": [],
   "source": [
    "# .min()\n",
    "# Funciona igual que la función min()\n",
    "\n",
    "array.min()"
   ]
  },
  {
   "cell_type": "code",
   "execution_count": null,
   "id": "6263a2c3-6e95-4846-8ebc-53cdfba6dfa9",
   "metadata": {
    "tags": []
   },
   "outputs": [],
   "source": [
    "# .max()\n",
    "# Funciona igual que la función max()\n",
    "\n",
    "array.max()"
   ]
  },
  {
   "cell_type": "code",
   "execution_count": null,
   "id": "3dd486ea-6096-4b59-8340-569ef69aaaf3",
   "metadata": {
    "tags": []
   },
   "outputs": [],
   "source": [
    "# .argmax()\n",
    "# Retorna el índice del mayor valor del array\n",
    "\n",
    "array.argmax()"
   ]
  },
  {
   "cell_type": "code",
   "execution_count": null,
   "id": "63832083-02fe-408a-a66b-46bcca6c3291",
   "metadata": {
    "tags": []
   },
   "outputs": [],
   "source": [
    "# .argmin()\n",
    "# Retorna el índice del menor valor del array\n",
    "\n",
    "array.argmin()"
   ]
  },
  {
   "cell_type": "code",
   "execution_count": null,
   "id": "b6f97d4e-645d-4603-b354-000770f40bc0",
   "metadata": {
    "tags": []
   },
   "outputs": [],
   "source": [
    "# .sum()\n",
    "# Funciona igual que la función sum()\n",
    "\n",
    "array.sum()"
   ]
  },
  {
   "cell_type": "code",
   "execution_count": null,
   "id": "bfc13c6d-58d6-4bb5-b715-c3520c683523",
   "metadata": {
    "tags": []
   },
   "outputs": [],
   "source": [
    "# .sort()\n",
    "# Funciona igual que el método sort() de las listas\n",
    "# Es un método in-place y no retorna nada\n",
    "\n",
    "print(f\"Array antes de ordenarlo: {array}\")\n",
    "\n",
    "array.sort()\n",
    "\n",
    "print(f\"Array después de ordenarlo: {array}\")"
   ]
  },
  {
   "cell_type": "markdown",
   "id": "39104f1b-d237-4bf1-b110-a8f56844cb8e",
   "metadata": {},
   "source": [
    "### Funciones Matemáticas\n",
    "\n",
    "**NumPy** cuenta con una gran variedad de funciones matemáticas, estas funciones pueden recibir como parámetro de entrada:\n",
    "- Números: _**int**_, _**float**_.\n",
    "- **Listas** o **Arrays**.\n",
    "\n",
    "|Funciones      |Descripción                                            |\n",
    "|---------------|-------------------------------------------------------|\n",
    "|**np.max()**   |Retorna el máximo de un array.                         |\n",
    "|**np.min()**   |Retorna el mínimo de un array.                         |\n",
    "|**np.sum()**   |Retorna la suma de los elementos de un array.          |\n",
    "|**np.abs()**   |Retorna el valor absoluto de los elementos de un array.|\n",
    "|**np.round()** |Función para redondear.                                |\n",
    "|**np.power()** |Función para aplicar potencia.                         |\n",
    "|**np.sqrt()**  |Raíz cuadrada.                                         |\n",
    "|**np.log2()**  |Función logarítimo base 2.                             |\n",
    "|**np.log10()** |Función logarítimo base 10.                            |\n",
    "|**np.log()**   |Función logarítmo natural o base e.                    |\n",
    "|**np.sin()**   |Función seno.                                          |\n",
    "|**np.cos()**   |Función coseno.                                        |\n",
    "|**np.tan()**   |Función tangete.                                       |\n",
    "|**np.arcsin()**|Función arcoseno.                                      |\n",
    "|**np.arccos()**|Función arcocoseno.                                    |\n",
    "|**np.arctan()**|Función arcotangente.                                  |\n",
    "\n",
    "Si el parámetro de entrada es una **lista** o **array**, la función transformará todo los elementos y retornará un **array**."
   ]
  },
  {
   "cell_type": "code",
   "execution_count": null,
   "id": "fb62d2d6-6069-41bb-b3c7-3169f720705b",
   "metadata": {
    "tags": []
   },
   "outputs": [],
   "source": [
    "# Probando con un número\n",
    "\n",
    "x = 100.1234\n",
    "\n",
    "print(f\"log: {np.log(x)}\")\n",
    "print(f\"sqrt: {np.sqrt(x)}\")\n",
    "print(f\"round: {np.round(x, 2)}\")"
   ]
  },
  {
   "cell_type": "code",
   "execution_count": null,
   "id": "8ead0e8b-48e9-48c7-80a1-67169ea158ad",
   "metadata": {
    "tags": []
   },
   "outputs": [],
   "source": [
    "# Array para hacer pruebas\n",
    "\n",
    "array = np.array([43.414, 9.65, 22.286, 11.478, 98.206, 16.849, 24.423, 6.106, 79.175, 50.977,\n",
    "                  6.167, 61.731, 16.469, 24.245, 51.944, 98.764, 96.294, 20.621, 30.935, 72.7])\n",
    "\n",
    "array"
   ]
  },
  {
   "cell_type": "code",
   "execution_count": null,
   "id": "c28caa75-5069-41c3-a041-efa3e4de844f",
   "metadata": {
    "tags": []
   },
   "outputs": [],
   "source": [
    "# np.max() retorna el máximo de un array\n",
    "# Se puede usar como función o como método\n",
    "\n",
    "np.max(array)"
   ]
  },
  {
   "cell_type": "code",
   "execution_count": null,
   "id": "cc62bad0-0cb4-4ddd-a2bb-26d8c6fda7c4",
   "metadata": {
    "tags": []
   },
   "outputs": [],
   "source": [
    "# np.min() retorna el mínimo de un array\n",
    "# Se puede usar como función o como método\n",
    "np.min(array)"
   ]
  },
  {
   "cell_type": "code",
   "execution_count": null,
   "id": "38962ef8-d7b5-4357-8d97-5f286afa8b61",
   "metadata": {
    "tags": []
   },
   "outputs": [],
   "source": [
    "# np.round() redondea todos los números de un array\n",
    "\n",
    "np.round(array, 2)"
   ]
  },
  {
   "cell_type": "code",
   "execution_count": null,
   "id": "ad3edee7-eb71-49e4-8c68-f7cf2379dd5f",
   "metadata": {
    "tags": []
   },
   "outputs": [],
   "source": [
    "# np.sqrt() aplica raíz cuadrada a los números de un array\n",
    "\n",
    "np.sqrt(array)"
   ]
  },
  {
   "cell_type": "code",
   "execution_count": null,
   "id": "803a0732-730d-4796-a198-8086fc9a4991",
   "metadata": {
    "tags": []
   },
   "outputs": [],
   "source": [
    "# np.log() aplica logarítmo natural a los números de un array\n",
    "\n",
    "np.log(array)"
   ]
  },
  {
   "cell_type": "code",
   "execution_count": null,
   "id": "4afc9668-41c5-4675-b4f8-c663d6afd5e8",
   "metadata": {
    "tags": []
   },
   "outputs": [],
   "source": [
    "# np.sin() aplica la función seno a los números de un array\n",
    "\n",
    "np.sin(array)"
   ]
  },
  {
   "cell_type": "code",
   "execution_count": null,
   "id": "2c7797a9-9edf-4613-9729-1dc8fe18c8ab",
   "metadata": {
    "tags": []
   },
   "outputs": [],
   "source": [
    "# np.cos() aplica la función coseno a los números de un array\n",
    "\n",
    "np.cos(array)"
   ]
  },
  {
   "cell_type": "code",
   "execution_count": null,
   "id": "98bbee17-6e53-4fe3-8352-35738687c9b9",
   "metadata": {
    "tags": []
   },
   "outputs": [],
   "source": [
    "# np.abs() aplica la función valor absoluto a los números de un array\n",
    "# Todos los números pasan a ser positivos\n",
    "\n",
    "np.abs(np.cos(array))"
   ]
  },
  {
   "cell_type": "code",
   "execution_count": null,
   "id": "b3b1d933-cc3a-4384-8139-00d303f23733",
   "metadata": {},
   "outputs": [],
   "source": [
    "# np.power() recibe 2 elementos, un array y una potencia\n",
    "# Eleva todos los elementos del array a esa potencia\n",
    "\n",
    "np.power(array, 2)"
   ]
  },
  {
   "cell_type": "code",
   "execution_count": null,
   "id": "f8c3fb79-90ea-4129-9adc-9244b334896a",
   "metadata": {
    "tags": []
   },
   "outputs": [],
   "source": [
    "# Si usamos 1/2 es como si aplicaramos raíz cuadrada\n",
    "\n",
    "np.power(array, 1/2)"
   ]
  },
  {
   "cell_type": "markdown",
   "id": "25d727d5-c826-41cc-a37a-37e0a56fe071",
   "metadata": {},
   "source": [
    "### Not a Number (NaN)\n",
    "\n",
    "**NaN** es un término que se utiliza para referirse a elementos que no tienen definición matemática. En **NumPy** este valor se utiliza para indicar que un elemento en un array no representa un número valido.\n",
    "\n",
    "- Se utiliza para llenar espacios vacíos o datos faltantes en arrays.\n",
    "\n",
    "- Cualquier operación matemática que incluya un **NaN** dará siempre como resultado un **NaN**.\n",
    "\n",
    "- Existe en **NumPy** y cualquier otra librería relacionada, como **pandas**, **sklearn** o **tensorflow**."
   ]
  },
  {
   "cell_type": "code",
   "execution_count": null,
   "id": "96203003-5e02-4ff6-a14d-581792f0e406",
   "metadata": {
    "tags": []
   },
   "outputs": [],
   "source": [
    "# NaN\n",
    "\n",
    "np.nan"
   ]
  },
  {
   "cell_type": "code",
   "execution_count": null,
   "id": "42c17ada-5d6b-4124-ae80-f03f0e810a68",
   "metadata": {
    "tags": []
   },
   "outputs": [],
   "source": [
    "# Operaciones matemáticas con NaN siempre retorna NaN\n",
    "\n",
    "np.nan**2"
   ]
  },
  {
   "cell_type": "code",
   "execution_count": null,
   "id": "ac441a94-36c5-42f3-abb1-aef59d22f17a",
   "metadata": {
    "tags": []
   },
   "outputs": [],
   "source": [
    "# Generamos un array de NaN's\n",
    "\n",
    "array_nan = np.array([np.nan, np.nan, np.nan, np.nan])\n",
    "\n",
    "array_nan"
   ]
  },
  {
   "cell_type": "code",
   "execution_count": null,
   "id": "061b58b6-fe53-4d69-9b87-8e90bb63eb82",
   "metadata": {
    "tags": []
   },
   "outputs": [],
   "source": [
    "# np.sum() al array de NaN's da como resultado NaN\n",
    "\n",
    "np.sum(array_nan)"
   ]
  },
  {
   "cell_type": "code",
   "execution_count": null,
   "id": "89ac5672-4c41-4d62-adf2-5b8013466383",
   "metadata": {
    "tags": []
   },
   "outputs": [],
   "source": [
    "# Existe en NumPy una función para verificar si una variable/objeto es un NaN\n",
    "# np.isnan()\n",
    "\n",
    "# Probamos con un número\n",
    "np.isnan(1)"
   ]
  },
  {
   "cell_type": "code",
   "execution_count": null,
   "id": "7fed07c5-5a47-4c1c-8d04-9d842c9195f6",
   "metadata": {
    "tags": []
   },
   "outputs": [],
   "source": [
    "# Probamos con un NaN\n",
    "\n",
    "np.isnan(np.nan)"
   ]
  },
  {
   "cell_type": "code",
   "execution_count": null,
   "id": "c861e4c7-6376-4de6-8fa3-c8ad0a914b10",
   "metadata": {
    "tags": []
   },
   "outputs": [],
   "source": [
    "# No se pueden comparar NaN's \n",
    "\n",
    "np.nan == np.nan\n",
    "\n",
    "# Rarísimo"
   ]
  },
  {
   "cell_type": "code",
   "execution_count": null,
   "id": "a68be33a-133c-4da9-a193-18deaa06c132",
   "metadata": {
    "tags": []
   },
   "outputs": [],
   "source": [
    "##############################################################################################################################"
   ]
  }
 ],
 "metadata": {
  "kernelspec": {
   "display_name": "Python 3 (ipykernel)",
   "language": "python",
   "name": "python3"
  },
  "language_info": {
   "codemirror_mode": {
    "name": "ipython",
    "version": 3
   },
   "file_extension": ".py",
   "mimetype": "text/x-python",
   "name": "python",
   "nbconvert_exporter": "python",
   "pygments_lexer": "ipython3",
   "version": "3.11.5"
  }
 },
 "nbformat": 4,
 "nbformat_minor": 5
}
