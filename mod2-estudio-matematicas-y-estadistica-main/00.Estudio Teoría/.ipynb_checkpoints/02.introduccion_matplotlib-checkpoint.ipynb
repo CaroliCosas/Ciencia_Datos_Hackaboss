{
 "cells": [
  {
   "cell_type": "markdown",
   "id": "4fea7dab-75da-4564-9ce1-2506def4b7b0",
   "metadata": {},
   "source": [
    "## Matplotlib - Introducción\n",
    "\n",
    "**Matplotlib** es una de las librería más utilizadas en Python enfocada a la visualización de datos.\n",
    "\n",
    "- Para visualizar datos podemos usar listas y/o arrays.\n",
    "\n",
    "Para generar las gráficas más comunes tenemos las siguientes funciones:\n",
    "\n",
    "|Función          | Plot                        |\n",
    "|-----------------|-----------------------------|\n",
    "|**plt.plot()**   |Grafica **X vs Y** (lineal). |\n",
    "|**plt.scatter()**|Graficas de dispersión.      |\n",
    "|**plt.bar()**    |Grafico de barras vertical.  |\n",
    "|**plt.barh()**   |Grafico de barras horizontal.|\n",
    "\n",
    "Graficos estadísticos:\n",
    "\n",
    "|Función       |Plot        |\n",
    "|--------------|------------|\n",
    "|**plt.hist()**|Histogramas.|"
   ]
  },
  {
   "cell_type": "code",
   "execution_count": null,
   "id": "106ff87d-b324-4fd4-ac9b-8b653abfd77e",
   "metadata": {
    "tags": []
   },
   "outputs": [],
   "source": [
    "import numpy as np\n",
    "\n",
    "import matplotlib # Importamos de esta forma para verificar la versión\n",
    "import matplotlib.pyplot as plt\n",
    "\n",
    "import random"
   ]
  },
  {
   "cell_type": "code",
   "execution_count": null,
   "id": "dc3b76d0-defa-4e1e-80ae-66a38435626c",
   "metadata": {
    "tags": []
   },
   "outputs": [],
   "source": [
    "# Versiones\n",
    "\n",
    "print(f\"numpy=={np.__version__}\")\n",
    "print(f\"matplotlib=={matplotlib.__version__}\")"
   ]
  },
  {
   "cell_type": "markdown",
   "id": "e503ba63-8402-4eee-8322-3410e719dc83",
   "metadata": {},
   "source": [
    "### plt.plot()\n",
    "\n",
    "Se utiliza para crear gráficos de líneas que muestran la relación entre dos variables."
   ]
  },
  {
   "cell_type": "code",
   "execution_count": null,
   "id": "2e187eec-6315-4230-801a-5e6965a22cf9",
   "metadata": {
    "tags": []
   },
   "outputs": [],
   "source": [
    "# Graficar un punto\n",
    "# Usamos la función plt.plot()\n",
    "\n",
    "x = 0\n",
    "y = 1\n",
    "\n",
    "plt.plot(x, y, marker = \"o\")\n",
    "\n",
    "plt.grid()\n",
    "plt.show()\n",
    "\n",
    "# En este ejemplo x, y son números\n",
    "\n",
    "# Usamos plt.grid() para mostrar una \"malla\" cuadriculada gris, muy útil para ubicar los puntos en las gráficas\n",
    "# Usamos plt.show() para mostrar la gráfica (aunque no es obligatorio en Notebooks)"
   ]
  },
  {
   "cell_type": "code",
   "execution_count": null,
   "id": "c5af84bd-f4ae-4e7a-b490-949ed2376149",
   "metadata": {
    "tags": []
   },
   "outputs": [],
   "source": [
    "# Graficar una linea\n",
    "# Usamos la función plt.plot()\n",
    "\n",
    "x = [1, 10]\n",
    "y = [-1, 8]\n",
    "\n",
    "plt.plot(x, y, marker = \"o\")\n",
    "\n",
    "\n",
    "# Esta función la podemos usar para marcar el eje X\n",
    "plt.axhline(0, color = \"black\")\n",
    "\n",
    "# Esta función la podemos usar para marcar el eje Y\n",
    "plt.axvline(0, color = \"black\") \n",
    "\n",
    "plt.grid()\n",
    "plt.show()\n",
    "\n",
    "# En este ejemplo x, y son listas con 2 elementos cada uno\n",
    "# Ambos tienen el mismo tamaño\n",
    "\n",
    "# Por defecto, matplotlib uno los puntos con una linea, esto se puede evitar añadiendo el siguiente parámetro ---> linestyle = \"\""
   ]
  },
  {
   "cell_type": "code",
   "execution_count": null,
   "id": "28ff909e-8d66-4ead-bbfe-83d3b73a7d8f",
   "metadata": {
    "tags": []
   },
   "outputs": [],
   "source": [
    "# Graficar varios puntos\n",
    "# Usamos la función plt.plot()\n",
    "\n",
    "x = np.linspace(1, 10, 10)\n",
    "y = [-3, 7, 10, 6, 3, 9, 0, -6, 2, 9]\n",
    "\n",
    "plt.plot(x, y, marker = \"o\", color = \"red\")\n",
    "\n",
    "# Eje X\n",
    "plt.axhline(0, color = \"black\")\n",
    "\n",
    "# Eje Y\n",
    "plt.axvline(0, color = \"black\") \n",
    "\n",
    "plt.grid()\n",
    "plt.show()\n",
    "\n",
    "# En este ejemplo x, y son listas de n-números\n",
    "# Ambos tienen el mismo tamaño\n",
    "\n",
    "# Usando el parámetro color = \"red\" cambiamos el color de los puntos"
   ]
  },
  {
   "cell_type": "markdown",
   "id": "fd1515f1-4373-48ff-9a17-294ba9907bb8",
   "metadata": {},
   "source": [
    "### plt.scatter()\n",
    "\n",
    "Se utiliza para crear gráficos de dispersión. Estos gráficos son útiles para visualizar la relación entre 2 variables numéricas, donde cada punto del gráfico representa un par de valores $(x, y)$."
   ]
  },
  {
   "cell_type": "code",
   "execution_count": null,
   "id": "ccddc727-17ea-40ed-9e79-52cd96034680",
   "metadata": {
    "tags": []
   },
   "outputs": [],
   "source": [
    "# plt.scatter()\n",
    "\n",
    "# Vamos a generar 2 listas de números aleatorios para generar el gráfico\n",
    "\n",
    "X = [random.randint(-20, 20) for x in range(20)]\n",
    "Y = [random.randint(-20, 20) for x in range(20)]\n",
    "\n",
    "plt.scatter(X, Y)\n",
    "\n",
    "# Eje X\n",
    "plt.axhline(0, color = \"black\")\n",
    "\n",
    "# Eje Y\n",
    "plt.axvline(0, color = \"black\") \n",
    "\n",
    "plt.grid()\n",
    "plt.show()\n",
    "\n",
    "# plt.scatter() no une los puntos con lineas\n",
    "# En este ejemplo X, Y son listas de n-números.\n",
    "# Ambos tienen el mismo tamaño"
   ]
  },
  {
   "cell_type": "markdown",
   "id": "f385cdad-8a01-4787-9ac0-3b4ca004d203",
   "metadata": {},
   "source": [
    "### plt.bar()\n",
    "\n",
    "Se utiliza para crear gráficos de barras verticales. Estos gráficos son útiles para visualizar datos categóricos, donde cada barra representa un valor de una categoría específica."
   ]
  },
  {
   "cell_type": "code",
   "execution_count": null,
   "id": "18a178e3-add8-4897-b6c9-ed22623e79f4",
   "metadata": {
    "tags": []
   },
   "outputs": [],
   "source": [
    "# plt.bar()\n",
    "\n",
    "# Vamos a crear dos listas\n",
    "# La primera con datos no numéricos, en este ejemplo con strings\n",
    "# La segunda con datos numéricos, pueden ser positivos y negativos\n",
    "\n",
    "\n",
    "categorias = [\"A\", \"B\", \"C\", \"D\", \"E\"]\n",
    "valores = [random.randint(10, 100) for x in range(len(categorias))]\n",
    "\n",
    "\n",
    "plt.bar(categorias, valores)\n",
    "plt.grid()\n",
    "plt.show()\n",
    "\n",
    "# En este ejemplo categorias es una lista de strings y valores es una lista de números\n",
    "# Ambos tienen el mismo tamaño"
   ]
  },
  {
   "cell_type": "markdown",
   "id": "63b0899e-ae3a-40ee-9668-7fb4a763879d",
   "metadata": {},
   "source": [
    "### plt.barh()\n",
    "\n",
    "Se utiliza para crear gráficos de barras horizontales. Estos gráficos son útiles para visualizar datos categóricos, donde cada barra representa un valor de una categoría específica."
   ]
  },
  {
   "cell_type": "code",
   "execution_count": null,
   "id": "499150d9-5832-408d-a723-0d1a30f1a2ae",
   "metadata": {
    "tags": []
   },
   "outputs": [],
   "source": [
    "# plt.bar()\n",
    "\n",
    "# Vamos a crear dos listas\n",
    "# La primera con datos no numéricos, en este ejemplo con strings\n",
    "# La segunda con datos numéricos, pueden ser positivos y negativos\n",
    "\n",
    "\n",
    "categorias = [\"A\", \"B\", \"C\", \"D\", \"E\"]\n",
    "valores = [random.randint(10, 100) for x in range(len(categorias))]\n",
    "\n",
    "\n",
    "plt.barh(categorias, valores)\n",
    "plt.grid()\n",
    "plt.show()\n",
    "\n",
    "# En este ejemplo categorias es una lista de strings y valores es una lista de números\n",
    "# Ambos tienen el mismo tamaño"
   ]
  },
  {
   "cell_type": "markdown",
   "id": "af5ecd98-b56d-47e2-a504-3d4907939830",
   "metadata": {},
   "source": [
    "### plt.hist()\n",
    "\n",
    "Se utiliza para crear histogramas. Estos gráficos son útiles para visualizar la distribución de datos numéricos, donde la altura de cada barra representa la frecuencia de aparición de un valor específico."
   ]
  },
  {
   "cell_type": "code",
   "execution_count": null,
   "id": "775214e8-f2a0-426f-8a11-c450038e5ea9",
   "metadata": {
    "tags": []
   },
   "outputs": [],
   "source": [
    "# plt.hist()\n",
    "\n",
    "# Para este ejemplo vamos a generar una lista de 1000 elementos aleatorios entre 0 y 10\n",
    "\n",
    "X = [random.randint(0, 10) for x in range(1_000)]\n",
    "\n",
    "plt.hist(X, bins = 11)\n",
    "plt.grid()\n",
    "plt.show()\n",
    "\n",
    "# plt.hist() cuenta cuantas veces se repite cada elemento.\n",
    "# La altura de cada barra depende de las veces que se repite. Mientras más se repite más alto.\n",
    "\n",
    "# Más adelante explicaremos el parámetro \"bins\"."
   ]
  },
  {
   "cell_type": "code",
   "execution_count": null,
   "id": "c0c24865-b75c-4816-b306-1a918e7e6620",
   "metadata": {
    "tags": []
   },
   "outputs": [],
   "source": [
    "# Podemos verificar la cantidad de cada elemento usando la función Counter\n",
    "\n",
    "from collections import Counter\n",
    "\n",
    "print(Counter(X))"
   ]
  },
  {
   "cell_type": "code",
   "execution_count": null,
   "id": "06f79d80-e7eb-456f-97ea-9ab17cb20362",
   "metadata": {
    "tags": []
   },
   "outputs": [],
   "source": [
    "##############################################################################################################################"
   ]
  }
 ],
 "metadata": {
  "kernelspec": {
   "display_name": "Python 3 (ipykernel)",
   "language": "python",
   "name": "python3"
  },
  "language_info": {
   "codemirror_mode": {
    "name": "ipython",
    "version": 3
   },
   "file_extension": ".py",
   "mimetype": "text/x-python",
   "name": "python",
   "nbconvert_exporter": "python",
   "pygments_lexer": "ipython3",
   "version": "3.11.5"
  }
 },
 "nbformat": 4,
 "nbformat_minor": 5
}
