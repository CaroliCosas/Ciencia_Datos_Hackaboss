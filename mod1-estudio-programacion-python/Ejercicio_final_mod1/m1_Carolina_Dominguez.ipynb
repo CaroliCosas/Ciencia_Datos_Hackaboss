from datetime import date

# Clase Address
class Address:
    def __init__(self, street, city, country):
        self.street = street
        self.city = city
        self.country = country

    def __str__(self):
        return f"{self.street}, {self.city}, {self.country}"

# Clase Usuario
class Usuario:
    def __init__(self, nombre, email, edad, altura, estudiante, cumple,  direccion=None):
        self.nombre = nombre
        self.email = email
        self.edad = edad
        self.altura = altura
        self.estudiante = estudiante
        self.cumple = cumple
        self.direccion = direccion

    def __str__(self):
        return (f"Nombre: {self.nombre}, Email: {self.email}, Edad: {self.edad}, Altura: {self.altura}m, "
                f"Estudiante: {'Sí' if self.estudiante else 'No'}, Cumpleaños: {self.cumple}, "
                f"Dirección: {self.direccion if self.direccion else 'Sin dirección'}")

# Lista inicial de usuarios
usuarios = [
    Usuario("Alice Johnson", "alice@example.com", 25, 1.65, True, date(1998, 3, 15), Address("123 Main St", "Springfield", "USA")),
    Usuario("Bob Smith", "bob@example.com", 30, 1.80, False, date(1993, 7, 22), Address("456 Elm St", "Shelbyville", "USA")),
    Usuario("Charlie Brown", "charlie@example.com", 28, 1.75, True, date(1995, 2, 10), Address("789 Maple St", "Ogdenville", "USA")),
    Usuario("Diana Prince", "diana@example.com", 27, 1.70, False, date(1996, 5, 25), Address("321 Oak St", "North Haverbrook", "USA")),
    Usuario("Eve Adams", "eve@example.com", 22, 1.60, True, date(2001, 12, 5), Address("654 Pine St", "Capital City", "USA"))
]

# Función para solicitar una fecha con validación
def solicitar_fecha():
    intentos = 4
    while intentos > 0:
        try:
            dia = int(input("Día de nacimiento (1-31): ").strip())
            mes = int(input("Mes de nacimiento (1-12): ").strip())
            año = int(input("Año de nacimiento (ej: 2000): ").strip())
            cumple = date(año, mes, dia)
            return cumple
        except ValueError:
            intentos -= 1
            print(f"Formato inválido o fecha incorrecta. Te quedan {intentos} intento(s).")
    print("Has excedido el número de intentos. Se asignará una fecha por defecto: 1 de enero de 2000.")
    return date(2000, 1, 1)

# Funciones de usuario
def imprimir_usuarios(lista):
    if lista:
        for usuario in lista:
            print(usuario)
    else:
        print("No hay usuarios en la lista.")

def imprimir_ordenados(ascendente=True):
    if usuarios:
        lista_ordenada = sorted(usuarios, key=lambda x: x.edad, reverse=not ascendente)
        imprimir_usuarios(lista_ordenada)
    else:
        print("No hay usuarios en la lista.")

def imprimir_usuario_por_email():
    email = input("Introduce el email del usuario: ").strip()
    for usuario in usuarios:
        if usuario.email == email:
            print(usuario)
            return
    print("Usuario no encontrado.")

def crear_usuario():
    try:
        nombre = input("Nombre: ").strip()
        email = input("Email: ").strip()
        edad = int(input("Edad: ").strip())
        altura = float(input("Altura (m): ").strip())
        estudiante = input("¿Es estudiante? (sí/no): ").strip().lower() == "sí"
        cumple = solicitar_fecha()
        direccion = None
        agregar_direccion = input("¿Quieres agregar una dirección? (sí/no): ").strip().lower()
        if agregar_direccion == "sí":
            street = input("Calle: ").strip()
            city = input("Ciudad: ").strip()
            country = input("País: ").strip()
            direccion = Address(street, city, country)
        nuevo_usuario = Usuario(nombre, email, edad, altura, estudiante, cumple, direccion)
        usuarios.append(nuevo_usuario)
        guardar_en_csv(nuevo_usuario)
        print("Usuario creado exitosamente.")
    except Exception as e:
        print(f"Error al crear el usuario: {e}")

def actualizar_usuario():
    email = input("Introduce el email del usuario que quieres actualizar: ").strip()
    for usuario in usuarios:
        if usuario.email == email:
            print("Introduce los nuevos datos del usuario (deja vacío para no cambiar):")
            usuario.nombre = input(f"Nombre [{usuario.nombre}]: ").strip() or usuario.nombre
            try:
                usuario.edad = int(input(f"Edad [{usuario.edad}]: ").strip() or usuario.edad)
                usuario.altura = float(input(f"Altura (m) [{usuario.altura}]: ").strip() or usuario.altura)
            except ValueError:
                print("Valores no válidos, se mantienen los anteriores.")
            usuario.estudiante = input(f"¿Es estudiante? (sí/no) [{usuario.estudiante}]: ").strip().lower() == "sí" or usuario.estudiante
            print("Usuario actualizado exitosamente.")
            return
    print("Usuario no encontrado.")

def borrar_usuario():
    email = input("Introduce el email del usuario que quieres borrar: ").strip()
    global usuarios
    usuarios = [usuario for usuario in usuarios if usuario.email != email]
    print(f"Usuario con email '{email}' eliminado.")

def borrar_todos():
    global usuarios
    usuarios = []
    print("Todos los usuarios han sido eliminados.")

# Guardar usuarios en CSV
def guardar_en_csv(usuario):
    with open("usuarios.csv", mode="a", newline="", encoding="utf-8") as archivo:
        writer = csv.writer(archivo)
        writer.writerow([usuario.nombre, usuario.email, usuario.edad, usuario.altura, usuario.estudiante, usuario.cumple, usuario.direccion])

# Mostrar menú
def mostrar_menu():
    print("\nMenú de opciones:")
    print("1. Imprimir todos los usuarios")
    print("2. Imprimir usuarios ordenados por edad")
    print("3. Imprimir un usuario por email")
    print("4. Crear un nuevo usuario")
    print("5. Actualizar un usuario")
    print("6. Borrar un usuario por email")
    print("7. Borrar todos los usuarios")
    print("8. Salir")

# Programa principal
while True:
    mostrar_menu()
    opcion = input("Selecciona una opción: ").strip()
    if opcion == "1":
        imprimir_usuarios(usuarios)
    elif opcion == "2":
        ascendente = input("¿Orden ascendente? (sí/no): ").strip().lower() == "sí"
        imprimir_ordenados(ascendente)
    elif opcion == "3":
        imprimir_usuario_por_email()
    elif opcion == "4":
        crear_usuario()
    elif opcion == "5":
        actualizar_usuario()
    elif opcion == "6":
        borrar_usuario()
    elif opcion == "7":
        borrar_todos()
    elif opcion == "8":
        print("Saliendo del programa. ¡Adiós!")
        break
    else:
        print("Opción no válida. Inténtalo de nuevo.")
