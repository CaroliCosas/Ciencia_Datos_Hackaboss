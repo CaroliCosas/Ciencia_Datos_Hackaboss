{
 "cells": [
  {
   "cell_type": "markdown",
   "id": "cc6f0931",
   "metadata": {},
   "source": [
    "## Ejecicios - Condicionales"
   ]
  },
  {
   "cell_type": "markdown",
   "id": "45bf39fc",
   "metadata": {},
   "source": [
    "### Ejercicio 1\n",
    "\n",
    "- Perdirle al usuario que ingrese un número mayor a 0\n",
    "- Luego que imprima por pantalla si el número es par o impar."
   ]
  },
  {
   "cell_type": "code",
   "execution_count": 3,
   "id": "ce78094c",
   "metadata": {},
   "outputs": [
    {
     "name": "stdout",
     "output_type": "stream",
     "text": [
      "4\n",
      "numero par\n"
     ]
    }
   ],
   "source": [
    "\n",
    "# Crear un bucle while True que pida el número hasta que esté bien (hace break y sales del bucle) y sea mayor que 0\n",
    "\n",
    "while True:\n",
    "    try:\n",
    "        numero = int(input(\"Ingrese un número mayor que 0\"))\n",
    "        if numero > 0 and numero < 50:\n",
    "            break\n",
    "    except ValueError:\n",
    "        pass # ignoramos el error no hacemos nada con él. Se podría utilizar un logger para imprimir un error formateado\n",
    "        \n",
    "    print(\"numero incorrecto\")\n",
    "\n",
    "   \n",
    "print(numero)\n",
    "if numero % 2 == 0:\n",
    "    print(\"numero par\")\n",
    "else:\n",
    "    print(\"numero impar\")\n",
    "\n",
    "# print(numero)\n",
    "# print(type(numero))\n",
    "# if numero > 0:\n",
    "#    print(\"El numero es mayor que cero, muy bien\")\n",
    "\n",
    "# Imprimir si el numero es par o impar con if else"
   ]
  },
  {
   "cell_type": "code",
   "execution_count": 6,
   "id": "6fe828f0",
   "metadata": {},
   "outputs": [
    {
     "name": "stdout",
     "output_type": "stream",
     "text": [
      "Entrada no válida. Por favor, ingrese un número entero.\n",
      "El número 9 es impar.\n"
     ]
    }
   ],
   "source": [
    "while True:\n",
    "    try:\n",
    "\n",
    "        numero = input(\"Ingrese un número mayor que 0: \")\n",
    "        \n",
    "        if not numero.strip():\n",
    "            \n",
    "            print(\"Entrada vacía. Por favor, ingrese un número válido.\")      \n",
    "          \n",
    "        numero = int(numero)\n",
    "        \n",
    "        if numero > 0:\n",
    "            break \n",
    "        else:\n",
    "            print(\"El número debe ser mayor que 0. Inténtalo de nuevo.\")\n",
    "            \n",
    "    except ValueError:\n",
    "        \n",
    "        print(\"Entrada no válida. Por favor, ingrese un número entero.\")\n",
    "\n",
    "if numero % 2 == 0:\n",
    "    print(f\"El número {numero} es par.\")\n",
    "else:\n",
    "    print(f\"El número {numero} es impar.\")"
   ]
  },
  {
   "cell_type": "code",
   "execution_count": null,
   "id": "4047176c",
   "metadata": {},
   "outputs": [],
   "source": []
  },
  {
   "cell_type": "code",
   "execution_count": null,
   "id": "b98b7cc7",
   "metadata": {},
   "outputs": [],
   "source": []
  },
  {
   "cell_type": "markdown",
   "id": "50f7c887",
   "metadata": {},
   "source": [
    "### Ejercicio 2\n",
    "- Pedirle al usuario que ingrese una palabra.\n",
    "- Contar el número de letras y decir si es una palabra larga (10 caracteres o más) o corta."
   ]
  },
  {
   "cell_type": "code",
   "execution_count": 19,
   "id": "dd695bac",
   "metadata": {},
   "outputs": [
    {
     "name": "stdout",
     "output_type": "stream",
     "text": [
      "junio\n",
      "5\n",
      "la palabra: junio es corta\n"
     ]
    }
   ],
   "source": [
    "palabra = input(\"escribe una palabra\")\n",
    "print(palabra)\n",
    "n_car = len(palabra)\n",
    "print(n_car)\n",
    "if n_car < 10 :\n",
    "    print(\"la palabra:\", palabra, \"es corta\")\n",
    "else:\n",
    "    print(\"la palabra:\", palabra, \"es larga\")"
   ]
  },
  {
   "cell_type": "code",
   "execution_count": 20,
   "id": "9fbdea13",
   "metadata": {},
   "outputs": [
    {
     "name": "stdout",
     "output_type": "stream",
     "text": [
      "La palabra: 'oh' es corta.\n"
     ]
    }
   ],
   "source": [
    "palabra = input(\"Escribe una palabra: \")\n",
    "\n",
    "# Imprimir el mensaje directamente basado en la longitud de la palabra\n",
    "if len(palabra) < 10:\n",
    "    print(f\"La palabra: '{palabra}' es corta.\")\n",
    "else:\n",
    "    print(f\"La palabra: '{palabra}' es larga.\")\n"
   ]
  },
  {
   "cell_type": "code",
   "execution_count": null,
   "id": "8f385606",
   "metadata": {},
   "outputs": [],
   "source": []
  },
  {
   "cell_type": "markdown",
   "id": "c3b58038",
   "metadata": {},
   "source": [
    "### Ejercicio 3\n",
    "- Pedirle al usuario que ingrese una palabra.\n",
    "- Contar cuantas vocales tiene e imprimir cuantas hay de cada una.\n",
    "- Luego imprimir por pantalla si tiene más vocales que consonantes."
   ]
  },
  {
   "cell_type": "code",
   "execution_count": 34,
   "id": "e31e702d",
   "metadata": {},
   "outputs": [
    {
     "name": "stdout",
     "output_type": "stream",
     "text": [
      "Hay un total de: 3 a, 0 e, 0 i, 1 o y 0 u\n",
      "En total hay 6 consonantes en la palabra.\n"
     ]
    }
   ],
   "source": [
    "palabra_2 = input(\"introduce una palabra\")\n",
    "vocales = [\"a\", \"e\", \"i\", \"o\", \"u\"]\n",
    "\n",
    "a = palabra_2.count(\"a\")\n",
    "e = palabra_2.count(\"e\")\n",
    "i = palabra_2.count(\"i\")\n",
    "o = palabra_2.count(\"o\")\n",
    "u = palabra_2.count(\"u\")\n",
    "print(f\"Hay un total de: {a} a, {e} e, {i} i, {o} o y {u} u\")\n",
    "  \n",
    "total_vocales = a + e + i + o + u\n",
    "total_letras = sum(1 for car in palabra_2 if car.isalpha())\n",
    "total_cons = total_letras - total_vocales\n",
    "print(f\"En total hay {total_cons} consonantes en la palabra.\")\n"
   ]
  },
  {
   "cell_type": "code",
   "execution_count": 32,
   "id": "21726bb9",
   "metadata": {},
   "outputs": [
    {
     "name": "stdout",
     "output_type": "stream",
     "text": [
      "hay un total de 0 letras a\n",
      "hay un total de 0 letras e\n",
      "hay un total de 0 letras i\n",
      "hay un total de 1 letras o\n",
      "hay un total de 0 letras u\n",
      "En total hay 1 vocales en la palabra.\n",
      "En total hay 1 consonantes en la palabra.\n"
     ]
    }
   ],
   "source": [
    "palabra_2 = input(\"introduce una palabra\")\n",
    "vocales = [\"a\", \"e\", \"i\", \"o\", \"u\"]\n",
    "\n",
    "for vocal in vocales:\n",
    "    voc = palabra_2.count(vocal)\n",
    "    print(f'hay un total de {voc} letras {vocal}')\n",
    "    total_vocales += voc\n",
    "\n",
    "total_letras = sum(1 for char in palabra_2 if char.isalpha())  # Todas las letras alfabéticas\n",
    "total_consonantes = total_letras - total_vocales\n",
    "     \n",
    "print(f\"En total hay {total_vocales} vocales en la palabra.\")\n",
    "print(f\"En total hay {total_consonantes} consonantes en la palabra.\")\n",
    "     "
   ]
  },
  {
   "cell_type": "code",
   "execution_count": null,
   "id": "0e3bb7e3",
   "metadata": {},
   "outputs": [],
   "source": []
  },
  {
   "cell_type": "markdown",
   "id": "c075c77b",
   "metadata": {},
   "source": [
    "### Ejercicio 4\n",
    "- Pedir al usuario que ingrese una frase.\n",
    "- Contar el número de palabras.\n",
    "- Si el número de palabras es impar imprimir \"El número de palabras es impar\" de lo contrario imprimir \"El número de palabras es par\"."
   ]
  },
  {
   "cell_type": "code",
   "execution_count": 36,
   "id": "67962e21",
   "metadata": {},
   "outputs": [
    {
     "name": "stdout",
     "output_type": "stream",
     "text": [
      "El número de palabras es 3, y es impar.\n"
     ]
    }
   ],
   "source": [
    "# Solicitar al usuario que ingrese una frase\n",
    "frase = input(\"Introduce una frase: \")\n",
    "\n",
    "# Contar el número de palabras\n",
    "numero_palabras = len(frase.split())\n",
    "\n",
    "# Verificar si el número de palabras es par o impar\n",
    "if numero_palabras % 2 == 0:\n",
    "    print(f\"El número de palabras es {numero_palabras}, y es par.\")\n",
    "else:\n",
    "    print(f\"El número de palabras es {numero_palabras}, y es impar.\")\n"
   ]
  },
  {
   "cell_type": "code",
   "execution_count": null,
   "id": "0cdfdbbd",
   "metadata": {},
   "outputs": [],
   "source": []
  },
  {
   "cell_type": "code",
   "execution_count": null,
   "id": "8c1baece",
   "metadata": {},
   "outputs": [],
   "source": []
  },
  {
   "cell_type": "code",
   "execution_count": null,
   "id": "38fb44c7",
   "metadata": {},
   "outputs": [],
   "source": [
    "##############################################################################################################################"
   ]
  }
 ],
 "metadata": {
  "kernelspec": {
   "display_name": "Python 3",
   "language": "python",
   "name": "python3"
  },
  "language_info": {
   "codemirror_mode": {
    "name": "ipython",
    "version": 3
   },
   "file_extension": ".py",
   "mimetype": "text/x-python",
   "name": "python",
   "nbconvert_exporter": "python",
   "pygments_lexer": "ipython3",
   "version": "3.12.2"
  }
 },
 "nbformat": 4,
 "nbformat_minor": 5
}
