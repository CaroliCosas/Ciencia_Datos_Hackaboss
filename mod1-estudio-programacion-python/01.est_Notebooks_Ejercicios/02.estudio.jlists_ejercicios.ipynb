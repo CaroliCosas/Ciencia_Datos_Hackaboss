{
 "cells": [
  {
   "cell_type": "markdown",
   "id": "689c1a0e",
   "metadata": {},
   "source": [
    "## Ejercicios - Lists"
   ]
  },
  {
   "cell_type": "code",
   "execution_count": 1,
   "id": "29b1adca",
   "metadata": {},
   "outputs": [],
   "source": [
    "lista = [\"a\", \"b\", \"c\", \"d\", \"e\", 1, 2, 3, 4, 5, False, True]"
   ]
  },
  {
   "cell_type": "markdown",
   "id": "3a92774b",
   "metadata": {},
   "source": [
    "### Ejercicio 1\n",
    "- En listas separadas obtener una lista para los caracteres, otra para los enteros y otra para lo booleanos, utilizando slicing.\n",
    "- Llámalas **lista_1**, **lista_2**, **lista_3** respectivamente."
   ]
  },
  {
   "cell_type": "code",
   "execution_count": 2,
   "id": "d8846c0d",
   "metadata": {},
   "outputs": [
    {
     "name": "stdout",
     "output_type": "stream",
     "text": [
      "['a', 'b', 'c', 'd', 'e', 1, 2, 3, 4, 5, False, True]\n",
      "Lista de caracteres: ['a', 'b', 'c', 'd', 'e']\n",
      "Lista de enteros: [1, 2, 3, 4, 5]\n",
      "Lista de booleanos: [False, True]\n"
     ]
    }
   ],
   "source": [
    "print(lista)\n",
    "\n",
    "# Utilizando slicing para separar los elementos\n",
    "lista_1 = lista[0:5]  # Caracteres: \"a\", \"b\", \"c\", \"d\", \"e\"\n",
    "lista_2 = lista[5:10]  # Enteros: 1, 2, 3, 4, 5\n",
    "lista_3 = lista[10:]  # Booleanos: False, True\n",
    "\n",
    "# Resultados\n",
    "print(\"Lista de caracteres:\", lista_1)\n",
    "print(\"Lista de enteros:\", lista_2)\n",
    "print(\"Lista de booleanos:\", lista_3)\n",
    "\n"
   ]
  },
  {
   "cell_type": "code",
   "execution_count": 3,
   "id": "b869534e",
   "metadata": {},
   "outputs": [
    {
     "name": "stdout",
     "output_type": "stream",
     "text": [
      "Lista de caracteres: ['a', 'b', 'c', 'd', 'e']\n",
      "Lista de enteros: [1, 2, 3, 4, 5]\n",
      "Lista de booleanos: [False, True]\n"
     ]
    }
   ],
   "source": [
    "# Lista original\n",
    "lista = [\"a\", \"b\", \"c\", \"d\", \"e\", 1, 2, 3, 4, 5, False, True]\n",
    "\n",
    "# Separar elementos según su tipo\n",
    "lista_1 = [x for x in lista if isinstance(x, str)]  # Caracteres\n",
    "lista_2 = [x for x in lista if isinstance(x, int) and not isinstance(x, bool)]  # Enteros (excluyendo booleanos)\n",
    "lista_3 = [x for x in lista if isinstance(x, bool)]  # Booleanos\n",
    "\n",
    "# Resultados\n",
    "print(\"Lista de caracteres:\", lista_1)\n",
    "print(\"Lista de enteros:\", lista_2)\n",
    "print(\"Lista de booleanos:\", lista_3)\n"
   ]
  },
  {
   "cell_type": "code",
   "execution_count": null,
   "id": "f633c099",
   "metadata": {},
   "outputs": [],
   "source": []
  },
  {
   "cell_type": "markdown",
   "id": "2c73b574",
   "metadata": {},
   "source": [
    "### Ejercicio 2\n",
    "- Insertar las vocales faltantes a la lista de caracteres."
   ]
  },
  {
   "cell_type": "code",
   "execution_count": 4,
   "id": "7ff75b01",
   "metadata": {},
   "outputs": [
    {
     "ename": "SyntaxError",
     "evalue": "invalid syntax (45648857.py, line 2)",
     "output_type": "error",
     "traceback": [
      "\u001b[1;36m  Cell \u001b[1;32mIn[4], line 2\u001b[1;36m\u001b[0m\n\u001b[1;33m    lista_1_voc =\u001b[0m\n\u001b[1;37m                  ^\u001b[0m\n\u001b[1;31mSyntaxError\u001b[0m\u001b[1;31m:\u001b[0m invalid syntax\n"
     ]
    }
   ],
   "source": [
    "print(lista_1)\n",
    "lista_1_voc = "
   ]
  },
  {
   "cell_type": "code",
   "execution_count": 10,
   "id": "d6903710",
   "metadata": {},
   "outputs": [
    {
     "name": "stdout",
     "output_type": "stream",
     "text": [
      "Lista de caracteres actualizada: ['a', 'b', 'c', 'd', 'e', 'i', 'o', 'u']\n"
     ]
    }
   ],
   "source": [
    "# Lista original\n",
    "lista = [\"a\", \"b\", \"c\", \"d\", \"e\", 1, 2, 3, 4, 5, False, True]\n",
    "\n",
    "# Separar elementos según su tipo\n",
    "lista_1 = [x for x in lista if isinstance(x, str)]  # Caracteres\n",
    "lista_2 = [x for x in lista if isinstance(x, int) and not isinstance(x, bool)]  # Enteros\n",
    "lista_3 = [x for x in lista if isinstance(x, bool)]  # Booleanos\n",
    "\n",
    "# Vocales en español\n",
    "vocales = {\"a\", \"e\", \"i\", \"o\", \"u\"}\n",
    "\n",
    "# Insertar vocales faltantes\n",
    "vocales_faltantes = vocales - set(lista_1)  # Vocales que no están en la lista\n",
    "lista_1.extend(vocales_faltantes)  # Añadir las vocales faltantes\n",
    "lista_1.sort()  # Ordenar la lista alfabéticamente para mejor presentación\n",
    "\n",
    "# Resultados\n",
    "print(\"Lista de caracteres actualizada:\", lista_1)\n",
    "\n"
   ]
  },
  {
   "cell_type": "code",
   "execution_count": 21,
   "id": "58d18658",
   "metadata": {},
   "outputs": [
    {
     "name": "stdout",
     "output_type": "stream",
     "text": [
      "Lista de caracteres actualizada: ['a', 'b', 'c', 'd', 'e', 'i', 'o', 'u']\n"
     ]
    }
   ],
   "source": [
    "# Lista original\n",
    "lista = [\"a\", \"b\", \"c\", \"d\", \"e\", 1, 2, 3, 4, 5, False, True]\n",
    "\n",
    "# Separar caracteres (elementos que son letras)\n",
    "lista_1 = [x for x in lista if type(x) == str and x.isalpha()]\n",
    "\n",
    "# Vocales en español\n",
    "vocales = [\"a\", \"e\", \"i\", \"o\", \"u\"]\n",
    "\n",
    "# Agregar vocales faltantes\n",
    "for vocal in vocales:\n",
    "    if vocal not in lista_1:\n",
    "        lista_1.append(vocal)\n",
    "\n",
    "# Ordenar la lista\n",
    "lista_1.sort()\n",
    "\n",
    "# Resultado\n",
    "print(\"Lista de caracteres actualizada:\", lista_1)\n"
   ]
  },
  {
   "cell_type": "markdown",
   "id": "01569a27",
   "metadata": {},
   "source": [
    "### Ejercicio 3\n",
    "- Eliminar los caracteres que no son vocales de la lista de caracteres."
   ]
  },
  {
   "cell_type": "code",
   "execution_count": 22,
   "id": "0b97f95e",
   "metadata": {},
   "outputs": [
    {
     "name": "stdout",
     "output_type": "stream",
     "text": [
      "['a', 'b', 'c', 'd', 'e', 'i', 'o', 'u']\n",
      "['a', 'e', 'i', 'o', 'u']\n"
     ]
    }
   ],
   "source": [
    "print(lista_1)\n",
    "# Vocales en español\n",
    "vocales = [\"a\", \"e\", \"i\", \"o\", \"u\"]\n",
    "\n",
    "# Eliminar los caracteres que no son vocales\n",
    "for letra in lista_1[:]:  # Usamos lista_1[:] para iterar sobre una copia de la lista\n",
    "    if letra not in vocales:\n",
    "        lista_1_sincon = lista_1.remove(letra)\n",
    "\n",
    "print(lista_1)"
   ]
  },
  {
   "cell_type": "code",
   "execution_count": null,
   "id": "8dde3078",
   "metadata": {},
   "outputs": [],
   "source": []
  },
  {
   "cell_type": "code",
   "execution_count": null,
   "id": "f8b25df7",
   "metadata": {},
   "outputs": [],
   "source": []
  },
  {
   "cell_type": "markdown",
   "id": "a1f846a6",
   "metadata": {},
   "source": [
    "### Ejercicio 4\n",
    "- De la lista inicial (**lista**) reemplazar los elementos boleanos por 0 y 1 respectivamente."
   ]
  },
  {
   "cell_type": "code",
   "execution_count": 13,
   "id": "ef405145",
   "metadata": {},
   "outputs": [
    {
     "name": "stdout",
     "output_type": "stream",
     "text": [
      "lista original ['a', 'b', 'c', 'd', 'e', 1, 2, 3, 4, 5, False, True]\n",
      "tipo de lista: <class 'list'>\n",
      "Booleanos [False, True]\n",
      "Tipo de booleanos: <class 'list'>\n",
      "lista modificada: ['a', 'b', 'c', 'd', 'e', 1, 2, 3, 4, 5, 0, 1]\n"
     ]
    }
   ],
   "source": [
    "# Lista inicial\n",
    "lista = [\"a\", \"b\", \"c\", \"d\", \"e\", 1, 2, 3, 4, 5, False, True]\n",
    "\n",
    "# Mostrar la lista original y su tipo\n",
    "print(\"lista original\", lista)\n",
    "print(\"tipo de lista:\", type(lista))\n",
    "\n",
    "# Mostrar los booleanos y su tipo\n",
    "booleans = [False, True]\n",
    "print(\"Booleanos\", booleans)\n",
    "print(\"Tipo de booleanos:\", type(booleans))\n",
    "      \n",
    "# Reemplazar True con 1 y False con 0\n",
    "for i, caracter in enumerate(lista):\n",
    "    if caracter in booleans and caracter is True:\n",
    "        lista[i]=1 #Reemplazar True con 1\n",
    "    if caracter in booleans and caracter is False:\n",
    "        lista[i]=0 #Reemplazar False con 0   \n",
    "\n",
    "# Mostrar la lista modificada\n",
    "print(\"lista modificada:\", lista)\n"
   ]
  },
  {
   "cell_type": "code",
   "execution_count": null,
   "id": "9fe4632b",
   "metadata": {},
   "outputs": [],
   "source": []
  },
  {
   "cell_type": "code",
   "execution_count": null,
   "id": "7ff0cd89",
   "metadata": {},
   "outputs": [],
   "source": []
  },
  {
   "cell_type": "markdown",
   "id": "0dc22d68",
   "metadata": {},
   "source": [
    "### Ejercicio 5\n",
    "- Aplicar el metodo **.reverse()** a la lista de números."
   ]
  },
  {
   "cell_type": "code",
   "execution_count": 28,
   "id": "e26f8c1a",
   "metadata": {},
   "outputs": [
    {
     "name": "stdout",
     "output_type": "stream",
     "text": [
      "[5, 4, 3, 2, 1]\n",
      "[1, 2, 3, 4, 5]\n"
     ]
    }
   ],
   "source": [
    "print(lista_2)\n",
    "lista_2_rev = lista_2.reverse()\n",
    "print(lista_2)"
   ]
  },
  {
   "cell_type": "code",
   "execution_count": 27,
   "id": "f0af2153-1c80-4f7e-93f9-b3a7fe0a6ce4",
   "metadata": {},
   "outputs": [
    {
     "name": "stdout",
     "output_type": "stream",
     "text": [
      "[5, 4, 3, 2, 1]\n",
      "[1, 2, 3, 4, 5]\n"
     ]
    }
   ],
   "source": [
    "print(lista_2)\n",
    "lista_2_rev = lista_2[::-1]\n",
    "print(lista_2_rev)"
   ]
  },
  {
   "cell_type": "code",
   "execution_count": null,
   "id": "4271add1",
   "metadata": {},
   "outputs": [],
   "source": []
  },
  {
   "cell_type": "markdown",
   "id": "a7fedc64",
   "metadata": {},
   "source": [
    "### Ejercicio 6\n",
    "- Aplicar el método **.sort()** a la lista de números."
   ]
  },
  {
   "cell_type": "code",
   "execution_count": 32,
   "id": "3a3f630e",
   "metadata": {},
   "outputs": [
    {
     "name": "stdout",
     "output_type": "stream",
     "text": [
      "[1, 2, 3, 4, 5]\n",
      "[1, 2, 3, 4, 5]\n"
     ]
    }
   ],
   "source": [
    "print(lista_2)\n",
    "lista_2.sort()\n",
    "print(lista_2)"
   ]
  },
  {
   "cell_type": "code",
   "execution_count": 33,
   "id": "ee4e49c9-a0f3-488c-a015-c5f7b88249e5",
   "metadata": {},
   "outputs": [
    {
     "name": "stdout",
     "output_type": "stream",
     "text": [
      "[1, 2, 3, 4, 5]\n",
      "[5, 4, 3, 2, 1]\n"
     ]
    }
   ],
   "source": [
    "print(lista_2)\n",
    "lista_2.sort(reverse=True)\n",
    "print(lista_2)"
   ]
  },
  {
   "cell_type": "code",
   "execution_count": null,
   "id": "10440560",
   "metadata": {},
   "outputs": [],
   "source": []
  },
  {
   "cell_type": "markdown",
   "id": "6fca8361",
   "metadata": {},
   "source": [
    "### Ejercicio 7\n",
    "- Une las 3 listas para formar la lista inicial otra vez."
   ]
  },
  {
   "cell_type": "code",
   "execution_count": 36,
   "id": "12b94ea1",
   "metadata": {},
   "outputs": [
    {
     "name": "stdout",
     "output_type": "stream",
     "text": [
      "['a', 'b', 'c', 'd', 'e'] [5, 4, 3, 2, 1] [False, True]\n",
      "['a', 'b', 'c', 'd', 'e', 5, 4, 3, 2, 1, False, True]\n"
     ]
    }
   ],
   "source": [
    "print(lista_1, lista_2, lista_3)\n",
    "lista = lista_1 + lista_2 + lista_3\n",
    "print(lista)"
   ]
  },
  {
   "cell_type": "code",
   "execution_count": null,
   "id": "eb64e86c",
   "metadata": {},
   "outputs": [],
   "source": []
  },
  {
   "cell_type": "code",
   "execution_count": null,
   "id": "2a29eab4",
   "metadata": {},
   "outputs": [],
   "source": []
  },
  {
   "cell_type": "markdown",
   "id": "105efdd9",
   "metadata": {},
   "source": [
    "### Ejercicio 8\n",
    "- Dada la siguiente lista de empresas:\n",
    "    1. Ordenar cada lista dentro de la lista de empresas en orden alfabetico.\n",
    "    2. Obtener las empresas: Audi, Avianca y KLM, mediante sus índices y crear una nueva lista con esos elementos."
   ]
  },
  {
   "cell_type": "code",
   "execution_count": 42,
   "id": "0e81c6cb",
   "metadata": {},
   "outputs": [
    {
     "data": {
      "text/plain": [
       "[['Cocacola', 'Pepsi'],\n",
       " ['Meta', 'TW', 'IG'],\n",
       " ['Ferrari', 'Audi', 'Ford', 'Nissan'],\n",
       " ['KLM', 'AA', 'Iberia', 'AE', 'Avianca']]"
      ]
     },
     "execution_count": 42,
     "metadata": {},
     "output_type": "execute_result"
    }
   ],
   "source": [
    "empresas = [[\"Cocacola\", \"Pepsi\"],\n",
    "            [\"Meta\", \"TW\", \"IG\"],\n",
    "            [\"Ferrari\", \"Audi\", \"Ford\", \"Nissan\"],\n",
    "            [\"KLM\", \"AA\", \"Iberia\", \"AE\", \"Avianca\"]]\n",
    "\n",
    "empresas"
   ]
  },
  {
   "cell_type": "code",
   "execution_count": 43,
   "id": "4963bdb3",
   "metadata": {},
   "outputs": [
    {
     "name": "stdout",
     "output_type": "stream",
     "text": [
      "[['Cocacola', 'Pepsi'], ['IG', 'Meta', 'TW'], ['Audi', 'Ferrari', 'Ford', 'Nissan'], ['AA', 'AE', 'Avianca', 'Iberia', 'KLM']]\n"
     ]
    }
   ],
   "source": [
    "for grupo in empresas:\n",
    "        grupo.sort()\n",
    "print(empresas)"
   ]
  },
  {
   "cell_type": "code",
   "execution_count": 50,
   "id": "b302220e",
   "metadata": {},
   "outputs": [
    {
     "name": "stdout",
     "output_type": "stream",
     "text": [
      "['audi', 'avianca', 'klm']\n"
     ]
    }
   ],
   "source": [
    "empresas = [[\"Cocacola\", \"Pepsi\"],\n",
    "            [\"Meta\", \"TW\", \"IG\"],\n",
    "            [\"Ferrari\", \"Audi\", \"Ford\", \"Nissan\"],\n",
    "            [\"KLM\", \"AA\", \"Iberia\", \"AE\", \"Avianca\"]]\n",
    "\n",
    "empresas\n",
    "\n",
    "indice_audi = (2, 1)    # Sublista en índice 2, posición 1\n",
    "indice_avianca = (3, 4) # Sublista en índice 3, posición 4\n",
    "indice_klm = (3, 0)     # Sublista en índice 3, posición 0\n",
    "\n",
    "nueva_lista = [\"audi\", \"avianca\", \"klm\"]\n",
    "print(nueva_lista)\n",
    "\n"
   ]
  },
  {
   "cell_type": "code",
   "execution_count": 52,
   "id": "ac525f89",
   "metadata": {},
   "outputs": [
    {
     "name": "stdout",
     "output_type": "stream",
     "text": [
      "Índices encontrados:\n",
      "Audi: (2, 1)\n",
      "Avianca: (3, 4)\n",
      "KLM: (3, 0)\n"
     ]
    }
   ],
   "source": [
    "empresas = [[\"Cocacola\", \"Pepsi\"],\n",
    "            [\"Meta\", \"TW\", \"IG\"],\n",
    "            [\"Ferrari\", \"Audi\", \"Ford\", \"Nissan\"],\n",
    "            [\"KLM\", \"AA\", \"Iberia\", \"AE\", \"Avianca\"]]\n",
    "\n",
    "empresas\n",
    "\n",
    "# Empresas que queremos buscar\n",
    "empresas_a_buscar = [\"Audi\", \"Avianca\", \"KLM\"]\n",
    "\n",
    "# Función para encontrar índices\n",
    "def encontrar_indices(lista_anidada, palabras):\n",
    "    indices = {}\n",
    "    for palabra in palabras:\n",
    "        for i, sublista in enumerate(lista_anidada):  # Recorrer sublistas con su índice\n",
    "            if palabra in sublista:  # Si la palabra está en la sublista\n",
    "                indices[palabra] = (i, sublista.index(palabra))  # Guardar índices\n",
    "    return indices\n",
    "\n",
    "# Buscar índices de las palabras\n",
    "resultados = encontrar_indices(empresas, empresas_a_buscar)\n",
    "\n",
    "# Mostrar resultados\n",
    "print(\"Índices encontrados:\")\n",
    "for palabra, indice in resultados.items():\n",
    "    print(f\"{palabra}: {indice}\")"
   ]
  },
  {
   "cell_type": "code",
   "execution_count": 38,
   "id": "9f9a41fa",
   "metadata": {},
   "outputs": [
    {
     "name": "stdout",
     "output_type": "stream",
     "text": [
      "Lista completa de empresas:\n",
      "[['Cocacola', 'Pepsi'], ['Meta', 'TW', 'IG'], ['Ferrari', 'Audi', 'Ford', 'Nissan'], ['KLM', 'AA', 'Iberia', 'AE', 'Avianca']]\n",
      "Empresas automotrices: ['Ferrari', 'Audi', 'Ford', 'Nissan']\n",
      "Empresa seleccionada: Ford\n",
      "Todas las empresas: ['Cocacola', 'Pepsi', 'Meta', 'TW', 'IG', 'Ferrari', 'Audi', 'Ford', 'Nissan', 'KLM', 'AA', 'Iberia', 'AE', 'Avianca']\n",
      "Empresas ordenadas alfabéticamente: ['AA', 'AE', 'Audi', 'Avianca', 'Cocacola', 'Ferrari', 'Ford', 'IG', 'Iberia', 'KLM', 'Meta', 'Nissan', 'Pepsi', 'TW']\n",
      "Lista actualizada de empresas automotrices: ['Ferrari', 'Audi', 'Ford', 'Nissan', 'Toyota', 'BMW']\n",
      "Lista actualizada de grupos de empresas: [['Cocacola', 'Pepsi'], ['Meta', 'TW', 'IG'], ['Ferrari', 'Audi', 'Ford', 'Nissan', 'Toyota', 'BMW'], ['KLM', 'AA', 'Iberia', 'AE', 'Avianca'], ['Google', 'Microsoft', 'Apple']]\n",
      "Lista actualizada: [['Cocacola'], ['Meta', 'TW', 'IG'], ['Ferrari', 'Audi', 'Ford', 'Nissan', 'Toyota', 'BMW'], ['KLM', 'AA', 'Iberia', 'AE', 'Avianca'], ['Google', 'Microsoft', 'Apple']]\n"
     ]
    }
   ],
   "source": [
    "# Tienes una lista de listas llamada `empresas`, donde cada sublista contiene nombres de empresas agrupadas. Aquí tienes algunos ejemplos de lo que puedes hacer con esta estructura y cómo manipularla:\n",
    "\n",
    "### **Imprimir la lista completa:**\n",
    "print(\"Lista completa de empresas:\")\n",
    "print(empresas)\n",
    "\n",
    "### **Acceder a un grupo de empresas (sublistas):**\n",
    "# para acceder a las empresas automotrices:\n",
    "autos = empresas[2]\n",
    "print(\"Empresas automotrices:\", autos)\n",
    "\n",
    "### **Acceder a una empresa específica:**\n",
    "# acceder a \"Ford\":\n",
    "ford = empresas[2][2]\n",
    "print(\"Empresa seleccionada:\", ford)\n",
    "\n",
    "### **Aplanar la lista para obtener todas las empresas en una sola lista:**\n",
    "# lista con todas las empresas juntas\n",
    "todas_las_empresas = [empresa for grupo in empresas for empresa in grupo]\n",
    "print(\"Todas las empresas:\", todas_las_empresas)\n",
    "\n",
    "### **Ordenar todas las empresas alfabéticamente:**\n",
    "# listado ordenado:\n",
    "todas_las_empresas = [empresa for grupo in empresas for empresa in grupo]\n",
    "todas_las_empresas.sort()\n",
    "print(\"Empresas ordenadas alfabéticamente:\", todas_las_empresas)\n",
    "\n",
    "### **Agregar más empresas a un grupo:**\n",
    "# añadir \"Toyota\" y \"BMW\" al grupo de automotrices:\n",
    "empresas[2].extend([\"Toyota\", \"BMW\"])\n",
    "print(\"Lista actualizada de empresas automotrices:\", empresas[2])\n",
    "\n",
    "### **Agregar un nuevo grupo de empresas:**\n",
    "# añadir un grupo de empresas de tecnología:\n",
    "empresas.append([\"Google\", \"Microsoft\", \"Apple\"])\n",
    "print(\"Lista actualizada de grupos de empresas:\", empresas)\n",
    "\n",
    "### **Eliminar una empresa o grupo:**\n",
    "# Eliminar \"Pepsi\" del primer grupo:\n",
    "empresas[0].remove(\"Pepsi\")\n",
    "print(\"Lista actualizada:\", empresas)\n"
   ]
  },
  {
   "cell_type": "code",
   "execution_count": null,
   "id": "89812952",
   "metadata": {},
   "outputs": [],
   "source": [
    "##############################################################################################################################"
   ]
  }
 ],
 "metadata": {
  "kernelspec": {
   "display_name": "Python 3",
   "language": "python",
   "name": "python3"
  },
  "language_info": {
   "codemirror_mode": {
    "name": "ipython",
    "version": 3
   },
   "file_extension": ".py",
   "mimetype": "text/x-python",
   "name": "python",
   "nbconvert_exporter": "python",
   "pygments_lexer": "ipython3",
   "version": "3.12.2"
  }
 },
 "nbformat": 4,
 "nbformat_minor": 5
}
