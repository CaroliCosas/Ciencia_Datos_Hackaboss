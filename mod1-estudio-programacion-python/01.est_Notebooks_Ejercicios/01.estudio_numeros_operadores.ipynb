{
 "cells": [
  {
   "cell_type": "markdown",
   "metadata": {},
   "source": [
    "# SINTAXIS PYTHON\n",
    "\n",
    "* tipos de datos\n",
    "* variable\n",
    "* operadores\n",
    "\n"
   ]
  },
  {
   "cell_type": "code",
   "execution_count": 1,
   "metadata": {},
   "outputs": [
    {
     "name": "stdout",
     "output_type": "stream",
     "text": [
      "15\n"
     ]
    }
   ],
   "source": [
    "numero = 15\n",
    "print(numero)"
   ]
  },
  {
   "cell_type": "markdown",
   "metadata": {},
   "source": [
    "hola paquito"
   ]
  },
  {
   "cell_type": "code",
   "execution_count": 2,
   "metadata": {},
   "outputs": [
    {
     "data": {
      "text/plain": [
       "20"
      ]
     },
     "execution_count": 2,
     "metadata": {},
     "output_type": "execute_result"
    }
   ],
   "source": [
    "edad = 20\n",
    "salary = 1900.43\n",
    "edad"
   ]
  },
  {
   "cell_type": "code",
   "execution_count": 3,
   "metadata": {},
   "outputs": [
    {
     "data": {
      "text/plain": [
       "(1+1j)"
      ]
     },
     "execution_count": 3,
     "metadata": {},
     "output_type": "execute_result"
    }
   ],
   "source": [
    "complex(1, 1)"
   ]
  },
  {
   "cell_type": "code",
   "execution_count": 4,
   "metadata": {},
   "outputs": [
    {
     "data": {
      "text/plain": [
       "int"
      ]
     },
     "execution_count": 4,
     "metadata": {},
     "output_type": "execute_result"
    }
   ],
   "source": [
    "type(edad)\n"
   ]
  },
  {
   "cell_type": "code",
   "execution_count": 5,
   "metadata": {},
   "outputs": [
    {
     "data": {
      "text/plain": [
       "float"
      ]
     },
     "execution_count": 5,
     "metadata": {},
     "output_type": "execute_result"
    }
   ],
   "source": [
    "type(salary)"
   ]
  },
  {
   "cell_type": "code",
   "execution_count": 6,
   "metadata": {
    "vscode": {
     "languageId": "html"
    }
   },
   "outputs": [],
   "source": [
    "##operadores aritméticos\n"
   ]
  },
  {
   "cell_type": "code",
   "execution_count": 7,
   "metadata": {},
   "outputs": [
    {
     "data": {
      "text/plain": [
       "1601.34"
      ]
     },
     "execution_count": 7,
     "metadata": {},
     "output_type": "execute_result"
    }
   ],
   "source": [
    "salary = 1500.0\n",
    "bonus = 101.34\n",
    "\n",
    "final_salary = salary + bonus\n",
    "final_salary"
   ]
  },
  {
   "cell_type": "code",
   "execution_count": 8,
   "metadata": {},
   "outputs": [],
   "source": [
    "salary_without_bonus = salary - bonus"
   ]
  },
  {
   "cell_type": "code",
   "execution_count": 9,
   "metadata": {},
   "outputs": [
    {
     "data": {
      "text/plain": [
       "1398.66"
      ]
     },
     "execution_count": 9,
     "metadata": {},
     "output_type": "execute_result"
    }
   ],
   "source": [
    "salary_without_bonus"
   ]
  },
  {
   "cell_type": "code",
   "execution_count": 10,
   "metadata": {},
   "outputs": [
    {
     "data": {
      "text/plain": [
       "2"
      ]
     },
     "execution_count": 10,
     "metadata": {},
     "output_type": "execute_result"
    }
   ],
   "source": [
    "# Operacion modulo o resto, permite saber si un numero es par o impar\n",
    "5 % 3\n"
   ]
  },
  {
   "cell_type": "code",
   "execution_count": 11,
   "metadata": {},
   "outputs": [
    {
     "data": {
      "text/plain": [
       "1"
      ]
     },
     "execution_count": 11,
     "metadata": {},
     "output_type": "execute_result"
    }
   ],
   "source": [
    "'''\n",
    "Esto es un comentario de varias líneas\n",
    "Operación módulo\n",
    "'''\n",
    "5 % 2\n"
   ]
  },
  {
   "cell_type": "code",
   "execution_count": 12,
   "metadata": {},
   "outputs": [
    {
     "data": {
      "text/plain": [
       "20.24"
      ]
     },
     "execution_count": 12,
     "metadata": {},
     "output_type": "execute_result"
    }
   ],
   "source": [
    "'''\n",
    "Division enterea\n",
    "'''\n",
    "\n",
    "2024 / 100\n"
   ]
  },
  {
   "cell_type": "code",
   "execution_count": 13,
   "metadata": {},
   "outputs": [
    {
     "data": {
      "text/plain": [
       "80.88"
      ]
     },
     "execution_count": 13,
     "metadata": {},
     "output_type": "execute_result"
    }
   ],
   "source": [
    "product1_price = 36.33\n",
    "product2_price = 44.55\n",
    "final_price = product1_price + product2_price\n",
    "final_price"
   ]
  },
  {
   "cell_type": "code",
   "execution_count": 14,
   "metadata": {},
   "outputs": [],
   "source": [
    "verdadero = True\n",
    "falso = False"
   ]
  },
  {
   "cell_type": "code",
   "execution_count": 15,
   "metadata": {},
   "outputs": [
    {
     "data": {
      "text/plain": [
       "bool"
      ]
     },
     "execution_count": 15,
     "metadata": {},
     "output_type": "execute_result"
    }
   ],
   "source": [
    "type(verdadero)\n"
   ]
  },
  {
   "cell_type": "code",
   "execution_count": 16,
   "metadata": {},
   "outputs": [
    {
     "data": {
      "text/plain": [
       "False"
      ]
     },
     "execution_count": 16,
     "metadata": {},
     "output_type": "execute_result"
    }
   ],
   "source": [
    "dato = bool(0)\n",
    "dato"
   ]
  },
  {
   "cell_type": "code",
   "execution_count": 17,
   "metadata": {},
   "outputs": [
    {
     "ename": "SyntaxError",
     "evalue": "expected ':' (3167567134.py, line 3)",
     "output_type": "error",
     "traceback": [
      "\u001b[1;36m  Cell \u001b[1;32mIn[17], line 3\u001b[1;36m\u001b[0m\n\u001b[1;33m    if edad >= 18\u001b[0m\n\u001b[1;37m                  ^\u001b[0m\n\u001b[1;31mSyntaxError\u001b[0m\u001b[1;31m:\u001b[0m expected ':'\n"
     ]
    }
   ],
   "source": [
    "edad = 15\n",
    "\n",
    "if edad >= 18 \n",
    "\n",
    "else\n",
    "\n"
   ]
  },
  {
   "cell_type": "markdown",
   "metadata": {},
   "source": [
    "### Operador And\n"
   ]
  },
  {
   "cell_type": "code",
   "execution_count": null,
   "metadata": {},
   "outputs": [
    {
     "name": "stdout",
     "output_type": "stream",
     "text": [
      "False\n",
      "False\n"
     ]
    }
   ],
   "source": [
    "edad = 17\n",
    "has_access = edad >= 18 and edad <=22\n",
    "print(has_access)\n",
    "\n",
    "salary = 3400\n",
    "has_discount = salary >= 1200 and salary <= 2300 \n",
    "print(has_discount)\n"
   ]
  },
  {
   "cell_type": "code",
   "execution_count": null,
   "metadata": {},
   "outputs": [
    {
     "data": {
      "text/plain": [
       "True"
      ]
     },
     "execution_count": 31,
     "metadata": {},
     "output_type": "execute_result"
    }
   ],
   "source": [
    "# or: es mas flexible, con que una de las opciones sea verdadero ya será verdadero todo el resultado\n",
    "edad = 17 \n",
    "has_tutor = True\n",
    "has_discount = True\n",
    "\n",
    "has_access = edad >= 18 or has_tutor or has_discount\n",
    "has_access"
   ]
  },
  {
   "cell_type": "code",
   "execution_count": null,
   "metadata": {},
   "outputs": [],
   "source": []
  },
  {
   "cell_type": "code",
   "execution_count": null,
   "metadata": {},
   "outputs": [
    {
     "data": {
      "text/plain": [
       "True"
      ]
     },
     "execution_count": 33,
     "metadata": {},
     "output_type": "execute_result"
    }
   ],
   "source": [
    "# or: es mas flexible, con que una de las opciones sea verdadero ya será verdadero todo el resultado\n",
    "edad = 17 \n",
    "has_tutor = True\n",
    "has_discount = True\n",
    "\n",
    "# has_access = (edad >= 18) | has_tutor | has_discount #cuidado, necesita parentesis para funcionar bien\n",
    "# has_access = (edad >= 18) | has_tutor | has_discount\n",
    "has_access = edad >= 18 or has_tutor or has_discount\n",
    "has_access"
   ]
  },
  {
   "cell_type": "markdown",
   "metadata": {},
   "source": [
    "### Operador not"
   ]
  },
  {
   "cell_type": "code",
   "execution_count": null,
   "metadata": {},
   "outputs": [
    {
     "data": {
      "text/plain": [
       "False"
      ]
     },
     "execution_count": 34,
     "metadata": {},
     "output_type": "execute_result"
    }
   ],
   "source": [
    "not has_access"
   ]
  },
  {
   "cell_type": "markdown",
   "metadata": {},
   "source": [
    "## Strings"
   ]
  },
  {
   "cell_type": "code",
   "execution_count": null,
   "metadata": {},
   "outputs": [
    {
     "data": {
      "text/plain": [
       "'Hola MundoEstamos usando Python'"
      ]
     },
     "metadata": {},
     "output_type": "display_data"
    }
   ],
   "source": [
    "# Suma (concatenación de strings)\n",
    "\n",
    "\"Hola Mundo\" + \"Estamos usando Python\"\n",
    "# podemos añadir un espacio enmedio +\" \"+"
   ]
  },
  {
   "cell_type": "code",
   "execution_count": 1,
   "metadata": {},
   "outputs": [
    {
     "data": {
      "text/plain": [
       "'Hola Mundo, esto es una cadena en PYTHON!'"
      ]
     },
     "execution_count": 1,
     "metadata": {},
     "output_type": "execute_result"
    }
   ],
   "source": [
    "string = \"Hola Mundo, esto es una cadena en PYTHON!\"\n",
    "\n",
    "string"
   ]
  },
  {
   "cell_type": "code",
   "execution_count": null,
   "metadata": {},
   "outputs": [
    {
     "data": {
      "text/plain": [
       "'hola mundo, esto es una cadena en python!'"
      ]
     },
     "execution_count": 39,
     "metadata": {},
     "output_type": "execute_result"
    }
   ],
   "source": [
    "string.lower()"
   ]
  },
  {
   "cell_type": "code",
   "execution_count": null,
   "metadata": {},
   "outputs": [
    {
     "data": {
      "text/plain": [
       "'Hola mundo, esto es una cadena en python!'"
      ]
     },
     "execution_count": 41,
     "metadata": {},
     "output_type": "execute_result"
    }
   ],
   "source": [
    "string.capitalize()\n"
   ]
  },
  {
   "cell_type": "code",
   "execution_count": null,
   "metadata": {},
   "outputs": [
    {
     "data": {
      "text/plain": [
       "'Hola Mundo, Esto Es Una Cadena En Python!'"
      ]
     },
     "execution_count": 45,
     "metadata": {},
     "output_type": "execute_result"
    }
   ],
   "source": [
    "string.title()\n"
   ]
  },
  {
   "cell_type": "code",
   "execution_count": null,
   "metadata": {},
   "outputs": [
    {
     "data": {
      "text/plain": [
       "'HOLA MUNDO, ESTO ES UNA CADENA EN PYTHON!'"
      ]
     },
     "execution_count": 46,
     "metadata": {},
     "output_type": "execute_result"
    }
   ],
   "source": [
    "string.upper()\n"
   ]
  },
  {
   "cell_type": "code",
   "execution_count": null,
   "metadata": {},
   "outputs": [
    {
     "data": {
      "text/plain": [
       "'Hola Mundo, esto es una cadena en PYTHON!'"
      ]
     },
     "metadata": {},
     "output_type": "display_data"
    }
   ],
   "source": [
    "string"
   ]
  },
  {
   "cell_type": "code",
   "execution_count": null,
   "metadata": {},
   "outputs": [
    {
     "data": {
      "text/plain": [
       "'hOLA mUNDO, ESTO ES UNA CADENA EN python!'"
      ]
     },
     "metadata": {},
     "output_type": "display_data"
    }
   ],
   "source": [
    "string.swapcase()"
   ]
  },
  {
   "cell_type": "code",
   "execution_count": null,
   "metadata": {},
   "outputs": [
    {
     "data": {
      "text/plain": [
       "'Hola planeta, esto es una cadena en PYTHON!'"
      ]
     },
     "metadata": {},
     "output_type": "display_data"
    }
   ],
   "source": [
    "string.replace(\"Mundo\", \"planeta\")\n",
    "# No modifica el string original"
   ]
  },
  {
   "cell_type": "code",
   "execution_count": null,
   "metadata": {},
   "outputs": [
    {
     "data": {
      "text/plain": [
       "'Hola Mundo, esto es una cadena en PYTHON!'"
      ]
     },
     "metadata": {},
     "output_type": "display_data"
    }
   ],
   "source": [
    "# La variable string sigue siendo la misma, no se ha modificado\n",
    "\n",
    "string"
   ]
  },
  {
   "cell_type": "code",
   "execution_count": null,
   "metadata": {},
   "outputs": [
    {
     "data": {
      "text/plain": [
       "34"
      ]
     },
     "metadata": {},
     "output_type": "display_data"
    }
   ],
   "source": [
    "string.find(\"PYTHON\")"
   ]
  },
  {
   "cell_type": "code",
   "execution_count": 2,
   "metadata": {},
   "outputs": [
    {
     "data": {
      "text/plain": [
       "34"
      ]
     },
     "execution_count": 2,
     "metadata": {},
     "output_type": "execute_result"
    }
   ],
   "source": [
    "string.index(\"PYTHON\")"
   ]
  },
  {
   "cell_type": "code",
   "execution_count": 3,
   "metadata": {},
   "outputs": [
    {
     "data": {
      "text/plain": [
       "5"
      ]
     },
     "execution_count": 3,
     "metadata": {},
     "output_type": "execute_result"
    }
   ],
   "source": [
    "string.find(\"Mundo\")"
   ]
  },
  {
   "cell_type": "markdown",
   "metadata": {},
   "source": [
    "la diferencia entre index y find es: find devuelve un valor centinela, y si devuelve -1 para saber que no nos da lo que buscabamos\n"
   ]
  },
  {
   "cell_type": "code",
   "execution_count": 4,
   "metadata": {},
   "outputs": [
    {
     "ename": "ValueError",
     "evalue": "substring not found",
     "output_type": "error",
     "traceback": [
      "\u001b[1;31m---------------------------------------------------------------------------\u001b[0m",
      "\u001b[1;31mValueError\u001b[0m                                Traceback (most recent call last)",
      "Cell \u001b[1;32mIn[4], line 1\u001b[0m\n\u001b[1;32m----> 1\u001b[0m \u001b[43mstring\u001b[49m\u001b[38;5;241;43m.\u001b[39;49m\u001b[43mindex\u001b[49m\u001b[43m(\u001b[49m\u001b[38;5;124;43m\"\u001b[39;49m\u001b[38;5;124;43mplaneta\u001b[39;49m\u001b[38;5;124;43m\"\u001b[39;49m\u001b[43m)\u001b[49m\n",
      "\u001b[1;31mValueError\u001b[0m: substring not found"
     ]
    }
   ],
   "source": [
    "string.index(\"planeta\")"
   ]
  },
  {
   "cell_type": "markdown",
   "metadata": {},
   "source": [
    "pycharm muestra texto extra en la descripcion de count"
   ]
  },
  {
   "cell_type": "code",
   "execution_count": 5,
   "metadata": {},
   "outputs": [
    {
     "data": {
      "text/plain": [
       "4"
      ]
     },
     "execution_count": 5,
     "metadata": {},
     "output_type": "execute_result"
    }
   ],
   "source": [
    "string.count(\"a\")"
   ]
  },
  {
   "cell_type": "code",
   "execution_count": 6,
   "metadata": {},
   "outputs": [
    {
     "data": {
      "text/plain": [
       "0"
      ]
     },
     "execution_count": 6,
     "metadata": {},
     "output_type": "execute_result"
    }
   ],
   "source": [
    "string.count(\"A\")"
   ]
  },
  {
   "cell_type": "code",
   "execution_count": 7,
   "metadata": {},
   "outputs": [
    {
     "data": {
      "text/plain": [
       "'Hola Mundo, esto es una cadena en PYTHON!'"
      ]
     },
     "execution_count": 7,
     "metadata": {},
     "output_type": "execute_result"
    }
   ],
   "source": [
    "string"
   ]
  },
  {
   "cell_type": "code",
   "execution_count": 8,
   "metadata": {},
   "outputs": [
    {
     "data": {
      "text/plain": [
       "['Hola', 'Mundo,', 'esto', 'es', 'una', 'cadena', 'en', 'PYTHON!']"
      ]
     },
     "execution_count": 8,
     "metadata": {},
     "output_type": "execute_result"
    }
   ],
   "source": [
    "string.split()"
   ]
  },
  {
   "cell_type": "code",
   "execution_count": 13,
   "metadata": {},
   "outputs": [
    {
     "data": {
      "text/plain": [
       "2"
      ]
     },
     "execution_count": 13,
     "metadata": {},
     "output_type": "execute_result"
    }
   ],
   "source": [
    "alumnos = \"\"\"\n",
    "Alan\n",
    "Noelia\n",
    "Carlos\n",
    "Jose Ignacio\n",
    "Emilio\n",
    "noelia\n",
    "\"\"\"\n",
    "\n",
    "persona = \"Noelia\"\n",
    "alumnos.lower().count(persona.lower())"
   ]
  },
  {
   "cell_type": "code",
   "execution_count": null,
   "metadata": {},
   "outputs": [],
   "source": [
    "string.split()\n"
   ]
  },
  {
   "cell_type": "markdown",
   "metadata": {},
   "source": [
    "split puede hacer que te separe un vector en distintos strings, separados"
   ]
  },
  {
   "cell_type": "code",
   "execution_count": 17,
   "metadata": {},
   "outputs": [
    {
     "name": "stdout",
     "output_type": "stream",
     "text": [
      "carlos\n",
      " luis\n",
      " noelia\n",
      " carolina\n"
     ]
    }
   ],
   "source": [
    "nombres = \"carlos, luis, noelia, carolina\"\n",
    "lista_nombres = nombres.split(\",\")\n",
    "print(lista_nombres[0])\n",
    "print(lista_nombres[1])\n",
    "print(lista_nombres[2])\n",
    "print(lista_nombres[3])"
   ]
  },
  {
   "cell_type": "markdown",
   "metadata": {},
   "source": [
    "hemos visto los procesos:\n",
    "count()\n",
    "index()\n",
    "swapcase()\n",
    "upper()\n",
    "lower()\n",
    "replace()\n",
    "find()\n",
    "split()"
   ]
  },
  {
   "cell_type": "markdown",
   "metadata": {},
   "source": [
    "### Indexing & Slicing\n",
    "\n",
    "- **Indexing:** Es la forma de \"acceder\" o \"entrar\" a un solo elemento de un **objeto iterable** (strings, lists, dict...) lo que sea que queramos iterar.\n",
    "    - Se utilizan los corchetes `[ ]` para hacer indexing.      \n",
    "    \n",
    "\n",
    "- **Slicing:** Es la forma de \"acceder\" o \"entrar\" a varios elementos de un **objeto iterable** (string, lists, dict...).\n",
    "    - Al igual que indexing se utilizan corchetes `[ ]` pero se le agregan el caracter `:`.\n",
    "        \n",
    "**En python el primer elemento de un objeto iterable tiene indice 0.**\n",
    "\n",
    "Para saber el tamaño de un objeto iterable podemos usar la función **`len()`**."
   ]
  },
  {
   "cell_type": "markdown",
   "metadata": {},
   "source": [
    "cada letra tiene una posición y contamos desde 0\n",
    "podemos acceder a una letra o a un grupo de letras, que determinamos con los corchetes [] y dentro ponemos la posicion a la que queremos acceder\n",
    "se puede acceder desde 0 al final o si ponemos numeros negativos, vamos contando hacia detrás\n"
   ]
  },
  {
   "cell_type": "markdown",
   "metadata": {},
   "source": [
    "![slicing_indexing_1.jpg](attachment:slicing_indexing_1.jpg)"
   ]
  },
  {
   "cell_type": "markdown",
   "metadata": {},
   "source": [
    "Si estamos haciendo slincing y el primer elemento es el comienzo del objeto podemos hacer\n",
    "<p style=\"text-align: center;\"> <strong>string[0:10]</strong> o <strong>string[:10]</strong> </p>\n",
    "\n",
    "\n",
    "Y si el ultimo elemento del slicing es el final del objeto podemos hacer:\n",
    "<p style=\"text-align: center;\"> <strong>string[10:20]</strong> o <strong>string[10:]</strong> </p>\n"
   ]
  },
  {
   "cell_type": "code",
   "execution_count": 33,
   "metadata": {},
   "outputs": [
    {
     "name": "stdout",
     "output_type": "stream",
     "text": [
      "H\n",
      "o\n",
      "l\n",
      "a\n"
     ]
    },
    {
     "ename": "IndexError",
     "evalue": "string index out of range",
     "output_type": "error",
     "traceback": [
      "\u001b[1;31m---------------------------------------------------------------------------\u001b[0m",
      "\u001b[1;31mIndexError\u001b[0m                                Traceback (most recent call last)",
      "Cell \u001b[1;32mIn[33], line 5\u001b[0m\n\u001b[0;32m      3\u001b[0m \u001b[38;5;28mprint\u001b[39m(string[\u001b[38;5;241m2\u001b[39m])\n\u001b[0;32m      4\u001b[0m \u001b[38;5;28mprint\u001b[39m(string[\u001b[38;5;241m3\u001b[39m])\n\u001b[1;32m----> 5\u001b[0m \u001b[38;5;28mprint\u001b[39m(\u001b[43mstring\u001b[49m\u001b[43m[\u001b[49m\u001b[38;5;241;43m55\u001b[39;49m\u001b[43m]\u001b[49m) \u001b[38;5;66;03m# porque nos hemos pasado de la longitud del string\u001b[39;00m\n",
      "\u001b[1;31mIndexError\u001b[0m: string index out of range"
     ]
    }
   ],
   "source": [
    "print(string[0])\n",
    "print(string[1])\n",
    "print(string[2])\n",
    "print(string[3])\n",
    "print(string[55]) # porque nos hemos pasado de la longitud del string\n"
   ]
  },
  {
   "cell_type": "code",
   "execution_count": 28,
   "metadata": {},
   "outputs": [
    {
     "data": {
      "text/plain": [
       "41"
      ]
     },
     "execution_count": 28,
     "metadata": {},
     "output_type": "execute_result"
    }
   ],
   "source": [
    "len(string) # len nos dice el maximo de tamaño del string"
   ]
  },
  {
   "cell_type": "code",
   "execution_count": null,
   "metadata": {},
   "outputs": [
    {
     "name": "stdout",
     "output_type": "stream",
     "text": [
      "H\n",
      "o\n",
      "l\n",
      "a\n",
      "!\n"
     ]
    }
   ],
   "source": [
    "print(string[0])\n",
    "print(string[1])\n",
    "print(string[2])\n",
    "print(string[3])\n",
    "print(string[40]) # porque nos hemos pasado de la longitud del string"
   ]
  },
  {
   "cell_type": "code",
   "execution_count": null,
   "metadata": {},
   "outputs": [
    {
     "data": {
      "text/plain": [
       "'!'"
      ]
     },
     "execution_count": 40,
     "metadata": {},
     "output_type": "execute_result"
    }
   ],
   "source": [
    "#calculado:\n",
    "longitud = len(string)\n",
    "ultima_posicion = longitud - 1\n",
    "string[ultima_posicion]\n",
    "# compacto:\n",
    "# string[len(string-1)\n",
    "\n",
    "# negativo (más rápidos de escribir a nivel de código)\n",
    "#  string[-1]\n",
    "\n",
    "# a ojo:\n",
    "# string[40]\n"
   ]
  },
  {
   "cell_type": "code",
   "execution_count": null,
   "metadata": {},
   "outputs": [],
   "source": [
    "# Si quisieramos el primer elemento de este string, usariamos [0]\n",
    "\n",
    "string[0]"
   ]
  },
  {
   "cell_type": "code",
   "execution_count": 23,
   "metadata": {},
   "outputs": [
    {
     "data": {
      "text/plain": [
       "'o'"
      ]
     },
     "execution_count": 23,
     "metadata": {},
     "output_type": "execute_result"
    }
   ],
   "source": [
    "# Si quisieramos el elemento numero 10 del string usamos [9]\n",
    "\n",
    "string[9]"
   ]
  },
  {
   "cell_type": "markdown",
   "metadata": {},
   "source": [
    "Debido a que los indices comienzan en 0 si quisieramos \"acceder\" al indice **x** usariamos el indice **x - 1**."
   ]
  },
  {
   "cell_type": "code",
   "execution_count": 43,
   "metadata": {},
   "outputs": [
    {
     "data": {
      "text/plain": [
       "'!'"
      ]
     },
     "execution_count": 43,
     "metadata": {},
     "output_type": "execute_result"
    }
   ],
   "source": [
    "# Para el último elemento del string podemos usar [40] o [-1]\n",
    "\n",
    "string[40]"
   ]
  },
  {
   "cell_type": "code",
   "execution_count": 42,
   "metadata": {},
   "outputs": [
    {
     "data": {
      "text/plain": [
       "'!'"
      ]
     },
     "execution_count": 42,
     "metadata": {},
     "output_type": "execute_result"
    }
   ],
   "source": [
    "string[-1]"
   ]
  },
  {
   "cell_type": "code",
   "execution_count": 44,
   "metadata": {},
   "outputs": [],
   "source": [
    "# Si quisiera un elemento fuera de ese rango\n",
    "\n",
    "# string[1000]"
   ]
  },
  {
   "cell_type": "markdown",
   "metadata": {},
   "source": [
    "En python, podemos hacer indexing de **izquierda a derecha**, comenzando en 0 y se suma 1 hasta el último indice que sería el tamaño del objeto menos 1.\n",
    "\n",
    "También se puede hacer indexing de **derecha a izquierda**, esta vez comenzando desde -1 y, en lugar de sumar 1, se resta 1.\n",
    "\n",
    "**Ejemplo:**"
   ]
  },
  {
   "cell_type": "code",
   "execution_count": 3,
   "metadata": {},
   "outputs": [
    {
     "data": {
      "text/plain": [
       "'!'"
      ]
     },
     "execution_count": 3,
     "metadata": {},
     "output_type": "execute_result"
    }
   ],
   "source": [
    "string = \"Hola Mundo, esto es una cadena en PYTHON!\"\n",
    "\n",
    "string[-1]"
   ]
  },
  {
   "cell_type": "code",
   "execution_count": 47,
   "metadata": {},
   "outputs": [
    {
     "data": {
      "text/plain": [
       "'N'"
      ]
     },
     "execution_count": 47,
     "metadata": {},
     "output_type": "execute_result"
    }
   ],
   "source": [
    "string[-2]"
   ]
  },
  {
   "cell_type": "code",
   "execution_count": 48,
   "metadata": {},
   "outputs": [
    {
     "data": {
      "text/plain": [
       "'O'"
      ]
     },
     "execution_count": 48,
     "metadata": {},
     "output_type": "execute_result"
    }
   ],
   "source": [
    "string[-3]"
   ]
  },
  {
   "cell_type": "code",
   "execution_count": 49,
   "metadata": {},
   "outputs": [
    {
     "data": {
      "text/plain": [
       "'H'"
      ]
     },
     "execution_count": 49,
     "metadata": {},
     "output_type": "execute_result"
    }
   ],
   "source": [
    "string[-4]"
   ]
  },
  {
   "cell_type": "code",
   "execution_count": 50,
   "metadata": {},
   "outputs": [
    {
     "data": {
      "text/plain": [
       "'T'"
      ]
     },
     "execution_count": 50,
     "metadata": {},
     "output_type": "execute_result"
    }
   ],
   "source": [
    "string[-5]"
   ]
  },
  {
   "cell_type": "code",
   "execution_count": 51,
   "metadata": {},
   "outputs": [
    {
     "data": {
      "text/plain": [
       "'e'"
      ]
     },
     "execution_count": 51,
     "metadata": {},
     "output_type": "execute_result"
    }
   ],
   "source": [
    "string[-10]"
   ]
  },
  {
   "cell_type": "code",
   "execution_count": 52,
   "metadata": {},
   "outputs": [
    {
     "data": {
      "text/plain": [
       "'Hola Mundo, esto es una cadena en PYTHON!'"
      ]
     },
     "execution_count": 52,
     "metadata": {},
     "output_type": "execute_result"
    }
   ],
   "source": [
    "string"
   ]
  },
  {
   "cell_type": "markdown",
   "metadata": {},
   "source": [
    "Slicing"
   ]
  },
  {
   "cell_type": "code",
   "execution_count": 58,
   "metadata": {},
   "outputs": [
    {
     "data": {
      "text/plain": [
       "'Hola'"
      ]
     },
     "execution_count": 58,
     "metadata": {},
     "output_type": "execute_result"
    }
   ],
   "source": [
    "# Para hacer slicing usariamos [start:end]\n",
    "\n",
    "string[0:4]"
   ]
  },
  {
   "cell_type": "code",
   "execution_count": null,
   "metadata": {},
   "outputs": [
    {
     "data": {
      "text/plain": [
       "'la Mu'"
      ]
     },
     "execution_count": 59,
     "metadata": {},
     "output_type": "execute_result"
    }
   ],
   "source": [
    "# El slicing termina una posición antes al numero que le digamos\n",
    "# Es decir, no incluye al último elemento OJO!! \n",
    "\n",
    "string[2:7]"
   ]
  },
  {
   "cell_type": "code",
   "execution_count": null,
   "metadata": {},
   "outputs": [
    {
     "data": {
      "text/plain": [
       "' PYTH'"
      ]
     },
     "execution_count": 60,
     "metadata": {},
     "output_type": "execute_result"
    }
   ],
   "source": [
    "# También podemos usar indices negativos\n",
    "string[-8 : -3]"
   ]
  },
  {
   "cell_type": "code",
   "execution_count": 4,
   "metadata": {},
   "outputs": [
    {
     "name": "stdout",
     "output_type": "stream",
     "text": [
      "!\n",
      "N\n",
      "O\n",
      "H\n",
      "T\n",
      "Y\n",
      "P\n",
      " \n",
      "n\n"
     ]
    }
   ],
   "source": [
    "print(string[-1])\n",
    "print(string[-2])\n",
    "print(string[-3])\n",
    "print(string[-4])\n",
    "print(string[-5])\n",
    "print(string[-6])\n",
    "print(string[-7])\n",
    "print(string[-8])\n",
    "print(string[-9])\n",
    "\n"
   ]
  },
  {
   "cell_type": "code",
   "execution_count": 6,
   "metadata": {},
   "outputs": [
    {
     "data": {
      "text/plain": [
       "'Hl ud'"
      ]
     },
     "execution_count": 6,
     "metadata": {},
     "output_type": "execute_result"
    }
   ],
   "source": [
    "# star:stop:step\n",
    "string[0:10:2]"
   ]
  },
  {
   "cell_type": "code",
   "execution_count": 61,
   "metadata": {},
   "outputs": [
    {
     "data": {
      "text/plain": [
       "'Hola Mundo'"
      ]
     },
     "execution_count": 61,
     "metadata": {},
     "output_type": "execute_result"
    }
   ],
   "source": [
    "string[:10]"
   ]
  },
  {
   "cell_type": "code",
   "execution_count": 62,
   "metadata": {},
   "outputs": [
    {
     "data": {
      "text/plain": [
       "', esto es una cadena en PYTHON!'"
      ]
     },
     "execution_count": 62,
     "metadata": {},
     "output_type": "execute_result"
    }
   ],
   "source": [
    "string[10:]"
   ]
  },
  {
   "cell_type": "markdown",
   "metadata": {},
   "source": [
    "Me faltan muchas dcosas del dia 11 diciembre 2024, porque estaba haciendo un examen de experto en ciberseguridad"
   ]
  },
  {
   "cell_type": "code",
   "execution_count": null,
   "metadata": {},
   "outputs": [],
   "source": []
  },
  {
   "cell_type": "markdown",
   "metadata": {},
   "source": [
    "## Funciones\n",
    "\n",
    "Una **función** es un bloque de código con un nombre asociado, que **recibe cero o más argumentos como entrada**, sigue una secuencia de sentencias, la cuales ejecuta una operación deseada y **devuelve un valor y/o realiza una tarea**.\n",
    "\n",
    "En python las funciones se definen con la palabra reservada **`def`** y si es necesario, se utiliza la palabra reservada **`return`**.\n",
    "\n",
    "**Sintaxis**:\n",
    "```python\n",
    "    def NombreFuncion(parametros):\n",
    "        bloque de código\n",
    "        return\n",
    "```\n",
    "\n",
    "**Ejemplo:**"
   ]
  },
  {
   "cell_type": "code",
   "execution_count": null,
   "metadata": {},
   "outputs": [],
   "source": [
    "# El cuadrado de un número\n",
    "\n",
    "def func_cuadrado(x):\n",
    "    \n",
    "    cuadrado = x**2\n",
    "    \n",
    "    return cuadrado\n",
    "\n",
    "# Esta función toma como parametro un número \"x\" y retorna el cuadrado de \"x\""
   ]
  },
  {
   "cell_type": "code",
   "execution_count": null,
   "metadata": {},
   "outputs": [],
   "source": [
    "x = 10\n",
    "\n",
    "func_cuadrado(x)"
   ]
  },
  {
   "cell_type": "code",
   "execution_count": null,
   "metadata": {},
   "outputs": [],
   "source": [
    "# Datos de un usuario\n",
    "\n",
    "def func_datos():\n",
    "    \n",
    "    nombre = input(\"Ingresa tu nombre: \")\n",
    "    apellido = input(\"Ingresa tu apellido: \")\n",
    "    edad = int(input(\"Ingresa tu edad: \"))\n",
    "    lenguaje = input(\"Ingresa tu lenguaje de programación favorito: \")\n",
    "    \n",
    "    datos = [nombre, apellido, edad, lenguaje]\n",
    "    \n",
    "    return datos\n",
    "\n",
    "# Esta función no toma ningún parametro, pero retorna una lista con los datos que pregunta al usuario al ejecutarse."
   ]
  },
  {
   "cell_type": "code",
   "execution_count": null,
   "metadata": {},
   "outputs": [],
   "source": [
    "func_datos()"
   ]
  },
  {
   "cell_type": "code",
   "execution_count": null,
   "metadata": {},
   "outputs": [],
   "source": [
    "lista_datos = func_datos()"
   ]
  },
  {
   "cell_type": "code",
   "execution_count": null,
   "metadata": {},
   "outputs": [],
   "source": [
    "lista_datos"
   ]
  },
  {
   "cell_type": "code",
   "execution_count": 6,
   "metadata": {},
   "outputs": [],
   "source": [
    "# Número par o impar\n",
    "\n",
    "def func_par_impar():\n",
    "    \n",
    "    x = int(input(\"Ingresa un número para verificar si es par o impar: \"))\n",
    "    \n",
    "    if x % 2 == 0:\n",
    "        print(\"El numero\", x, \"es par.\")\n",
    "    \n",
    "    else:\n",
    "        print(\"El numero\", x, \"es impar.\")\n",
    "        \n",
    "# Esta función no toma ningún parametro de entrada y no retorna nada."
   ]
  },
  {
   "cell_type": "code",
   "execution_count": null,
   "metadata": {},
   "outputs": [],
   "source": [
    "func_par_impar()"
   ]
  },
  {
   "cell_type": "code",
   "execution_count": null,
   "metadata": {},
   "outputs": [],
   "source": [
    "variable = func_par_impar()\n",
    "\n",
    "print(variable)"
   ]
  },
  {
   "cell_type": "markdown",
   "metadata": {},
   "source": [
    "### Parámetros por defecto (opcionales) y return\n",
    "\n",
    "- En python se pueden crear funciones con parámetros por defecto, estos parametros se pueden modificar al momento de llamar a la función.\n",
    "\n",
    "- Al momento de definir una función con parámetros opcionales de definen después de los obligatorios. Es decir, primero se escriben los parámetros obligatorios y de segundo los opcionales. \n",
    "\n",
    "- **return**: Cuando la función llega a la parte del **return** esta se detiene y termina su ejecución. Una función puede tener más de un **return** o no tenerlo."
   ]
  },
  {
   "cell_type": "code",
   "execution_count": null,
   "metadata": {},
   "outputs": [],
   "source": [
    "def fecha_año(dia, mes = \"enero\", año = 2000):\n",
    "    \n",
    "    print(f\"Hoy es {dia} de {mes} de {año}\")\n",
    "    \n",
    "# En esta función tenemos 2 parametros opcionales y 1 obligatorio\n",
    "# Esta función no retorna nada."
   ]
  },
  {
   "cell_type": "code",
   "execution_count": null,
   "metadata": {},
   "outputs": [],
   "source": [
    "# Como solo hay 1 parametro obligatorio, puede ejecutar la función solo dandole el parametro obligatorio\n",
    "\n",
    "fecha_año(20)"
   ]
  },
  {
   "cell_type": "code",
   "execution_count": 2,
   "metadata": {},
   "outputs": [
    {
     "ename": "NameError",
     "evalue": "name 'fecha_año' is not defined",
     "output_type": "error",
     "traceback": [
      "\u001b[1;31m---------------------------------------------------------------------------\u001b[0m",
      "\u001b[1;31mNameError\u001b[0m                                 Traceback (most recent call last)",
      "Cell \u001b[1;32mIn[2], line 3\u001b[0m\n\u001b[0;32m      1\u001b[0m \u001b[38;5;66;03m# Se puede cambiar un parametro por defecto al momento de ejecutar la función\u001b[39;00m\n\u001b[1;32m----> 3\u001b[0m \u001b[43mfecha_año\u001b[49m(\u001b[38;5;241m20\u001b[39m, \u001b[38;5;124m\"\u001b[39m\u001b[38;5;124mFebrero\u001b[39m\u001b[38;5;124m\"\u001b[39m, \u001b[38;5;241m2020\u001b[39m)\n",
      "\u001b[1;31mNameError\u001b[0m: name 'fecha_año' is not defined"
     ]
    }
   ],
   "source": [
    "# Se puede cambiar un parametro por defecto al momento de ejecutar la función\n",
    "\n",
    "fecha_año(20, \"Febrero\", 2020)"
   ]
  },
  {
   "cell_type": "code",
   "execution_count": 4,
   "metadata": {},
   "outputs": [
    {
     "ename": "NameError",
     "evalue": "name 'fecha_año' is not defined",
     "output_type": "error",
     "traceback": [
      "\u001b[1;31m---------------------------------------------------------------------------\u001b[0m",
      "\u001b[1;31mNameError\u001b[0m                                 Traceback (most recent call last)",
      "Cell \u001b[1;32mIn[4], line 1\u001b[0m\n\u001b[1;32m----> 1\u001b[0m \u001b[43mfecha_año\u001b[49m(dia \u001b[38;5;241m=\u001b[39m \u001b[38;5;241m20\u001b[39m, mes \u001b[38;5;241m=\u001b[39m \u001b[38;5;124m\"\u001b[39m\u001b[38;5;124mFebrero\u001b[39m\u001b[38;5;124m\"\u001b[39m, año \u001b[38;5;241m=\u001b[39m \u001b[38;5;241m2000\u001b[39m)\n",
      "\u001b[1;31mNameError\u001b[0m: name 'fecha_año' is not defined"
     ]
    }
   ],
   "source": [
    "fecha_año(dia = 20, mes = \"Febrero\", año = 2000)"
   ]
  },
  {
   "cell_type": "code",
   "execution_count": null,
   "metadata": {},
   "outputs": [],
   "source": [
    "# Función que retorna el cuadrado de un número si es par.\n",
    "\n",
    "def func_cuadrado_par(x = 100):\n",
    "    \n",
    "    if x % 2 == 0:\n",
    "        return x**2\n",
    "    \n",
    "    else:\n",
    "        return x"
   ]
  },
  {
   "cell_type": "code",
   "execution_count": null,
   "metadata": {},
   "outputs": [],
   "source": [
    "func_cuadrado_par(10)"
   ]
  },
  {
   "cell_type": "code",
   "execution_count": null,
   "metadata": {},
   "outputs": [],
   "source": [
    "func_cuadrado_par(7)"
   ]
  },
  {
   "cell_type": "code",
   "execution_count": null,
   "metadata": {},
   "outputs": [],
   "source": [
    "func_cuadrado_par()"
   ]
  },
  {
   "cell_type": "markdown",
   "metadata": {},
   "source": [
    "### Retornar más de un elemento\n",
    "\n",
    "Hasta ahora hemos hecho funciones que solo retornan un elemento, número, lista... Pero podemos hacer que el **return** nos retorne varias elementos, de esta forma podemos asignar varias variables al mismo tiempo."
   ]
  },
  {
   "cell_type": "code",
   "execution_count": null,
   "metadata": {},
   "outputs": [],
   "source": [
    "# Funcion que retorna el minimo y el maximo de una lista\n",
    "\n",
    "def min_max_lista(lista):\n",
    "    \n",
    "    minimo = min(lista)\n",
    "    maximo = max(lista)\n",
    "    \n",
    "    return minimo, maximo"
   ]
  },
  {
   "cell_type": "code",
   "execution_count": null,
   "metadata": {},
   "outputs": [],
   "source": [
    "# Generamos una lista aleatoria para probar la función anterior\n",
    "\n",
    "import random\n",
    "\n",
    "lista = []\n",
    "\n",
    "for i in range(1000):\n",
    "    lista.append(random.randint(1, 10000))\n",
    "    \n",
    "print(lista)"
   ]
  },
  {
   "cell_type": "code",
   "execution_count": null,
   "metadata": {},
   "outputs": [],
   "source": [
    "minimo_lista, maximo_lista = min_max_lista(lista)"
   ]
  },
  {
   "cell_type": "code",
   "execution_count": null,
   "metadata": {},
   "outputs": [],
   "source": [
    "print(minimo_lista)\n",
    "print(maximo_lista)"
   ]
  },
  {
   "cell_type": "markdown",
   "metadata": {},
   "source": [
    "### Variables locales y globales\n",
    "\n",
    "- En Python las **variables locales son aquellas definidas dentro de una función**. Solamente **son accesibles desde la propia función y dejan de existir cuando esta termina su ejecución**. Los parámetros de una función también son considerados como variables locales.\n",
    "\n",
    "\n",
    "- En Python las **variables globales son aquellas definidas en el cuerpo principal del programa fuera de cualquier función**. Son **accesibles desde cualquier punto del programa, incluso desde dentro de funciones**. También se puede acceder a las variables globales de otros programas o módulos importados."
   ]
  },
  {
   "cell_type": "code",
   "execution_count": null,
   "metadata": {},
   "outputs": [],
   "source": [
    "var_global = 100\n",
    "\n",
    "def suma_100(valor_inicial):\n",
    "    \n",
    "    suma = valor_inicial + var_global\n",
    "    \n",
    "    return suma"
   ]
  },
  {
   "cell_type": "code",
   "execution_count": null,
   "metadata": {},
   "outputs": [],
   "source": [
    "suma_100(10)"
   ]
  },
  {
   "cell_type": "code",
   "execution_count": null,
   "metadata": {},
   "outputs": [],
   "source": [
    "# En la función anterior usamos una variable fuera de la función que no esta en el parametro ni en el cuerpo de la función.\n",
    "# Si ahora intentamos imprimir por pantalla la variable \"valor_inicial\" y la variable \"suma\" nos dará error.\n",
    "# Esto es porque esas variables se crearon con la función.\n",
    "# Y cuando la función termina de ejecutarse estas variables dejan de existir.\n",
    "\n",
    "print(valor_incial)"
   ]
  },
  {
   "cell_type": "code",
   "execution_count": null,
   "metadata": {},
   "outputs": [],
   "source": [
    "# La variable \"suma\" es una variable local, así que no podremos utilizarla fuera de la función.\n",
    "\n",
    "print(suma)"
   ]
  },
  {
   "cell_type": "markdown",
   "metadata": {},
   "source": [
    "### Lambda (función anónima)\n",
    "\n",
    "Python cuenta con la función **lambda**, también llamada función anónima, su utilidad es poder crear funciones sin tener que darle un nombre. Debido a la sintaxis de la función **lambda** está es un poco limitada.\n",
    "\n",
    "Se usa principalmente para funciones cortas, puede tomar muchos parámetros y puede retornar cualquier tipo de dato (numero, tupla, lista, diccionario...).\n",
    "\n",
    "**Sintaxis**:\n",
    "```python\n",
    "lambda parametros_entrada : elementos_salida\n",
    "```"
   ]
  },
  {
   "cell_type": "code",
   "execution_count": null,
   "metadata": {},
   "outputs": [],
   "source": [
    "x = lambda a, b : a + b\n",
    "\n",
    "x(10, 20)"
   ]
  },
  {
   "cell_type": "code",
   "execution_count": null,
   "metadata": {},
   "outputs": [],
   "source": [
    "y = lambda n : n**2\n",
    "\n",
    "y(10)"
   ]
  },
  {
   "cell_type": "code",
   "execution_count": null,
   "metadata": {},
   "outputs": [],
   "source": [
    "x"
   ]
  },
  {
   "cell_type": "code",
   "execution_count": null,
   "metadata": {},
   "outputs": [],
   "source": [
    "y"
   ]
  },
  {
   "cell_type": "code",
   "execution_count": null,
   "metadata": {},
   "outputs": [],
   "source": [
    "cuadrado = y(3)\n",
    "\n",
    "cuadrado"
   ]
  },
  {
   "cell_type": "markdown",
   "metadata": {},
   "source": [
    "**Si quisieramos que retorne más de un elemento, podemos colocar las operaciones en una lista o tupla.**"
   ]
  },
  {
   "cell_type": "code",
   "execution_count": null,
   "metadata": {},
   "outputs": [],
   "source": [
    "x = lambda a, b : [a + b, a - b]\n",
    "x(10, 10)"
   ]
  },
  {
   "cell_type": "markdown",
   "metadata": {},
   "source": [
    "**También podemos usar funciones dentro de _lambda_.**"
   ]
  },
  {
   "cell_type": "code",
   "execution_count": null,
   "metadata": {},
   "outputs": [],
   "source": [
    "z = lambda a : y(a)"
   ]
  },
  {
   "cell_type": "code",
   "execution_count": null,
   "metadata": {},
   "outputs": [],
   "source": [
    "z(8)"
   ]
  },
  {
   "cell_type": "code",
   "execution_count": null,
   "metadata": {},
   "outputs": [],
   "source": [
    "z = lambda a, b : [x(a, b), y(sum(x(a, b)))]"
   ]
  },
  {
   "cell_type": "code",
   "execution_count": null,
   "metadata": {},
   "outputs": [],
   "source": [
    "z(10, 10)"
   ]
  },
  {
   "cell_type": "code",
   "execution_count": null,
   "metadata": {},
   "outputs": [],
   "source": [
    "######b########################################################################################################################"
   ]
  },
  {
   "cell_type": "markdown",
   "metadata": {},
   "source": [
    "Alan Sastre 19:32\n",
    "# class Product con atributos: id, title, price, quantity, active, description\n",
    "# sin metodo init"
   ]
  },
  {
   "cell_type": "code",
   "execution_count": 5,
   "metadata": {},
   "outputs": [
    {
     "name": "stdout",
     "output_type": "stream",
     "text": [
      "1\n",
      "Muy chula\n",
      "Antena 2000\n",
      "1\n"
     ]
    }
   ],
   "source": [
    "class Producto:\n",
    "    id = 1\n",
    "    title = \"Nombre del Producto\"\n",
    "    price = 0.00\n",
    "    quantity = 0\n",
    "    active = False\n",
    "    description = \"descripción del producto\"\n",
    "    # image = [Image(),Image()]\n",
    "    image_url = \"http://www.google.com/image.png\"\n",
    "#fuera de la clase creamos los objetos de la clase\n",
    "antena = Producto()\n",
    "antena.description = \"Muy chula\"\n",
    "antena.title = \"Antena 2000\"\n",
    "\n",
    "print(antena.id)    \n",
    "print(antena.description)\n",
    "print(antena.title)\n",
    "\n",
    "discoduro = Producto()\n",
    "print(discoduro.id)\n"
   ]
  },
  {
   "cell_type": "code",
   "execution_count": 6,
   "metadata": {},
   "outputs": [
    {
     "ename": "SyntaxError",
     "evalue": "invalid syntax. Perhaps you forgot a comma? (2131444003.py, line 2)",
     "output_type": "error",
     "traceback": [
      "\u001b[1;36m  Cell \u001b[1;32mIn[6], line 2\u001b[1;36m\u001b[0m\n\u001b[1;33m    Producto(\"cosa1\", 10)\u001b[0m\n\u001b[1;37m    ^\u001b[0m\n\u001b[1;31mSyntaxError\u001b[0m\u001b[1;31m:\u001b[0m invalid syntax. Perhaps you forgot a comma?\n"
     ]
    }
   ],
   "source": [
    "pruducts = [\n",
    "        Producto(\"cosa1\", 10)\n",
    "        Producto(\"cosa2\", 5)\n",
    "        Producto(\"cosa3\", 100)\n",
    "        Producto(\"cosa4\", 5)\n",
    "]"
   ]
  },
  {
   "cell_type": "code",
   "execution_count": null,
   "metadata": {},
   "outputs": [],
   "source": [
    "case"
   ]
  },
  {
   "cell_type": "code",
   "execution_count": null,
   "metadata": {},
   "outputs": [],
   "source": []
  },
  {
   "cell_type": "code",
   "execution_count": null,
   "metadata": {},
   "outputs": [],
   "source": []
  },
  {
   "cell_type": "code",
   "execution_count": null,
   "metadata": {},
   "outputs": [],
   "source": []
  },
  {
   "cell_type": "code",
   "execution_count": null,
   "metadata": {},
   "outputs": [],
   "source": []
  },
  {
   "cell_type": "code",
   "execution_count": null,
   "metadata": {},
   "outputs": [],
   "source": []
  },
  {
   "cell_type": "code",
   "execution_count": null,
   "metadata": {},
   "outputs": [],
   "source": []
  },
  {
   "cell_type": "code",
   "execution_count": null,
   "metadata": {},
   "outputs": [],
   "source": [
    "    \"\"\"_summary_\n",
    "    \"\"\""
   ]
  },
  {
   "cell_type": "code",
   "execution_count": null,
   "metadata": {},
   "outputs": [],
   "source": []
  },
  {
   "cell_type": "code",
   "execution_count": null,
   "metadata": {},
   "outputs": [],
   "source": []
  }
 ],
 "metadata": {
  "kernelspec": {
   "display_name": "prueba0",
   "language": "python",
   "name": "python3"
  },
  "language_info": {
   "codemirror_mode": {
    "name": "ipython",
    "version": 3
   },
   "file_extension": ".py",
   "mimetype": "text/x-python",
   "name": "python",
   "nbconvert_exporter": "python",
   "pygments_lexer": "ipython3",
   "version": "3.13.1"
  }
 },
 "nbformat": 4,
 "nbformat_minor": 2
}
