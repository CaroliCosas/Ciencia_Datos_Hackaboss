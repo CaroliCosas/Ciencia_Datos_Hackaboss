{
 "cells": [
  {
   "cell_type": "markdown",
   "id": "18454d15",
   "metadata": {},
   "source": [
    "## Ejercicios - Strings"
   ]
  },
  {
   "cell_type": "code",
   "execution_count": 1,
   "id": "bae6c2a9",
   "metadata": {},
   "outputs": [
    {
     "name": "stdout",
     "output_type": "stream",
     "text": [
      "Nunca confies en un ordenador que no puedas lanzar por una ventana -- Steve Wozniak\n"
     ]
    }
   ],
   "source": [
    "frase = \"Nunca confies en un ordenador que no puedas lanzar por una ventana -- Steve Wozniak\"\n",
    "\n",
    "print(frase)"
   ]
  },
  {
   "cell_type": "markdown",
   "id": "605874f4",
   "metadata": {},
   "source": [
    "### Ejercicio 1\n",
    "- Obtener el largo de la frase."
   ]
  },
  {
   "cell_type": "code",
   "execution_count": 3,
   "id": "9ce4991c",
   "metadata": {},
   "outputs": [
    {
     "data": {
      "text/plain": [
       "83"
      ]
     },
     "execution_count": 3,
     "metadata": {},
     "output_type": "execute_result"
    }
   ],
   "source": [
    "len(frase)\n"
   ]
  },
  {
   "cell_type": "code",
   "execution_count": null,
   "id": "b8da42c7-d770-4458-a510-8fdd6c9c5b4d",
   "metadata": {},
   "outputs": [],
   "source": []
  },
  {
   "cell_type": "code",
   "execution_count": null,
   "id": "500b030e-00d4-4f37-a97f-1b5f3210b203",
   "metadata": {},
   "outputs": [],
   "source": []
  },
  {
   "cell_type": "markdown",
   "id": "8fe445bf",
   "metadata": {},
   "source": [
    "### Ejercicio 2\n",
    "- Obtener la frase **\"lanzar por una ventana\"** usando slicing."
   ]
  },
  {
   "cell_type": "code",
   "execution_count": 4,
   "id": "aeebb1a6",
   "metadata": {},
   "outputs": [
    {
     "data": {
      "text/plain": [
       "44"
      ]
     },
     "execution_count": 4,
     "metadata": {},
     "output_type": "execute_result"
    }
   ],
   "source": [
    "posicion_inicial = frase.index(\"lanzar por una ventana\")\n",
    "posicion_inicial"
   ]
  },
  {
   "cell_type": "code",
   "execution_count": 5,
   "id": "eddc6915",
   "metadata": {},
   "outputs": [
    {
     "data": {
      "text/plain": [
       "66"
      ]
     },
     "execution_count": 5,
     "metadata": {},
     "output_type": "execute_result"
    }
   ],
   "source": [
    "posicion_final = posicion_inicial + len(\"lanzar por una ventana\")\n",
    "posicion_final"
   ]
  },
  {
   "cell_type": "code",
   "execution_count": 6,
   "id": "dd8049a0",
   "metadata": {},
   "outputs": [
    {
     "data": {
      "text/plain": [
       "'lanzar por una ventana'"
      ]
     },
     "execution_count": 6,
     "metadata": {},
     "output_type": "execute_result"
    }
   ],
   "source": [
    "frase[44:66]"
   ]
  },
  {
   "cell_type": "code",
   "execution_count": 7,
   "id": "293f63a0",
   "metadata": {},
   "outputs": [
    {
     "data": {
      "text/plain": [
       "'lanzar por una ventana'"
      ]
     },
     "execution_count": 7,
     "metadata": {},
     "output_type": "execute_result"
    }
   ],
   "source": [
    "frase[posicion_inicial:posicion_final]"
   ]
  },
  {
   "cell_type": "code",
   "execution_count": 8,
   "id": "432250e9-3939-462d-9cf4-8c9b7ee76af1",
   "metadata": {},
   "outputs": [
    {
     "data": {
      "text/plain": [
       "'lanzar por una ventana'"
      ]
     },
     "execution_count": 8,
     "metadata": {},
     "output_type": "execute_result"
    }
   ],
   "source": [
    "frase[44:-17]"
   ]
  },
  {
   "cell_type": "code",
   "execution_count": 9,
   "id": "312024e9-3fee-4a34-bafd-c7efa15409d3",
   "metadata": {},
   "outputs": [
    {
     "name": "stdout",
     "output_type": "stream",
     "text": [
      "Mont\n",
      "Monty\n",
      "Monty Python\n",
      "Mont\n"
     ]
    }
   ],
   "source": [
    "a = \"Monty Python\"\n",
    "b = a[0:4]\n",
    "c = a[0:5]\n",
    "print(b)\n",
    "print(c)\n",
    "print(a[0:len(a)])\n",
    "print(a[-12:-8])"
   ]
  },
  {
   "cell_type": "markdown",
   "id": "e50eb318",
   "metadata": {},
   "source": [
    "### Ejercicio 3\n",
    "- Obtener la sección **\"confies en un ordenador\"** haciando slicing de derecha a izquierda, utilizando indexing negativo."
   ]
  },
  {
   "cell_type": "code",
   "execution_count": 19,
   "id": "9299725f",
   "metadata": {},
   "outputs": [
    {
     "name": "stdout",
     "output_type": "stream",
     "text": [
      "Nunca confies en un ordenador que no puedas lanzar por una ventana -- Steve Wozniak\n",
      "6\n",
      "confies en un ordenador que no puedas lanzar por una ventana -- Steve Wozniak\n",
      "29\n",
      "confies en un ordenador\n"
     ]
    }
   ],
   "source": [
    "kk = \"confies en un ordenador\"\n",
    "print(frase)\n",
    "i1 = frase.index(\"confies\")\n",
    "print(i1)\n",
    "print(frase[i1:])\n",
    "i2 = i1+len(kk)\n",
    "print(i2)\n",
    "print(frase[i1:i2])\n"
   ]
  },
  {
   "cell_type": "code",
   "execution_count": 21,
   "id": "a5836806-b2a8-48b4-a602-c5662b0372a6",
   "metadata": {},
   "outputs": [
    {
     "name": "stdout",
     "output_type": "stream",
     "text": [
      "confies en un ordenador\n"
     ]
    }
   ],
   "source": [
    "print(frase[frase.index('con'):frase.index(' que no')])"
   ]
  },
  {
   "cell_type": "code",
   "execution_count": null,
   "id": "d04b0e7c-8447-4dfb-8061-660380b02b1e",
   "metadata": {},
   "outputs": [],
   "source": []
  },
  {
   "cell_type": "markdown",
   "id": "f64534b8",
   "metadata": {},
   "source": [
    "### Ejercicio 4\n",
    "Haciendo slicing de la variable **frase**:\n",
    "\n",
    "1. Guardar en la variable: **subfrase1** la siguiente sección: **\"un ordenador\"**.\n",
    "2. Guardar en la variable: **subfrase2** la siguiente sección: **\"por una ventana\"**.\n",
    "3. Guardar en la variable: **subfrase3** la siguiente sección: **\"Steve Wozniak\"**.\n",
    "\n",
    "\n",
    "- Crear la siguiente frase utilizando las variables: **subfrase1**, **subfrase2**, **subfrase3**: **\"un ordenador, por una ventana -- Steve Wozniak\"** y guardarla en una variable. Añade los caracteres que hagan falta para completar la cadena usando _**format**_. Guarda esta frase en la variable **nueva_frase**."
   ]
  },
  {
   "cell_type": "code",
   "execution_count": 22,
   "id": "eae3f714",
   "metadata": {},
   "outputs": [
    {
     "name": "stdout",
     "output_type": "stream",
     "text": [
      "Nunca confies en un ordenador que no puedas lanzar por una ventana -- Steve Wozniak\n",
      "un ordenador\n"
     ]
    }
   ],
   "source": [
    "print(frase)\n",
    "i= frase.index('un ordena')\n",
    "subfrase1=frase[i:i+len('un ordenador')]\n",
    "print(subfrase1)"
   ]
  },
  {
   "cell_type": "code",
   "execution_count": 23,
   "id": "32dec2c4",
   "metadata": {},
   "outputs": [
    {
     "name": "stdout",
     "output_type": "stream",
     "text": [
      "Nunca confies en un ordenador que no puedas lanzar por una ventana -- Steve Wozniak\n",
      "por una ventana\n"
     ]
    }
   ],
   "source": [
    "print(frase)\n",
    "i= frase.index('por')\n",
    "subfrase2 = frase[i:i+len('por una ventana')]\n",
    "print(subfrase2)"
   ]
  },
  {
   "cell_type": "code",
   "execution_count": 24,
   "id": "2a36dfd5",
   "metadata": {},
   "outputs": [
    {
     "name": "stdout",
     "output_type": "stream",
     "text": [
      "Nunca confies en un ordenador que no puedas lanzar por una ventana -- Steve Wozniak\n",
      "Steve Wozniak\n"
     ]
    }
   ],
   "source": [
    "print(frase)\n",
    "i= frase.index('Steve')\n",
    "subfrase3 = frase[i:]\n",
    "print(subfrase3)"
   ]
  },
  {
   "cell_type": "code",
   "execution_count": 28,
   "id": "a8822810",
   "metadata": {},
   "outputs": [
    {
     "name": "stdout",
     "output_type": "stream",
     "text": [
      "un ordenador, por una ventana -- Steve Wozniak\n"
     ]
    }
   ],
   "source": [
    "nueva_frase = \"{}, {} -- {}\".format(subfrase1,subfrase2,subfrase3)\n",
    "print(nueva_frase)"
   ]
  },
  {
   "cell_type": "code",
   "execution_count": 30,
   "id": "8bb23ecd",
   "metadata": {},
   "outputs": [
    {
     "name": "stdout",
     "output_type": "stream",
     "text": [
      "un ordenador, por una ventana -- Steve Wozniak\n"
     ]
    }
   ],
   "source": [
    "nueva_frase2 = f\"{subfrase1}, {subfrase2} -- {subfrase3}\"\n",
    "print(nueva_frase2)"
   ]
  },
  {
   "cell_type": "markdown",
   "id": "4ed01d93",
   "metadata": {},
   "source": [
    "### Ejercicio 5\n",
    "- Hacer stride de paso 2 con **nueva_frase**."
   ]
  },
  {
   "cell_type": "code",
   "execution_count": null,
   "id": "ad0072cd",
   "metadata": {},
   "outputs": [],
   "source": [
    "print(string[1:-1:2])"
   ]
  },
  {
   "cell_type": "code",
   "execution_count": 32,
   "id": "9c844740-5270-48d5-a1b6-64d2e4da04c8",
   "metadata": {},
   "outputs": [
    {
     "name": "stdout",
     "output_type": "stream",
     "text": [
      "un ordenador, por una ventana -- Steve Wozniak\n",
      "Las letras pares son  nodndr o n etn -SeeWzi\n"
     ]
    }
   ],
   "source": [
    "print(nueva_frase)\n",
    "print('Los caracteres pares son ',nueva_frase[1:-1:2])"
   ]
  },
  {
   "cell_type": "code",
   "execution_count": 34,
   "id": "ac450c32-c881-4b26-a730-51d452febab0",
   "metadata": {},
   "outputs": [
    {
     "name": "stdout",
     "output_type": "stream",
     "text": [
      "los caracteres impares son  u reao,pruavnaa- tv ona\n"
     ]
    }
   ],
   "source": [
    "print(\"los caracteres impares son \",nueva_frase[0:-1:2])"
   ]
  },
  {
   "cell_type": "markdown",
   "id": "49f704a6",
   "metadata": {},
   "source": [
    "### Ejercicio 6\n",
    "- Obten las vocales de la palabra **\"Nunca\"** y **\"una\"**, haciendo slicing y stride a la **frase** original."
   ]
  },
  {
   "cell_type": "code",
   "execution_count": 42,
   "id": "e3da06b4",
   "metadata": {},
   "outputs": [
    {
     "name": "stdout",
     "output_type": "stream",
     "text": [
      "Nunca confies en un ordenador que no puedas lanzar por una ventana -- Steve Wozniak\n",
      "Nunca \n",
      "ua\n",
      "una\n",
      "ua\n"
     ]
    }
   ],
   "source": [
    "print(frase)\n",
    "nunca = frase[0:6]\n",
    "print(nunca)\n",
    "vocales_nunca = nunca[1:-1:3]\n",
    "print(vocales_nunca) \n",
    "\n",
    "index_una = frase.index(\"una\")\n",
    "una = frase[index_una:index_una+3]\n",
    "print(una)\n",
    "vocales_una = una[0::2]\n",
    "print(vocales_una)"
   ]
  },
  {
   "cell_type": "code",
   "execution_count": null,
   "id": "3e2759c4",
   "metadata": {},
   "outputs": [],
   "source": []
  },
  {
   "cell_type": "code",
   "execution_count": null,
   "id": "b043abed-e4b5-46cd-be2a-f596ccd29ddf",
   "metadata": {},
   "outputs": [],
   "source": []
  },
  {
   "cell_type": "markdown",
   "id": "0a42a1a3",
   "metadata": {},
   "source": [
    "### Ejercicio 7\n",
    "- Usando la variable **frase** encuentra el índice de la palabra **\"ordenador\"** y guardarlo en la variable **indice_1**.\n",
    "- Usando la variable **frase** encuentra el indice de la palabra **\"ventana\"** y guardalo en la variable **indice_2**."
   ]
  },
  {
   "cell_type": "code",
   "execution_count": 44,
   "id": "b91458ad",
   "metadata": {},
   "outputs": [
    {
     "name": "stdout",
     "output_type": "stream",
     "text": [
      "Nunca confies en un ordenador que no puedas lanzar por una ventana -- Steve Wozniak\n",
      "20 59\n"
     ]
    }
   ],
   "source": [
    "print(frase)\n",
    "indice_1 = frase.index(\"ordenador\")\n",
    "indice_2 = frase.index(\"ventana\")\n",
    "print(indice_1,indice_2)"
   ]
  },
  {
   "cell_type": "code",
   "execution_count": null,
   "id": "b01ec2bd",
   "metadata": {},
   "outputs": [],
   "source": []
  },
  {
   "cell_type": "code",
   "execution_count": null,
   "id": "99f07f56-0a2a-44fb-aba9-1d0f897cceaf",
   "metadata": {},
   "outputs": [],
   "source": []
  },
  {
   "cell_type": "markdown",
   "id": "1ba23cc3",
   "metadata": {},
   "source": [
    "### Ejercicio 8\n",
    "- Obtener la frase: **\"ordenador que no puedas lanzar por una ventana\"** haciendo slicing y utilizando las variables: **indice_1** y **indice_2**."
   ]
  },
  {
   "cell_type": "code",
   "execution_count": 46,
   "id": "3d07c17e",
   "metadata": {},
   "outputs": [
    {
     "name": "stdout",
     "output_type": "stream",
     "text": [
      "ordenador que no puedas lanzar por una ventana\n"
     ]
    }
   ],
   "source": [
    "print(frase[indice_1:indice_2+len(\"ventana\")])"
   ]
  },
  {
   "cell_type": "code",
   "execution_count": null,
   "id": "11053fe0-d4d4-4d96-a2bf-af04e3a8589f",
   "metadata": {},
   "outputs": [],
   "source": []
  },
  {
   "cell_type": "code",
   "execution_count": null,
   "id": "c3927f1c-93af-4010-8da3-c405c2192312",
   "metadata": {},
   "outputs": [],
   "source": []
  },
  {
   "cell_type": "markdown",
   "id": "4ce3d23c",
   "metadata": {},
   "source": [
    "### Ejercicio 9\n",
    "- Verificar si la **frase** original empieza con la cadena **\"nunca\"**."
   ]
  },
  {
   "cell_type": "code",
   "execution_count": 47,
   "id": "23f39959",
   "metadata": {},
   "outputs": [
    {
     "name": "stdout",
     "output_type": "stream",
     "text": [
      "Nunca confies en un ordenador que no puedas lanzar por una ventana -- Steve Wozniak\n",
      "Nunca \n"
     ]
    }
   ],
   "source": [
    "print(frase)\n",
    "print(nunca)"
   ]
  },
  {
   "cell_type": "code",
   "execution_count": 51,
   "id": "b8b72e56-1ff6-489b-bfac-f05c519269de",
   "metadata": {},
   "outputs": [
    {
     "data": {
      "text/plain": [
       "True"
      ]
     },
     "execution_count": 51,
     "metadata": {},
     "output_type": "execute_result"
    }
   ],
   "source": [
    "frase.index('Nunca') == 0"
   ]
  },
  {
   "cell_type": "code",
   "execution_count": null,
   "id": "9dcf4109-6445-4929-9047-63c380abe651",
   "metadata": {},
   "outputs": [],
   "source": []
  },
  {
   "cell_type": "markdown",
   "id": "67350650",
   "metadata": {},
   "source": [
    "### Ejercicio 10\n",
    "- Verificar si la **frase** original termina con **\".\"**"
   ]
  },
  {
   "cell_type": "code",
   "execution_count": 52,
   "id": "fd459e90",
   "metadata": {},
   "outputs": [
    {
     "name": "stdout",
     "output_type": "stream",
     "text": [
      "Nunca confies en un ordenador que no puedas lanzar por una ventana -- Steve Wozniak\n",
      "k\n"
     ]
    }
   ],
   "source": [
    "print(frase)\n",
    "print(frase[-1])"
   ]
  },
  {
   "cell_type": "code",
   "execution_count": 53,
   "id": "253567b2-3150-4395-90a0-2993ec109c66",
   "metadata": {},
   "outputs": [
    {
     "data": {
      "text/plain": [
       "False"
      ]
     },
     "execution_count": 53,
     "metadata": {},
     "output_type": "execute_result"
    }
   ],
   "source": [
    "frase[-1] == '.'"
   ]
  },
  {
   "cell_type": "code",
   "execution_count": null,
   "id": "b1cc403d-b71f-48e9-801f-fda37ff1bd51",
   "metadata": {},
   "outputs": [],
   "source": []
  },
  {
   "cell_type": "markdown",
   "id": "92e148d9",
   "metadata": {},
   "source": [
    "### Ejercicio 11\n",
    "- Separar la frase por la cadena **\"que\"** utilizando **.split()**."
   ]
  },
  {
   "cell_type": "code",
   "execution_count": 54,
   "id": "d24490e1",
   "metadata": {},
   "outputs": [
    {
     "name": "stdout",
     "output_type": "stream",
     "text": [
      "Nunca confies en un ordenador que no puedas lanzar por una ventana -- Steve Wozniak\n",
      "['Nunca confies en un ordenador ', ' no puedas lanzar por una ventana -- Steve Wozniak']\n"
     ]
    }
   ],
   "source": [
    "print(frase)\n",
    "print(frase.split(\"que\"))"
   ]
  },
  {
   "cell_type": "code",
   "execution_count": null,
   "id": "27271dc2-0996-4729-bd23-1aa49abd1ae9",
   "metadata": {},
   "outputs": [],
   "source": []
  },
  {
   "cell_type": "code",
   "execution_count": null,
   "id": "18db891c-2cce-4660-8194-ad921ed92a22",
   "metadata": {},
   "outputs": [],
   "source": []
  },
  {
   "cell_type": "markdown",
   "id": "4bd93d27",
   "metadata": {},
   "source": [
    "### Ejercicio 12\n",
    "- Separar la frase por la letra **\"o\"** utilizando **.split()**"
   ]
  },
  {
   "cell_type": "code",
   "execution_count": 55,
   "id": "922a9f36",
   "metadata": {},
   "outputs": [
    {
     "name": "stdout",
     "output_type": "stream",
     "text": [
      "['Nunca c', 'nfies en un ', 'rdenad', 'r que n', ' puedas lanzar p', 'r una ventana -- Steve W', 'zniak']\n"
     ]
    }
   ],
   "source": [
    "print(frase.split(\"o\"))"
   ]
  },
  {
   "cell_type": "code",
   "execution_count": null,
   "id": "c280cd39-ded7-477b-87ac-0cce0291fb29",
   "metadata": {},
   "outputs": [],
   "source": []
  },
  {
   "cell_type": "code",
   "execution_count": null,
   "id": "a7ee8858-9c18-4e4f-a6d8-39283f4e351e",
   "metadata": {},
   "outputs": [],
   "source": []
  },
  {
   "cell_type": "markdown",
   "id": "fb6a50cc",
   "metadata": {},
   "source": [
    "### Ejercicio 13\n",
    "- Cuenta cuantas veces aparecen las vocales en la **frase** original."
   ]
  },
  {
   "cell_type": "code",
   "execution_count": 59,
   "id": "64cd99f1",
   "metadata": {},
   "outputs": [
    {
     "name": "stdout",
     "output_type": "stream",
     "text": [
      "Nunca confies en un ordenador que no puedas lanzar por una ventana -- Steve Wozniak\n",
      "Hay un total de: 9 a, 8 e, 2 i, 6 o y 5 u\n"
     ]
    }
   ],
   "source": [
    "print(frase)\n",
    "a = frase.count(\"a\")\n",
    "e = frase.count(\"e\")\n",
    "i = frase.count(\"i\")\n",
    "o = frase.count(\"o\")\n",
    "u = frase.count(\"u\")\n",
    "print(f\"Hay un total de: {a} a, {e} e, {i} i, {o} o y {u} u\")"
   ]
  },
  {
   "cell_type": "code",
   "execution_count": 61,
   "id": "180c8d39",
   "metadata": {},
   "outputs": [
    {
     "name": "stdout",
     "output_type": "stream",
     "text": [
      "hay un total de 9 letras a\n",
      "hay un total de 8 letras e\n",
      "hay un total de 2 letras i\n",
      "hay un total de 6 letras o\n",
      "hay un total de 5 letras u\n"
     ]
    }
   ],
   "source": [
    "for x in 'aeiou':\n",
    "    n = frase.count(x)\n",
    "    print(f'hay un total de {n} letras {x}')"
   ]
  },
  {
   "cell_type": "code",
   "execution_count": 63,
   "id": "c8fb06ee",
   "metadata": {},
   "outputs": [
    {
     "name": "stdout",
     "output_type": "stream",
     "text": [
      "Nunca confies en un ordenador que no puedas lanzar por una ventana -- Steve Wozniak\n"
     ]
    },
    {
     "ename": "ValueError",
     "evalue": "substring not found",
     "output_type": "error",
     "traceback": [
      "\u001b[1;31m---------------------------------------------------------------------------\u001b[0m",
      "\u001b[1;31mValueError\u001b[0m                                Traceback (most recent call last)",
      "Cell \u001b[1;32mIn[63], line 3\u001b[0m\n\u001b[0;32m      1\u001b[0m \u001b[38;5;66;03m# Test\u001b[39;00m\n\u001b[0;32m      2\u001b[0m \u001b[38;5;28mprint\u001b[39m(frase)\n\u001b[1;32m----> 3\u001b[0m \u001b[38;5;28mprint\u001b[39m(\u001b[43mfrase\u001b[49m\u001b[38;5;241;43m.\u001b[39;49m\u001b[43mindex\u001b[49m\u001b[43m(\u001b[49m\u001b[38;5;124;43m'\u001b[39;49m\u001b[38;5;124;43mPaquito\u001b[39;49m\u001b[38;5;124;43m'\u001b[39;49m\u001b[43m)\u001b[49m)\n",
      "\u001b[1;31mValueError\u001b[0m: substring not found"
     ]
    }
   ],
   "source": [
    "# Test\n",
    "print(frase)\n",
    "print(frase.index(''))"
   ]
  },
  {
   "cell_type": "code",
   "execution_count": null,
   "id": "e9675c85",
   "metadata": {},
   "outputs": [],
   "source": []
  },
  {
   "cell_type": "code",
   "execution_count": null,
   "id": "884063f4",
   "metadata": {},
   "outputs": [],
   "source": []
  },
  {
   "cell_type": "code",
   "execution_count": null,
   "id": "04bac0f8",
   "metadata": {},
   "outputs": [],
   "source": [
    "##############################################################################################################################"
   ]
  }
 ],
 "metadata": {
  "kernelspec": {
   "display_name": "Python 3",
   "language": "python",
   "name": "python3"
  },
  "language_info": {
   "codemirror_mode": {
    "name": "ipython",
    "version": 3
   },
   "file_extension": ".py",
   "mimetype": "text/x-python",
   "name": "python",
   "nbconvert_exporter": "python",
   "pygments_lexer": "ipython3",
   "version": "3.12.2"
  }
 },
 "nbformat": 4,
 "nbformat_minor": 5
}
